{
 "cells": [
  {
   "cell_type": "markdown",
   "metadata": {},
   "source": [
    "somewhere else, do:\n",
    "```\n",
    "git clone https://github.com/lsst/ip_diffim.git\n",
    "cd ip_diffim\n",
    "source ~/lsstsw/setup.csh\n",
    "#setup -t b1813 ip_diffim\n",
    "#setup -k -r .\n",
    "setup -t 1813 -r .\n",
    "scons\n",
    "```\n",
    "\n",
    "then you will want to add `$HOME/lsstsw/miniconda/lib/python2.7/site-packages` to your `PYTHONPATH` in order to be able to import `joblib` and friends.\n",
    "\n",
    "now edit and run the code in here."
   ]
  },
  {
   "cell_type": "code",
   "execution_count": 1,
   "metadata": {
    "collapsed": false
   },
   "outputs": [],
   "source": [
    "%matplotlib inline\n",
    "#%matplotlib notebook\n",
    "import matplotlib.pyplot as plt\n",
    "\n",
    "import matplotlib\n",
    "matplotlib.style.use('ggplot')\n",
    "\n",
    "from joblib import Parallel, delayed  \n",
    "import multiprocessing"
   ]
  },
  {
   "cell_type": "code",
   "execution_count": 2,
   "metadata": {
    "collapsed": false
   },
   "outputs": [],
   "source": [
    "import sys\n",
    "import numpy as np\n",
    "\n",
    "import lsst.utils.tests as tests\n",
    "import lsst.daf.base as dafBase\n",
    "#import lsst.afw.display.ds9 as ds9\n",
    "import lsst.afw.image as afwImage\n",
    "import lsst.afw.geom as afwGeom\n",
    "import lsst.afw.table as afwTable\n",
    "import lsst.afw.math as afwMath\n",
    "import lsst.meas.algorithms as measAlg\n",
    "import lsst.ip.diffim as ipDiffim\n",
    "\n",
    "np.random.seed(666)"
   ]
  },
  {
   "cell_type": "code",
   "execution_count": 3,
   "metadata": {
    "collapsed": false
   },
   "outputs": [],
   "source": [
    "## Code updated from lsstsw/build/ip_diffim/tests/dipole.py\n",
    "\n",
    "## Old code used a double gaussian psf which has the problem that it is pixel-oriented.\n",
    "## Let's use afwMath.DoubleGaussianFunction2D() instead...\n",
    "## Change parameterization to pixels - separation (in pixels) and psfWidth (pixels)\n",
    "\n",
    "## Weird behavior, this fails the dipole lobes are not offset from each other in y direction (hence the +0.05 below...)\n",
    "## or else we need to use 1,1 in the fpSet.merge() call below (instead of 0,0 which was in the original code)\n",
    "\n",
    "def createDipole(w=100, h=100, xc=50., yc=50., separation=2.4, rotAngle=0.0, scaling = 100.0, psfWidth=2.0, verbose=False,\n",
    "                 display=False):  ## fracOffset = 1.2, psfSize=17, \n",
    "    # Make random noise image: set image plane to normal distribution\n",
    "    image = afwImage.MaskedImageF(w,h)\n",
    "    image.set(0)\n",
    "    array = image.getImage().getArray()\n",
    "    array[:,:] = np.random.randn(w,h)\n",
    "    # Set variance to 1.0 -- TODO, should set variance after adding flux\n",
    "    var   = image.getVariance()\n",
    "    var.set(1.0)\n",
    "        \n",
    "    # Create Psf for dipole creation and measurement. Need a psf object too (for source detection below)\n",
    "    psfSize = int(psfWidth * 20.) + 1\n",
    "    psf = measAlg.DoubleGaussianPsf(psfSize, psfSize, psfWidth, psfWidth*1.75, 0.1) ## 2.0, 3.5, 0.1)\n",
    "    generator = afwMath.DoubleGaussianFunction2D(psfWidth, psfWidth*1.75, 0.1)    \n",
    "\n",
    "    psfim = psf.computeImage().convertF()\n",
    "    psfim *= scaling / psf.computePeak()\n",
    "    psfw, psfh = psfim.getDimensions()\n",
    "    psfSum = np.sum(psfim.getArray())\n",
    "\n",
    "    if display:\n",
    "        #ds9.mtv(image, frame=1, title=\"Original image\")\n",
    "        #ds9.mtv(image.getVariance(), frame=2, title=\"Original variance\")\n",
    "        psf_arr = psf.computeImage().convertF().getArray()\n",
    "        plt.imshow(np.rot90(psf_arr), cmap='gray', extent=(0,psfSize-1,0,psfSize-1), interpolation='none')\n",
    "        plt.plot(psfw//2, psfw//2, 'bo')\n",
    "        plt.title(\"PSF\")\n",
    "        plt.show()\n",
    "\n",
    "    # Create the dipole separated by pixels instead of the old fracOffset of Psf FWHM\n",
    "    # Assume rotAngle is in degrees\n",
    "    rotAngRad = rotAngle / 180. * np.pi\n",
    "    array  = image.getImage().getArray()\n",
    "    xp, yp = xc + separation/2. * np.cos(rotAngRad), yc + separation/2. * np.sin(rotAngRad)\n",
    "    imPos = np.ndarray( (w,h), buffer=np.array([ generator(i-xp,j-yp) for i in xrange(w) for j in xrange(h) ]) )\n",
    "    array[:] += imPos/np.max(imPos)*scaling\n",
    "    psfSum = np.sum(imPos/np.max(imPos)*scaling) # get more accurate input \"flux\"\n",
    "\n",
    "    xn, yn = xc - separation/2. * np.cos(rotAngRad), yc - separation/2. * np.sin(rotAngRad)\n",
    "    imPos = np.ndarray( (w,h), buffer=np.array([ generator(i-xn,j-yn) for i in xrange(w) for j in xrange(h) ]) )\n",
    "    array[:] -= imPos/np.max(imPos)*scaling\n",
    "    \n",
    "    if verbose:\n",
    "        print 'INPUT CENTROID: ', xc, yc\n",
    "        print 'INPUT ANGLE: ', rotAngle, rotAngRad\n",
    "        print 'INPUT POSITIVE CENTROID:', xp, yp\n",
    "        print 'INPUT NEGATIVE CENTROID:', xn, yn\n",
    "    dipoleCenters = {'pos': (xp, yp), 'neg': (xn, yn)}\n",
    "\n",
    "    # Create an exposure, detect positive and negative peaks separately\n",
    "    # Need to create a psf object anyway, so that's why we did it above, same parameters as the function.\n",
    "    \n",
    "    exp = afwImage.makeExposure(image)\n",
    "    exp.setPsf(psf)\n",
    "\n",
    "    if display:\n",
    "        #ds9.mtv(image, frame=3, title=\"With dipole\")\n",
    "        img_arr, mask_arr, var_arr = exp.getMaskedImage().getArrays()\n",
    "        plt.title(\"Original image with dipole\")\n",
    "        plt.imshow(np.rot90(img_arr), vmin=-scaling, vmax=scaling, cmap='gray', extent=(0,99,0,99), interpolation='none')\n",
    "        plt.plot(xp, yp, 'bx')\n",
    "        plt.plot(xn, yn, 'bx')\n",
    "        ##plt.show()\n",
    "    \n",
    "    config = measAlg.SourceDetectionConfig()\n",
    "    config.thresholdPolarity = \"both\"\n",
    "    config.reEstimateBackground = True\n",
    "    schema = afwTable.SourceTable.makeMinimalSchema()\n",
    "    task = measAlg.SourceDetectionTask(schema, config=config)\n",
    "    table = afwTable.SourceTable.make(schema)\n",
    "    results = task.makeSourceCatalog(table, exp)\n",
    "#     if display:\n",
    "#         ds9.mtv(image, frame=4, title=\"Detection plane\")\n",
    "        \n",
    "    # Merge them together\n",
    "    assert(len(results.sources) == 2)\n",
    "    fpSet = results.fpSets.positive\n",
    "    fpSet.merge(results.fpSets.negative, 1, 1, False) ## note used to be tGrow=0, rGrow=0, but sometimes sources were not merged.\n",
    "    sources = afwTable.SourceCatalog(table)\n",
    "    fpSet.makeSources(sources)\n",
    "    assert(len(sources) == 1)\n",
    "    s = sources[0]\n",
    "    assert(len(s.getFootprint().getPeaks()) == 2)\n",
    "\n",
    "    if verbose:\n",
    "        for pk in s.getFootprint().getPeaks():\n",
    "            print 'FOOTPRINT CENTER:', pk.getIy(), pk.getIx()\n",
    "\n",
    "    if display:\n",
    "        ## first overlay the fp centers on the input image and show it.\n",
    "        for pk in s.getFootprint().getPeaks():\n",
    "            plt.plot(pk.getIy(), pk.getIx(), 'rx')\n",
    "        plt.show()\n",
    "\n",
    "        img_arr, mask_arr, var_arr = exp.getMaskedImage().getArrays()\n",
    "        plt.title(\"Detection plane\")\n",
    "        plt.imshow(np.rot90(mask_arr), vmin=-100, vmax=100, cmap='gray', extent=(0,99,0,99), interpolation='none')\n",
    "        for pk in s.getFootprint().getPeaks():\n",
    "            plt.plot(pk.getIy(), pk.getIx(), 'rx')\n",
    "        plt.show()\n",
    "        \n",
    "    return psf, psfSum, exp, s, dipoleCenters"
   ]
  },
  {
   "cell_type": "code",
   "execution_count": 4,
   "metadata": {
    "collapsed": false
   },
   "outputs": [
    {
     "data": {
      "image/png": "[encoded data removed]",
      "text/plain": [
       "<matplotlib.figure.Figure at 0x112670110>"
      ]
     },
     "metadata": {},
     "output_type": "display_data"
    },
    {
     "name": "stdout",
     "output_type": "stream",
     "text": [
      "INPUT CENTROID:  50 50\n",
      "INPUT ANGLE:  0.0 0.0\n",
      "INPUT POSITIVE CENTROID: 51.2 50.0\n",
      "INPUT NEGATIVE CENTROID: 48.8 50.0\n",
      "FOOTPRINT CENTER: 53 50\n",
      "FOOTPRINT CENTER: 47 50\n"
     ]
    },
    {
     "data": {
      "image/png": "[encoded data removed]",
      "text/plain": [
       "<matplotlib.figure.Figure at 0x11276b550>"
      ]
     },
     "metadata": {},
     "output_type": "display_data"
    },
    {
     "data": {
      "image/png": "[encoded data removed]",
      "text/plain": [
       "<matplotlib.figure.Figure at 0x112937d90>"
      ]
     },
     "metadata": {},
     "output_type": "display_data"
    },
    {
     "name": "stdout",
     "output_type": "stream",
     "text": [
      "2998.55348293 {'neg': (48.799999999999997, 50.0), 'pos': (51.200000000000003, 50.0)}\n",
      "CENTROID:  (50.0, 50.0)\n"
     ]
    }
   ],
   "source": [
    "#w, h = 100, 100 # size of image\n",
    "#xc, yc = 50, 50 # location of center of dipole\n",
    "psf, psfSum, exposure, s, dipoleCenters = createDipole(100, 100, 50, 50, separation=2.4, rotAngle=0., verbose=True, display=True)\n",
    "print psfSum, dipoleCenters\n",
    "dipoleCentroid = (np.mean([dipoleCenters['neg'][0], dipoleCenters['pos'][0]]), np.mean([dipoleCenters['neg'][1], dipoleCenters['pos'][1]]))\n",
    "print 'CENTROID: ', dipoleCentroid"
   ]
  },
  {
   "cell_type": "code",
   "execution_count": 5,
   "metadata": {
    "collapsed": false
   },
   "outputs": [],
   "source": [
    "## I think this is the meat of the code that runs the measurement. How do I get the complete set of (fitted) parameters out? \n",
    "## THat is the question!\n",
    "## OK, figured it out, see below...\n",
    "def measureDipole(s, exp):\n",
    "    msConfig = ipDiffim.DipoleMeasurementConfig()\n",
    "    schema = afwTable.SourceTable.makeMinimalSchema()\n",
    "    schema.addField(\"centroid_x\", type=float)\n",
    "    schema.addField(\"centroid_y\", type=float)\n",
    "    schema.addField(\"centroid_flag\", type='Flag')\n",
    "    task = ipDiffim.DipoleMeasurementTask(schema, config=msConfig)\n",
    "    measCat = afwTable.SourceCatalog(schema)\n",
    "    measCat.defineCentroid(\"centroid\")\n",
    "    source = measCat.addNew()\n",
    "    source.set(\"centroid_x\", dipoleCentroid[0])\n",
    "    source.set(\"centroid_y\", dipoleCentroid[1])\n",
    "    source.setFootprint(s.getFootprint())\n",
    "\n",
    "    #print 'DIPOLE: ', source.get(\"classification_dipole\") ## from ipDiffim.DipoleMeasurementTask._ClassificationFlag\n",
    "    # Then run the default SFM task.  Results not checked\n",
    "    task.run(measCat, exp)\n",
    "    return measCat  ##[0] "
   ]
  },
  {
   "cell_type": "markdown",
   "metadata": {},
   "source": [
    "OK, I see that measureDipole is slow because of the psf fitting - in `DipoleAlgorithms.cc`. It seems to take nearly 1s for some fits (especially for closely-separated dipoles).\n",
    "\n",
    "UPDATE - after compiling with O3, the dipole fitting is ~60ms now!\n",
    "\n",
    "Why is it slow? Possible reasons:\n",
    "\n",
    "1. `PsfDipoleFlux::chi2()` computes the PSF *image* (pos. and neg.) to compute the model, rather than using something like `afwMath.DoubleGaussianFunction2D()` as I do above. Or if that is not possible (may need to use a pixelated input PSF) then speed up the computation of the dipole model image (right now it uses multiple vectorized function calls).\n",
    "2. It spends a lot of time floating around near the minimum and perhaps can be cut off more quickly (note this could be caused by (1.)\n",
    "3. Perhaps its starting parameters (derived from the naive coordinates) could be made more accurate. At least it looks like the starting flux values are being set way too low (looks like +/- 22.0, should be ~3000 -- how is that being set?)\n",
    "4. it computes chi2 over the entire subimage (confirm this?) rather than the inner 2,3,4, or 5 sigma of the PSF (or even better within the source's footprint(s)\n",
    "\n",
    "Need to check out -- maybe because dipole fit is so slow, it's not enabled in the main pipelines, thus it uses the naive method by default which is inaccurate.\n",
    "\n",
    "Note: It seems that the dipole fit is a lot faster for dipoles of greater separation than for those that are closer (it seems the optimization [minuit]) takes longer to converge).\n",
    "\n",
    "But for now, let's just test the algorithm and worry about timing later."
   ]
  },
  {
   "cell_type": "code",
   "execution_count": 6,
   "metadata": {
    "collapsed": false
   },
   "outputs": [
    {
     "name": "stdout",
     "output_type": "stream",
     "text": [
      "10 loops, best of 3: 55.9 ms per loop\n",
      "DIPOLE:  1.0\n",
      "[2: (50,47)  (50.000,47.000), 1: (50,53)  (50.000,53.000)]\n",
      "(50, 50)\n",
      "50.0065498352 52.8243598938 49.9911689758 47.1865234375\n",
      "49.9987427396 51.264026146 49.9924615309 48.7466637376\n",
      "2880.09350941 -2881.89435467\n"
     ]
    }
   ],
   "source": [
    "#print 'DIPOLE: ' + s.get(dipoleFlag)\n",
    "%timeit measureDipole(s, exposure)\n",
    "sources = measureDipole(s, exposure)\n",
    "print 'DIPOLE: ', sources[0].get(\"classification_dipole\") ## from ipDiffim.DipoleMeasurementTask._ClassificationFlag\n",
    "source = sources[0]\n",
    "fp     = source.getFootprint()\n",
    "peaks  = fp.getPeaks()\n",
    "speaks = [(p.getPeakValue(), p) for p in peaks]\n",
    "speaks.sort()\n",
    "dpeaks = [speaks[0][1], speaks[-1][1]]\n",
    "print dpeaks\n",
    "##print source.schema\n",
    "print source.getCentroid() ## This just returns the values set in the \"source.set(\"centroid_x\", xc), ...\" lines... ??\n",
    "print source.get(\"ip_diffim_NaiveDipoleCentroid_pos_x\"), source.get(\"ip_diffim_NaiveDipoleCentroid_pos_y\"), \\\n",
    "    source.get(\"ip_diffim_NaiveDipoleCentroid_neg_x\"), source.get(\"ip_diffim_NaiveDipoleCentroid_neg_y\")\n",
    "print source.get(\"ip_diffim_PsfDipoleFlux_pos_centroid_x\"), source.get(\"ip_diffim_PsfDipoleFlux_pos_centroid_y\"), \\\n",
    "    source.get(\"ip_diffim_PsfDipoleFlux_neg_centroid_x\"), source.get(\"ip_diffim_PsfDipoleFlux_neg_centroid_y\")\n",
    "print source.get(\"ip_diffim_PsfDipoleFlux_pos_flux\"), source.get(\"ip_diffim_PsfDipoleFlux_neg_flux\")"
   ]
  },
  {
   "cell_type": "code",
   "execution_count": 7,
   "metadata": {
    "collapsed": false
   },
   "outputs": [
    {
     "name": "stdout",
     "output_type": "stream",
     "text": [
      "69.8034132914 (49.996, 50.005) 0.00249515 rad\n"
     ]
    }
   ],
   "source": [
    "## provides (S/N, position, orientation) of measured dipoles\n",
    "dpAnalysis = ipDiffim.DipoleAnalysis()\n",
    "sn, centroid, orientation = dpAnalysis(source)\n",
    "print sn, centroid, orientation"
   ]
  },
  {
   "cell_type": "code",
   "execution_count": 8,
   "metadata": {
    "collapsed": false
   },
   "outputs": [
    {
     "name": "stdout",
     "output_type": "stream",
     "text": [
      "(50, 50)\n",
      "50.0065498352 52.8243598938 49.9911689758 47.1865234375\n",
      "49.9987427396 51.264026146 49.9924615309 48.7466637376\n",
      "2880.09350941 -2881.89435467\n"
     ]
    }
   ],
   "source": [
    "## deblend a source as a dipole, and return a new source with deblended footprints.\n",
    "dpDeblender = ipDiffim.DipoleDeblender()\n",
    "deblendedSource = dpDeblender(source, exposure)\n",
    "print deblendedSource.getCentroid()\n",
    "print deblendedSource.get(\"ip_diffim_NaiveDipoleCentroid_pos_x\"), deblendedSource.get(\"ip_diffim_NaiveDipoleCentroid_pos_y\"), \\\n",
    "    deblendedSource.get(\"ip_diffim_NaiveDipoleCentroid_neg_x\"), deblendedSource.get(\"ip_diffim_NaiveDipoleCentroid_neg_y\")\n",
    "print deblendedSource.get(\"ip_diffim_PsfDipoleFlux_pos_centroid_x\"), deblendedSource.get(\"ip_diffim_PsfDipoleFlux_pos_centroid_y\"), \\\n",
    "    deblendedSource.get(\"ip_diffim_PsfDipoleFlux_neg_centroid_x\"), deblendedSource.get(\"ip_diffim_PsfDipoleFlux_neg_centroid_y\")\n",
    "print deblendedSource.get(\"ip_diffim_PsfDipoleFlux_pos_flux\"), deblendedSource.get(\"ip_diffim_PsfDipoleFlux_neg_flux\")"
   ]
  },
  {
   "cell_type": "code",
   "execution_count": 9,
   "metadata": {
    "collapsed": false
   },
   "outputs": [],
   "source": [
    "# Recreate the simultaneous joint Psf fit in python\n",
    "## This just fits for the flux of the dipole lobes, given a pair of input centroids.\n",
    "def _makeModel(exposure, psf, fp, negCenter, posCenter, display=False):\n",
    "    negPsf = psf.computeImage(negCenter).convertF()\n",
    "    posPsf = psf.computeImage(posCenter).convertF()\n",
    "    negPeak = psf.computePeak(negCenter)\n",
    "    posPeak = psf.computePeak(posCenter)\n",
    "    negPsf /= negPeak\n",
    "    posPsf /= posPeak\n",
    "\n",
    "    model    = afwImage.ImageF(fp.getBBox())\n",
    "    negModel = afwImage.ImageF(fp.getBBox())\n",
    "    posModel = afwImage.ImageF(fp.getBBox())\n",
    "\n",
    "    # The center of the Psf should be at negCenter, posCenter\n",
    "    negPsfBBox = negPsf.getBBox()\n",
    "    posPsfBBox = posPsf.getBBox()\n",
    "    modelBBox  = model.getBBox()\n",
    "\n",
    "    # Portion of the negative Psf that overlaps the montage\n",
    "    negOverlapBBox = afwGeom.Box2I(negPsfBBox)\n",
    "    negOverlapBBox.clip(modelBBox)\n",
    "    #self.assertFalse(negOverlapBBox.isEmpty())\n",
    "\n",
    "    # Portion of the positivePsf that overlaps the montage\n",
    "    posOverlapBBox = afwGeom.Box2I(posPsfBBox)\n",
    "    posOverlapBBox.clip(modelBBox)\n",
    "    #self.assertFalse(posOverlapBBox.isEmpty())\n",
    "\n",
    "    negPsfSubim    = type(negPsf)(negPsf, negOverlapBBox)\n",
    "    modelSubim     = type(model)(model, negOverlapBBox)\n",
    "    negModelSubim  = type(negModel)(negModel, negOverlapBBox)\n",
    "    modelSubim    += negPsfSubim  # just for debugging\n",
    "    negModelSubim += negPsfSubim  # for fitting\n",
    "\n",
    "    posPsfSubim    = type(posPsf)(posPsf, posOverlapBBox)\n",
    "    modelSubim     = type(model)(model, posOverlapBBox)\n",
    "    posModelSubim  = type(posModel)(posModel, posOverlapBBox)\n",
    "    modelSubim    += posPsfSubim\n",
    "    posModelSubim += posPsfSubim\n",
    "\n",
    "    data = afwImage.ImageF(exposure.getMaskedImage().getImage(), fp.getBBox())\n",
    "    var = afwImage.ImageF(exposure.getMaskedImage().getVariance(), fp.getBBox())\n",
    "    matrixNorm = 1. / np.sqrt(np.median(var.getArray()))\n",
    "\n",
    "    posPsfSum = np.sum(posPsf.getArray())\n",
    "    negPsfSum = np.sum(negPsf.getArray())\n",
    "\n",
    "    M = np.array((np.ravel(negModel.getArray()), np.ravel(posModel.getArray()))).T.astype(np.float64)\n",
    "    B = np.array((np.ravel(data.getArray()))).astype(np.float64)\n",
    "    M *= matrixNorm\n",
    "    B *= matrixNorm\n",
    "\n",
    "    # Numpy solution\n",
    "    fneg0, fpos0 = np.linalg.lstsq(M, B)[0]\n",
    "\n",
    "    # Afw solution\n",
    "    lsq = afwMath.LeastSquares.fromDesignMatrix(M, B, afwMath.LeastSquares.DIRECT_SVD)\n",
    "    fneg, fpos = lsq.getSolution()\n",
    "\n",
    "    # Should be exaxtly the same as each other\n",
    "    #self.assertAlmostEqual(1e-2*fneg0,  1e-2*fneg)\n",
    "    #self.assertAlmostEqual(1e-2*fpos0,  1e-2*fpos)\n",
    "\n",
    "    # Recreate model\n",
    "    fitted  = afwImage.ImageF(fp.getBBox())\n",
    "    negFit  = type(negPsf)(negPsf, negOverlapBBox, afwImage.PARENT, True)\n",
    "    negFit *= float(fneg)\n",
    "    posFit  = type(posPsf)(posPsf, posOverlapBBox, afwImage.PARENT, True)\n",
    "    posFit *= float(fpos)\n",
    "\n",
    "    fitSubim  = type(fitted)(fitted, negOverlapBBox)\n",
    "    fitSubim += negFit\n",
    "    fitSubim  = type(fitted)(fitted, posOverlapBBox)\n",
    "    fitSubim += posFit\n",
    "    \n",
    "    if display:\n",
    "    #    ds9.mtv(model, frame=5, title=\"Unfitted model\")\n",
    "    #    ds9.mtv(data, frame=6, title=\"Data\")\n",
    "        fig = plt.figure()\n",
    "        a = fig.add_subplot(1,3,1)\n",
    "        plt.imshow(np.rot90(model.getArray()), cmap='gray', extent=(0,99,0,99), interpolation='none')\n",
    "        plt.title('Unfitted model (footprint?)')\n",
    "        #plt.show()\n",
    "        a = fig.add_subplot(1,3,2)\n",
    "        plt.imshow(np.rot90(data.getArray()), cmap='gray', extent=(0,99,0,99), interpolation='none')\n",
    "        plt.title('Data')\n",
    "        #plt.show()\n",
    "\n",
    "    #if display:\n",
    "    #    ds9.mtv(fitted, frame=7, title=\"Fitted model\")\n",
    "        a = fig.add_subplot(1,3,3)\n",
    "        plt.imshow(np.rot90(fitted.getArray()), cmap='gray', extent=(0,99,0,99), interpolation='none')\n",
    "        plt.title('Fitted model')\n",
    "        plt.show()\n",
    "\n",
    "    fitted   -= data\n",
    "\n",
    "    if display:\n",
    "    #    ds9.mtv(fitted, frame=8, title=\"Residuals\")\n",
    "        plt.imshow(np.rot90(fitted.getArray()), cmap='gray', extent=(0,99,0,99), interpolation='none')\n",
    "        plt.title('Residuals')\n",
    "        plt.show()\n",
    "\n",
    "    fitted   *= fitted\n",
    "    fitted   /= var\n",
    "\n",
    "    if display:\n",
    "    #    ds9.mtv(fitted, frame=9, title=\"Chi2\")\n",
    "        plt.imshow(np.rot90(fitted.getArray()), cmap='gray', extent=(0,99,0,99), interpolation='none')\n",
    "        plt.title('Chi2')\n",
    "        plt.show()\n",
    "\n",
    "    return fneg, negPsfSum, fpos, posPsfSum, fitted"
   ]
  },
  {
   "cell_type": "code",
   "execution_count": 10,
   "metadata": {
    "collapsed": false
   },
   "outputs": [
    {
     "name": "stdout",
     "output_type": "stream",
     "text": [
      "(50, 53) (50, 47)\n"
     ]
    },
    {
     "data": {
      "image/png": "[encoded data removed]",
      "text/plain": [
       "<matplotlib.figure.Figure at 0x112bb1310>"
      ]
     },
     "metadata": {},
     "output_type": "display_data"
    },
    {
     "data": {
      "image/png": "[encoded data removed]",
      "text/plain": [
       "<matplotlib.figure.Figure at 0x112e49b10>"
      ]
     },
     "metadata": {},
     "output_type": "display_data"
    },
    {
     "data": {
      "image/png": "[encoded data removed]",
      "text/plain": [
       "<matplotlib.figure.Figure at 0x112edf210>"
      ]
     },
     "metadata": {},
     "output_type": "display_data"
    },
    {
     "name": "stdout",
     "output_type": "stream",
     "text": [
      "0.533079461522 0.532278702419\n"
     ]
    }
   ],
   "source": [
    "negCenter = afwGeom.Point2D(dpeaks[0].getFx(), dpeaks[0].getFy())\n",
    "posCenter = afwGeom.Point2D(dpeaks[1].getFx(), dpeaks[1].getFy())\n",
    "print posCenter, negCenter\n",
    "\n",
    "fneg, negPsfSum, fpos, posPsfSum, residIm = _makeModel(exposure, psf, fp, negCenter, posCenter, display=True)\n",
    "\n",
    "# Should be close to the same as the inputs; as fracOffset\n",
    "# gets smaller this will be worse.\n",
    "print -1e-2*fneg,  1e-2*fpos\n",
    "\n",
    "## Looks like ACB's test code uses the integral value for the naive dipole fitted peak centroid...?"
   ]
  },
  {
   "cell_type": "code",
   "execution_count": 11,
   "metadata": {
    "collapsed": false
   },
   "outputs": [
    {
     "name": "stdout",
     "output_type": "stream",
     "text": [
      "(49.999, 51.264) (49.992, 48.747)\n"
     ]
    },
    {
     "data": {
      "image/png": "[encoded data removed]",
      "text/plain": [
       "<matplotlib.figure.Figure at 0x11307e510>"
      ]
     },
     "metadata": {},
     "output_type": "display_data"
    },
    {
     "data": {
      "image/png": "[encoded data removed]",
      "text/plain": [
       "<matplotlib.figure.Figure at 0x1134b1f90>"
      ]
     },
     "metadata": {},
     "output_type": "display_data"
    },
    {
     "data": {
      "image/png": "[encoded data removed]",
      "text/plain": [
       "<matplotlib.figure.Figure at 0x11349f510>"
      ]
     },
     "metadata": {},
     "output_type": "display_data"
    },
    {
     "name": "stdout",
     "output_type": "stream",
     "text": [
      "0.965615852505 0.965014063721\n"
     ]
    }
   ],
   "source": [
    "negCenter = afwGeom.Point2D(source.get(\"ip_diffim_PsfDipoleFlux_neg_centroid_x\"), source.get(\"ip_diffim_PsfDipoleFlux_neg_centroid_y\"))\n",
    "posCenter = afwGeom.Point2D(source.get(\"ip_diffim_PsfDipoleFlux_pos_centroid_x\"), source.get(\"ip_diffim_PsfDipoleFlux_pos_centroid_y\"))\n",
    "print posCenter, negCenter\n",
    "\n",
    "fneg, negPsfSum, fpos, posPsfSum, residIm = _makeModel(exposure, psf, fp, negCenter, posCenter, display=True)\n",
    "\n",
    "# Should be close to the same as the inputs\n",
    "print -1e-2*fneg,  1e-2*fpos"
   ]
  },
  {
   "cell_type": "code",
   "execution_count": 12,
   "metadata": {
    "collapsed": true
   },
   "outputs": [],
   "source": [
    "from collections import namedtuple\n",
    "resultsOutput = namedtuple('resultsOutput', \n",
    "        'inputCentroidX inputCentroidY inputSeparation inputRotation inputScaling inputPosCentroidX inputPosCentroidY inputNegCentroidX inputNegCentroidY psfFitPosCentroidX psfFitPosCentroidY psfFitNegCentroidX psfFitNegCentroidY psfFitPosFlux psfFitNegFlux psfFitCentroidX psfFitCentroidY psfFitOrientation psfFitSignaltoNoise')\n",
    "\n",
    "def makeDipoleAndTestDipoleFit(w=100, h=100, xc=50., yc=50., separation=2.4, rotAngle=0.0, scaling = 100.0, psfWidth=2.0, verbose=False):\n",
    "    psf, psfSum, exposure, s, dipoleCenters = createDipole(w, h, xc, yc, separation=separation, rotAngle=rotAngle, \n",
    "                                                           scaling=scaling, psfWidth=psfWidth, verbose=verbose, display=False)\n",
    "    if verbose: print psfSum, dipoleCenters\n",
    "    dipoleCentroid = (np.mean([dipoleCenters['pos'][0], dipoleCenters['neg'][0]]), np.mean([dipoleCenters['pos'][1], dipoleCenters['neg'][1]]))\n",
    "    if verbose: print 'CENTROID: ', dipoleCentroid\n",
    "    \n",
    "    sources = measureDipole(s, exposure)\n",
    "    if verbose: print 'DIPOLE: ', sources[0].get(\"classification_dipole\") ## from ipDiffim.DipoleMeasurementTask._ClassificationFlag\n",
    "    source = sources[0]\n",
    "    fp     = source.getFootprint()\n",
    "    peaks  = fp.getPeaks()\n",
    "    speaks = [(p.getPeakValue(), p) for p in peaks]\n",
    "    speaks.sort()\n",
    "    dpeaks = [speaks[0][1], speaks[-1][1]]\n",
    "    if verbose: \n",
    "        print dpeaks\n",
    "        ##print source.schema\n",
    "        print source.getCentroid() ## This just returns the values set in the \"source.set(\"centroid_x\", xc), ...\" lines... ??\n",
    "        print source.get(\"ip_diffim_NaiveDipoleCentroid_pos_x\"), source.get(\"ip_diffim_NaiveDipoleCentroid_pos_y\"), \\\n",
    "            source.get(\"ip_diffim_NaiveDipoleCentroid_neg_x\"), source.get(\"ip_diffim_NaiveDipoleCentroid_neg_y\")\n",
    "        print source.get(\"ip_diffim_PsfDipoleFlux_pos_centroid_x\"), source.get(\"ip_diffim_PsfDipoleFlux_pos_centroid_y\"), \\\n",
    "            source.get(\"ip_diffim_PsfDipoleFlux_neg_centroid_x\"), source.get(\"ip_diffim_PsfDipoleFlux_neg_centroid_y\")\n",
    "        print source.get(\"ip_diffim_PsfDipoleFlux_pos_flux\"), source.get(\"ip_diffim_PsfDipoleFlux_neg_flux\")  \n",
    "    \n",
    "    ## provides (S/N, position, orientation) of measured dipoles\n",
    "    dpAnalysis = ipDiffim.DipoleAnalysis()\n",
    "    sn, centroid, orientation = dpAnalysis(source)\n",
    "    if verbose: print sn, centroid, orientation\n",
    "        \n",
    "    out = resultsOutput(xc, yc, separation, rotAngle, scaling,\n",
    "        dipoleCenters['pos'][0], dipoleCenters['pos'][1], dipoleCenters['neg'][0], dipoleCenters['neg'][1], \n",
    "        source.get(\"ip_diffim_PsfDipoleFlux_pos_centroid_x\"), source.get(\"ip_diffim_PsfDipoleFlux_pos_centroid_y\"),\n",
    "        source.get(\"ip_diffim_PsfDipoleFlux_neg_centroid_x\"), source.get(\"ip_diffim_PsfDipoleFlux_neg_centroid_y\"),\n",
    "        source.get(\"ip_diffim_PsfDipoleFlux_pos_flux\"), source.get(\"ip_diffim_PsfDipoleFlux_neg_flux\"),\n",
    "        centroid.getX(), centroid.getY(), orientation, sn)\n",
    "    \n",
    "#     return (source.get(\"ip_diffim_PsfDipoleFlux_pos_centroid_x\"), source.get(\"ip_diffim_PsfDipoleFlux_pos_centroid_y\"), \n",
    "#             source.get(\"ip_diffim_PsfDipoleFlux_neg_centroid_x\"), source.get(\"ip_diffim_PsfDipoleFlux_neg_centroid_y\"), \n",
    "#             sn, centroid, orientation)\n",
    "    return out"
   ]
  },
  {
   "cell_type": "code",
   "execution_count": 13,
   "metadata": {
    "collapsed": false
   },
   "outputs": [
    {
     "name": "stdout",
     "output_type": "stream",
     "text": [
      "INPUT CENTROID:  50.0 50.0\n",
      "INPUT ANGLE:  0.0 0.0\n",
      "INPUT POSITIVE CENTROID: 51.2 50.0\n",
      "INPUT NEGATIVE CENTROID: 48.8 50.0\n",
      "FOOTPRINT CENTER: 53 50\n",
      "FOOTPRINT CENTER: 47 50\n",
      "2998.55348293 {'neg': (48.799999999999997, 50.0), 'pos': (51.200000000000003, 50.0)}\n",
      "CENTROID:  (50.0, 50.0)\n",
      "DIPOLE:  1.0\n",
      "[16: (50,47)  (50.000,47.000), 15: (50,53)  (50.000,53.000)]\n",
      "(50, 50)\n",
      "50.0018768311 52.8285903931 50.0133323669 47.1844291687\n",
      "49.9989659028 51.221725453 50.0115338019 48.7831615395\n",
      "2952.51967806 -2943.1404718\n",
      "63.4380160908 (50.005, 50.002) -0.00515377 rad\n"
     ]
    },
    {
     "data": {
      "text/plain": [
       "resultsOutput(inputCentroidX=50.0, inputCentroidY=50.0, inputSeparation=2.4, inputRotation=0.0, inputScaling=100.0, inputPosCentroidX=51.200000000000003, inputPosCentroidY=50.0, inputNegCentroidX=48.799999999999997, inputNegCentroidY=50.0, psfFitPosCentroidX=49.99896590284037, psfFitPosCentroidY=51.221725452971405, psfFitNegCentroidX=50.01153380186334, psfFitNegCentroidY=48.7831615394874, psfFitPosFlux=2952.5196780576566, psfFitNegFlux=-2943.1404717974015, psfFitCentroidX=50.00524985235185, psfFitCentroidY=50.002443496229404, psfFitOrientation=-0.00515377 rad, psfFitSignaltoNoise=63.438016090782206)"
      ]
     },
     "execution_count": 13,
     "metadata": {},
     "output_type": "execute_result"
    }
   ],
   "source": [
    "makeDipoleAndTestDipoleFit(w=100, h=100, xc=50., yc=50., psfWidth=2.0, separation=2.4, rotAngle=0.0, scaling = 100.0, verbose=True)"
   ]
  },
  {
   "cell_type": "code",
   "execution_count": 14,
   "metadata": {
    "collapsed": false
   },
   "outputs": [
    {
     "data": {
      "text/plain": [
       "resultsOutput(inputCentroidX=50.0, inputCentroidY=50.0, inputSeparation=2.4, inputRotation=90.0, inputScaling=100.0, inputPosCentroidX=50.0, inputPosCentroidY=51.200000000000003, inputNegCentroidX=50.0, inputNegCentroidY=48.799999999999997, psfFitPosCentroidX=51.18401499344571, psfFitPosCentroidY=49.9941985709304, psfFitNegCentroidX=48.807120745140026, psfFitNegCentroidY=49.99087527959275, psfFitPosFlux=3027.022654202038, psfFitNegFlux=-3048.5736875664056, psfFitCentroidX=49.99556786929287, psfFitCentroidY=49.992536925261575, psfFitOrientation=1.5694 rad, psfFitSignaltoNoise=60.582472518213912)"
      ]
     },
     "execution_count": 14,
     "metadata": {},
     "output_type": "execute_result"
    }
   ],
   "source": [
    "makeDipoleAndTestDipoleFit(w=100, h=100, xc=50., yc=50., psfWidth=2.0, separation=2.4, rotAngle=90.0, scaling = 100.0)"
   ]
  },
  {
   "cell_type": "markdown",
   "metadata": {},
   "source": [
    "Note the output seems to have switched X and Y -- is this on purpose or my misunderstanding?\n",
    "\n",
    "But for now we will just compare inputX with outputY and vice versa."
   ]
  },
  {
   "cell_type": "code",
   "execution_count": 15,
   "metadata": {
    "collapsed": false
   },
   "outputs": [],
   "source": [
    "results = [makeDipoleAndTestDipoleFit(w=100, h=100, xc=50., yc=50., psfWidth=2.0, separation=2.4, rotAngle=0.0, scaling = 100.0)\n",
    "          for i in xrange(10)]"
   ]
  },
  {
   "cell_type": "code",
   "execution_count": 16,
   "metadata": {
    "collapsed": false
   },
   "outputs": [
    {
     "name": "stdout",
     "output_type": "stream",
     "text": [
      "[51.22495672636676, 51.17712745246981, 51.208746711336495, 51.184078421149316, 51.218030637265045, 51.23563244192048, 51.28254475928171, 51.272728957278574, 51.293632633464725, 51.204768226005115]\n"
     ]
    },
    {
     "data": {
      "text/plain": [
       "OrderedDict([('inputCentroidX', 50.0),\n",
       "             ('inputCentroidY', 50.0),\n",
       "             ('inputSeparation', 2.4),\n",
       "             ('inputRotation', 0.0),\n",
       "             ('inputScaling', 100.0),\n",
       "             ('inputPosCentroidX', 51.200000000000003),\n",
       "             ('inputPosCentroidY', 50.0),\n",
       "             ('inputNegCentroidX', 48.799999999999997),\n",
       "             ('inputNegCentroidY', 50.0),\n",
       "             ('psfFitPosCentroidX', 50.01058080628101),\n",
       "             ('psfFitPosCentroidY', 51.22495672636676),\n",
       "             ('psfFitNegCentroidX', 50.010660305395184),\n",
       "             ('psfFitNegCentroidY', 48.77573098050889),\n",
       "             ('psfFitPosFlux', 2928.797808233734),\n",
       "             ('psfFitNegFlux', -2941.1887934186107),\n",
       "             ('psfFitCentroidX', 50.0106205558381),\n",
       "             ('psfFitCentroidY', 50.000343853437826),\n",
       "             ('psfFitOrientation', -3.24589e-05 rad),\n",
       "             ('psfFitSignaltoNoise', 65.123850291397147)])"
      ]
     },
     "execution_count": 16,
     "metadata": {},
     "output_type": "execute_result"
    }
   ],
   "source": [
    "print [res.psfFitPosCentroidY for res in results]\n",
    "results[0]._asdict()"
   ]
  },
  {
   "cell_type": "code",
   "execution_count": 17,
   "metadata": {
    "collapsed": true
   },
   "outputs": [],
   "source": [
    "import pandas as pd\n",
    "class sizeme():\n",
    "    \"\"\" Class to change html fontsize of object's representation\"\"\"\n",
    "    def __init__(self,ob, size=50, height=120):\n",
    "        self.ob = ob\n",
    "        self.size = size\n",
    "        self.height = height\n",
    "    def _repr_html_(self):\n",
    "        repl_tuple = (self.size, self.height, self.ob._repr_html_())\n",
    "        return u'<span style=\"font-size:{0}%; line-height:{1}%\">{2}</span>'.format(*repl_tuple)"
   ]
  },
  {
   "cell_type": "code",
   "execution_count": 18,
   "metadata": {
    "collapsed": false
   },
   "outputs": [
    {
     "data": {
      "text/html": [
       "<span style=\"font-size:50%; line-height:120%\"><div>\n",
       "<table border=\"1\" class=\"dataframe\">\n",
       "  <thead>\n",
       "    <tr style=\"text-align: right;\">\n",
       "      <th></th>\n",
       "      <th>inputCentroidX</th>\n",
       "      <th>inputCentroidY</th>\n",
       "      <th>inputNegCentroidX</th>\n",
       "      <th>inputNegCentroidY</th>\n",
       "      <th>inputPosCentroidX</th>\n",
       "      <th>inputPosCentroidY</th>\n",
       "      <th>inputRotation</th>\n",
       "      <th>inputScaling</th>\n",
       "      <th>inputSeparation</th>\n",
       "      <th>psfFitCentroidX</th>\n",
       "      <th>psfFitCentroidY</th>\n",
       "      <th>psfFitNegCentroidX</th>\n",
       "      <th>psfFitNegCentroidY</th>\n",
       "      <th>psfFitNegFlux</th>\n",
       "      <th>psfFitOrientation</th>\n",
       "      <th>psfFitPosCentroidX</th>\n",
       "      <th>psfFitPosCentroidY</th>\n",
       "      <th>psfFitPosFlux</th>\n",
       "      <th>psfFitSignaltoNoise</th>\n",
       "    </tr>\n",
       "  </thead>\n",
       "  <tbody>\n",
       "    <tr>\n",
       "      <th>0</th>\n",
       "      <td>50</td>\n",
       "      <td>50</td>\n",
       "      <td>48.8</td>\n",
       "      <td>50</td>\n",
       "      <td>51.2</td>\n",
       "      <td>50</td>\n",
       "      <td>0</td>\n",
       "      <td>100</td>\n",
       "      <td>2.4</td>\n",
       "      <td>50.010621</td>\n",
       "      <td>50.000344</td>\n",
       "      <td>50.010660</td>\n",
       "      <td>48.775731</td>\n",
       "      <td>-2941.188793</td>\n",
       "      <td>-3.24589e-05 rad</td>\n",
       "      <td>50.010581</td>\n",
       "      <td>51.224957</td>\n",
       "      <td>2928.797808</td>\n",
       "      <td>65.123850</td>\n",
       "    </tr>\n",
       "    <tr>\n",
       "      <th>1</th>\n",
       "      <td>50</td>\n",
       "      <td>50</td>\n",
       "      <td>48.8</td>\n",
       "      <td>50</td>\n",
       "      <td>51.2</td>\n",
       "      <td>50</td>\n",
       "      <td>0</td>\n",
       "      <td>100</td>\n",
       "      <td>2.4</td>\n",
       "      <td>49.993362</td>\n",
       "      <td>50.014240</td>\n",
       "      <td>49.993419</td>\n",
       "      <td>48.851352</td>\n",
       "      <td>-3067.334872</td>\n",
       "      <td>-4.92024e-05 rad</td>\n",
       "      <td>49.993304</td>\n",
       "      <td>51.177127</td>\n",
       "      <td>3077.344760</td>\n",
       "      <td>55.695006</td>\n",
       "    </tr>\n",
       "    <tr>\n",
       "      <th>2</th>\n",
       "      <td>50</td>\n",
       "      <td>50</td>\n",
       "      <td>48.8</td>\n",
       "      <td>50</td>\n",
       "      <td>51.2</td>\n",
       "      <td>50</td>\n",
       "      <td>0</td>\n",
       "      <td>100</td>\n",
       "      <td>2.4</td>\n",
       "      <td>50.002249</td>\n",
       "      <td>49.996626</td>\n",
       "      <td>50.000643</td>\n",
       "      <td>48.784505</td>\n",
       "      <td>-2974.578789</td>\n",
       "      <td>0.00132455 rad</td>\n",
       "      <td>50.003854</td>\n",
       "      <td>51.208747</td>\n",
       "      <td>2974.726991</td>\n",
       "      <td>62.635039</td>\n",
       "    </tr>\n",
       "    <tr>\n",
       "      <th>3</th>\n",
       "      <td>50</td>\n",
       "      <td>50</td>\n",
       "      <td>48.8</td>\n",
       "      <td>50</td>\n",
       "      <td>51.2</td>\n",
       "      <td>50</td>\n",
       "      <td>0</td>\n",
       "      <td>100</td>\n",
       "      <td>2.4</td>\n",
       "      <td>50.016317</td>\n",
       "      <td>49.991837</td>\n",
       "      <td>50.013806</td>\n",
       "      <td>48.799595</td>\n",
       "      <td>-3030.071426</td>\n",
       "      <td>0.0021061 rad</td>\n",
       "      <td>50.018828</td>\n",
       "      <td>51.184078</td>\n",
       "      <td>3033.110885</td>\n",
       "      <td>59.642603</td>\n",
       "    </tr>\n",
       "    <tr>\n",
       "      <th>4</th>\n",
       "      <td>50</td>\n",
       "      <td>50</td>\n",
       "      <td>48.8</td>\n",
       "      <td>50</td>\n",
       "      <td>51.2</td>\n",
       "      <td>50</td>\n",
       "      <td>0</td>\n",
       "      <td>100</td>\n",
       "      <td>2.4</td>\n",
       "      <td>50.000665</td>\n",
       "      <td>49.988606</td>\n",
       "      <td>49.994985</td>\n",
       "      <td>48.759181</td>\n",
       "      <td>-2958.783456</td>\n",
       "      <td>0.00462023 rad</td>\n",
       "      <td>50.006346</td>\n",
       "      <td>51.218031</td>\n",
       "      <td>2945.367079</td>\n",
       "      <td>64.609558</td>\n",
       "    </tr>\n",
       "  </tbody>\n",
       "</table>\n",
       "</div></span>"
      ],
      "text/plain": [
       "<__main__.sizeme instance at 0x113d18dd0>"
      ]
     },
     "execution_count": 18,
     "metadata": {},
     "output_type": "execute_result"
    }
   ],
   "source": [
    "df = pd.DataFrame([res._asdict() for res in results])\n",
    "sizeme(df.head())"
   ]
  },
  {
   "cell_type": "code",
   "execution_count": 19,
   "metadata": {
    "collapsed": false
   },
   "outputs": [
    {
     "data": {
      "text/html": [
       "<span style=\"font-size:50%; line-height:120%\"><div>\n",
       "<table border=\"1\" class=\"dataframe\">\n",
       "  <thead>\n",
       "    <tr style=\"text-align: right;\">\n",
       "      <th></th>\n",
       "      <th>inputCentroidX</th>\n",
       "      <th>inputCentroidY</th>\n",
       "      <th>inputNegCentroidX</th>\n",
       "      <th>inputNegCentroidY</th>\n",
       "      <th>inputPosCentroidX</th>\n",
       "      <th>inputPosCentroidY</th>\n",
       "      <th>inputRotation</th>\n",
       "      <th>inputScaling</th>\n",
       "      <th>inputSeparation</th>\n",
       "      <th>psfFitCentroidX</th>\n",
       "      <th>psfFitCentroidY</th>\n",
       "      <th>psfFitNegCentroidX</th>\n",
       "      <th>psfFitNegCentroidY</th>\n",
       "      <th>psfFitNegFlux</th>\n",
       "      <th>psfFitPosCentroidX</th>\n",
       "      <th>psfFitPosCentroidY</th>\n",
       "      <th>psfFitPosFlux</th>\n",
       "      <th>psfFitSignaltoNoise</th>\n",
       "    </tr>\n",
       "  </thead>\n",
       "  <tbody>\n",
       "    <tr>\n",
       "      <th>count</th>\n",
       "      <td>10</td>\n",
       "      <td>10</td>\n",
       "      <td>10.0</td>\n",
       "      <td>10</td>\n",
       "      <td>10.0</td>\n",
       "      <td>10</td>\n",
       "      <td>10</td>\n",
       "      <td>10</td>\n",
       "      <td>1.000000e+01</td>\n",
       "      <td>10.000000</td>\n",
       "      <td>10.000000</td>\n",
       "      <td>10.000000</td>\n",
       "      <td>10.000000</td>\n",
       "      <td>10.000000</td>\n",
       "      <td>10.000000</td>\n",
       "      <td>10.000000</td>\n",
       "      <td>10.000000</td>\n",
       "      <td>10.000000</td>\n",
       "    </tr>\n",
       "    <tr>\n",
       "      <th>mean</th>\n",
       "      <td>50</td>\n",
       "      <td>50</td>\n",
       "      <td>48.8</td>\n",
       "      <td>50</td>\n",
       "      <td>51.2</td>\n",
       "      <td>50</td>\n",
       "      <td>0</td>\n",
       "      <td>100</td>\n",
       "      <td>2.400000e+00</td>\n",
       "      <td>50.001706</td>\n",
       "      <td>50.003683</td>\n",
       "      <td>50.001177</td>\n",
       "      <td>48.777141</td>\n",
       "      <td>-2948.659630</td>\n",
       "      <td>50.002236</td>\n",
       "      <td>51.230225</td>\n",
       "      <td>2949.906720</td>\n",
       "      <td>65.389298</td>\n",
       "    </tr>\n",
       "    <tr>\n",
       "      <th>std</th>\n",
       "      <td>0</td>\n",
       "      <td>0</td>\n",
       "      <td>0.0</td>\n",
       "      <td>0</td>\n",
       "      <td>0.0</td>\n",
       "      <td>0</td>\n",
       "      <td>0</td>\n",
       "      <td>0</td>\n",
       "      <td>4.681111e-16</td>\n",
       "      <td>0.010403</td>\n",
       "      <td>0.010685</td>\n",
       "      <td>0.012235</td>\n",
       "      <td>0.040784</td>\n",
       "      <td>77.018303</td>\n",
       "      <td>0.010323</td>\n",
       "      <td>0.040591</td>\n",
       "      <td>75.886503</td>\n",
       "      <td>6.435434</td>\n",
       "    </tr>\n",
       "    <tr>\n",
       "      <th>min</th>\n",
       "      <td>50</td>\n",
       "      <td>50</td>\n",
       "      <td>48.8</td>\n",
       "      <td>50</td>\n",
       "      <td>51.2</td>\n",
       "      <td>50</td>\n",
       "      <td>0</td>\n",
       "      <td>100</td>\n",
       "      <td>2.400000e+00</td>\n",
       "      <td>49.988737</td>\n",
       "      <td>49.988606</td>\n",
       "      <td>49.981345</td>\n",
       "      <td>48.706395</td>\n",
       "      <td>-3067.334872</td>\n",
       "      <td>49.985659</td>\n",
       "      <td>51.177127</td>\n",
       "      <td>2822.089531</td>\n",
       "      <td>55.695006</td>\n",
       "    </tr>\n",
       "    <tr>\n",
       "      <th>25%</th>\n",
       "      <td>50</td>\n",
       "      <td>50</td>\n",
       "      <td>48.8</td>\n",
       "      <td>50</td>\n",
       "      <td>51.2</td>\n",
       "      <td>50</td>\n",
       "      <td>0</td>\n",
       "      <td>100</td>\n",
       "      <td>2.400000e+00</td>\n",
       "      <td>49.992625</td>\n",
       "      <td>49.997473</td>\n",
       "      <td>49.993810</td>\n",
       "      <td>48.755092</td>\n",
       "      <td>-2985.386433</td>\n",
       "      <td>49.994607</td>\n",
       "      <td>51.205763</td>\n",
       "      <td>2899.167659</td>\n",
       "      <td>61.792731</td>\n",
       "    </tr>\n",
       "    <tr>\n",
       "      <th>50%</th>\n",
       "      <td>50</td>\n",
       "      <td>50</td>\n",
       "      <td>48.8</td>\n",
       "      <td>50</td>\n",
       "      <td>51.2</td>\n",
       "      <td>50</td>\n",
       "      <td>0</td>\n",
       "      <td>100</td>\n",
       "      <td>2.400000e+00</td>\n",
       "      <td>50.001457</td>\n",
       "      <td>50.000392</td>\n",
       "      <td>49.999871</td>\n",
       "      <td>48.780118</td>\n",
       "      <td>-2965.823988</td>\n",
       "      <td>50.001863</td>\n",
       "      <td>51.221494</td>\n",
       "      <td>2960.047035</td>\n",
       "      <td>64.274548</td>\n",
       "    </tr>\n",
       "    <tr>\n",
       "      <th>75%</th>\n",
       "      <td>50</td>\n",
       "      <td>50</td>\n",
       "      <td>48.8</td>\n",
       "      <td>50</td>\n",
       "      <td>51.2</td>\n",
       "      <td>50</td>\n",
       "      <td>0</td>\n",
       "      <td>100</td>\n",
       "      <td>2.400000e+00</td>\n",
       "      <td>50.009076</td>\n",
       "      <td>50.012264</td>\n",
       "      <td>50.010248</td>\n",
       "      <td>48.798724</td>\n",
       "      <td>-2889.515835</td>\n",
       "      <td>50.009522</td>\n",
       "      <td>51.263455</td>\n",
       "      <td>2978.061100</td>\n",
       "      <td>69.070304</td>\n",
       "    </tr>\n",
       "    <tr>\n",
       "      <th>max</th>\n",
       "      <td>50</td>\n",
       "      <td>50</td>\n",
       "      <td>48.8</td>\n",
       "      <td>50</td>\n",
       "      <td>51.2</td>\n",
       "      <td>50</td>\n",
       "      <td>0</td>\n",
       "      <td>100</td>\n",
       "      <td>2.400000e+00</td>\n",
       "      <td>50.017100</td>\n",
       "      <td>50.022122</td>\n",
       "      <td>50.020515</td>\n",
       "      <td>48.851352</td>\n",
       "      <td>-2828.132143</td>\n",
       "      <td>50.018828</td>\n",
       "      <td>51.293633</td>\n",
       "      <td>3077.344760</td>\n",
       "      <td>76.562597</td>\n",
       "    </tr>\n",
       "  </tbody>\n",
       "</table>\n",
       "</div></span>"
      ],
      "text/plain": [
       "<__main__.sizeme instance at 0x11311fea8>"
      ]
     },
     "execution_count": 19,
     "metadata": {},
     "output_type": "execute_result"
    }
   ],
   "source": [
    "sizeme(df.describe())"
   ]
  },
  {
   "cell_type": "markdown",
   "metadata": {},
   "source": [
    "Test: do 10 repetitions at slowing increasing separations. This will probably fail due to exceptions being raised. Note these are all horizontally-aligned dipoles.\n",
    "\n",
    "### Horizontally-aligned dipoles with increasing separation"
   ]
  },
  {
   "cell_type": "code",
   "execution_count": 20,
   "metadata": {
    "collapsed": false
   },
   "outputs": [],
   "source": [
    "results = [makeDipoleAndTestDipoleFit(w=100, h=100, xc=50., yc=50., psfWidth=2.0, separation=sep, rotAngle=0.0, scaling = 100.0)\n",
    "          for i in xrange(10) for sep in np.arange(0.2,5.0,0.2)]"
   ]
  },
  {
   "cell_type": "code",
   "execution_count": 21,
   "metadata": {
    "collapsed": false
   },
   "outputs": [
    {
     "data": {
      "text/html": [
       "<span style=\"font-size:50%; line-height:120%\"><div>\n",
       "<table border=\"1\" class=\"dataframe\">\n",
       "  <thead>\n",
       "    <tr style=\"text-align: right;\">\n",
       "      <th></th>\n",
       "      <th>inputCentroidX</th>\n",
       "      <th>inputCentroidY</th>\n",
       "      <th>inputNegCentroidX</th>\n",
       "      <th>inputNegCentroidY</th>\n",
       "      <th>inputPosCentroidX</th>\n",
       "      <th>inputPosCentroidY</th>\n",
       "      <th>inputRotation</th>\n",
       "      <th>inputScaling</th>\n",
       "      <th>inputSeparation</th>\n",
       "      <th>psfFitCentroidX</th>\n",
       "      <th>psfFitCentroidY</th>\n",
       "      <th>psfFitNegCentroidX</th>\n",
       "      <th>psfFitNegCentroidY</th>\n",
       "      <th>psfFitNegFlux</th>\n",
       "      <th>psfFitOrientation</th>\n",
       "      <th>psfFitPosCentroidX</th>\n",
       "      <th>psfFitPosCentroidY</th>\n",
       "      <th>psfFitPosFlux</th>\n",
       "      <th>psfFitSignaltoNoise</th>\n",
       "    </tr>\n",
       "  </thead>\n",
       "  <tbody>\n",
       "    <tr>\n",
       "      <th>0</th>\n",
       "      <td>50</td>\n",
       "      <td>50</td>\n",
       "      <td>49.9</td>\n",
       "      <td>50</td>\n",
       "      <td>50.1</td>\n",
       "      <td>50</td>\n",
       "      <td>0</td>\n",
       "      <td>100</td>\n",
       "      <td>0.2</td>\n",
       "      <td>50.191661</td>\n",
       "      <td>49.879897</td>\n",
       "      <td>50.247647</td>\n",
       "      <td>48.498550</td>\n",
       "      <td>-244.996578</td>\n",
       "      <td>-0.0405072 rad</td>\n",
       "      <td>50.135676</td>\n",
       "      <td>51.261243</td>\n",
       "      <td>228.027029</td>\n",
       "      <td>7.709870</td>\n",
       "    </tr>\n",
       "    <tr>\n",
       "      <th>1</th>\n",
       "      <td>50</td>\n",
       "      <td>50</td>\n",
       "      <td>49.8</td>\n",
       "      <td>50</td>\n",
       "      <td>50.2</td>\n",
       "      <td>50</td>\n",
       "      <td>0</td>\n",
       "      <td>100</td>\n",
       "      <td>0.4</td>\n",
       "      <td>49.984667</td>\n",
       "      <td>50.030499</td>\n",
       "      <td>49.990011</td>\n",
       "      <td>49.559958</td>\n",
       "      <td>-1272.855424</td>\n",
       "      <td>-0.0113571 rad</td>\n",
       "      <td>49.979323</td>\n",
       "      <td>50.501040</td>\n",
       "      <td>1264.984801</td>\n",
       "      <td>3.588998</td>\n",
       "    </tr>\n",
       "    <tr>\n",
       "      <th>2</th>\n",
       "      <td>50</td>\n",
       "      <td>50</td>\n",
       "      <td>49.7</td>\n",
       "      <td>50</td>\n",
       "      <td>50.3</td>\n",
       "      <td>50</td>\n",
       "      <td>0</td>\n",
       "      <td>100</td>\n",
       "      <td>0.6</td>\n",
       "      <td>50.054267</td>\n",
       "      <td>50.018670</td>\n",
       "      <td>50.056987</td>\n",
       "      <td>49.505578</td>\n",
       "      <td>-1766.646480</td>\n",
       "      <td>-0.00530114 rad</td>\n",
       "      <td>50.051547</td>\n",
       "      <td>50.531762</td>\n",
       "      <td>1767.676159</td>\n",
       "      <td>5.024007</td>\n",
       "    </tr>\n",
       "    <tr>\n",
       "      <th>3</th>\n",
       "      <td>50</td>\n",
       "      <td>50</td>\n",
       "      <td>49.6</td>\n",
       "      <td>50</td>\n",
       "      <td>50.4</td>\n",
       "      <td>50</td>\n",
       "      <td>0</td>\n",
       "      <td>100</td>\n",
       "      <td>0.8</td>\n",
       "      <td>49.967853</td>\n",
       "      <td>49.980100</td>\n",
       "      <td>49.963708</td>\n",
       "      <td>49.661002</td>\n",
       "      <td>-3804.107547</td>\n",
       "      <td>0.0129888 rad</td>\n",
       "      <td>49.971998</td>\n",
       "      <td>50.299197</td>\n",
       "      <td>3801.541949</td>\n",
       "      <td>4.016100</td>\n",
       "    </tr>\n",
       "    <tr>\n",
       "      <th>4</th>\n",
       "      <td>50</td>\n",
       "      <td>50</td>\n",
       "      <td>49.5</td>\n",
       "      <td>50</td>\n",
       "      <td>50.5</td>\n",
       "      <td>50</td>\n",
       "      <td>0</td>\n",
       "      <td>100</td>\n",
       "      <td>1.0</td>\n",
       "      <td>50.069361</td>\n",
       "      <td>50.007845</td>\n",
       "      <td>50.072153</td>\n",
       "      <td>49.386277</td>\n",
       "      <td>-2477.610083</td>\n",
       "      <td>-0.0044928 rad</td>\n",
       "      <td>50.066568</td>\n",
       "      <td>50.629414</td>\n",
       "      <td>2482.215434</td>\n",
       "      <td>9.430096</td>\n",
       "    </tr>\n",
       "  </tbody>\n",
       "</table>\n",
       "</div></span>"
      ],
      "text/plain": [
       "<__main__.sizeme instance at 0x113d73878>"
      ]
     },
     "execution_count": 21,
     "metadata": {},
     "output_type": "execute_result"
    }
   ],
   "source": [
    "df = pd.DataFrame([res._asdict() for res in results])\n",
    "sizeme(df.head())"
   ]
  },
  {
   "cell_type": "code",
   "execution_count": 22,
   "metadata": {
    "collapsed": false
   },
   "outputs": [
    {
     "data": {
      "text/html": [
       "<span style=\"font-size:50%; line-height:120%\"><div>\n",
       "<table border=\"1\" class=\"dataframe\">\n",
       "  <thead>\n",
       "    <tr style=\"text-align: right;\">\n",
       "      <th></th>\n",
       "      <th>inputCentroidX</th>\n",
       "      <th>inputCentroidY</th>\n",
       "      <th>inputNegCentroidX</th>\n",
       "      <th>inputNegCentroidY</th>\n",
       "      <th>inputPosCentroidX</th>\n",
       "      <th>inputPosCentroidY</th>\n",
       "      <th>inputRotation</th>\n",
       "      <th>inputScaling</th>\n",
       "      <th>psfFitCentroidX</th>\n",
       "      <th>psfFitCentroidY</th>\n",
       "      <th>psfFitNegCentroidX</th>\n",
       "      <th>psfFitNegCentroidY</th>\n",
       "      <th>psfFitNegFlux</th>\n",
       "      <th>psfFitPosCentroidX</th>\n",
       "      <th>psfFitPosCentroidY</th>\n",
       "      <th>psfFitPosFlux</th>\n",
       "      <th>psfFitSignaltoNoise</th>\n",
       "    </tr>\n",
       "    <tr>\n",
       "      <th>inputSeparation</th>\n",
       "      <th></th>\n",
       "      <th></th>\n",
       "      <th></th>\n",
       "      <th></th>\n",
       "      <th></th>\n",
       "      <th></th>\n",
       "      <th></th>\n",
       "      <th></th>\n",
       "      <th></th>\n",
       "      <th></th>\n",
       "      <th></th>\n",
       "      <th></th>\n",
       "      <th></th>\n",
       "      <th></th>\n",
       "      <th></th>\n",
       "      <th></th>\n",
       "      <th></th>\n",
       "    </tr>\n",
       "  </thead>\n",
       "  <tbody>\n",
       "    <tr>\n",
       "      <th>0.2</th>\n",
       "      <td>50</td>\n",
       "      <td>50</td>\n",
       "      <td>49.9</td>\n",
       "      <td>50</td>\n",
       "      <td>50.1</td>\n",
       "      <td>50</td>\n",
       "      <td>0</td>\n",
       "      <td>100</td>\n",
       "      <td>50.032688</td>\n",
       "      <td>49.946974</td>\n",
       "      <td>50.027459</td>\n",
       "      <td>49.471029</td>\n",
       "      <td>-6780.052321</td>\n",
       "      <td>50.037916</td>\n",
       "      <td>50.422919</td>\n",
       "      <td>6777.071109</td>\n",
       "      <td>73.423798</td>\n",
       "    </tr>\n",
       "    <tr>\n",
       "      <th>0.4</th>\n",
       "      <td>50</td>\n",
       "      <td>50</td>\n",
       "      <td>49.8</td>\n",
       "      <td>50</td>\n",
       "      <td>50.2</td>\n",
       "      <td>50</td>\n",
       "      <td>0</td>\n",
       "      <td>100</td>\n",
       "      <td>49.984474</td>\n",
       "      <td>50.012452</td>\n",
       "      <td>49.980769</td>\n",
       "      <td>49.466478</td>\n",
       "      <td>-1268.131992</td>\n",
       "      <td>49.988178</td>\n",
       "      <td>50.558427</td>\n",
       "      <td>1271.881469</td>\n",
       "      <td>3.371775</td>\n",
       "    </tr>\n",
       "    <tr>\n",
       "      <th>0.6</th>\n",
       "      <td>50</td>\n",
       "      <td>50</td>\n",
       "      <td>49.7</td>\n",
       "      <td>50</td>\n",
       "      <td>50.3</td>\n",
       "      <td>50</td>\n",
       "      <td>0</td>\n",
       "      <td>100</td>\n",
       "      <td>50.010565</td>\n",
       "      <td>50.027424</td>\n",
       "      <td>50.013348</td>\n",
       "      <td>49.587081</td>\n",
       "      <td>-2146.201443</td>\n",
       "      <td>50.007782</td>\n",
       "      <td>50.467767</td>\n",
       "      <td>2149.064554</td>\n",
       "      <td>4.350056</td>\n",
       "    </tr>\n",
       "    <tr>\n",
       "      <th>0.8</th>\n",
       "      <td>50</td>\n",
       "      <td>50</td>\n",
       "      <td>49.6</td>\n",
       "      <td>50</td>\n",
       "      <td>50.4</td>\n",
       "      <td>50</td>\n",
       "      <td>0</td>\n",
       "      <td>100</td>\n",
       "      <td>49.996652</td>\n",
       "      <td>50.000839</td>\n",
       "      <td>49.995574</td>\n",
       "      <td>49.482147</td>\n",
       "      <td>-2500.724069</td>\n",
       "      <td>49.997729</td>\n",
       "      <td>50.519531</td>\n",
       "      <td>2500.945861</td>\n",
       "      <td>6.540664</td>\n",
       "    </tr>\n",
       "    <tr>\n",
       "      <th>1.0</th>\n",
       "      <td>50</td>\n",
       "      <td>50</td>\n",
       "      <td>49.5</td>\n",
       "      <td>50</td>\n",
       "      <td>50.5</td>\n",
       "      <td>50</td>\n",
       "      <td>0</td>\n",
       "      <td>100</td>\n",
       "      <td>49.999065</td>\n",
       "      <td>49.996004</td>\n",
       "      <td>49.999242</td>\n",
       "      <td>49.475472</td>\n",
       "      <td>-3032.504085</td>\n",
       "      <td>49.998888</td>\n",
       "      <td>50.516536</td>\n",
       "      <td>3033.806722</td>\n",
       "      <td>8.212137</td>\n",
       "    </tr>\n",
       "  </tbody>\n",
       "</table>\n",
       "</div></span>"
      ],
      "text/plain": [
       "<__main__.sizeme instance at 0x113dad830>"
      ]
     },
     "execution_count": 22,
     "metadata": {},
     "output_type": "execute_result"
    }
   ],
   "source": [
    "sizeme(df.groupby('inputSeparation').mean().head())"
   ]
  },
  {
   "cell_type": "code",
   "execution_count": 23,
   "metadata": {
    "collapsed": false
   },
   "outputs": [
    {
     "data": {
      "text/plain": [
       "<matplotlib.axes._subplots.AxesSubplot at 0x113d44c50>"
      ]
     },
     "execution_count": 23,
     "metadata": {},
     "output_type": "execute_result"
    },
    {
     "name": "stderr",
     "output_type": "stream",
     "text": [
      "/Users/dreiss/miniconda/lib/python2.7/site-packages/matplotlib/collections.py:590: FutureWarning: elementwise comparison failed; returning scalar instead, but in the future will perform elementwise comparison\n",
      "  if self._edgecolors == str('face'):\n"
     ]
    },
    {
     "data": {
      "image/png": "[encoded data removed]",
      "text/plain": [
       "<matplotlib.figure.Figure at 0x112b7b350>"
      ]
     },
     "metadata": {},
     "output_type": "display_data"
    }
   ],
   "source": [
    "tmp_df = df.groupby('inputSeparation').mean()\n",
    "tmp_df['inputSeparation'] = tmp_df.index.values\n",
    "tmp_df2 = df.groupby('inputSeparation').std() * 1.\n",
    "ax = tmp_df.plot(x='inputSeparation', y='psfFitPosCentroidY', kind='scatter', yerr=tmp_df2['psfFitPosCentroidY'], color='blue', label='pos')\n",
    "tmp_df.plot(x='inputSeparation', y='psfFitNegCentroidY', kind='scatter', yerr=tmp_df2['psfFitNegCentroidY'], color='red', label='neg', ax=ax)"
   ]
  },
  {
   "cell_type": "code",
   "execution_count": 24,
   "metadata": {
    "collapsed": true
   },
   "outputs": [],
   "source": [
    "df['diffCentroidPos'] = df.psfFitPosCentroidY - df.inputPosCentroidX\n",
    "df['diffCentroidNeg'] = df.psfFitNegCentroidY - df.inputNegCentroidX"
   ]
  },
  {
   "cell_type": "code",
   "execution_count": 25,
   "metadata": {
    "collapsed": false
   },
   "outputs": [
    {
     "data": {
      "text/plain": [
       "<matplotlib.axes._subplots.AxesSubplot at 0x112b7ba90>"
      ]
     },
     "execution_count": 25,
     "metadata": {},
     "output_type": "execute_result"
    },
    {
     "data": {
      "image/png": "[encoded data removed]",
      "text/plain": [
       "<matplotlib.figure.Figure at 0x113da2b90>"
      ]
     },
     "metadata": {},
     "output_type": "display_data"
    }
   ],
   "source": [
    "tmp_df = df.groupby('inputSeparation').mean()\n",
    "tmp_df['inputSeparation'] = tmp_df.index.values\n",
    "tmp_df2 = df.groupby('inputSeparation').std() * 1.\n",
    "ax = tmp_df.plot(x='inputSeparation', y='diffCentroidPos', kind='scatter', yerr=tmp_df2['diffCentroidPos'], color='blue', label='pos')\n",
    "tmp_df.plot(x='inputSeparation', y='diffCentroidNeg', kind='scatter', yerr=tmp_df2['diffCentroidNeg'], color='red', label='neg', ax=ax)"
   ]
  },
  {
   "cell_type": "code",
   "execution_count": 26,
   "metadata": {
    "collapsed": false
   },
   "outputs": [
    {
     "data": {
      "text/plain": [
       "<matplotlib.axes._subplots.AxesSubplot at 0x1134bb210>"
      ]
     },
     "execution_count": 26,
     "metadata": {},
     "output_type": "execute_result"
    },
    {
     "data": {
      "image/png": "[encoded data removed]",
      "text/plain": [
       "<matplotlib.figure.Figure at 0x11301fc90>"
      ]
     },
     "metadata": {},
     "output_type": "display_data"
    }
   ],
   "source": [
    "tmp_df = df.groupby('inputSeparation').mean()\n",
    "tmp_df['inputSeparation'] = tmp_df.index.values\n",
    "tmp_df2 = df.groupby('inputSeparation').std() * 1.\n",
    "ax = tmp_df.plot(x='inputSeparation', y='psfFitPosFlux', kind='scatter', yerr=tmp_df2['psfFitPosFlux'], color='blue', label='pos')\n",
    "tmp_df.plot(x='inputSeparation', y='psfFitNegFlux', kind='scatter', yerr=tmp_df2['psfFitNegFlux'], color='red', label='neg', ax=ax)"
   ]
  },
  {
   "cell_type": "markdown",
   "metadata": {},
   "source": [
    "Hmm, it looks like it sometime switches which is the pos- and neg- lobes. Let's take a closer look..."
   ]
  },
  {
   "cell_type": "code",
   "execution_count": 27,
   "metadata": {
    "collapsed": false
   },
   "outputs": [
    {
     "data": {
      "text/plain": [
       "inputCentroidX                     50\n",
       "inputCentroidY                     50\n",
       "inputNegCentroidX                49.9\n",
       "inputNegCentroidY                  50\n",
       "inputPosCentroidX                50.1\n",
       "inputPosCentroidY                  50\n",
       "inputRotation                       0\n",
       "inputScaling                      100\n",
       "inputSeparation                   0.2\n",
       "psfFitCentroidX               50.1917\n",
       "psfFitCentroidY               49.8799\n",
       "psfFitNegCentroidX            50.2476\n",
       "psfFitNegCentroidY            48.4985\n",
       "psfFitNegFlux                -244.997\n",
       "psfFitOrientation      -0.0405072 rad\n",
       "psfFitPosCentroidX            50.1357\n",
       "psfFitPosCentroidY            51.2612\n",
       "psfFitPosFlux                 228.027\n",
       "psfFitSignaltoNoise           7.70987\n",
       "diffCentroidPos               1.16124\n",
       "diffCentroidNeg              -1.40145\n",
       "Name: 0, dtype: object"
      ]
     },
     "execution_count": 27,
     "metadata": {},
     "output_type": "execute_result"
    }
   ],
   "source": [
    "df[df.psfFitPosFlux < 0.]\n",
    "df.ix[np.argmax(df.psfFitNegFlux)]"
   ]
  },
  {
   "cell_type": "markdown",
   "metadata": {},
   "source": [
    "OK, see notebook #3a. to see what might be going on (answer - it's just that at close separations for big FWHM, it's hard.)"
   ]
  },
  {
   "cell_type": "markdown",
   "metadata": {},
   "source": [
    "Try it again, this time setting different orientations as well. Next time we'll also test it as a function of scaling (source flux).\n",
    "\n",
    "### Different orientations"
   ]
  },
  {
   "cell_type": "code",
   "execution_count": 28,
   "metadata": {
    "collapsed": false
   },
   "outputs": [],
   "source": [
    "from joblib import Parallel, delayed  \n",
    "import multiprocessing\n",
    "\n",
    "## Cool, get argument names for the function, and turn it into a named tuple...\n",
    "varNames = makeDipoleAndTestDipoleFit.__code__.co_varnames[:makeDipoleAndTestDipoleFit.__code__.co_argcount]\n",
    "varTuple = namedtuple(\"varTuple\", varNames)\n",
    "\n",
    "orientations = np.arange(0.0, 360.0, 36.0)\n",
    "separations = np.arange(0.2, 5.0, 0.2)\n",
    "\n",
    "inputs = [varTuple(w=100, h=100, xc=50., yc=50., psfWidth=2.0, separation=sep, rotAngle=rot, \n",
    "                         scaling=100.0, verbose=False) for rot in orientations for sep in separations]\n",
    "\n",
    "def processInput(i):\n",
    "    #print i.separation, i.rotAngle\n",
    "    output = makeDipoleAndTestDipoleFit(w=i.w, h=i.h, xc=i.xc, yc=i.yc, psfWidth=i.psfWidth, separation=i.separation, \n",
    "                               rotAngle=i.rotAngle, scaling=i.scaling, verbose=i.verbose)\n",
    "    return output\n",
    "\n",
    "\n",
    "num_cores = 4 ##multiprocessing.cpu_count()\n",
    "##print num_cores\n",
    "\n",
    "# results2 = [makeDipoleAndTestDipoleFit(w=100, h=100, xc=50., yc=50., psfWidth=2.0, separation=sep, rotAngle=rot[i], \n",
    "#                                        scaling=100.0) for rot in orientations for sep in separations]\n",
    "results2 = Parallel(n_jobs=num_cores)(delayed(processInput)(i) for i in inputs)\n",
    "# results2 = [processInput(i) for i in inputs]"
   ]
  },
  {
   "cell_type": "code",
   "execution_count": 29,
   "metadata": {
    "collapsed": false
   },
   "outputs": [
    {
     "name": "stdout",
     "output_type": "stream",
     "text": [
      "(240, 19)\n"
     ]
    },
    {
     "data": {
      "text/html": [
       "<span style=\"font-size:50%; line-height:120%\"><div>\n",
       "<table border=\"1\" class=\"dataframe\">\n",
       "  <thead>\n",
       "    <tr style=\"text-align: right;\">\n",
       "      <th></th>\n",
       "      <th>inputCentroidX</th>\n",
       "      <th>inputCentroidY</th>\n",
       "      <th>inputNegCentroidX</th>\n",
       "      <th>inputNegCentroidY</th>\n",
       "      <th>inputPosCentroidX</th>\n",
       "      <th>inputPosCentroidY</th>\n",
       "      <th>inputRotation</th>\n",
       "      <th>inputScaling</th>\n",
       "      <th>inputSeparation</th>\n",
       "      <th>psfFitCentroidX</th>\n",
       "      <th>...</th>\n",
       "      <th>psfFitNegCentroidX</th>\n",
       "      <th>psfFitNegCentroidY</th>\n",
       "      <th>psfFitNegFlux</th>\n",
       "      <th>psfFitOrientation</th>\n",
       "      <th>psfFitPosCentroidX</th>\n",
       "      <th>psfFitPosCentroidY</th>\n",
       "      <th>psfFitPosFlux</th>\n",
       "      <th>psfFitSignaltoNoise</th>\n",
       "      <th>rmsCentroidPos</th>\n",
       "      <th>rmsCentroidNeg</th>\n",
       "    </tr>\n",
       "  </thead>\n",
       "  <tbody>\n",
       "    <tr>\n",
       "      <th>0</th>\n",
       "      <td>50</td>\n",
       "      <td>50</td>\n",
       "      <td>49.9</td>\n",
       "      <td>50</td>\n",
       "      <td>50.1</td>\n",
       "      <td>50</td>\n",
       "      <td>0</td>\n",
       "      <td>100</td>\n",
       "      <td>0.2</td>\n",
       "      <td>49.703915</td>\n",
       "      <td>...</td>\n",
       "      <td>49.717389</td>\n",
       "      <td>49.406270</td>\n",
       "      <td>-460.543329</td>\n",
       "      <td>-0.0204534 rad</td>\n",
       "      <td>49.690442</td>\n",
       "      <td>50.723525</td>\n",
       "      <td>471.820164</td>\n",
       "      <td>1.470839</td>\n",
       "      <td>0.696139</td>\n",
       "      <td>0.568892</td>\n",
       "    </tr>\n",
       "    <tr>\n",
       "      <th>1</th>\n",
       "      <td>50</td>\n",
       "      <td>50</td>\n",
       "      <td>49.8</td>\n",
       "      <td>50</td>\n",
       "      <td>50.2</td>\n",
       "      <td>50</td>\n",
       "      <td>0</td>\n",
       "      <td>100</td>\n",
       "      <td>0.4</td>\n",
       "      <td>49.844782</td>\n",
       "      <td>...</td>\n",
       "      <td>49.849628</td>\n",
       "      <td>49.581805</td>\n",
       "      <td>-1353.413830</td>\n",
       "      <td>-0.010851 rad</td>\n",
       "      <td>49.839937</td>\n",
       "      <td>50.474916</td>\n",
       "      <td>1363.293580</td>\n",
       "      <td>2.881179</td>\n",
       "      <td>0.318118</td>\n",
       "      <td>0.264992</td>\n",
       "    </tr>\n",
       "    <tr>\n",
       "      <th>2</th>\n",
       "      <td>50</td>\n",
       "      <td>50</td>\n",
       "      <td>49.7</td>\n",
       "      <td>50</td>\n",
       "      <td>50.3</td>\n",
       "      <td>50</td>\n",
       "      <td>0</td>\n",
       "      <td>100</td>\n",
       "      <td>0.6</td>\n",
       "      <td>49.895573</td>\n",
       "      <td>...</td>\n",
       "      <td>49.899273</td>\n",
       "      <td>49.560544</td>\n",
       "      <td>-1986.521194</td>\n",
       "      <td>-0.00808044 rad</td>\n",
       "      <td>49.891873</td>\n",
       "      <td>50.476328</td>\n",
       "      <td>1996.139879</td>\n",
       "      <td>4.259246</td>\n",
       "      <td>0.206840</td>\n",
       "      <td>0.172029</td>\n",
       "    </tr>\n",
       "    <tr>\n",
       "      <th>3</th>\n",
       "      <td>50</td>\n",
       "      <td>50</td>\n",
       "      <td>49.6</td>\n",
       "      <td>50</td>\n",
       "      <td>50.4</td>\n",
       "      <td>50</td>\n",
       "      <td>0</td>\n",
       "      <td>100</td>\n",
       "      <td>0.8</td>\n",
       "      <td>49.921592</td>\n",
       "      <td>...</td>\n",
       "      <td>49.924631</td>\n",
       "      <td>49.532299</td>\n",
       "      <td>-2532.341614</td>\n",
       "      <td>-0.00631416 rad</td>\n",
       "      <td>49.918554</td>\n",
       "      <td>50.494717</td>\n",
       "      <td>2541.839104</td>\n",
       "      <td>6.153843</td>\n",
       "      <td>0.124919</td>\n",
       "      <td>0.101311</td>\n",
       "    </tr>\n",
       "    <tr>\n",
       "      <th>4</th>\n",
       "      <td>50</td>\n",
       "      <td>50</td>\n",
       "      <td>49.5</td>\n",
       "      <td>50</td>\n",
       "      <td>50.5</td>\n",
       "      <td>50</td>\n",
       "      <td>0</td>\n",
       "      <td>100</td>\n",
       "      <td>1.0</td>\n",
       "      <td>49.962420</td>\n",
       "      <td>...</td>\n",
       "      <td>49.964212</td>\n",
       "      <td>49.466949</td>\n",
       "      <td>-2923.836534</td>\n",
       "      <td>-0.0033722 rad</td>\n",
       "      <td>49.960629</td>\n",
       "      <td>50.529376</td>\n",
       "      <td>2921.962115</td>\n",
       "      <td>8.179198</td>\n",
       "      <td>0.049123</td>\n",
       "      <td>0.048715</td>\n",
       "    </tr>\n",
       "  </tbody>\n",
       "</table>\n",
       "<p>5 rows × 21 columns</p>\n",
       "</div></span>"
      ],
      "text/plain": [
       "<__main__.sizeme instance at 0x1130acfc8>"
      ]
     },
     "execution_count": 29,
     "metadata": {},
     "output_type": "execute_result"
    }
   ],
   "source": [
    "df = pd.DataFrame([res._asdict() for res in results2])\n",
    "print df.shape\n",
    "df['rmsCentroidPos'] = np.sqrt((df.inputPosCentroidX - df.psfFitPosCentroidY)**2. + \\\n",
    "                               (df.inputPosCentroidY - df.psfFitPosCentroidX)**2.)\n",
    "\n",
    "df['rmsCentroidNeg'] = np.sqrt((df.inputNegCentroidX - df.psfFitNegCentroidY)**2. + \\\n",
    "                               (df.inputNegCentroidY - df.psfFitNegCentroidX)**2.)\n",
    "\n",
    "#df['rmsCentroidPos2'] = np.sqrt((df.inputPosCentroidX - df.psfFitPosCentroidX)**2. + \\\n",
    "#                               (df.inputPosCentroidY - df.psfFitPosCentroidY)**2.)\n",
    "#df['rmsCentroidNeg2'] = np.sqrt((df.inputNegCentroidX - df.psfFitNegCentroidX)**2. + \\\n",
    "#                               (df.inputNegCentroidY - df.psfFitNegCentroidY)**2.)\n",
    "sizeme(df.head())"
   ]
  },
  {
   "cell_type": "code",
   "execution_count": 30,
   "metadata": {
    "collapsed": false
   },
   "outputs": [
    {
     "data": {
      "text/plain": [
       "<matplotlib.axes._subplots.AxesSubplot at 0x11302c050>"
      ]
     },
     "execution_count": 30,
     "metadata": {},
     "output_type": "execute_result"
    },
    {
     "data": {
      "image/png": "[encoded data removed]",
      "text/plain": [
       "<matplotlib.figure.Figure at 0x113140d10>"
      ]
     },
     "metadata": {},
     "output_type": "display_data"
    }
   ],
   "source": [
    "tmp_df = df.groupby('inputSeparation').mean()\n",
    "tmp_df['inputSeparation'] = tmp_df.index.values\n",
    "tmp_df2 = df.groupby('inputSeparation').std() * 1.\n",
    "ax = tmp_df.plot(x='inputSeparation', y='rmsCentroidPos', kind='scatter', yerr=tmp_df2['rmsCentroidPos'], color='blue', label='pos')\n",
    "tmp_df.plot(x='inputSeparation', y='rmsCentroidNeg', kind='scatter', yerr=tmp_df2['rmsCentroidNeg'], color='red', label='neg', ax=ax)"
   ]
  },
  {
   "cell_type": "code",
   "execution_count": 31,
   "metadata": {
    "collapsed": false
   },
   "outputs": [
    {
     "data": {
      "text/plain": [
       "<matplotlib.axes._subplots.AxesSubplot at 0x1133aa2d0>"
      ]
     },
     "execution_count": 31,
     "metadata": {},
     "output_type": "execute_result"
    },
    {
     "data": {
      "image/png": "[encoded data removed]",
      "text/plain": [
       "<matplotlib.figure.Figure at 0x112bcaf50>"
      ]
     },
     "metadata": {},
     "output_type": "display_data"
    }
   ],
   "source": [
    "tmp_df = df.groupby('inputSeparation').mean()\n",
    "tmp_df['inputSeparation'] = tmp_df.index.values\n",
    "tmp_df2 = df.groupby('inputSeparation').std() * 1.\n",
    "ax = tmp_df.plot(x='inputSeparation', y='psfFitPosFlux', kind='scatter', yerr=tmp_df2['psfFitPosFlux'], color='blue', label='pos')\n",
    "tmp_df.plot(x='inputSeparation', y='psfFitNegFlux', kind='scatter', yerr=tmp_df2['psfFitNegFlux'], color='red', label='neg', ax=ax)"
   ]
  },
  {
   "cell_type": "markdown",
   "metadata": {},
   "source": [
    "### Try it for smaller PSF FWHM..."
   ]
  },
  {
   "cell_type": "code",
   "execution_count": null,
   "metadata": {
    "collapsed": false
   },
   "outputs": [],
   "source": [
    "#from joblib import Parallel, delayed  \n",
    "#import multiprocessing\n",
    "\n",
    "## Cool, get argument names for the function, and turn it into a named tuple...\n",
    "varNames = makeDipoleAndTestDipoleFit.__code__.co_varnames[:makeDipoleAndTestDipoleFit.__code__.co_argcount]\n",
    "varTuple = namedtuple(\"varTuple\", varNames)\n",
    "\n",
    "orientations = np.arange(0.0, 360.0, 36.0)\n",
    "separations = np.arange(0.2, 5.0, 0.2)\n",
    "\n",
    "inputs = [varTuple(w=100, h=100, xc=50., yc=50., psfWidth=1.5, separation=sep, rotAngle=rot, \n",
    "                         scaling=100.0, verbose=False) for rot in orientations for sep in separations]\n",
    "\n",
    "def processInput(i):\n",
    "    #print i.separation, i.rotAngle\n",
    "    output = makeDipoleAndTestDipoleFit(w=i.w, h=i.h, xc=i.xc, yc=i.yc, psfWidth=i.psfWidth, separation=i.separation, \n",
    "                               rotAngle=i.rotAngle, scaling=i.scaling, verbose=i.verbose)\n",
    "    return output\n",
    "\n",
    "\n",
    "num_cores = 4 ##multiprocessing.cpu_count()\n",
    "##print num_cores\n",
    "\n",
    "# results3 = [makeDipoleAndTestDipoleFit(w=100, h=100, xc=50., yc=50., psfWidth=2.0, separation=sep, rotAngle=rot[i], \n",
    "#                                        scaling=100.0) for rot in orientations for sep in separations]\n",
    "results3 = Parallel(n_jobs=num_cores)(delayed(processInput)(i) for i in inputs)\n",
    "# results3 = [processInput(i) for i in inputs]"
   ]
  },
  {
   "cell_type": "code",
   "execution_count": 33,
   "metadata": {
    "collapsed": false
   },
   "outputs": [
    {
     "name": "stdout",
     "output_type": "stream",
     "text": [
      "(240, 19)\n"
     ]
    },
    {
     "data": {
      "text/plain": [
       "<matplotlib.axes._subplots.AxesSubplot at 0x1141b1350>"
      ]
     },
     "execution_count": 33,
     "metadata": {},
     "output_type": "execute_result"
    },
    {
     "data": {
      "image/png": "[encoded data removed]",
      "text/plain": [
       "<matplotlib.figure.Figure at 0x11405d610>"
      ]
     },
     "metadata": {},
     "output_type": "display_data"
    }
   ],
   "source": [
    "df = pd.DataFrame([res._asdict() for res in results3])\n",
    "print df.shape\n",
    "df['rmsCentroidPos'] = np.sqrt((df.inputPosCentroidX - df.psfFitPosCentroidY)**2. + \\\n",
    "                               (df.inputPosCentroidY - df.psfFitPosCentroidX)**2.)\n",
    "\n",
    "df['rmsCentroidNeg'] = np.sqrt((df.inputNegCentroidX - df.psfFitNegCentroidY)**2. + \\\n",
    "                               (df.inputNegCentroidY - df.psfFitNegCentroidX)**2.)\n",
    "\n",
    "#df['rmsCentroidPos2'] = np.sqrt((df.inputPosCentroidX - df.psfFitPosCentroidX)**2. + \\\n",
    "#                               (df.inputPosCentroidY - df.psfFitPosCentroidY)**2.)\n",
    "#df['rmsCentroidNeg2'] = np.sqrt((df.inputNegCentroidX - df.psfFitNegCentroidX)**2. + \\\n",
    "#                               (df.inputNegCentroidY - df.psfFitNegCentroidY)**2.)\n",
    "\n",
    "tmp_df = df.groupby('inputSeparation').mean()\n",
    "tmp_df['inputSeparation'] = tmp_df.index.values\n",
    "tmp_df2 = df.groupby('inputSeparation').std() * 1.\n",
    "ax = tmp_df.plot(x='inputSeparation', y='rmsCentroidPos', kind='scatter', yerr=tmp_df2['rmsCentroidPos'], color='blue', label='pos')\n",
    "tmp_df.plot(x='inputSeparation', y='rmsCentroidNeg', kind='scatter', yerr=tmp_df2['rmsCentroidNeg'], color='red', label='neg', ax=ax)"
   ]
  },
  {
   "cell_type": "code",
   "execution_count": 34,
   "metadata": {
    "collapsed": false
   },
   "outputs": [
    {
     "data": {
      "text/plain": [
       "<matplotlib.axes._subplots.AxesSubplot at 0x11406f550>"
      ]
     },
     "execution_count": 34,
     "metadata": {},
     "output_type": "execute_result"
    },
    {
     "data": {
      "image/png": "[encoded data removed]",
      "text/plain": [
       "<matplotlib.figure.Figure at 0x114007810>"
      ]
     },
     "metadata": {},
     "output_type": "display_data"
    }
   ],
   "source": [
    "tmp_df = df.groupby('inputSeparation').mean()\n",
    "tmp_df['inputSeparation'] = tmp_df.index.values\n",
    "tmp_df2 = df.groupby('inputSeparation').std() * 1.\n",
    "ax = tmp_df.plot(x='inputSeparation', y='psfFitPosFlux', kind='scatter', yerr=tmp_df2['psfFitPosFlux'], color='blue', label='pos')\n",
    "tmp_df.plot(x='inputSeparation', y='psfFitNegFlux', kind='scatter', yerr=tmp_df2['psfFitNegFlux'], color='red', label='neg', ax=ax)"
   ]
  },
  {
   "cell_type": "code",
   "execution_count": null,
   "metadata": {
    "collapsed": true
   },
   "outputs": [],
   "source": []
  }
 ],
 "metadata": {
  "kernelspec": {
   "display_name": "Python 2",
   "language": "python",
   "name": "python2"
  },
  "language_info": {
   "codemirror_mode": {
    "name": "ipython",
    "version": 2
   },
   "file_extension": ".py",
   "mimetype": "text/x-python",
   "name": "python",
   "nbconvert_exporter": "python",
   "pygments_lexer": "ipython2",
   "version": "2.7.10"
  }
 },
 "nbformat": 4,
 "nbformat_minor": 0
}
