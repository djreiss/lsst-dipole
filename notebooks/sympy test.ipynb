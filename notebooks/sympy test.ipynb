{
 "cells": [
  {
   "cell_type": "code",
   "execution_count": 52,
   "metadata": {
    "collapsed": true
   },
   "outputs": [],
   "source": [
    "%matplotlib inline\n",
    "#%matplotlib notebook\n",
    "import matplotlib.pyplot as plt\n",
    "\n",
    "import matplotlib\n",
    "matplotlib.style.use('ggplot')"
   ]
  },
  {
   "cell_type": "code",
   "execution_count": 39,
   "metadata": {
    "collapsed": false
   },
   "outputs": [],
   "source": [
    "from sympy.interactive import printing\n",
    "printing.init_printing(use_latex=True)\n",
    "\n",
    "from __future__ import division\n",
    "import sympy as sym\n",
    "import sympy\n",
    "\n",
    "sympy.init_printing()\n",
    "\n",
    "x,y,z=sympy.symbols(\"x y z\")\n",
    "k,m,n=sympy.symbols(\"k m n\", integer=True)"
   ]
  },
  {
   "cell_type": "code",
   "execution_count": 40,
   "metadata": {
    "collapsed": false
   },
   "outputs": [
    {
     "data": {
      "image/png": "[encoded data removed]",
      "text/latex": [
       "$$\\frac{x^{2}}{2 k} + \\frac{1}{4 \\pi^{2} k^{5}} \\sin{\\left (2 \\pi k^{2} x \\right )}$$"
      ],
      "text/plain": [
       "  2      ⎛     2  ⎞\n",
       " x    sin⎝2⋅π⋅k ⋅x⎠\n",
       "─── + ─────────────\n",
       "2⋅k         2  5   \n",
       "         4⋅π ⋅k    "
      ]
     },
     "execution_count": 40,
     "metadata": {},
     "output_type": "execute_result"
    }
   ],
   "source": [
    "t = sympy.sin(2*sympy.pi*x*(k**2))/ (4*(sympy.pi**2)*(k**5)) + (x**2) / (2*k)\n",
    "t"
   ]
  },
  {
   "cell_type": "code",
   "execution_count": 41,
   "metadata": {
    "collapsed": false
   },
   "outputs": [
    {
     "data": {
      "image/png": "[encoded data removed]",
      "text/latex": [
       "$$2 \\sqrt{2}$$"
      ],
      "text/plain": [
       "    ___\n",
       "2⋅╲╱ 2 "
      ]
     },
     "execution_count": 41,
     "metadata": {},
     "output_type": "execute_result"
    }
   ],
   "source": [
    "sympy.sqrt(8)"
   ]
  },
  {
   "cell_type": "code",
   "execution_count": 42,
   "metadata": {
    "collapsed": false
   },
   "outputs": [
    {
     "data": {
      "image/png": "[encoded data removed]",
      "text/latex": [
       "$$\\frac{\\sqrt{2}}{2 \\sqrt{\\pi}} e^{- \\frac{\\left(- m + x\\right)^{2}}{2 s^{2}}}$$"
      ],
      "text/plain": [
       "                2 \n",
       "       -(-m + x)  \n",
       "       ───────────\n",
       "              2   \n",
       "  ___      2⋅s    \n",
       "╲╱ 2 ⋅ℯ           \n",
       "──────────────────\n",
       "         ___      \n",
       "     2⋅╲╱ π       "
      ]
     },
     "execution_count": 42,
     "metadata": {},
     "output_type": "execute_result"
    }
   ],
   "source": [
    "x,m,s = sympy.symbols(\"x m s\")\n",
    "G = (1/sympy.sqrt(2*sympy.pi))*sympy.exp(-(x-m)**2/(2*s**2))\n",
    "G"
   ]
  },
  {
   "cell_type": "code",
   "execution_count": 32,
   "metadata": {
    "collapsed": false
   },
   "outputs": [
    {
     "data": {
      "image/png": "[encoded data removed]",
      "text/latex": [
       "$$0.398942280401433$$"
      ],
      "text/plain": [
       "0.398942280401433"
      ]
     },
     "execution_count": 32,
     "metadata": {},
     "output_type": "execute_result"
    }
   ],
   "source": [
    "G.evalf(subs={x: 0, m: 0, s: 1})"
   ]
  },
  {
   "cell_type": "code",
   "execution_count": 53,
   "metadata": {
    "collapsed": false
   },
   "outputs": [
    {
     "data": {
      "text/plain": [
       "[<matplotlib.lines.Line2D at 0x1096c6710>]"
      ]
     },
     "execution_count": 53,
     "metadata": {},
     "output_type": "execute_result"
    },
    {
     "data": {
      "image/png": "[encoded data removed]",
      "text/plain": [
       "<matplotlib.figure.Figure at 0x10961ad50>"
      ]
     },
     "metadata": {},
     "output_type": "display_data"
    }
   ],
   "source": [
    "import numpy as np\n",
    "qq = [G.evalf(subs={x: xx, m: 0, s: 1}) for xx in np.arange(-5,5,0.1)]\n",
    "plt.plot(qq)"
   ]
  },
  {
   "cell_type": "code",
   "execution_count": 60,
   "metadata": {
    "collapsed": false
   },
   "outputs": [
    {
     "data": {
      "image/png": "[encoded data removed]",
      "text/latex": [
       "$$- \\frac{\\sqrt{2}}{2 \\sqrt{\\pi}} e^{- \\frac{\\left(\\frac{m}{2} + x\\right)^{2}}{2 s^{2}}} + \\frac{\\sqrt{2}}{2 \\sqrt{\\pi}} e^{- \\frac{\\left(- \\frac{m}{2} + x\\right)^{2}}{2 s^{2}}}$$"
      ],
      "text/plain": [
       "                 2                     2 \n",
       "          ⎛m    ⎞             ⎛  m    ⎞  \n",
       "         -⎜─ + x⎟            -⎜- ─ + x⎟  \n",
       "          ⎝2    ⎠             ⎝  2    ⎠  \n",
       "         ──────────          ────────────\n",
       "               2                    2    \n",
       "    ___     2⋅s         ___      2⋅s     \n",
       "  ╲╱ 2 ⋅ℯ             ╲╱ 2 ⋅ℯ            \n",
       "- ───────────────── + ───────────────────\n",
       "           ___                  ___      \n",
       "       2⋅╲╱ π               2⋅╲╱ π       "
      ]
     },
     "execution_count": 60,
     "metadata": {},
     "output_type": "execute_result"
    }
   ],
   "source": [
    "DP = 1/sympy.sqrt(2*sympy.pi)*sympy.exp(-(x-m/2)**2/(2*s**2)) - \\\n",
    "     1/sympy.sqrt(2*sympy.pi)*sympy.exp(-(x+m/2)**2/(2*s**2))\n",
    "DP"
   ]
  },
  {
   "cell_type": "code",
   "execution_count": 69,
   "metadata": {
    "collapsed": false
   },
   "outputs": [
    {
     "data": {
      "image/png": "[encoded data removed]",
      "text/latex": [
       "$$- \\frac{\\sqrt{2} e^{- \\frac{x^{2}}{2 s^{2}}}}{2 \\sqrt{\\pi}} \\left(- e^{\\frac{m x}{2 s^{2}}} + e^{- \\frac{m x}{2 s^{2}}}\\right) e^{- \\frac{m^{2}}{8 s^{2}}}$$"
      ],
      "text/plain": [
       "                             2     2  \n",
       "       ⎛   m⋅x     -m⋅x ⎞  -m    -x   \n",
       "       ⎜   ────    ─────⎟  ────  ──── \n",
       "       ⎜      2        2⎟     2     2 \n",
       "   ___ ⎜   2⋅s      2⋅s ⎟  8⋅s   2⋅s  \n",
       "-╲╱ 2 ⋅⎝- ℯ     + ℯ     ⎠⋅ℯ    ⋅ℯ     \n",
       "──────────────────────────────────────\n",
       "                   ___                \n",
       "               2⋅╲╱ π                 "
      ]
     },
     "execution_count": 69,
     "metadata": {},
     "output_type": "execute_result"
    }
   ],
   "source": [
    "sympy.factor(DP)"
   ]
  },
  {
   "cell_type": "code",
   "execution_count": 74,
   "metadata": {
    "collapsed": false
   },
   "outputs": [
    {
     "data": {
      "image/png": "[encoded data removed]",
      "text/latex": [
       "$$\\frac{\\sqrt{2} e^{- \\frac{x^{2}}{2 s^{2}}}}{2 \\sqrt{\\pi}} \\left(e^{\\frac{m x}{s^{2}}} - 1\\right) e^{- \\frac{m^{2}}{8 s^{2}}} e^{- \\frac{m x}{2 s^{2}}}$$"
      ],
      "text/plain": [
       "                    2     2        \n",
       "      ⎛ m⋅x    ⎞  -m    -x    -m⋅x \n",
       "      ⎜ ───    ⎟  ────  ────  ─────\n",
       "      ⎜   2    ⎟     2     2      2\n",
       "  ___ ⎜  s     ⎟  8⋅s   2⋅s    2⋅s \n",
       "╲╱ 2 ⋅⎝ℯ    - 1⎠⋅ℯ    ⋅ℯ    ⋅ℯ     \n",
       "───────────────────────────────────\n",
       "                  ___              \n",
       "              2⋅╲╱ π               "
      ]
     },
     "execution_count": 74,
     "metadata": {},
     "output_type": "execute_result"
    }
   ],
   "source": [
    "sympy.factor(sympy.simplify(DP))"
   ]
  },
  {
   "cell_type": "code",
   "execution_count": 65,
   "metadata": {
    "collapsed": false
   },
   "outputs": [
    {
     "data": {
      "image/png": "[encoded data removed]",
      "text/latex": [
       "$$6.0 \\cdot 10^{-126}$$"
      ],
      "text/plain": [
       "0.e-125"
      ]
     },
     "execution_count": 65,
     "metadata": {},
     "output_type": "execute_result"
    }
   ],
   "source": [
    "DP.evalf(subs={x: 0, m: 1, s: 2})"
   ]
  },
  {
   "cell_type": "code",
   "execution_count": 68,
   "metadata": {
    "collapsed": false
   },
   "outputs": [
    {
     "data": {
      "text/plain": [
       "[<matplotlib.lines.Line2D at 0x10a274c50>]"
      ]
     },
     "execution_count": 68,
     "metadata": {},
     "output_type": "execute_result"
    },
    {
     "data": {
      "image/png": "[encoded data removed]",
      "text/plain": [
       "<matplotlib.figure.Figure at 0x10a006d90>"
      ]
     },
     "metadata": {},
     "output_type": "display_data"
    }
   ],
   "source": [
    "qq = [DP.evalf(subs={x: xx, m: 1, s: 2}) for xx in np.arange(-15,15,0.1)]\n",
    "plt.plot(np.arange(-15,15,0.1), qq)"
   ]
  },
  {
   "cell_type": "code",
   "execution_count": 76,
   "metadata": {
    "collapsed": false
   },
   "outputs": [
    {
     "data": {
      "image/png": "[encoded data removed]",
      "text/latex": [
       "$$- A e^{- \\frac{\\left(\\frac{m}{2} + x\\right)^{2}}{2 s^{2}}} + A e^{- \\frac{\\left(- \\frac{m}{2} + x\\right)^{2}}{2 s^{2}}}$$"
      ],
      "text/plain": [
       "             2                 2 \n",
       "      ⎛m    ⎞         ⎛  m    ⎞  \n",
       "     -⎜─ + x⎟        -⎜- ─ + x⎟  \n",
       "      ⎝2    ⎠         ⎝  2    ⎠  \n",
       "     ──────────      ────────────\n",
       "           2                2    \n",
       "        2⋅s              2⋅s     \n",
       "- A⋅ℯ           + A⋅ℯ            "
      ]
     },
     "execution_count": 76,
     "metadata": {},
     "output_type": "execute_result"
    }
   ],
   "source": [
    "x,A,m,s = sympy.symbols(\"x A m s\")\n",
    "DP = A*sympy.exp(-(x-m/2)**2/(2*s**2)) - \\\n",
    "     A*sympy.exp(-(x+m/2)**2/(2*s**2))\n",
    "DP"
   ]
  },
  {
   "cell_type": "code",
   "execution_count": 77,
   "metadata": {
    "collapsed": false
   },
   "outputs": [
    {
     "data": {
      "image/png": "[encoded data removed]",
      "text/latex": [
       "$$- A \\left(- e^{\\frac{m x}{2 s^{2}}} + e^{- \\frac{m x}{2 s^{2}}}\\right) e^{- \\frac{m^{2}}{8 s^{2}}} e^{- \\frac{x^{2}}{2 s^{2}}}$$"
      ],
      "text/plain": [
       "                         2     2 \n",
       "   ⎛   m⋅x     -m⋅x ⎞  -m    -x  \n",
       "   ⎜   ────    ─────⎟  ────  ────\n",
       "   ⎜      2        2⎟     2     2\n",
       "   ⎜   2⋅s      2⋅s ⎟  8⋅s   2⋅s \n",
       "-A⋅⎝- ℯ     + ℯ     ⎠⋅ℯ    ⋅ℯ    "
      ]
     },
     "execution_count": 77,
     "metadata": {},
     "output_type": "execute_result"
    }
   ],
   "source": [
    "sympy.factor(DP)"
   ]
  },
  {
   "cell_type": "code",
   "execution_count": 79,
   "metadata": {
    "collapsed": false
   },
   "outputs": [
    {
     "data": {
      "image/png": "[encoded data removed]",
      "text/latex": [
       "$$A \\left(e^{\\frac{m x}{s^{2}}} - 1\\right) e^{\\frac{1}{8 s^{2}} \\left(- m^{2} - 4 m x - 4 x^{2}\\right)}$$"
      ],
      "text/plain": [
       "                 2              2\n",
       "  ⎛ m⋅x    ⎞  - m  - 4⋅m⋅x - 4⋅x \n",
       "  ⎜ ───    ⎟  ───────────────────\n",
       "  ⎜   2    ⎟             2       \n",
       "  ⎜  s     ⎟          8⋅s        \n",
       "A⋅⎝ℯ    - 1⎠⋅ℯ                   "
      ]
     },
     "execution_count": 79,
     "metadata": {},
     "output_type": "execute_result"
    }
   ],
   "source": [
    "sympy.simplify(DP)"
   ]
  },
  {
   "cell_type": "code",
   "execution_count": 80,
   "metadata": {
    "collapsed": false
   },
   "outputs": [
    {
     "data": {
      "image/png": "[encoded data removed]",
      "text/latex": [
       "$$A \\left(e^{\\frac{m x}{s^{2}}} - 1\\right) e^{- \\frac{m^{2}}{8 s^{2}}} e^{- \\frac{x^{2}}{2 s^{2}}} e^{- \\frac{m x}{2 s^{2}}}$$"
      ],
      "text/plain": [
       "                2     2        \n",
       "  ⎛ m⋅x    ⎞  -m    -x    -m⋅x \n",
       "  ⎜ ───    ⎟  ────  ────  ─────\n",
       "  ⎜   2    ⎟     2     2      2\n",
       "  ⎜  s     ⎟  8⋅s   2⋅s    2⋅s \n",
       "A⋅⎝ℯ    - 1⎠⋅ℯ    ⋅ℯ    ⋅ℯ     "
      ]
     },
     "execution_count": 80,
     "metadata": {},
     "output_type": "execute_result"
    }
   ],
   "source": [
    "sympy.factor(sympy.simplify(DP))"
   ]
  },
  {
   "cell_type": "markdown",
   "metadata": {},
   "source": [
    "### simplify to normalized gaussian (sigma=1)"
   ]
  },
  {
   "cell_type": "code",
   "execution_count": 85,
   "metadata": {
    "collapsed": false
   },
   "outputs": [
    {
     "data": {
      "image/png": "[encoded data removed]",
      "text/latex": [
       "$$- F e^{- \\left(\\frac{s}{2} + x\\right)^{2}} + F e^{- \\left(- \\frac{s}{2} + x\\right)^{2}}$$"
      ],
      "text/plain": [
       "             2                2\n",
       "      ⎛s    ⎞        ⎛  s    ⎞ \n",
       "     -⎜─ + x⎟       -⎜- ─ + x⎟ \n",
       "      ⎝2    ⎠        ⎝  2    ⎠ \n",
       "- F⋅ℯ          + F⋅ℯ           "
      ]
     },
     "execution_count": 85,
     "metadata": {},
     "output_type": "execute_result"
    }
   ],
   "source": [
    "x,F,s = sympy.symbols(\"x F s\")\n",
    "DP = F*sympy.exp(-(x-s/2)**2) - \\\n",
    "     F*sympy.exp(-(x+s/2)**2)\n",
    "DP"
   ]
  },
  {
   "cell_type": "code",
   "execution_count": 86,
   "metadata": {
    "collapsed": false
   },
   "outputs": [
    {
     "data": {
      "image/png": "[encoded data removed]",
      "text/latex": [
       "$$F \\left(e^{2 s x} - 1\\right) e^{- \\frac{s^{2}}{4} - s x - x^{2}}$$"
      ],
      "text/plain": [
       "                   2           \n",
       "                  s           2\n",
       "                - ── - s⋅x - x \n",
       "  ⎛ 2⋅s⋅x    ⎞    4            \n",
       "F⋅⎝ℯ      - 1⎠⋅ℯ               "
      ]
     },
     "execution_count": 86,
     "metadata": {},
     "output_type": "execute_result"
    }
   ],
   "source": [
    "sympy.simplify(DP)"
   ]
  },
  {
   "cell_type": "code",
   "execution_count": 87,
   "metadata": {
    "collapsed": false
   },
   "outputs": [
    {
     "data": {
      "image/png": "[encoded data removed]",
      "text/latex": [
       "$$- F \\left(- e^{s x} + e^{- s x}\\right) e^{- \\frac{s^{2}}{4}} e^{- x^{2}}$$"
      ],
      "text/plain": [
       "                       2      \n",
       "                     -s       \n",
       "                     ────    2\n",
       "   ⎛   s⋅x    -s⋅x⎞   4    -x \n",
       "-F⋅⎝- ℯ    + ℯ    ⎠⋅ℯ    ⋅ℯ   "
      ]
     },
     "execution_count": 87,
     "metadata": {},
     "output_type": "execute_result"
    }
   ],
   "source": [
    "sympy.factor(DP)"
   ]
  },
  {
   "cell_type": "code",
   "execution_count": 88,
   "metadata": {
    "collapsed": false
   },
   "outputs": [
    {
     "data": {
      "image/png": "[encoded data removed]",
      "text/latex": [
       "$$F \\left(e^{s x} - 1\\right) \\left(e^{s x} + 1\\right) e^{- \\frac{s^{2}}{4}} e^{- x^{2}} e^{- s x}$$"
      ],
      "text/plain": [
       "                           2            \n",
       "                         -s             \n",
       "                         ────    2      \n",
       "  ⎛ s⋅x    ⎞ ⎛ s⋅x    ⎞   4    -x   -s⋅x\n",
       "F⋅⎝ℯ    - 1⎠⋅⎝ℯ    + 1⎠⋅ℯ    ⋅ℯ   ⋅ℯ    "
      ]
     },
     "execution_count": 88,
     "metadata": {},
     "output_type": "execute_result"
    }
   ],
   "source": [
    "sympy.factor(sympy.simplify(DP))"
   ]
  },
  {
   "cell_type": "code",
   "execution_count": 101,
   "metadata": {
    "collapsed": false
   },
   "outputs": [
    {
     "data": {
      "image/png": "[encoded data removed]",
      "text/latex": [
       "$$\\left(- F e^{\\frac{s^{2}}{4}} e^{\\frac{s_{2}^{2}}{2}} e^{s x} + F e^{\\frac{s^{2}}{4}} e^{\\frac{s_{2}^{2}}{2}} e^{- s x} + F_{2} e^{\\frac{s^{2}}{2}} e^{\\frac{s_{2}^{2}}{4}} e^{s_{2} x} - F_{2} e^{\\frac{s^{2}}{2}} e^{\\frac{s_{2}^{2}}{4}} e^{- s_{2} x}\\right) e^{- \\frac{s^{2}}{2}} e^{- \\frac{s_{2}^{2}}{2}} e^{- x^{2}}$$"
      ],
      "text/plain": [
       "⎛      2    2            2    2              2    2              2    2       \n",
       "⎜     s   s₂            s   s₂              s   s₂              s   s₂        \n",
       "⎜     ──  ───           ──  ───             ──  ───             ──  ───       \n",
       "⎜     4    2   s⋅x      4    2   -s⋅x       2    4   s₂⋅x       2    4   -s₂⋅x\n",
       "⎝- F⋅ℯ  ⋅ℯ   ⋅ℯ    + F⋅ℯ  ⋅ℯ   ⋅ℯ     + F₂⋅ℯ  ⋅ℯ   ⋅ℯ     - F₂⋅ℯ  ⋅ℯ   ⋅ℯ     \n",
       "\n",
       "⎞    2      2      \n",
       "⎟  -s    -s₂       \n",
       "⎟  ────  ─────    2\n",
       "⎟   2      2    -x \n",
       "⎠⋅ℯ    ⋅ℯ     ⋅ℯ   "
      ]
     },
     "execution_count": 101,
     "metadata": {},
     "output_type": "execute_result"
    }
   ],
   "source": [
    "x,F2,s2 = sympy.symbols(\"x F2 s2\")\n",
    "DP2 = F2*sympy.exp(-(x-s2/2)**2) - \\\n",
    "      F2*sympy.exp(-(x+s2/2)**2)\n",
    "sympy.factor(DP2 - DP)"
   ]
  },
  {
   "cell_type": "code",
   "execution_count": 124,
   "metadata": {
    "collapsed": false
   },
   "outputs": [
    {
     "data": {
      "image/png": "[encoded data removed]",
      "text/latex": [
       "$$\\frac{F_{2} \\left(e^{s_{2} x} - 1\\right)^{2} \\left(e^{s_{2} x} + 1\\right)^{2} e^{\\frac{s^{2}}{2}} e^{- \\frac{s_{2}^{2}}{2}} e^{- 2 s_{2} x}}{F \\left(e^{s x} - 1\\right)^{2} \\left(e^{s x} + 1\\right)^{2}} e^{2 s x}$$"
      ],
      "text/plain": [
       "                               2     2                 \n",
       "                              s   -s₂                  \n",
       "              2            2  ──  ─────                \n",
       "   ⎛ s₂⋅x    ⎞  ⎛ s₂⋅x    ⎞   2     2    2⋅s⋅x  -2⋅s₂⋅x\n",
       "F₂⋅⎝ℯ     - 1⎠ ⋅⎝ℯ     + 1⎠ ⋅ℯ  ⋅ℯ     ⋅ℯ     ⋅ℯ       \n",
       "───────────────────────────────────────────────────────\n",
       "                           2           2               \n",
       "                 ⎛ s⋅x    ⎞  ⎛ s⋅x    ⎞                \n",
       "               F⋅⎝ℯ    - 1⎠ ⋅⎝ℯ    + 1⎠                "
      ]
     },
     "execution_count": 124,
     "metadata": {},
     "output_type": "execute_result"
    }
   ],
   "source": [
    "sympy.factor(sympy.simplify(sympy.solve(DP - DP2, F)[0] / sympy.solve(DP - DP2, F2)[0]))"
   ]
  },
  {
   "cell_type": "code",
   "execution_count": 123,
   "metadata": {
    "collapsed": false
   },
   "outputs": [
    {
     "data": {
      "image/png": "[encoded data removed]",
      "text/latex": [
       "$$\\left(- F e^{\\frac{s}{4} \\left(- s + 4 x\\right)} + F e^{- \\frac{s}{4} \\left(s + 4 x\\right)} + F_{2} e^{\\frac{s_{2}}{4} \\left(- s_{2} + 4 x\\right)} - F_{2} e^{- \\frac{s_{2}}{4} \\left(s_{2} + 4 x\\right)}\\right) e^{- x^{2}}$$"
      ],
      "text/plain": [
       "⎛     s⋅(-s + 4⋅x)      -s⋅(s + 4⋅x)        s₂⋅(-s₂ + 4⋅x)       -s₂⋅(s₂ + 4⋅x\n",
       "⎜     ────────────      ─────────────       ──────────────       ─────────────\n",
       "⎜          4                  4                   4                     4     \n",
       "⎝- F⋅ℯ             + F⋅ℯ              + F₂⋅ℯ               - F₂⋅ℯ             \n",
       "\n",
       ") ⎞     \n",
       "──⎟    2\n",
       "  ⎟  -x \n",
       "  ⎠⋅ℯ   "
      ]
     },
     "execution_count": 123,
     "metadata": {},
     "output_type": "execute_result"
    }
   ],
   "source": [
    "sympy.logcombine(sympy.simplify(sympy.expand_log(DP2 - DP)))"
   ]
  },
  {
   "cell_type": "code",
   "execution_count": null,
   "metadata": {
    "collapsed": true
   },
   "outputs": [],
   "source": []
  }
 ],
 "metadata": {
  "kernelspec": {
   "display_name": "Python 2",
   "language": "python",
   "name": "python2"
  },
  "language_info": {
   "codemirror_mode": {
    "name": "ipython",
    "version": 2
   },
   "file_extension": ".py",
   "mimetype": "text/x-python",
   "name": "python",
   "nbconvert_exporter": "python",
   "pygments_lexer": "ipython2",
   "version": "2.7.11"
  }
 },
 "nbformat": 4,
 "nbformat_minor": 0
}
