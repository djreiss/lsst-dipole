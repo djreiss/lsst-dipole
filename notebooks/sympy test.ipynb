{
 "cells": [
  {
   "cell_type": "markdown",
   "metadata": {},
   "source": [
    "Write down something like:\n",
    "\n",
    "$D_1 = F_1 G(-s/2) - F_1 G(+s/2)$\n",
    "\n",
    "$D_2 = F_2 G(-s'/2) - F_2 G(+s'/2)$\n",
    "\n",
    "Where $G(x)$ is a normalized Gaussian centered at $x$.\n",
    "\n",
    "Setting $D_1 = D_2$ (in the case where the two signatures are the same):\n",
    "\n",
    "$F_1 [G(-s/2) - G(+s/2)] = F_2 [G(-s'/2) - G(+s'/2)]$\n",
    "\n",
    "or\n",
    "\n",
    "$F_1/F_2 = \\frac{[G(-s'/2) - G(+s'/2)]}{[G(-s/2) - G(+s/2)]}$\n",
    "\n",
    "Then you solve for $F_1/F_2$ as a function of $s$ and $s'$ (maybe by expanding in a Taylor series). "
   ]
  },
  {
   "cell_type": "code",
   "execution_count": 1,
   "metadata": {
    "collapsed": true
   },
   "outputs": [],
   "source": [
    "%matplotlib inline\n",
    "#%matplotlib notebook\n",
    "import matplotlib.pyplot as plt\n",
    "\n",
    "import matplotlib\n",
    "matplotlib.style.use('ggplot')"
   ]
  },
  {
   "cell_type": "code",
   "execution_count": 2,
   "metadata": {
    "collapsed": false
   },
   "outputs": [],
   "source": [
    "from sympy.interactive import printing\n",
    "printing.init_printing(use_latex=True)\n",
    "\n",
    "from __future__ import division\n",
    "import sympy as sym\n",
    "import sympy\n",
    "\n",
    "sympy.init_printing()\n",
    "\n",
    "x,y,z=sympy.symbols(\"x y z\")\n",
    "k,m,n=sympy.symbols(\"k m n\", integer=True)"
   ]
  },
  {
   "cell_type": "code",
   "execution_count": 3,
   "metadata": {
    "collapsed": false
   },
   "outputs": [
    {
     "data": {
      "image/png": "[encoded data removed]",
      "text/latex": [
       "$$\\frac{x^{2}}{2 k} + \\frac{1}{4 \\pi^{2} k^{5}} \\sin{\\left (2 \\pi k^{2} x \\right )}$$"
      ],
      "text/plain": [
       "  2      ⎛     2  ⎞\n",
       " x    sin⎝2⋅π⋅k ⋅x⎠\n",
       "─── + ─────────────\n",
       "2⋅k         2  5   \n",
       "         4⋅π ⋅k    "
      ]
     },
     "execution_count": 3,
     "metadata": {},
     "output_type": "execute_result"
    }
   ],
   "source": [
    "t = sympy.sin(2*sympy.pi*x*(k**2))/ (4*(sympy.pi**2)*(k**5)) + (x**2) / (2*k)\n",
    "t"
   ]
  },
  {
   "cell_type": "code",
   "execution_count": 4,
   "metadata": {
    "collapsed": false
   },
   "outputs": [
    {
     "data": {
      "image/png": "[encoded data removed]",
      "text/latex": [
       "$$2 \\sqrt{2}$$"
      ],
      "text/plain": [
       "    ___\n",
       "2⋅╲╱ 2 "
      ]
     },
     "execution_count": 4,
     "metadata": {},
     "output_type": "execute_result"
    }
   ],
   "source": [
    "sympy.sqrt(8)"
   ]
  },
  {
   "cell_type": "code",
   "execution_count": 5,
   "metadata": {
    "collapsed": false
   },
   "outputs": [
    {
     "data": {
      "image/png": "[encoded data removed]",
      "text/latex": [
       "$$F e^{- \\frac{\\left(- m + x\\right)^{2}}{2 s^{2}}}$$"
      ],
      "text/plain": [
       "            2 \n",
       "   -(-m + x)  \n",
       "   ───────────\n",
       "          2   \n",
       "       2⋅s    \n",
       "F⋅ℯ           "
      ]
     },
     "execution_count": 5,
     "metadata": {},
     "output_type": "execute_result"
    }
   ],
   "source": [
    "x,F,m,s = sympy.symbols(\"x F m s\")\n",
    "G = F * sympy.exp(-(x-m)**2/(2*s**2))\n",
    "G"
   ]
  },
  {
   "cell_type": "code",
   "execution_count": 6,
   "metadata": {
    "collapsed": false
   },
   "outputs": [
    {
     "data": {
      "image/png": "[encoded data removed]",
      "text/latex": [
       "$$1.0$$"
      ],
      "text/plain": [
       "1.00000000000000"
      ]
     },
     "execution_count": 6,
     "metadata": {},
     "output_type": "execute_result"
    }
   ],
   "source": [
    "G.evalf(subs={x: 0, F: 1, m: 0, s: 1})"
   ]
  },
  {
   "cell_type": "code",
   "execution_count": 7,
   "metadata": {
    "collapsed": false
   },
   "outputs": [
    {
     "data": {
      "text/plain": [
       "[<matplotlib.lines.Line2D at 0x109ce0c90>]"
      ]
     },
     "execution_count": 7,
     "metadata": {},
     "output_type": "execute_result"
    },
    {
     "data": {
      "image/png": "[encoded data removed]",
      "text/plain": [
       "<matplotlib.figure.Figure at 0x109c54dd0>"
      ]
     },
     "metadata": {},
     "output_type": "display_data"
    }
   ],
   "source": [
    "import numpy as np\n",
    "qq = [G.evalf(subs={x: xx, F: 1, m: 0, s: 1}) for xx in np.arange(-5,5,0.1)]\n",
    "plt.plot(qq)"
   ]
  },
  {
   "cell_type": "code",
   "execution_count": 8,
   "metadata": {
    "collapsed": false
   },
   "outputs": [
    {
     "data": {
      "image/png": "[encoded data removed]",
      "text/latex": [
       "$$- F e^{- \\frac{\\left(\\frac{m}{2} + x\\right)^{2}}{2 s^{2}}} + F e^{- \\frac{\\left(- \\frac{m}{2} + x\\right)^{2}}{2 s^{2}}}$$"
      ],
      "text/plain": [
       "             2                 2 \n",
       "      ⎛m    ⎞         ⎛  m    ⎞  \n",
       "     -⎜─ + x⎟        -⎜- ─ + x⎟  \n",
       "      ⎝2    ⎠         ⎝  2    ⎠  \n",
       "     ──────────      ────────────\n",
       "           2                2    \n",
       "        2⋅s              2⋅s     \n",
       "- F⋅ℯ           + F⋅ℯ            "
      ]
     },
     "execution_count": 8,
     "metadata": {},
     "output_type": "execute_result"
    }
   ],
   "source": [
    "#DP = 1/sympy.sqrt(2*sympy.pi)*sympy.exp(-(x-m/2)**2/(2*s**2)) - \\\n",
    "#     1/sympy.sqrt(2*sympy.pi)*sympy.exp(-(x+m/2)**2/(2*s**2))\n",
    "x,F,m,s = sympy.symbols(\"x F m s\")\n",
    "\n",
    "D = G.subs(m, +m/2) - G.subs(m, -m/2)\n",
    "D"
   ]
  },
  {
   "cell_type": "code",
   "execution_count": 9,
   "metadata": {
    "collapsed": false
   },
   "outputs": [
    {
     "data": {
      "text/plain": [
       "[<matplotlib.lines.Line2D at 0x109f78a10>]"
      ]
     },
     "execution_count": 9,
     "metadata": {},
     "output_type": "execute_result"
    },
    {
     "data": {
      "image/png": "[encoded data removed]",
      "text/plain": [
       "<matplotlib.figure.Figure at 0x109d76dd0>"
      ]
     },
     "metadata": {},
     "output_type": "display_data"
    }
   ],
   "source": [
    "qq = [D.evalf(subs={x: xx, F: 1, m: 1, s: 1}) for xx in np.arange(-5,5,0.1)]\n",
    "plt.plot(qq)"
   ]
  },
  {
   "cell_type": "code",
   "execution_count": 10,
   "metadata": {
    "collapsed": false
   },
   "outputs": [
    {
     "data": {
      "image/png": "[encoded data removed]",
      "text/latex": [
       "$$- F \\left(- e^{\\frac{m x}{2 s^{2}}} + e^{- \\frac{m x}{2 s^{2}}}\\right) e^{- \\frac{m^{2}}{8 s^{2}}} e^{- \\frac{x^{2}}{2 s^{2}}}$$"
      ],
      "text/plain": [
       "                         2     2 \n",
       "   ⎛   m⋅x     -m⋅x ⎞  -m    -x  \n",
       "   ⎜   ────    ─────⎟  ────  ────\n",
       "   ⎜      2        2⎟     2     2\n",
       "   ⎜   2⋅s      2⋅s ⎟  8⋅s   2⋅s \n",
       "-F⋅⎝- ℯ     + ℯ     ⎠⋅ℯ    ⋅ℯ    "
      ]
     },
     "execution_count": 10,
     "metadata": {},
     "output_type": "execute_result"
    }
   ],
   "source": [
    "sympy.factor(D)"
   ]
  },
  {
   "cell_type": "code",
   "execution_count": 11,
   "metadata": {
    "collapsed": false
   },
   "outputs": [
    {
     "data": {
      "image/png": "[encoded data removed]",
      "text/latex": [
       "$$F \\left(e^{\\frac{m x}{s^{2}}} - 1\\right) e^{- \\frac{m^{2}}{8 s^{2}}} e^{- \\frac{x^{2}}{2 s^{2}}} e^{- \\frac{m x}{2 s^{2}}}$$"
      ],
      "text/plain": [
       "                2     2        \n",
       "  ⎛ m⋅x    ⎞  -m    -x    -m⋅x \n",
       "  ⎜ ───    ⎟  ────  ────  ─────\n",
       "  ⎜   2    ⎟     2     2      2\n",
       "  ⎜  s     ⎟  8⋅s   2⋅s    2⋅s \n",
       "F⋅⎝ℯ    - 1⎠⋅ℯ    ⋅ℯ    ⋅ℯ     "
      ]
     },
     "execution_count": 11,
     "metadata": {},
     "output_type": "execute_result"
    }
   ],
   "source": [
    "sympy.factor(sympy.simplify(D))"
   ]
  },
  {
   "cell_type": "code",
   "execution_count": 12,
   "metadata": {
    "collapsed": false
   },
   "outputs": [
    {
     "data": {
      "image/png": "[encoded data removed]",
      "text/latex": [
       "$$1.0 \\cdot 10^{-125}$$"
      ],
      "text/plain": [
       "0.e-125"
      ]
     },
     "execution_count": 12,
     "metadata": {},
     "output_type": "execute_result"
    }
   ],
   "source": [
    "D.evalf(subs={x: 0, F: 1, m: 1, s: 2})"
   ]
  },
  {
   "cell_type": "code",
   "execution_count": 13,
   "metadata": {
    "collapsed": false
   },
   "outputs": [
    {
     "data": {
      "image/png": "[encoded data removed]",
      "text/latex": [
       "$$\\frac{F_{2}}{e^{m_{1} x} - 1} \\left(e^{m_{2} x} - 1\\right) e^{\\frac{m_{1}^{2}}{8} + \\frac{m_{1} x}{2} - \\frac{m_{2}^{2}}{8} - \\frac{m_{2} x}{2}}$$"
      ],
      "text/plain": [
       "                  2            2       \n",
       "                m₁    m₁⋅x   m₂    m₂⋅x\n",
       "                ─── + ──── - ─── - ────\n",
       "   ⎛ m₂⋅x    ⎞   8     2      8     2  \n",
       "F₂⋅⎝ℯ     - 1⎠⋅ℯ                       \n",
       "───────────────────────────────────────\n",
       "                m₁⋅x                   \n",
       "               ℯ     - 1               "
      ]
     },
     "execution_count": 13,
     "metadata": {},
     "output_type": "execute_result"
    }
   ],
   "source": [
    "F1, m1, F2, m2 = sympy.symbols(\"F1 m1 F2 m2\")\n",
    "\n",
    "q1 = sympy.solve(D.subs({F: F1, m: m1, s: 1}) - D.subs({F: F2, m: m2, s:1}), F1)[0]\n",
    "q1"
   ]
  },
  {
   "cell_type": "code",
   "execution_count": 14,
   "metadata": {
    "collapsed": false
   },
   "outputs": [
    {
     "data": {
      "image/png": "[encoded data removed]",
      "text/latex": [
       "$$\\frac{F_{1}}{e^{m_{2} x} - 1} \\left(e^{m_{1} x} - 1\\right) e^{- \\frac{m_{1}^{2}}{8} - \\frac{m_{1} x}{2} + \\frac{m_{2}^{2}}{8} + \\frac{m_{2} x}{2}}$$"
      ],
      "text/plain": [
       "                    2            2       \n",
       "                  m₁    m₁⋅x   m₂    m₂⋅x\n",
       "                - ─── - ──── + ─── + ────\n",
       "   ⎛ m₁⋅x    ⎞     8     2      8     2  \n",
       "F₁⋅⎝ℯ     - 1⎠⋅ℯ                         \n",
       "─────────────────────────────────────────\n",
       "                 m₂⋅x                    \n",
       "                ℯ     - 1                "
      ]
     },
     "execution_count": 14,
     "metadata": {},
     "output_type": "execute_result"
    }
   ],
   "source": [
    "q2 = sympy.solve(D.subs({F: F1, m: m1, s: 1}) - D.subs({F: F2, m: m2, s:1}), F2)[0]\n",
    "q2"
   ]
  },
  {
   "cell_type": "markdown",
   "metadata": {},
   "source": [
    "Compute $F_1 / F_2$ as a function of $m_1$ and $m_2$."
   ]
  },
  {
   "cell_type": "code",
   "execution_count": 17,
   "metadata": {
    "collapsed": false
   },
   "outputs": [
    {
     "data": {
      "image/png": "[encoded data removed]",
      "text/latex": [
       "$$\\frac{F_{2} \\left(e^{m_{2} x} - 1\\right)^{2}}{F_{1} \\left(e^{m_{1} x} - 1\\right)^{2}} e^{\\frac{m_{1}^{2}}{4} + m_{1} x - \\frac{m_{2}^{2}}{4} - m_{2} x}$$"
      ],
      "text/plain": [
       "                   2            2       \n",
       "                 m₁           m₂        \n",
       "              2  ─── + m₁⋅x - ─── - m₂⋅x\n",
       "   ⎛ m₂⋅x    ⎞    4            4        \n",
       "F₂⋅⎝ℯ     - 1⎠ ⋅ℯ                       \n",
       "────────────────────────────────────────\n",
       "                          2             \n",
       "               ⎛ m₁⋅x    ⎞              \n",
       "            F₁⋅⎝ℯ     - 1⎠              "
      ]
     },
     "execution_count": 17,
     "metadata": {},
     "output_type": "execute_result"
    }
   ],
   "source": [
    "DD = q1/q2\n",
    "DD"
   ]
  },
  {
   "cell_type": "markdown",
   "metadata": {},
   "source": [
    "Set $F_1$ to equal $F_1/F_2$ (and $F_2$ to 1).\n",
    "\n",
    "Set $m_1$ to equal $m_1/m_2$ (and $m_2$ to 1)."
   ]
  },
  {
   "cell_type": "code",
   "execution_count": 18,
   "metadata": {
    "collapsed": false
   },
   "outputs": [
    {
     "data": {
      "image/png": "[encoded data removed]",
      "text/latex": [
       "$$\\frac{\\left(e^{x} - 1\\right)^{2}}{F_{1} \\left(e^{m_{1} x} - 1\\right)^{2}} e^{\\frac{m_{1}^{2}}{4} + m_{1} x - x - \\frac{1}{4}}$$"
      ],
      "text/plain": [
       "             2               \n",
       "           m₁               1\n",
       "        2  ─── + m₁⋅x - x - ─\n",
       "⎛ x    ⎞    4               4\n",
       "⎝ℯ  - 1⎠ ⋅ℯ                  \n",
       "─────────────────────────────\n",
       "                     2       \n",
       "          ⎛ m₁⋅x    ⎞        \n",
       "       F₁⋅⎝ℯ     - 1⎠        "
      ]
     },
     "execution_count": 18,
     "metadata": {},
     "output_type": "execute_result"
    }
   ],
   "source": [
    "DD.subs({F1: F1/F2, F2: 1, m1: m1/m2, m2: 1})"
   ]
  },
  {
   "cell_type": "code",
   "execution_count": 21,
   "metadata": {
    "collapsed": false
   },
   "outputs": [],
   "source": [
    "S = DD.subs({F1: F1/F2, F2: 1, m1: m1/m2, m2: 1}).series(m1)"
   ]
  },
  {
   "cell_type": "code",
   "execution_count": null,
   "metadata": {
    "collapsed": true
   },
   "outputs": [],
   "source": []
  }
 ],
 "metadata": {
  "kernelspec": {
   "display_name": "Python 2",
   "language": "python",
   "name": "python2"
  },
  "language_info": {
   "codemirror_mode": {
    "name": "ipython",
    "version": 2
   },
   "file_extension": ".py",
   "mimetype": "text/x-python",
   "name": "python",
   "nbconvert_exporter": "python",
   "pygments_lexer": "ipython2",
   "version": "2.7.11"
  }
 },
 "nbformat": 4,
 "nbformat_minor": 0
}
