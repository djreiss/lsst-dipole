{
 "cells": [
  {
   "cell_type": "markdown",
   "metadata": {},
   "source": [
    "somewhere else, do:\n",
    "```\n",
    "git clone https://github.com/lsst/ip_diffim.git\n",
    "cd ip_diffim\n",
    "source ~/lsstsw/setup.csh\n",
    "#setup -t b1813 ip_diffim\n",
    "#setup -k -r .\n",
    "setup -t 1813 -r .\n",
    "scons\n",
    "```\n",
    "\n",
    "then you will want to add `$HOME/lsstsw/miniconda/lib/python2.7/site-packages` to your `PYTHONPATH` in order to be able to import `joblib` and friends.\n",
    "\n",
    "now edit and run the code in here."
   ]
  },
  {
   "cell_type": "code",
   "execution_count": 1,
   "metadata": {
    "collapsed": true
   },
   "outputs": [],
   "source": [
    "import sys\n",
    "from collections import namedtuple\n",
    "\n",
    "import numpy as np\n",
    "\n",
    "%matplotlib inline\n",
    "#%matplotlib notebook\n",
    "import matplotlib.pyplot as plt\n",
    "\n",
    "import matplotlib\n",
    "matplotlib.style.use('ggplot')\n",
    "\n",
    "from joblib import Parallel, delayed  \n",
    "import multiprocessing\n",
    "\n",
    "np.random.seed(666)\n",
    "\n",
    "import pandas as pd\n",
    "class sizeme():\n",
    "    \"\"\" Class to change html fontsize of object's representation\"\"\"\n",
    "    def __init__(self,ob, size=50, height=120):\n",
    "        self.ob = ob\n",
    "        self.size = size\n",
    "        self.height = height\n",
    "    def _repr_html_(self):\n",
    "        repl_tuple = (self.size, self.height, self.ob._repr_html_())\n",
    "        return u'<span style=\"font-size:{0}%; line-height:{1}%\">{2}</span>'.format(*repl_tuple)"
   ]
  },
  {
   "cell_type": "code",
   "execution_count": 2,
   "metadata": {
    "collapsed": false
   },
   "outputs": [],
   "source": [
    "## LSST imports:\n",
    "import lsst.utils.tests as tests\n",
    "import lsst.daf.base as dafBase\n",
    "#import lsst.afw.display.ds9 as ds9\n",
    "import lsst.afw.image as afwImage\n",
    "import lsst.afw.geom as afwGeom\n",
    "import lsst.afw.table as afwTable\n",
    "import lsst.afw.math as afwMath\n",
    "import lsst.meas.algorithms as measAlg\n",
    "import lsst.ip.diffim as ipDiffim"
   ]
  },
  {
   "cell_type": "code",
   "execution_count": 3,
   "metadata": {
    "collapsed": false
   },
   "outputs": [],
   "source": [
    "import lmfit\n",
    "\n",
    "## Note right now we are only fitting one flux value and the 4 positions, not\n",
    "##   anything related to the shape of the PSF!\n",
    "def dipoleFunc(x, flux, xcenPos, ycenPos, xcenNeg, ycenNeg, psfWidth): #, sig1, sig2):\n",
    "    \"\"\"\n",
    "    Dipole based on 2-d (potentially [TBD] ellipsoidal) double-gaussian: \n",
    "    dipoleFunc(x, flux, xcenPos, ycenPos, xcenNeg, ycenNeg) #, sig1, sig2)\n",
    "    \"\"\"\n",
    "    if False: #try:\n",
    "        ## Wow - this is about 3x slower than the below (pure python)...\n",
    "        generator = afwMath.DoubleGaussianFunction2D(psfWidth, psfWidth*1.75, 0.1)\n",
    "\n",
    "        zout = np.array([generator(x[0][i] - xcenPos, x[1][i] - ycenPos) for i in xrange(len(x[0]))])\n",
    "        zmax = np.sum(zout)\n",
    "        zout -= np.array([generator(x[0][i] - xcenNeg, x[1][i] - ycenNeg) for i in xrange(len(x[0]))])\n",
    "        zout *= flux / zmax ## assume pos and neg lobes have same flux\n",
    "    else: #except NameError:   ## don't have stack installed, use a custom double gaussian2d generator. \n",
    "        def generator(x, y, xc, yc, sigma_x=1., sigma_y=1., theta=0., offset=0.):\n",
    "            a = (np.cos(theta)**2)/(2*sigma_x**2) + (np.sin(theta)**2)/(2*sigma_y**2)\n",
    "            b = -(np.sin(2*theta))/(4*sigma_x**2) + (np.sin(2*theta))/(4*sigma_y**2)\n",
    "            c = (np.sin(theta)**2)/(2*sigma_x**2) + (np.cos(theta)**2)/(2*sigma_y**2)\n",
    "            xxc, yyc = x-xc, y-yc\n",
    "            return offset + np.exp( - (a*(xxc**2) + 2*b*xxc*yyc + c*(yyc**2)))\n",
    "\n",
    "        #print xcenPos, xcenNeg, ycenPos, ycenNeg\n",
    "        tmp1 = generator(x[0], x[1], xcenPos, ycenPos, psfWidth, psfWidth)\n",
    "        tmp1sum = tmp1.sum()\n",
    "        tmp2 = generator(x[0], x[1], xcenPos, ycenPos, psfWidth*1.75, psfWidth*1.75)\n",
    "        tmp2sum = tmp2.sum()\n",
    "        zout = tmp1 * (flux/tmp1sum*0.9)\n",
    "        zout += tmp2 * (flux/tmp2sum*0.1) \n",
    "        tmp1 = generator(x[0], x[1], xcenNeg, ycenNeg, psfWidth, psfWidth)\n",
    "        tmp2 = generator(x[0], x[1], xcenNeg, ycenNeg, psfWidth*1.75, psfWidth*1.75)\n",
    "        zout -= tmp1 * (flux/tmp1sum*0.9)\n",
    "        zout -= tmp2 * (flux/tmp2sum*0.1)\n",
    "\n",
    "    return zout\n",
    "\n",
    "def genDipole(w=100, h=100, xc=50., yc=50., psfWidth=2., separation=2., rotAngle=0.0, flux=3000., noise=1., display=False):\n",
    "    y, x = np.mgrid[:w, :h]\n",
    "    x = x.ravel()\n",
    "    y = y.ravel()\n",
    "    in_x = [x, y]\n",
    "\n",
    "    #z = np.array([generator(in_x[0][i] - xc, in_x[1][i] - yc) for i in np.arange(len(in_x[0]))])\n",
    "    #z *= ht / z.max()\n",
    "    rotAngRad = rotAngle / 180. * np.pi\n",
    "    sep = separation / 2.\n",
    "    z = dipoleFunc(in_x, flux, xc+sep*np.cos(rotAngRad), yc+sep*np.sin(rotAngRad), \n",
    "                   xc-sep*np.cos(rotAngRad), yc-sep*np.sin(rotAngRad), psfWidth) #, psfWidth, psfWidth*1.75)\n",
    "    ## TBD: accurate (poisson) noise proportional to pixel intensity\n",
    "    z += np.random.normal(0., noise, x.shape) #* (0.1 + np.sqrt(np.abs(z)))\n",
    "    if display:\n",
    "        zptp = z.ptp() / 2.\n",
    "        plt.figure(figsize=(8, 2.5))\n",
    "        plt.subplot(1, 3, 1)\n",
    "        plt.imshow(z.reshape(w, h), origin='lower', interpolation='none', cmap='gray' )#, vmin=-zptp, vmax=zptp)\n",
    "        plt.title(\"Data\")\n",
    "\n",
    "    return x.reshape(w, h), y.reshape(w, h), z.reshape(w, h)\n",
    "\n",
    "def fitDipole(z, psfWidth=2., verbose=False, display=False):\n",
    "    w, h = z.shape\n",
    "    y, x = np.mgrid[:w, :h]\n",
    "    z = z.ravel()\n",
    "    x = x.ravel()\n",
    "    y = y.ravel()\n",
    "    in_x = [x, y]\n",
    "    xc = w / 2  ## Note - this may be a cheat to assume the dipole is centered in center of the image.\n",
    "    yc = h / 2\n",
    "    \n",
    "    gmod = lmfit.Model(dipoleFunc, verbose=verbose)\n",
    "    maxPos = np.array(np.unravel_index(np.argmax(z), (w,h)))\n",
    "    minPos = np.array(np.unravel_index(np.argmin(z), (w,h)))\n",
    "    startingFlux = np.abs(z).sum() / 2. #z.ptp() / 2.  ## ptp = max-min\n",
    "    \n",
    "    ## For close/faint dipoles the starting locs (min/max) might be way off, let's help them a bit:\n",
    "    centroidRange = psfWidth * 2.\n",
    "    if   minPos[0] < xc-centroidRange: minPos[0] = xc-centroidRange\n",
    "    elif minPos[0] > xc+centroidRange: minPos[0] = xc+centroidRange\n",
    "    if   minPos[1] < yc-centroidRange: minPos[1] = yc-centroidRange\n",
    "    elif minPos[1] > yc+centroidRange: minPos[1] = yc+centroidRange\n",
    "    if   maxPos[0] < xc-centroidRange: maxPos[0] = xc-centroidRange\n",
    "    elif maxPos[0] > xc+centroidRange: maxPos[0] = xc+centroidRange\n",
    "    if   maxPos[1] < yc-centroidRange: maxPos[1] = yc-centroidRange\n",
    "    elif maxPos[1] > yc+centroidRange: maxPos[1] = yc+centroidRange\n",
    "\n",
    "    ## parameter hints/constraints: https://lmfit.github.io/lmfit-py/model.html#model-param-hints-section\n",
    "    gmod.set_param_hint('xcenPos', value=maxPos[1], min=maxPos[1]-centroidRange, max=maxPos[1]+centroidRange)\n",
    "    gmod.set_param_hint('ycenPos', value=maxPos[0], min=maxPos[0]-centroidRange, max=maxPos[0]+centroidRange)\n",
    "    gmod.set_param_hint('xcenNeg', value=minPos[1], min=minPos[1]-centroidRange, max=minPos[1]+centroidRange)\n",
    "    gmod.set_param_hint('ycenNeg', value=minPos[0], min=minPos[0]-centroidRange, max=minPos[0]+centroidRange)\n",
    "    gmod.set_param_hint('flux', value=startingFlux, min=0.1, max=99999.)  ## TBD: higher flux limit? \n",
    "    gmod.set_param_hint('psfWidth', value=psfWidth, vary=False)\n",
    "    \n",
    "    result = gmod.fit(z, x=in_x, flux=startingFlux, xcenPos=maxPos[1], ycenPos=maxPos[0], \n",
    "                      xcenNeg=minPos[1], ycenNeg=minPos[0], verbose=verbose) #, sig1=1., sig2=2.)\n",
    "    \n",
    "    if verbose: \n",
    "        print(result.fit_report(show_correl=False))\n",
    "        ## This is how to get confidence intervals out, see here: https://lmfit.github.io/lmfit-py/confidence.html and \n",
    "        ##    here: http://cars9.uchicago.edu/software/python/lmfit/model.html\n",
    "        ## Note this calc takes a long time (longer than the fit!)\n",
    "        ci = lmfit.conf_interval(result, result)\n",
    "        lmfit.printfuncs.report_ci(ci)\n",
    "\n",
    "    if display:\n",
    "        plt.figure(figsize=(8, 2.5))\n",
    "        plt.subplot(1, 3, 2)\n",
    "        plt.imshow(result.best_fit.reshape(w, h), origin='lower', interpolation='none', cmap='gray')#, vmin=-zptp, vmax=zptp)\n",
    "        plt.title(\"Model\")\n",
    "        plt.subplot(1, 3, 3)\n",
    "        plt.imshow(z.reshape(w, h) - result.best_fit.reshape(w, h), origin='lower', cmap='gray', interpolation='none')\n",
    "        plt.title(\"Residual\")\n",
    "        \n",
    "    return result\n",
    "\n",
    "def genDipoleAndFitIt(w=100, h=100, xc=50., yc=50., psfWidth=2., separation=2., rotAngle=0., flux=100., \n",
    "                        noise=1., verbose=False, display=False):\n",
    "    _, _, z = genDipole(w=w, h=h, xc=xc, yc=yc, psfWidth=psfWidth, separation=separation, rotAngle=rotAngle,\n",
    "                        flux=flux, noise=noise, display=display)\n",
    "    result = fitDipole(z, psfWidth=psfWidth, verbose=verbose, display=display)\n",
    "    return result #.best_values"
   ]
  },
  {
   "cell_type": "code",
   "execution_count": 4,
   "metadata": {
    "collapsed": false
   },
   "outputs": [
    {
     "name": "stdout",
     "output_type": "stream",
     "text": [
      "100 loops, best of 3: 14.8 ms per loop\n",
      " - Adding parameter for hint \"xcenPos\"\n",
      " - Adding parameter for hint \"ycenPos\"\n",
      " - Adding parameter for hint \"xcenNeg\"\n",
      " - Adding parameter for hint \"ycenNeg\"\n",
      " - Adding parameter for hint \"flux\"\n",
      " - Adding parameter for hint \"psfWidth\"\n",
      " - Adding parameter \"flux\"\n",
      " - Adding parameter \"xcenPos\"\n",
      " - Adding parameter \"ycenPos\"\n",
      " - Adding parameter \"xcenNeg\"\n",
      " - Adding parameter \"ycenNeg\"\n",
      " - Adding parameter \"psfWidth\"\n",
      "[[Model]]\n",
      "    Model(dipoleFunc)\n",
      "[[Fit Statistics]]\n",
      "    # function evals   = 33\n",
      "    # data points      = 2601\n",
      "    # variables        = 5\n",
      "    chi-square         = 2592.800\n",
      "    reduced chi-square = 0.999\n",
      "[[Variables]]\n",
      "    xcenPos:    25.8012464 +/- 0.033177 (0.13%) (init= 27)\n",
      "    ycenPos:    24.4404441 +/- 0.024952 (0.10%) (init= 24)\n",
      "    xcenNeg:    24.2209552 +/- 0.033177 (0.14%) (init= 23)\n",
      "    ycenNeg:    25.5633299 +/- 0.024952 (0.10%) (init= 26)\n",
      "    flux:       3081.51050 +/- 111.8838 (3.63%) (init= 2057.21)\n",
      "    psfWidth:   2 (fixed)\n",
      "\n",
      "            99.70%    95.00%    67.40%    _BEST_    67.40%    95.00%    99.70%\n",
      " xcenPos:  -0.10442  -0.06730  -0.03311  25.80125  +0.03124  +0.06322  +0.09425\n",
      " ycenPos:  -0.07162  -0.04769  -0.02349  24.44044  +0.02474  +0.05012  +0.07760\n",
      " xcenNeg:  -0.09423  -0.06319  -0.03122  24.22096  +0.03310  +0.06727  +0.10439\n",
      " ycenNeg:  -0.07757  -0.05010  -0.02474  25.56333  +0.02348  +0.04767  +0.07168\n",
      " flux   :-280.88568-195.54184-103.516283081.51050+117.02335+250.14939+409.38827\n"
     ]
    },
    {
     "data": {
      "image/png": "[encoded data removed]",
      "text/plain": [
       "<matplotlib.figure.Figure at 0x113470610>"
      ]
     },
     "metadata": {},
     "output_type": "display_data"
    },
    {
     "data": {
      "image/png": "[encoded data removed]",
      "text/plain": [
       "<matplotlib.figure.Figure at 0x1068f3590>"
      ]
     },
     "metadata": {},
     "output_type": "display_data"
    }
   ],
   "source": [
    "x, y, z = genDipole(w=51, h=51, xc=25., yc=25., psfWidth=2., separation=2., rotAngle=324., \n",
    "                flux=3000., noise=1., display=True)\n",
    "%timeit fitDipole(z, psfWidth=2., verbose=False, display=False)\n",
    "result = fitDipole(z, psfWidth=2., verbose=True, display=True)"
   ]
  },
  {
   "cell_type": "code",
   "execution_count": 5,
   "metadata": {
    "collapsed": false
   },
   "outputs": [
    {
     "name": "stdout",
     "output_type": "stream",
     "text": [
      "{'ycenPos': 25.002294834554053, 'flux': 2891.8929291635891, 'xcenPos': 26.044732514846743, 'psfWidth': 2.0, 'xcenNeg': 23.954176669091449, 'ycenNeg': 25.007035586819256}\n",
      "CENTROID: (24.999454591969098, 25.004665210686653)\n",
      "ANGLE: -0.129929382876\n",
      "S/N: 45.4361959741\n"
     ]
    }
   ],
   "source": [
    "result = genDipoleAndFitIt(w=51, h=51, xc=25., yc=25., psfWidth=2., separation=2., rotAngle=0.,\n",
    "                              flux=3000., noise=1., verbose=False, display=False)\n",
    "results = result.best_values\n",
    "print results\n",
    "\n",
    "centroid = ((results['xcenPos']+results['xcenNeg'])/2., (results['ycenPos']+results['ycenNeg'])/2.)\n",
    "print 'CENTROID:', centroid\n",
    "\n",
    "dx, dy = results['xcenPos']-results['xcenNeg'], results['ycenPos']-results['ycenNeg']\n",
    "angle = np.arctan2(dy, dx) / np.pi * 180.\n",
    "print 'ANGLE:', angle\n",
    "\n",
    "## Note this (conf interval computation) takes too long. Let's use estimated uncertainties from the model fit\n",
    "#ci = lmfit.conf_interval(result, result, sigmas=[0.68, 0.95])\n",
    "#lmfit.printfuncs.report_ci(ci)\n",
    "\n",
    "# This is how we get out the errors in the parameters from the fit:\n",
    "#for pname, par in result.params.items():\n",
    "#    print pname, par.value, par.stderr    \n",
    "\n",
    "fluxVal, fluxErr = result.params['flux'].value, result.params['flux'].stderr\n",
    "#signalToNoise = np.sqrt((fluxVal/fluxErr)**2 + (fluxVal/fluxErr)**2) ## This is from DipoleAnalysis code\n",
    "signalToNoise = np.sqrt(2.) * fluxVal/fluxErr\n",
    "print 'S/N:', signalToNoise"
   ]
  },
  {
   "cell_type": "code",
   "execution_count": 25,
   "metadata": {
    "collapsed": true
   },
   "outputs": [],
   "source": [
    "def detectDipoleSources(z, psfWidth, verbose=False, display=False):\n",
    "    # Detect positive and negative sources in the image. \n",
    "    # See meas_algorithms/python/lsst/meas/algorithms/detection.py (SourceDetectionConfig) for config params\n",
    "    \n",
    "    w, h = z.shape\n",
    "    image = afwImage.MaskedImageF(w,h)\n",
    "    image.set(0)\n",
    "    array = image.getImage().getArray()\n",
    "    array[:,:] = z\n",
    "    # Set variance to 1.0 -- TODO, should set variance after adding flux\n",
    "    var   = image.getVariance()\n",
    "    var.set(1.0)\n",
    "\n",
    "    exposure = afwImage.makeExposure(image)\n",
    "    #exposure.setPsf(psf)\n",
    "    \n",
    "    config = measAlg.SourceDetectionConfig()\n",
    "    config.thresholdPolarity = \"both\"\n",
    "    config.reEstimateBackground = True\n",
    "    config.nSigmaToGrow = psfWidth\n",
    "    # config.thresholdValue = 5.0   ## how do we set the detection threshold? Default is 5 sigma, set via config.thresholdValue\n",
    "    schema = afwTable.SourceTable.makeMinimalSchema()  \n",
    "    task = measAlg.SourceDetectionTask(schema, config=config)\n",
    "    table = afwTable.SourceTable.make(schema)\n",
    "    results = task.makeSourceCatalog(table, exposure, sigma=psfWidth)\n",
    "#     if display:\n",
    "#         ds9.mtv(image, frame=4, title=\"Detection plane\")\n",
    "        \n",
    "    # Merge them together\n",
    "    assert(len(results.sources) == 2)\n",
    "    fpSet = results.fpSets.positive\n",
    "    fpSet.merge(results.fpSets.negative, 1, 1, False) ## note used to be tGrow=0, rGrow=0, but sometimes sources were not merged.\n",
    "    sources = afwTable.SourceCatalog(table)\n",
    "    fpSet.makeSources(sources)\n",
    "    assert(len(sources) == 1)\n",
    "    s = sources[0]\n",
    "    assert(len(s.getFootprint().getPeaks()) == 2)\n",
    "\n",
    "    if verbose:\n",
    "        for pk in s.getFootprint().getPeaks():\n",
    "            print 'FOOTPRINT CENTER:', pk.getIy(), pk.getIx()\n",
    "\n",
    "    if display:\n",
    "        plt.figure(figsize=(8, 2.5))\n",
    "        plt.subplot(1, 3, 1)\n",
    "        \n",
    "        img_arr, mask_arr, var_arr = exposure.getMaskedImage().getArrays()\n",
    "        plt.title(\"Original image\")\n",
    "        plt.imshow(np.rot90(img_arr), vmin=img_arr.min(), vmax=img_arr.max(), cmap='gray', extent=(0,w-1,0,h-1), interpolation='none')\n",
    "        #plt.plot(xp, yp, 'bx')\n",
    "        #plt.plot(xn, yn, 'bx')\n",
    "\n",
    "        ## first overlay the fp centers on the input image and show it.\n",
    "        for pk in s.getFootprint().getPeaks():\n",
    "            plt.plot(pk.getIy(), pk.getIx(), 'rx')\n",
    "\n",
    "        plt.subplot(1, 3, 2)\n",
    "        img_arr, mask_arr, var_arr = exposure.getMaskedImage().getArrays()\n",
    "        plt.title(\"Detection plane\")\n",
    "        plt.imshow(np.rot90(mask_arr), vmin=-100, vmax=100, cmap='gray', extent=(0,w-1,0,h-1), interpolation='none')\n",
    "        for pk in s.getFootprint().getPeaks():\n",
    "            plt.plot(pk.getIy(), pk.getIx(), 'rx')\n",
    "        \n",
    "    return s"
   ]
  },
  {
   "cell_type": "code",
   "execution_count": 26,
   "metadata": {
    "collapsed": false
   },
   "outputs": [
    {
     "name": "stdout",
     "output_type": "stream",
     "text": [
      "FOOTPRINT CENTER: 23 27\n",
      "FOOTPRINT CENTER: 27 23\n",
      "[26 23] [24 27]\n",
      "27.0 23.0\n",
      "[ 23.  27.]\n",
      "23.0 27.0\n"
     ]
    },
    {
     "data": {
      "image/png": "[encoded data removed]",
      "text/plain": [
       "<matplotlib.figure.Figure at 0x116a230d0>"
      ]
     },
     "metadata": {},
     "output_type": "display_data"
    }
   ],
   "source": [
    "s = detectDipoleSources(z, psfWidth=2., verbose=False, display=True)\n",
    "for pk in s.getFootprint().getPeaks():\n",
    "    print 'FOOTPRINT CENTER:', pk.getIy(), pk.getIx()\n",
    "    \n",
    "maxPos = np.array(np.unravel_index(np.argmax(z), (51,51)))\n",
    "minPos = np.array(np.unravel_index(np.argmin(z), (51,51)))\n",
    "print minPos, maxPos\n",
    "\n",
    "tmp = s.getFootprint().getPeaks()[0].getF()\n",
    "print tmp[0], tmp[1]\n",
    "print np.array(tmp)[::-1]\n",
    "\n",
    "tmp = s.getFootprint().getPeaks()[1].getF()\n",
    "print tmp[0], tmp[1]"
   ]
  },
  {
   "cell_type": "markdown",
   "metadata": {},
   "source": [
    "### TBD: use detected source peaks as input positive/negative centroids"
   ]
  },
  {
   "cell_type": "markdown",
   "metadata": {},
   "source": [
    "## Redefine `fitDipole()` to use centroids from detected source peaks"
   ]
  },
  {
   "cell_type": "code",
   "execution_count": 10,
   "metadata": {
    "collapsed": true
   },
   "outputs": [],
   "source": [
    "def fitDipole(z, psfWidth=2., cenPos=None, cenNeg=None, verbose=False, display=False):\n",
    "    \"\"\"fitDipole(z, psfWidth=2., verbose=False, display=False, cenPos=None, cenNeg=None))\n",
    "        Starting centroids may be provided as tuple/array coordinates of centroids of positive and negative lobes.\n",
    "        If these are None, then assume they are the max/min of the stamp.\n",
    "    \"\"\"\n",
    "    w, h = z.shape\n",
    "    y, x = np.mgrid[:w, :h]\n",
    "    z = z.ravel()\n",
    "    x = x.ravel()\n",
    "    y = y.ravel()\n",
    "    in_x = [x, y]\n",
    "\n",
    "    ## For close/faint dipoles the starting locs (min/max) might be way off, let's help them a bit:\n",
    "    centroidRange = psfWidth * 3.\n",
    "    if cenPos is None:\n",
    "        cenPos = np.array(np.unravel_index(np.argmax(z), (w,h)))\n",
    "    ## Note - this may be a cheat to assume the dipole is centered in center of the stamp.\n",
    "    if np.sum(np.sqrt((np.array(cenPos) - np.array([w/2, h/2]))**2.)) > centroidRange:\n",
    "        cenPos = np.array([w/2., h/2.])\n",
    "    if cenNeg is None:\n",
    "        cenNeg = np.array(np.unravel_index(np.argmin(z), (w,h)))\n",
    "    if np.sum(np.sqrt((np.array(cenNeg) - np.array([w/2, h/2]))**2.)) > centroidRange:\n",
    "        cenNeg = np.array([w/2., h/2.])\n",
    "\n",
    "    gmod = lmfit.Model(dipoleFunc, verbose=verbose)\n",
    "    startingFlux = np.abs(z).sum() / 2. #z.ptp() / 2.  ## ptp = max-min\n",
    "    \n",
    "#     if   minPos[0] < xc-centroidRange: minPos[0] = xc-centroidRange\n",
    "#     elif minPos[0] > xc+centroidRange: minPos[0] = xc+centroidRange\n",
    "#     if   minPos[1] < yc-centroidRange: minPos[1] = yc-centroidRange\n",
    "#     elif minPos[1] > yc+centroidRange: minPos[1] = yc+centroidRange\n",
    "#     if   maxPos[0] < xc-centroidRange: maxPos[0] = xc-centroidRange\n",
    "#     elif maxPos[0] > xc+centroidRange: maxPos[0] = xc+centroidRange\n",
    "#     if   maxPos[1] < yc-centroidRange: maxPos[1] = yc-centroidRange\n",
    "#     elif maxPos[1] > yc+centroidRange: maxPos[1] = yc+centroidRange\n",
    "\n",
    "    ## parameter hints/constraints: https://lmfit.github.io/lmfit-py/model.html#model-param-hints-section\n",
    "    gmod.set_param_hint('xcenPos', value=cenPos[0], min=cenPos[0]-centroidRange, max=cenPos[0]+centroidRange)\n",
    "    gmod.set_param_hint('ycenPos', value=cenPos[1], min=cenPos[1]-centroidRange, max=cenPos[1]+centroidRange)\n",
    "    gmod.set_param_hint('xcenNeg', value=cenNeg[0], min=cenNeg[0]-centroidRange, max=cenNeg[0]+centroidRange)\n",
    "    gmod.set_param_hint('ycenNeg', value=cenNeg[1], min=cenNeg[1]-centroidRange, max=cenNeg[1]+centroidRange)\n",
    "    gmod.set_param_hint('flux', value=startingFlux, min=0.1, max=startingFlux * 100.)  ## TBD: higher flux limit? \n",
    "    gmod.set_param_hint('psfWidth', value=psfWidth, vary=False)\n",
    "    \n",
    "    result = gmod.fit(z, x=in_x, flux=startingFlux, xcenPos=cenPos[0], ycenPos=cenPos[1], \n",
    "                      xcenNeg=cenNeg[0], ycenNeg=cenNeg[1], verbose=verbose) #, sig1=1., sig2=2.)\n",
    "    \n",
    "    if verbose: \n",
    "        print(result.fit_report(show_correl=False))\n",
    "        ## This is how to get confidence intervals out, see here: https://lmfit.github.io/lmfit-py/confidence.html and \n",
    "        ##    here: http://cars9.uchicago.edu/software/python/lmfit/model.html\n",
    "        ## Note this calc takes a long time (longer than the fit!)\n",
    "        ci = lmfit.conf_interval(result, result)\n",
    "        lmfit.printfuncs.report_ci(ci)\n",
    "\n",
    "    if display:\n",
    "        plt.figure(figsize=(8, 2.5))\n",
    "        plt.subplot(1, 3, 2)\n",
    "        plt.imshow(result.best_fit.reshape(w, h), origin='lower', interpolation='none', cmap='gray')#, vmin=-zptp, vmax=zptp)\n",
    "        plt.title(\"Model\")\n",
    "        plt.subplot(1, 3, 3)\n",
    "        plt.imshow(z.reshape(w, h) - result.best_fit.reshape(w, h), origin='lower', cmap='gray', interpolation='none')\n",
    "        plt.title(\"Residual\")\n",
    "        \n",
    "    return result\n",
    "\n",
    "def genDipoleAndFitIt(w=100, h=100, xc=50., yc=50., psfWidth=2., separation=2., rotAngle=0., flux=100., \n",
    "                        noise=1., verbose=False, display=False):\n",
    "    _, _, z = genDipole(w=w, h=h, xc=xc, yc=yc, psfWidth=psfWidth, separation=separation, rotAngle=rotAngle,\n",
    "                        flux=flux, noise=noise, display=display)\n",
    "    \n",
    "    pk1 = pk2 = None\n",
    "    try:\n",
    "        s = detectDipoleSources(z, psfWidth=psfWidth, verbose=verbose, display=display)\n",
    "        pks = s.getFootprint().getPeaks()\n",
    "        pk1 = pks[0].getF() #)[::-1]  ## need to switch x,y ?? No.\n",
    "        pk2 = pks[1].getF() #)[::-1]\n",
    "    except AssertionError:\n",
    "        #print 'HERE', flux, separation\n",
    "        pass\n",
    "\n",
    "    result = fitDipole(z, psfWidth=psfWidth, cenPos=pk1, cenNeg=pk2, verbose=verbose, display=display)\n",
    "    return result #.best_values"
   ]
  },
  {
   "cell_type": "code",
   "execution_count": 11,
   "metadata": {
    "collapsed": false
   },
   "outputs": [
    {
     "name": "stdout",
     "output_type": "stream",
     "text": [
      "{'ycenPos': 24.988685924198244, 'flux': 3009.6331428951712, 'xcenPos': 25.999659535994677, 'psfWidth': 2.0, 'xcenNeg': 24.000672262463073, 'ycenNeg': 24.997753155000979}\n",
      "CENTROID: (25.000165899228875, 24.993219539599611)\n",
      "ANGLE: -0.259886844142\n",
      "S/N: 42.1323639762\n"
     ]
    }
   ],
   "source": [
    "result = genDipoleAndFitIt(w=51, h=51, xc=25., yc=25., psfWidth=2., separation=2., rotAngle=0.,\n",
    "                              flux=3000., noise=1., verbose=False, display=False)\n",
    "results = result.best_values\n",
    "print results\n",
    "\n",
    "centroid = ((results['xcenPos']+results['xcenNeg'])/2., (results['ycenPos']+results['ycenNeg'])/2.)\n",
    "print 'CENTROID:', centroid\n",
    "\n",
    "dx, dy = results['xcenPos']-results['xcenNeg'], results['ycenPos']-results['ycenNeg']\n",
    "angle = np.arctan2(dy, dx) / np.pi * 180.\n",
    "print 'ANGLE:', angle\n",
    "\n",
    "## Note this (conf interval computation) takes too long. Let's use estimated uncertainties from the model fit\n",
    "#ci = lmfit.conf_interval(result, result, sigmas=[0.68, 0.95])\n",
    "#lmfit.printfuncs.report_ci(ci)\n",
    "\n",
    "# This is how we get out the errors in the parameters from the fit:\n",
    "#for pname, par in result.params.items():\n",
    "#    print pname, par.value, par.stderr    \n",
    "\n",
    "fluxVal, fluxErr = result.params['flux'].value, result.params['flux'].stderr\n",
    "#signalToNoise = np.sqrt((fluxVal/fluxErr)**2 + (fluxVal/fluxErr)**2) ## This is from DipoleAnalysis code\n",
    "signalToNoise = np.sqrt(2.) * fluxVal/fluxErr\n",
    "print 'S/N:', signalToNoise"
   ]
  },
  {
   "cell_type": "code",
   "execution_count": 12,
   "metadata": {
    "collapsed": false
   },
   "outputs": [],
   "source": [
    "varNames = genDipoleAndFitIt.__code__.co_varnames[:genDipoleAndFitIt.__code__.co_argcount]\n",
    "varTuple = namedtuple(\"varTuple\", varNames)\n",
    "\n",
    "#orientations = np.arange(0.0, 360.0, 36.0)\n",
    "separations = np.arange(0.2, 5.0, 0.2)\n",
    "\n",
    "inputs = [varTuple(w=51, h=51, xc=25., yc=25., psfWidth=2.0, separation=sep, rotAngle=0., \n",
    "                    flux=3000., noise=1., verbose=False, display=False) for i in xrange(10) for sep in separations]\n",
    "\n",
    "def processInput(i):\n",
    "    #print i.separation #, i.rotAngle\n",
    "    output = genDipoleAndFitIt(w=i.w, h=i.h, xc=i.xc, yc=i.yc, psfWidth=i.psfWidth, separation=i.separation, \n",
    "                                 rotAngle=i.rotAngle, flux=i.flux, noise=i.noise, verbose=False, display=False)\n",
    "    output = output.best_values\n",
    "    output['separation'] = i.separation\n",
    "    output['inputCentroidPos'] = (i.xc+i.separation/2., i.yc+i.separation/2.)\n",
    "    output['inputCentroidNeg'] = (i.xc-i.separation/2., i.yc-i.separation/2.)\n",
    "    return output\n",
    "\n",
    "num_cores = multiprocessing.cpu_count() / 2\n",
    "results = Parallel(n_jobs=num_cores)(delayed(processInput)(i) for i in inputs)"
   ]
  },
  {
   "cell_type": "code",
   "execution_count": 13,
   "metadata": {
    "collapsed": false
   },
   "outputs": [
    {
     "data": {
      "text/plain": [
       "<matplotlib.axes._subplots.AxesSubplot at 0x114d17590>"
      ]
     },
     "execution_count": 13,
     "metadata": {},
     "output_type": "execute_result"
    },
    {
     "name": "stderr",
     "output_type": "stream",
     "text": [
      "/Users/dreiss/miniconda/lib/python2.7/site-packages/matplotlib/collections.py:590: FutureWarning: elementwise comparison failed; returning scalar instead, but in the future will perform elementwise comparison\n",
      "  if self._edgecolors == str('face'):\n"
     ]
    },
    {
     "data": {
      "image/png": "[encoded data removed]",
      "text/plain": [
       "<matplotlib.figure.Figure at 0x114d30910>"
      ]
     },
     "metadata": {},
     "output_type": "display_data"
    }
   ],
   "source": [
    "df = pd.DataFrame(results)\n",
    "#sizeme(df)\n",
    "\n",
    "tmp_df = df.groupby('separation').mean()\n",
    "tmp_df['separation'] = tmp_df.index.values\n",
    "tmp_df2 = df.groupby('separation').std() * 1.\n",
    "ax = tmp_df.plot(x='separation', y='xcenPos', kind='scatter', yerr=tmp_df2['xcenPos'], color='blue', label='pos')\n",
    "tmp_df.plot(x='separation', y='xcenNeg', kind='scatter', yerr=tmp_df2['xcenNeg'], color='red', label='neg', ax=ax)"
   ]
  },
  {
   "cell_type": "code",
   "execution_count": 14,
   "metadata": {
    "collapsed": false
   },
   "outputs": [
    {
     "data": {
      "text/plain": [
       "<matplotlib.axes._subplots.AxesSubplot at 0x114e7b4d0>"
      ]
     },
     "execution_count": 14,
     "metadata": {},
     "output_type": "execute_result"
    },
    {
     "data": {
      "image/png": "[encoded data removed]",
      "text/plain": [
       "<matplotlib.figure.Figure at 0x114fcab50>"
      ]
     },
     "metadata": {},
     "output_type": "display_data"
    }
   ],
   "source": [
    "df['diffCentroidPos'] = df.xcenPos.values - np.array([i[0] for i in df.inputCentroidPos])\n",
    "df['diffCentroidNeg'] = df.xcenNeg.values - np.array([i[0] for i in df.inputCentroidNeg])\n",
    "\n",
    "tmp_df = df.groupby('separation').mean()\n",
    "tmp_df['separation'] = tmp_df.index.values\n",
    "tmp_df2 = df.groupby('separation').std() * 1.\n",
    "ax = tmp_df.plot(x='separation', y='diffCentroidPos', kind='scatter', yerr=tmp_df2['diffCentroidPos'], color='blue', label='pos')\n",
    "tmp_df.plot(x='separation', y='diffCentroidNeg', kind='scatter', yerr=tmp_df2['diffCentroidNeg'], color='red', label='neg', ax=ax)"
   ]
  },
  {
   "cell_type": "code",
   "execution_count": 15,
   "metadata": {
    "collapsed": false
   },
   "outputs": [
    {
     "data": {
      "image/png": "[encoded data removed]",
      "text/plain": [
       "<matplotlib.figure.Figure at 0x114e51810>"
      ]
     },
     "metadata": {},
     "output_type": "display_data"
    }
   ],
   "source": [
    "tmp_df = df.groupby('separation').mean()\n",
    "tmp_df['separation'] = tmp_df.index.values\n",
    "tmp_df2 = df.groupby('separation').std() * 1.\n",
    "ax = tmp_df.plot(x='separation', y='flux', kind='scatter', yerr=tmp_df2['flux'], color='blue', label='pos')\n",
    "#tmp_df.plot(x='separation', y='flux', kind='scatter', yerr=tmp_df2['flux'], color='red', label='neg', ax=ax)"
   ]
  },
  {
   "cell_type": "markdown",
   "metadata": {
    "collapsed": true
   },
   "source": [
    "Try it again, this time setting different orientations as well. Next time we'll also test it as a function of scaling (source flux).\n",
    "\n",
    "### Different orientations"
   ]
  },
  {
   "cell_type": "code",
   "execution_count": 16,
   "metadata": {
    "collapsed": false
   },
   "outputs": [],
   "source": [
    "varNames = genDipoleAndFitIt.__code__.co_varnames[:genDipoleAndFitIt.__code__.co_argcount]\n",
    "varTuple = namedtuple(\"varTuple\", varNames)\n",
    "\n",
    "orientations = np.arange(0.0, 360.0, 36.0)\n",
    "separations = np.arange(0.2, 5.0, 0.2)\n",
    "\n",
    "inputs = [varTuple(w=51, h=51, xc=25., yc=25., psfWidth=2.0, separation=sep, rotAngle=rot, \n",
    "                    flux=3000., noise=1., verbose=False, display=False) for rot in orientations for sep in separations]\n",
    "\n",
    "def processInput(i):\n",
    "    #print i.separation, i.rotAngle\n",
    "    output = genDipoleAndFitIt(w=i.w, h=i.h, xc=i.xc, yc=i.yc, psfWidth=i.psfWidth, separation=i.separation, \n",
    "                                 rotAngle=i.rotAngle, flux=i.flux, noise=i.noise, verbose=False, display=False)\n",
    "    output = output.best_values\n",
    "    output['separation'] = i.separation\n",
    "    rotAngRad = i.rotAngle / 180. * np.pi\n",
    "    sep = i.separation / 2.\n",
    "    output['inputCentroidPos'] = (i.xc+sep*np.cos(rotAngRad), i.yc+sep*np.sin(rotAngRad))\n",
    "    output['inputCentroidNeg'] = (i.xc-sep*np.cos(rotAngRad), i.yc-sep*np.sin(rotAngRad))\n",
    "    output['rotAngle'] = i.rotAngle\n",
    "    return output\n",
    "\n",
    "    z = dipoleFunc(in_x, flux, xc+sep*np.cos(rotAngRad), yc+sep*np.sin(rotAngRad), \n",
    "                   xc-sep*np.cos(rotAngRad), yc-sep*np.sin(rotAngRad)) #, psfWidth, psfWidth*1.75)\n",
    " \n",
    "\n",
    "num_cores = multiprocessing.cpu_count() / 2\n",
    "results2 = Parallel(n_jobs=num_cores)(delayed(processInput)(i) for i in inputs)"
   ]
  },
  {
   "cell_type": "code",
   "execution_count": 17,
   "metadata": {
    "collapsed": false
   },
   "outputs": [
    {
     "name": "stdout",
     "output_type": "stream",
     "text": [
      "(240, 10)\n"
     ]
    },
    {
     "data": {
      "text/html": [
       "<span style=\"font-size:50%; line-height:120%\"><div>\n",
       "<table border=\"1\" class=\"dataframe\">\n",
       "  <thead>\n",
       "    <tr style=\"text-align: right;\">\n",
       "      <th></th>\n",
       "      <th>flux</th>\n",
       "      <th>inputCentroidNeg</th>\n",
       "      <th>inputCentroidPos</th>\n",
       "      <th>psfWidth</th>\n",
       "      <th>rotAngle</th>\n",
       "      <th>separation</th>\n",
       "      <th>xcenNeg</th>\n",
       "      <th>xcenPos</th>\n",
       "      <th>ycenNeg</th>\n",
       "      <th>ycenPos</th>\n",
       "      <th>rmsCentroidPos</th>\n",
       "      <th>rmsCentroidNeg</th>\n",
       "    </tr>\n",
       "  </thead>\n",
       "  <tbody>\n",
       "  </tbody>\n",
       "</table>\n",
       "</div></span>"
      ],
      "text/plain": [
       "<__main__.sizeme instance at 0x114e0c3b0>"
      ]
     },
     "execution_count": 17,
     "metadata": {},
     "output_type": "execute_result"
    }
   ],
   "source": [
    "df = pd.DataFrame(results2)\n",
    "print df.shape\n",
    "df['rmsCentroidPos'] = np.sqrt((np.array([i[0] for i in df.inputCentroidPos]) - df.xcenPos.values)**2. + \\\n",
    "                               (np.array([i[1] for i in df.inputCentroidPos]) - df.ycenPos.values)**2.)\n",
    "df['rmsCentroidNeg'] = np.sqrt((np.array([i[0] for i in df.inputCentroidNeg]) - df.xcenNeg.values)**2. + \\\n",
    "                               (np.array([i[1] for i in df.inputCentroidNeg]) - df.ycenNeg.values)**2.)\n",
    "sizeme(df[df.rmsCentroidPos>1].tail())"
   ]
  },
  {
   "cell_type": "code",
   "execution_count": 18,
   "metadata": {
    "collapsed": false
   },
   "outputs": [
    {
     "data": {
      "text/plain": [
       "<matplotlib.axes._subplots.AxesSubplot at 0x114f55a50>"
      ]
     },
     "execution_count": 18,
     "metadata": {},
     "output_type": "execute_result"
    },
    {
     "data": {
      "image/png": "[encoded data removed]",
      "text/plain": [
       "<matplotlib.figure.Figure at 0x114d5c050>"
      ]
     },
     "metadata": {},
     "output_type": "display_data"
    }
   ],
   "source": [
    "tmp_df = df.groupby('separation').median()\n",
    "tmp_df['separation'] = tmp_df.index.values\n",
    "tmp_df2 = df.groupby('separation').mad() * 1.\n",
    "ax = tmp_df.plot(x='separation', y='rmsCentroidPos', kind='scatter', yerr=tmp_df2['rmsCentroidPos'], color='blue', label='pos')\n",
    "tmp_df.plot(x='separation', y='rmsCentroidNeg', kind='scatter', yerr=tmp_df2['rmsCentroidNeg'], color='red', label='neg', ax=ax)"
   ]
  },
  {
   "cell_type": "code",
   "execution_count": 19,
   "metadata": {
    "collapsed": false
   },
   "outputs": [
    {
     "data": {
      "image/png": "[encoded data removed]",
      "text/plain": [
       "<matplotlib.figure.Figure at 0x1147adcd0>"
      ]
     },
     "metadata": {},
     "output_type": "display_data"
    }
   ],
   "source": [
    "tmp_df = df.groupby('separation').median()\n",
    "tmp_df['separation'] = tmp_df.index.values\n",
    "tmp_df2 = df.groupby('separation').mad() * 1.\n",
    "ax = tmp_df.plot(x='separation', y='flux', kind='scatter', yerr=tmp_df2['flux'], color='blue', label='pos')"
   ]
  },
  {
   "cell_type": "markdown",
   "metadata": {
    "collapsed": true
   },
   "source": [
    "## Different dipole fluxes (signal-to-noise)"
   ]
  },
  {
   "cell_type": "code",
   "execution_count": 20,
   "metadata": {
    "collapsed": false
   },
   "outputs": [
    {
     "name": "stdout",
     "output_type": "stream",
     "text": [
      "5520\n"
     ]
    }
   ],
   "source": [
    "varNames = genDipoleAndFitIt.__code__.co_varnames[:genDipoleAndFitIt.__code__.co_argcount]\n",
    "varTuple = namedtuple(\"varTuple\", varNames)\n",
    "\n",
    "orientations = np.arange(0.0, 360.0, 36.0)\n",
    "separations = np.arange(0.2, 5.0, 0.2)\n",
    "fluxes = np.arange(250., 6000., 250.)\n",
    "\n",
    "inputs = [varTuple(w=51, h=51, xc=25., yc=25., psfWidth=2.0, separation=sep, rotAngle=rot, \n",
    "                    flux=flux, noise=1., verbose=False, display=False) \n",
    "                      for flux in fluxes for rot in orientations for sep in separations]\n",
    "print len(inputs)\n",
    "\n",
    "def processInput(i):\n",
    "    #print i.flux #i.separation, i.rotAngle\n",
    "    output = genDipoleAndFitIt(w=i.w, h=i.h, xc=i.xc, yc=i.yc, psfWidth=i.psfWidth, separation=i.separation, \n",
    "                                 rotAngle=i.rotAngle, flux=i.flux, noise=i.noise, verbose=False, display=False)\n",
    "    output = output.best_values\n",
    "    output['separation'] = i.separation\n",
    "    rotAngRad = i.rotAngle / 180. * np.pi\n",
    "    sep = i.separation / 2.\n",
    "    output['inputCentroidPos'] = (i.xc+sep*np.cos(rotAngRad), i.yc+sep*np.sin(rotAngRad))\n",
    "    output['inputCentroidNeg'] = (i.xc-sep*np.cos(rotAngRad), i.yc-sep*np.sin(rotAngRad))\n",
    "    output['inputFlux'] = i.flux\n",
    "    output['rotAngle'] = i.rotAngle\n",
    "    return output\n",
    "\n",
    "    z = dipoleFunc(in_x, flux, xc+sep*np.cos(rotAngRad), yc+sep*np.sin(rotAngRad), \n",
    "                   xc-sep*np.cos(rotAngRad), yc-sep*np.sin(rotAngRad)) #, psfWidth, psfWidth*1.75)\n",
    " \n",
    "num_cores = multiprocessing.cpu_count() / 2\n",
    "results3 = Parallel(n_jobs=num_cores)(delayed(processInput)(i) for i in inputs)"
   ]
  },
  {
   "cell_type": "code",
   "execution_count": 21,
   "metadata": {
    "collapsed": false
   },
   "outputs": [
    {
     "name": "stdout",
     "output_type": "stream",
     "text": [
      "(5520, 13) (5484, 13)\n"
     ]
    },
    {
     "data": {
      "text/html": [
       "<span style=\"font-size:50%; line-height:120%\"><div>\n",
       "<table border=\"1\" class=\"dataframe\">\n",
       "  <thead>\n",
       "    <tr style=\"text-align: right;\">\n",
       "      <th></th>\n",
       "      <th>flux</th>\n",
       "      <th>inputCentroidNeg</th>\n",
       "      <th>inputCentroidPos</th>\n",
       "      <th>inputFlux</th>\n",
       "      <th>psfWidth</th>\n",
       "      <th>rotAngle</th>\n",
       "      <th>separation</th>\n",
       "      <th>xcenNeg</th>\n",
       "      <th>xcenPos</th>\n",
       "      <th>ycenNeg</th>\n",
       "      <th>ycenPos</th>\n",
       "      <th>rmsCentroidPos</th>\n",
       "      <th>rmsCentroidNeg</th>\n",
       "    </tr>\n",
       "  </thead>\n",
       "  <tbody>\n",
       "    <tr>\n",
       "      <th>1</th>\n",
       "      <td>89787.209281</td>\n",
       "      <td>(24.8, 25.0)</td>\n",
       "      <td>(25.2, 25.0)</td>\n",
       "      <td>250</td>\n",
       "      <td>2</td>\n",
       "      <td>0</td>\n",
       "      <td>0.4</td>\n",
       "      <td>25.499543</td>\n",
       "      <td>25.500636</td>\n",
       "      <td>25.500000</td>\n",
       "      <td>25.500000</td>\n",
       "      <td>0.583423</td>\n",
       "      <td>0.859861</td>\n",
       "    </tr>\n",
       "    <tr>\n",
       "      <th>96</th>\n",
       "      <td>84289.862324</td>\n",
       "      <td>(25.0809016994, 24.9412214748)</td>\n",
       "      <td>(24.9190983006, 25.0587785252)</td>\n",
       "      <td>250</td>\n",
       "      <td>2</td>\n",
       "      <td>144</td>\n",
       "      <td>0.2</td>\n",
       "      <td>25.499897</td>\n",
       "      <td>25.499337</td>\n",
       "      <td>25.499970</td>\n",
       "      <td>25.500358</td>\n",
       "      <td>0.729157</td>\n",
       "      <td>0.698396</td>\n",
       "    </tr>\n",
       "    <tr>\n",
       "      <th>196</th>\n",
       "      <td>85932.666529</td>\n",
       "      <td>(24.8454915028, 25.4755282581)</td>\n",
       "      <td>(25.1545084972, 24.5244717419)</td>\n",
       "      <td>250</td>\n",
       "      <td>2</td>\n",
       "      <td>288</td>\n",
       "      <td>1.0</td>\n",
       "      <td>24.952703</td>\n",
       "      <td>24.953764</td>\n",
       "      <td>24.682520</td>\n",
       "      <td>24.679868</td>\n",
       "      <td>0.253863</td>\n",
       "      <td>0.800223</td>\n",
       "    </tr>\n",
       "    <tr>\n",
       "      <th>528</th>\n",
       "      <td>86109.492290</td>\n",
       "      <td>(24.9690983006, 24.9048943484)</td>\n",
       "      <td>(25.0309016994, 25.0951056516)</td>\n",
       "      <td>750</td>\n",
       "      <td>2</td>\n",
       "      <td>72</td>\n",
       "      <td>0.2</td>\n",
       "      <td>24.919451</td>\n",
       "      <td>24.920176</td>\n",
       "      <td>24.915490</td>\n",
       "      <td>24.917098</td>\n",
       "      <td>0.209635</td>\n",
       "      <td>0.050766</td>\n",
       "    </tr>\n",
       "    <tr>\n",
       "      <th>3867</th>\n",
       "      <td>81756.731263</td>\n",
       "      <td>(24.6763932023, 24.7648858991)</td>\n",
       "      <td>(25.3236067977, 25.2351141009)</td>\n",
       "      <td>4250</td>\n",
       "      <td>2</td>\n",
       "      <td>36</td>\n",
       "      <td>0.8</td>\n",
       "      <td>24.980264</td>\n",
       "      <td>25.013439</td>\n",
       "      <td>24.993662</td>\n",
       "      <td>25.018094</td>\n",
       "      <td>0.378553</td>\n",
       "      <td>0.380363</td>\n",
       "    </tr>\n",
       "  </tbody>\n",
       "</table>\n",
       "</div></span>"
      ],
      "text/plain": [
       "<__main__.sizeme instance at 0x117fcab90>"
      ]
     },
     "execution_count": 21,
     "metadata": {},
     "output_type": "execute_result"
    }
   ],
   "source": [
    "df = pd.DataFrame(results3)\n",
    "df['rmsCentroidPos'] = np.sqrt((np.array([i[0] for i in df.inputCentroidPos]) - df.xcenPos.values)**2. + \\\n",
    "                               (np.array([i[1] for i in df.inputCentroidPos]) - df.ycenPos.values)**2.)\n",
    "df['rmsCentroidNeg'] = np.sqrt((np.array([i[0] for i in df.inputCentroidNeg]) - df.xcenNeg.values)**2. + \\\n",
    "                               (np.array([i[1] for i in df.inputCentroidNeg]) - df.ycenNeg.values)**2.)\n",
    "\n",
    "## Filter out bad values where the fit was obviously bad -- TBD - throw an error upstream instead.\n",
    "print df.shape, df[df.flux < 90000.].shape\n",
    "df = df[df.flux < 90000.]\n",
    "sizeme(df[df.flux > 80000.].head())"
   ]
  },
  {
   "cell_type": "code",
   "execution_count": 22,
   "metadata": {
    "collapsed": false
   },
   "outputs": [
    {
     "data": {
      "text/plain": [
       "<matplotlib.axes._subplots.AxesSubplot at 0x116b69710>"
      ]
     },
     "execution_count": 22,
     "metadata": {},
     "output_type": "execute_result"
    },
    {
     "data": {
      "image/png": "[encoded data removed]",
      "text/plain": [
       "<matplotlib.figure.Figure at 0x116b3acd0>"
      ]
     },
     "metadata": {},
     "output_type": "display_data"
    }
   ],
   "source": [
    "tmp_df = df.groupby('separation').median()\n",
    "tmp_df['separation'] = tmp_df.index.values\n",
    "tmp_df2 = df.groupby('separation').mad() * 1.\n",
    "ax = tmp_df.plot(x='separation', y='rmsCentroidPos', kind='scatter', yerr=tmp_df2['rmsCentroidPos'], color='blue', label='pos')\n",
    "tmp_df.plot(x='separation', y='rmsCentroidNeg', kind='scatter', yerr=tmp_df2['rmsCentroidNeg'], color='red', label='neg', ax=ax)"
   ]
  },
  {
   "cell_type": "code",
   "execution_count": 23,
   "metadata": {
    "collapsed": false
   },
   "outputs": [
    {
     "data": {
      "text/plain": [
       "<matplotlib.axes._subplots.AxesSubplot at 0x116bafcd0>"
      ]
     },
     "execution_count": 23,
     "metadata": {},
     "output_type": "execute_result"
    },
    {
     "data": {
      "image/png": "[encoded data removed]",
      "text/plain": [
       "<matplotlib.figure.Figure at 0x114984910>"
      ]
     },
     "metadata": {},
     "output_type": "display_data"
    }
   ],
   "source": [
    "tmp_df = df.groupby('inputFlux').median()\n",
    "tmp_df['inputFlux'] = tmp_df.index.values\n",
    "tmp_df2 = df.groupby('inputFlux').mad() * 1.\n",
    "ax = tmp_df.plot(x='inputFlux', y='rmsCentroidPos', kind='scatter', yerr=tmp_df2['rmsCentroidPos'], color='blue', label='pos')\n",
    "tmp_df.plot(x='inputFlux', y='rmsCentroidNeg', kind='scatter', yerr=tmp_df2['rmsCentroidNeg'], color='red', label='neg', ax=ax)"
   ]
  },
  {
   "cell_type": "code",
   "execution_count": 24,
   "metadata": {
    "collapsed": false
   },
   "outputs": [
    {
     "data": {
      "image/png": "[encoded data removed]",
      "text/plain": [
       "<matplotlib.figure.Figure at 0x117129650>"
      ]
     },
     "metadata": {},
     "output_type": "display_data"
    }
   ],
   "source": [
    "tmp_df = df.groupby('inputFlux').median()\n",
    "tmp_df['inputFlux'] = tmp_df.index.values\n",
    "tmp_df2 = df.groupby('inputFlux').mad() * 1.\n",
    "ax = tmp_df.plot(x='inputFlux', y='flux', kind='scatter', color='blue', label='pos', yerr=tmp_df2['flux'])"
   ]
  },
  {
   "cell_type": "code",
   "execution_count": null,
   "metadata": {
    "collapsed": true
   },
   "outputs": [],
   "source": []
  }
 ],
 "metadata": {
  "kernelspec": {
   "display_name": "Python 2",
   "language": "python",
   "name": "python2"
  },
  "language_info": {
   "codemirror_mode": {
    "name": "ipython",
    "version": 2
   },
   "file_extension": ".py",
   "mimetype": "text/x-python",
   "name": "python",
   "nbconvert_exporter": "python",
   "pygments_lexer": "ipython2",
   "version": "2.7.11"
  }
 },
 "nbformat": 4,
 "nbformat_minor": 0
}
