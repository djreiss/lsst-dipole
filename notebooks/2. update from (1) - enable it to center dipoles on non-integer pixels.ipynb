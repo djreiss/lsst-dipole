{
 "cells": [
  {
   "cell_type": "markdown",
   "metadata": {},
   "source": [
    "somewhere else, do:\n",
    "```\n",
    "git clone https://github.com/lsst/ip_diffim.git\n",
    "cd ip_diffim\n",
    "source ~/lsstsw/setup.csh\n",
    "setup -t b1813 ip_diffim\n",
    "setup -k -r .\n",
    "scons\n",
    "```\n",
    "now edit and run the code in here."
   ]
  },
  {
   "cell_type": "code",
   "execution_count": 1,
   "metadata": {
    "collapsed": false
   },
   "outputs": [],
   "source": [
    "%matplotlib inline\n",
    "#%matplotlib notebook\n",
    "import matplotlib.pyplot as plt"
   ]
  },
  {
   "cell_type": "code",
   "execution_count": 2,
   "metadata": {
    "collapsed": true
   },
   "outputs": [],
   "source": [
    "import numpy as np\n",
    "\n",
    "import lsst.utils.tests as tests\n",
    "import lsst.daf.base as dafBase\n",
    "#import lsst.afw.display.ds9 as ds9\n",
    "import lsst.afw.image as afwImage\n",
    "import lsst.afw.geom as afwGeom\n",
    "import lsst.afw.table as afwTable\n",
    "import lsst.afw.math as afwMath\n",
    "import lsst.meas.algorithms as measAlg\n",
    "import lsst.ip.diffim as ipDiffim\n",
    "\n",
    "np.random.seed(666)"
   ]
  },
  {
   "cell_type": "code",
   "execution_count": 3,
   "metadata": {
    "collapsed": false
   },
   "outputs": [],
   "source": [
    "## Code updated from lsstsw/build/ip_diffim/tests/dipole.py\n",
    "\n",
    "## Old code used a double gaussian psf which has the problem that it is pixel-oriented.\n",
    "## Let's use afwMath.DoubleGaussianFunction2D() instead...\n",
    "## Change parameterization to pixels - separation (in pixels) and psfWidth (pixels)\n",
    "\n",
    "## Weird behavior, this fails the dipole lobes are not offset from each other in y direction (hence the +0.05 below...)\n",
    "\n",
    "def createDipole(w=100, h=100, xc=50., yc=50., separation=2.4, scaling = 100.0, psfWidth=2.0, display=False):  ## fracOffset = 1.2, psfSize=17, \n",
    "    # Make random noise image: set image plane to normal distribution\n",
    "    image = afwImage.MaskedImageF(w,h)\n",
    "    image.set(0)\n",
    "    array = image.getImage().getArray()\n",
    "    array[:,:] = np.random.randn(w,h)\n",
    "    # Set variance to 1.0 -- update, should set variance after adding flux\n",
    "    var   = image.getVariance()\n",
    "    var.set(1.0)\n",
    "        \n",
    "    # Create Psf for dipole creation and measurement. Need a psf object too (for source detection below)\n",
    "    psfSize = int(psfWidth * 20.) + 1\n",
    "    psf = measAlg.DoubleGaussianPsf(psfSize, psfSize, psfWidth, psfWidth*1.75, 0.1) ## 2.0, 3.5, 0.1)\n",
    "    generator = afwMath.DoubleGaussianFunction2D(psfWidth, psfWidth*1.75, 0.1)    \n",
    "\n",
    "    psfim = psf.computeImage().convertF()\n",
    "    psfim *= scaling / psf.computePeak()\n",
    "    psfw, psfh = psfim.getDimensions()\n",
    "    psfSum = np.sum(psfim.getArray())\n",
    "\n",
    "    if display:\n",
    "        #ds9.mtv(image, frame=1, title=\"Original image\")\n",
    "        #ds9.mtv(image.getVariance(), frame=2, title=\"Original variance\")\n",
    "        psf_arr = psf.computeImage().convertF().getArray()\n",
    "        plt.imshow(np.rot90(psf_arr), cmap='gray', extent=(0,psfSize-1,0,psfSize-1), interpolation='none')\n",
    "        plt.plot(psfw//2, psfw//2, 'bo')\n",
    "        plt.title(\"PSF\")\n",
    "        plt.show()\n",
    "\n",
    "    # Create the dipole separated by pixels instead of the old fracOffset of Psf FWHM\n",
    "    array  = image.getImage().getArray()\n",
    "    xp, yp = xc - separation/2., yc #- 0.05 #separation/2. ##xc - psfw//2 + offset, yc - psfh//2 + offset\n",
    "    imPos = np.ndarray( (w,h), buffer=np.array([ generator(i-xp,j-yp) for i in xrange(w) for j in xrange(h) ]) )\n",
    "    array[:] += imPos/np.max(imPos)*scaling\n",
    "    psfSum = np.sum(imPos/np.max(imPos)*scaling) # get more accurate input \"flux\"\n",
    "\n",
    "    xn, yn = xc + separation/2., yc #+ 0.05 #separation/2. ##xn, yn = xc - psfw//2 - offset, yc - psfh//2 - offset\n",
    "    imPos = np.ndarray( (w,h), buffer=np.array([ generator(i-xn,j-yn) for i in xrange(w) for j in xrange(h) ]) )\n",
    "    array[:] -= imPos/np.max(imPos)*scaling\n",
    "    \n",
    "    print xp, yp\n",
    "    print xn, yn\n",
    "    dipoleCenters = {'pos': (xp, yp), 'neg':(xn, yn)}\n",
    "\n",
    "    # Create an exposure, detect positive and negative peaks separately\n",
    "    # Need to create a psf object anyway, so that's why we did it above, same parameters as the function.\n",
    "    \n",
    "    exp = afwImage.makeExposure(image)\n",
    "    exp.setPsf(psf)\n",
    "\n",
    "    if display:\n",
    "        #ds9.mtv(image, frame=3, title=\"With dipole\")\n",
    "        img_arr, mask_arr, var_arr = exp.getMaskedImage().getArrays()\n",
    "        plt.title(\"Original image with dipole\")\n",
    "        plt.imshow(np.rot90(img_arr), vmin=-scaling, vmax=scaling, cmap='gray', extent=(0,99,0,99), interpolation='none')\n",
    "        plt.plot(xp, yp, 'bx')\n",
    "        plt.plot(xn, yn, 'bx')\n",
    "        ##plt.show()\n",
    "    \n",
    "    config = measAlg.SourceDetectionConfig()\n",
    "    config.thresholdPolarity = \"both\"\n",
    "    config.reEstimateBackground = True\n",
    "    schema = afwTable.SourceTable.makeMinimalSchema()\n",
    "    task = measAlg.SourceDetectionTask(schema, config=config)\n",
    "    table = afwTable.SourceTable.make(schema)\n",
    "    results = task.makeSourceCatalog(table, exp)\n",
    "#     if display:\n",
    "#         ds9.mtv(image, frame=4, title=\"Detection plane\")\n",
    "        \n",
    "    # Merge them together\n",
    "    assert(len(results.sources) == 2)\n",
    "    fpSet = results.fpSets.positive\n",
    "    fpSet.merge(results.fpSets.negative, 1, 1, False) ## note used to be tGrow=0, rGrow=0, but sometimes sources were not merged.\n",
    "    sources = afwTable.SourceCatalog(table)\n",
    "    fpSet.makeSources(sources)\n",
    "    assert(len(sources) == 1)\n",
    "    s = sources[0]\n",
    "    assert(len(s.getFootprint().getPeaks()) == 2)\n",
    "\n",
    "    if display:\n",
    "        ## first overlay the fp centers on the input image and show it.\n",
    "        for pk in s.getFootprint().getPeaks():\n",
    "            print pk.getIy(), pk.getIx()\n",
    "            plt.plot(pk.getIy(), pk.getIx(), 'rx')\n",
    "        plt.show()\n",
    "        \n",
    "        img_arr, mask_arr, var_arr = exp.getMaskedImage().getArrays()\n",
    "        plt.title(\"Detection plane\")\n",
    "        plt.imshow(np.rot90(mask_arr), vmin=-100, vmax=100, cmap='gray', extent=(0,99,0,99), interpolation='none')\n",
    "        for pk in s.getFootprint().getPeaks():\n",
    "            plt.plot(pk.getIy(), pk.getIx(), 'rx')\n",
    "        plt.show()\n",
    "        \n",
    "    return psf, psfSum, exp, s, dipoleCenters"
   ]
  },
  {
   "cell_type": "code",
   "execution_count": 4,
   "metadata": {
    "collapsed": false
   },
   "outputs": [
    {
     "data": {
      "image/png": "[encoded data removed]",
      "text/plain": [
       "<matplotlib.figure.Figure at 0x118448cd0>"
      ]
     },
     "metadata": {},
     "output_type": "display_data"
    },
    {
     "name": "stdout",
     "output_type": "stream",
     "text": [
      "48.8 50\n",
      "51.2 50\n",
      "47 50\n",
      "53 50\n"
     ]
    },
    {
     "data": {
      "image/png": "[encoded data removed]",
      "text/plain": [
       "<matplotlib.figure.Figure at 0x11876d350>"
      ]
     },
     "metadata": {},
     "output_type": "display_data"
    },
    {
     "data": {
      "image/png": "[encoded data removed]",
      "text/plain": [
       "<matplotlib.figure.Figure at 0x118939810>"
      ]
     },
     "metadata": {},
     "output_type": "display_data"
    },
    {
     "name": "stdout",
     "output_type": "stream",
     "text": [
      "2998.55348293 {'neg': (51.2, 50), 'pos': (48.8, 50)}\n"
     ]
    }
   ],
   "source": [
    "w, h = 100, 100 # size of image\n",
    "xc, yc = 50, 50 # location of center of dipole\n",
    "separation = 2.4\n",
    "psf, psfSum, exposure, s, dipoleCenters = createDipole(w, h, xc, yc, separation=separation, display=True)\n",
    "print psfSum, dipoleCenters"
   ]
  },
  {
   "cell_type": "code",
   "execution_count": 5,
   "metadata": {
    "collapsed": true
   },
   "outputs": [],
   "source": [
    "## I think this is the meat of the code that runs the measurement. How do I get the complete set of (fitted) parameters out? \n",
    "## THat is the question!\n",
    "## OK, figured it out, see below...\n",
    "def measureDipole(s, exp):\n",
    "    msConfig = ipDiffim.DipoleMeasurementConfig()\n",
    "    schema = afwTable.SourceTable.makeMinimalSchema()\n",
    "    schema.addField(\"centroid_x\", type=float)\n",
    "    schema.addField(\"centroid_y\", type=float)\n",
    "    schema.addField(\"centroid_flag\", type='Flag')\n",
    "    task = ipDiffim.DipoleMeasurementTask(schema, config=msConfig)\n",
    "    measCat = afwTable.SourceCatalog(schema)\n",
    "    measCat.defineCentroid(\"centroid\")\n",
    "    source = measCat.addNew()\n",
    "    source.set(\"centroid_x\", xc)\n",
    "    source.set(\"centroid_y\", yc)\n",
    "    source.setFootprint(s.getFootprint())\n",
    "\n",
    "    print 'DIPOLE: ', source.get(\"classification_dipole\") ## from ipDiffim.DipoleMeasurementTask._ClassificationFlag\n",
    "    # Then run the default SFM task.  Results not checked\n",
    "    task.run(measCat, exp)\n",
    "    return measCat  ##[0] "
   ]
  },
  {
   "cell_type": "code",
   "execution_count": 6,
   "metadata": {
    "collapsed": false
   },
   "outputs": [
    {
     "name": "stdout",
     "output_type": "stream",
     "text": [
      "DIPOLE:  nan\n",
      "DIPOLE:  1.0\n",
      "[2: (50,53)  (50.000,53.000), 1: (50,47)  (50.000,47.000)]\n",
      "(50, 50)\n",
      "50.008808136 47.1697044373 49.9934577942 52.819442749\n",
      "50.0075509054 48.8050569885 50.0017368924 51.184609386\n",
      "3028.95736254 -3030.94119367\n"
     ]
    }
   ],
   "source": [
    "#print 'DIPOLE: ' + s.get(dipoleFlag)\n",
    "sources = measureDipole(s, exposure) ## OK, this just returns the input coords but should set a dipole flag if it fits to a dipole\n",
    "print 'DIPOLE: ', sources[0].get(\"classification_dipole\") ## from ipDiffim.DipoleMeasurementTask._ClassificationFlag\n",
    "source = sources[0]\n",
    "fp     = source.getFootprint()\n",
    "peaks  = fp.getPeaks()\n",
    "speaks = [(p.getPeakValue(), p) for p in peaks]\n",
    "speaks.sort()\n",
    "dpeaks = [speaks[0][1], speaks[-1][1]]\n",
    "print dpeaks\n",
    "##print source.schema\n",
    "print source.getCentroid() ## This just returns the values set in the \"source.set(\"centroid_x\", xc), ...\" lines... ??\n",
    "print source.get(\"ip_diffim_NaiveDipoleCentroid_pos_x\"), source.get(\"ip_diffim_NaiveDipoleCentroid_pos_y\"), \\\n",
    "    source.get(\"ip_diffim_NaiveDipoleCentroid_neg_x\"), source.get(\"ip_diffim_NaiveDipoleCentroid_neg_y\")\n",
    "print source.get(\"ip_diffim_PsfDipoleFlux_pos_centroid_x\"), source.get(\"ip_diffim_PsfDipoleFlux_pos_centroid_y\"), \\\n",
    "    source.get(\"ip_diffim_PsfDipoleFlux_neg_centroid_x\"), source.get(\"ip_diffim_PsfDipoleFlux_neg_centroid_y\")\n",
    "print source.get(\"ip_diffim_PsfDipoleFlux_pos_flux\"), source.get(\"ip_diffim_PsfDipoleFlux_neg_flux\")"
   ]
  },
  {
   "cell_type": "code",
   "execution_count": 7,
   "metadata": {
    "collapsed": false
   },
   "outputs": [
    {
     "name": "stdout",
     "output_type": "stream",
     "text": [
      "60.4238122554 (50.005, 49.995) 3.13915 rad\n"
     ]
    }
   ],
   "source": [
    "## provides (S/N, position, orientation) of measured dipoles\n",
    "dpAnalysis = ipDiffim.DipoleAnalysis()\n",
    "sn, centroid, orientation = dpAnalysis(source)\n",
    "print sn, centroid, orientation"
   ]
  },
  {
   "cell_type": "code",
   "execution_count": 8,
   "metadata": {
    "collapsed": false
   },
   "outputs": [
    {
     "name": "stdout",
     "output_type": "stream",
     "text": [
      "(50, 50)\n",
      "50.008808136 47.1697044373 49.9934577942 52.819442749\n",
      "50.0075509054 48.8050569885 50.0017368924 51.184609386\n",
      "3028.95736254 -3030.94119367\n"
     ]
    }
   ],
   "source": [
    "## deblend a source as a dipole, and return a new source with deblended footprints.\n",
    "dpDeblender = ipDiffim.DipoleDeblender()\n",
    "deblendedSource = dpDeblender(source, exposure)\n",
    "print deblendedSource.getCentroid()\n",
    "print deblendedSource.get(\"ip_diffim_NaiveDipoleCentroid_pos_x\"), deblendedSource.get(\"ip_diffim_NaiveDipoleCentroid_pos_y\"), \\\n",
    "    deblendedSource.get(\"ip_diffim_NaiveDipoleCentroid_neg_x\"), deblendedSource.get(\"ip_diffim_NaiveDipoleCentroid_neg_y\")\n",
    "print deblendedSource.get(\"ip_diffim_PsfDipoleFlux_pos_centroid_x\"), deblendedSource.get(\"ip_diffim_PsfDipoleFlux_pos_centroid_y\"), \\\n",
    "    deblendedSource.get(\"ip_diffim_PsfDipoleFlux_neg_centroid_x\"), deblendedSource.get(\"ip_diffim_PsfDipoleFlux_neg_centroid_y\")\n",
    "print deblendedSource.get(\"ip_diffim_PsfDipoleFlux_pos_flux\"), deblendedSource.get(\"ip_diffim_PsfDipoleFlux_neg_flux\")"
   ]
  },
  {
   "cell_type": "code",
   "execution_count": 9,
   "metadata": {
    "collapsed": false
   },
   "outputs": [],
   "source": [
    "# Recreate the simultaneous joint Psf fit in python\n",
    "## This just fits for the flux of the dipole lobes, given a pair of input centroids.\n",
    "def _makeModel(exposure, psf, fp, negCenter, posCenter, display=False):\n",
    "    negPsf = psf.computeImage(negCenter).convertF()\n",
    "    posPsf = psf.computeImage(posCenter).convertF()\n",
    "    negPeak = psf.computePeak(negCenter)\n",
    "    posPeak = psf.computePeak(posCenter)\n",
    "    negPsf /= negPeak\n",
    "    posPsf /= posPeak\n",
    "\n",
    "    model    = afwImage.ImageF(fp.getBBox())\n",
    "    negModel = afwImage.ImageF(fp.getBBox())\n",
    "    posModel = afwImage.ImageF(fp.getBBox())\n",
    "\n",
    "    # The center of the Psf should be at negCenter, posCenter\n",
    "    negPsfBBox = negPsf.getBBox()\n",
    "    posPsfBBox = posPsf.getBBox()\n",
    "    modelBBox  = model.getBBox()\n",
    "\n",
    "    # Portion of the negative Psf that overlaps the montage\n",
    "    negOverlapBBox = afwGeom.Box2I(negPsfBBox)\n",
    "    negOverlapBBox.clip(modelBBox)\n",
    "    #self.assertFalse(negOverlapBBox.isEmpty())\n",
    "\n",
    "    # Portion of the positivePsf that overlaps the montage\n",
    "    posOverlapBBox = afwGeom.Box2I(posPsfBBox)\n",
    "    posOverlapBBox.clip(modelBBox)\n",
    "    #self.assertFalse(posOverlapBBox.isEmpty())\n",
    "\n",
    "    negPsfSubim    = type(negPsf)(negPsf, negOverlapBBox)\n",
    "    modelSubim     = type(model)(model, negOverlapBBox)\n",
    "    negModelSubim  = type(negModel)(negModel, negOverlapBBox)\n",
    "    modelSubim    += negPsfSubim  # just for debugging\n",
    "    negModelSubim += negPsfSubim  # for fitting\n",
    "\n",
    "    posPsfSubim    = type(posPsf)(posPsf, posOverlapBBox)\n",
    "    modelSubim     = type(model)(model, posOverlapBBox)\n",
    "    posModelSubim  = type(posModel)(posModel, posOverlapBBox)\n",
    "    modelSubim    += posPsfSubim\n",
    "    posModelSubim += posPsfSubim\n",
    "\n",
    "    data = afwImage.ImageF(exposure.getMaskedImage().getImage(), fp.getBBox())\n",
    "    var = afwImage.ImageF(exposure.getMaskedImage().getVariance(), fp.getBBox())\n",
    "    matrixNorm = 1. / np.sqrt(np.median(var.getArray()))\n",
    "\n",
    "    posPsfSum = np.sum(posPsf.getArray())\n",
    "    negPsfSum = np.sum(negPsf.getArray())\n",
    "\n",
    "    M = np.array((np.ravel(negModel.getArray()), np.ravel(posModel.getArray()))).T.astype(np.float64)\n",
    "    B = np.array((np.ravel(data.getArray()))).astype(np.float64)\n",
    "    M *= matrixNorm\n",
    "    B *= matrixNorm\n",
    "\n",
    "    # Numpy solution\n",
    "    fneg0, fpos0 = np.linalg.lstsq(M, B)[0]\n",
    "\n",
    "    # Afw solution\n",
    "    lsq = afwMath.LeastSquares.fromDesignMatrix(M, B, afwMath.LeastSquares.DIRECT_SVD)\n",
    "    fneg, fpos = lsq.getSolution()\n",
    "\n",
    "    # Should be exaxtly the same as each other\n",
    "    #self.assertAlmostEqual(1e-2*fneg0,  1e-2*fneg)\n",
    "    #self.assertAlmostEqual(1e-2*fpos0,  1e-2*fpos)\n",
    "\n",
    "    # Recreate model\n",
    "    fitted  = afwImage.ImageF(fp.getBBox())\n",
    "    negFit  = type(negPsf)(negPsf, negOverlapBBox, afwImage.PARENT, True)\n",
    "    negFit *= float(fneg)\n",
    "    posFit  = type(posPsf)(posPsf, posOverlapBBox, afwImage.PARENT, True)\n",
    "    posFit *= float(fpos)\n",
    "\n",
    "    fitSubim  = type(fitted)(fitted, negOverlapBBox)\n",
    "    fitSubim += negFit\n",
    "    fitSubim  = type(fitted)(fitted, posOverlapBBox)\n",
    "    fitSubim += posFit\n",
    "    \n",
    "    if display:\n",
    "    #    ds9.mtv(model, frame=5, title=\"Unfitted model\")\n",
    "    #    ds9.mtv(data, frame=6, title=\"Data\")\n",
    "        fig = plt.figure()\n",
    "        a = fig.add_subplot(1,3,1)\n",
    "        plt.imshow(np.rot90(model.getArray()), cmap='gray', extent=(0,99,0,99), interpolation='none')\n",
    "        plt.title('Unfitted model (footprint?)')\n",
    "        #plt.show()\n",
    "        a = fig.add_subplot(1,3,2)\n",
    "        plt.imshow(np.rot90(data.getArray()), cmap='gray', extent=(0,99,0,99), interpolation='none')\n",
    "        plt.title('Data')\n",
    "        #plt.show()\n",
    "\n",
    "    #if display:\n",
    "    #    ds9.mtv(fitted, frame=7, title=\"Fitted model\")\n",
    "        a = fig.add_subplot(1,3,3)\n",
    "        plt.imshow(np.rot90(fitted.getArray()), cmap='gray', extent=(0,99,0,99), interpolation='none')\n",
    "        plt.title('Fitted model')\n",
    "        plt.show()\n",
    "\n",
    "    fitted   -= data\n",
    "\n",
    "    if display:\n",
    "    #    ds9.mtv(fitted, frame=8, title=\"Residuals\")\n",
    "        plt.imshow(np.rot90(fitted.getArray()), cmap='gray', extent=(0,99,0,99), interpolation='none')\n",
    "        plt.title('Residuals')\n",
    "        plt.show()\n",
    "\n",
    "    fitted   *= fitted\n",
    "    fitted   /= var\n",
    "\n",
    "    if display:\n",
    "    #    ds9.mtv(fitted, frame=9, title=\"Chi2\")\n",
    "        plt.imshow(np.rot90(fitted.getArray()), cmap='gray', extent=(0,99,0,99), interpolation='none')\n",
    "        plt.title('Chi2')\n",
    "        plt.show()\n",
    "\n",
    "    return fneg, negPsfSum, fpos, posPsfSum, fitted"
   ]
  },
  {
   "cell_type": "code",
   "execution_count": 10,
   "metadata": {
    "collapsed": false
   },
   "outputs": [
    {
     "name": "stdout",
     "output_type": "stream",
     "text": [
      "(50, 47) (50, 53)\n"
     ]
    },
    {
     "data": {
      "image/png": "[encoded data removed]",
      "text/plain": [
       "<matplotlib.figure.Figure at 0x11892cc50>"
      ]
     },
     "metadata": {},
     "output_type": "display_data"
    },
    {
     "data": {
      "image/png": "[encoded data removed]",
      "text/plain": [
       "<matplotlib.figure.Figure at 0x118c61f90>"
      ]
     },
     "metadata": {},
     "output_type": "display_data"
    },
    {
     "data": {
      "image/png": "[encoded data removed]",
      "text/plain": [
       "<matplotlib.figure.Figure at 0x118c95ad0>"
      ]
     },
     "metadata": {},
     "output_type": "display_data"
    },
    {
     "name": "stdout",
     "output_type": "stream",
     "text": [
      "0.532784361312 0.531943900164\n"
     ]
    }
   ],
   "source": [
    "negCenter = afwGeom.Point2D(dpeaks[0].getFx(), dpeaks[0].getFy())\n",
    "posCenter = afwGeom.Point2D(dpeaks[1].getFx(), dpeaks[1].getFy())\n",
    "print posCenter, negCenter\n",
    "\n",
    "fneg, negPsfSum, fpos, posPsfSum, residIm = _makeModel(exposure, psf, fp, negCenter, posCenter, display=True)\n",
    "\n",
    "# Should be close to the same as the inputs; as fracOffset\n",
    "# gets smaller this will be worse.\n",
    "print -1e-2*fneg,  1e-2*fpos\n",
    "\n",
    "## Looks like ACB's test code uses the integral value for the naive dipole fitted peak centroid...?"
   ]
  },
  {
   "cell_type": "code",
   "execution_count": 11,
   "metadata": {
    "collapsed": false
   },
   "outputs": [
    {
     "name": "stdout",
     "output_type": "stream",
     "text": [
      "(50.008, 48.805) (50.002, 51.185)\n"
     ]
    },
    {
     "data": {
      "image/png": "[encoded data removed]",
      "text/plain": [
       "<matplotlib.figure.Figure at 0x118da9ed0>"
      ]
     },
     "metadata": {},
     "output_type": "display_data"
    },
    {
     "data": {
      "image/png": "[encoded data removed]",
      "text/plain": [
       "<matplotlib.figure.Figure at 0x11929ebd0>"
      ]
     },
     "metadata": {},
     "output_type": "display_data"
    },
    {
     "data": {
      "image/png": "[encoded data removed]",
      "text/plain": [
       "<matplotlib.figure.Figure at 0x119408050>"
      ]
     },
     "metadata": {},
     "output_type": "display_data"
    },
    {
     "name": "stdout",
     "output_type": "stream",
     "text": [
      "1.01555886996 1.01489274819\n"
     ]
    }
   ],
   "source": [
    "negCenter = afwGeom.Point2D(source.get(\"ip_diffim_PsfDipoleFlux_neg_centroid_x\"), source.get(\"ip_diffim_PsfDipoleFlux_neg_centroid_y\"))\n",
    "posCenter = afwGeom.Point2D(source.get(\"ip_diffim_PsfDipoleFlux_pos_centroid_x\"), source.get(\"ip_diffim_PsfDipoleFlux_pos_centroid_y\"))\n",
    "print posCenter, negCenter\n",
    "\n",
    "fneg, negPsfSum, fpos, posPsfSum, residIm = _makeModel(exposure, psf, fp, negCenter, posCenter, display=True)\n",
    "\n",
    "# Should be close to the same as the inputs\n",
    "print -1e-2*fneg,  1e-2*fpos"
   ]
  },
  {
   "cell_type": "code",
   "execution_count": null,
   "metadata": {
    "collapsed": true
   },
   "outputs": [],
   "source": []
  }
 ],
 "metadata": {
  "kernelspec": {
   "display_name": "Python 2",
   "language": "python",
   "name": "python2"
  },
  "language_info": {
   "codemirror_mode": {
    "name": "ipython",
    "version": 2
   },
   "file_extension": ".py",
   "mimetype": "text/x-python",
   "name": "python",
   "nbconvert_exporter": "python",
   "pygments_lexer": "ipython2",
   "version": "2.7.10"
  }
 },
 "nbformat": 4,
 "nbformat_minor": 0
}
