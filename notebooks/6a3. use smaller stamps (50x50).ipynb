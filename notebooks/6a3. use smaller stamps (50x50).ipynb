{
 "cells": [
  {
   "cell_type": "markdown",
   "metadata": {},
   "source": [
    "somewhere else, do:\n",
    "```\n",
    "git clone https://github.com/lsst/ip_diffim.git\n",
    "cd ip_diffim\n",
    "source ~/lsstsw/setup.csh\n",
    "#setup -t b1813 ip_diffim\n",
    "#setup -k -r .\n",
    "setup -t 1813 -r .\n",
    "scons\n",
    "```\n",
    "\n",
    "then you will want to add `$HOME/lsstsw/miniconda/lib/python2.7/site-packages` to your `PYTHONPATH` in order to be able to import `joblib` and friends.\n",
    "\n",
    "now edit and run the code in here."
   ]
  },
  {
   "cell_type": "code",
   "execution_count": 1,
   "metadata": {
    "collapsed": false
   },
   "outputs": [],
   "source": [
    "%matplotlib inline\n",
    "#%matplotlib notebook\n",
    "import matplotlib.pyplot as plt\n",
    "\n",
    "import matplotlib\n",
    "matplotlib.style.use('ggplot')\n",
    "\n",
    "from joblib import Parallel, delayed  \n",
    "import multiprocessing\n",
    "\n",
    "import pandas as pd\n",
    "class sizeme():\n",
    "    \"\"\" Class to change html fontsize of object's representation\"\"\"\n",
    "    def __init__(self,ob, size=50, height=120):\n",
    "        self.ob = ob\n",
    "        self.size = size\n",
    "        self.height = height\n",
    "    def _repr_html_(self):\n",
    "        repl_tuple = (self.size, self.height, self.ob._repr_html_())\n",
    "        return u'<span style=\"font-size:{0}%; line-height:{1}%\">{2}</span>'.format(*repl_tuple)"
   ]
  },
  {
   "cell_type": "code",
   "execution_count": 2,
   "metadata": {
    "collapsed": false
   },
   "outputs": [],
   "source": [
    "import sys\n",
    "import numpy as np\n",
    "\n",
    "import lsst.utils.tests as tests\n",
    "import lsst.daf.base as dafBase\n",
    "#import lsst.afw.display.ds9 as ds9\n",
    "import lsst.afw.image as afwImage\n",
    "import lsst.afw.geom as afwGeom\n",
    "import lsst.afw.table as afwTable\n",
    "import lsst.afw.math as afwMath\n",
    "import lsst.meas.algorithms as measAlg\n",
    "import lsst.ip.diffim as ipDiffim\n",
    "\n",
    "np.random.seed(666)"
   ]
  },
  {
   "cell_type": "code",
   "execution_count": 5,
   "metadata": {
    "collapsed": false
   },
   "outputs": [],
   "source": [
    "## Code updated from lsstsw/build/ip_diffim/tests/dipole.py\n",
    "\n",
    "## Old code used a double gaussian psf which has the problem that it is pixel-oriented.\n",
    "## Let's use afwMath.DoubleGaussianFunction2D() instead...\n",
    "## Change parameterization to pixels - separation (in pixels) and psfWidth (pixels)\n",
    "\n",
    "## Weird behavior, this fails the dipole lobes are not offset from each other in y direction (hence the +0.05 below...)\n",
    "## or else we need to use 1,1 in the fpSet.merge() call below (instead of 0,0 which was in the original code)\n",
    "\n",
    "def createDipole(w=100, h=100, xc=50., yc=50., separation=2.4, rotAngle=0.0, flux=3000.0, psfWidth=2.0, verbose=False,\n",
    "                 display=False):  ## fracOffset = 1.2, psfSize=17, \n",
    "    # Make random noise image: set image plane to normal distribution\n",
    "    image = afwImage.MaskedImageF(w,h)\n",
    "    image.set(0)\n",
    "    array = image.getImage().getArray()\n",
    "    array[:,:] = np.random.randn(w,h)\n",
    "    # Set variance to 1.0 -- TODO, should set variance after adding flux\n",
    "    var   = image.getVariance()\n",
    "    var.set(1.0)\n",
    "        \n",
    "    # Create Psf for dipole creation and measurement. Need a psf object too (for source detection below)\n",
    "    psfSize = int(psfWidth * 20.) + 1\n",
    "    psf = measAlg.DoubleGaussianPsf(psfSize, psfSize, psfWidth, psfWidth*1.75, 0.1) ## 2.0, 3.5, 0.1)\n",
    "    generator = afwMath.DoubleGaussianFunction2D(psfWidth, psfWidth*1.75, 0.1)    \n",
    "\n",
    "    psfim = psf.computeImage().convertF()\n",
    "    psfim *= flux / np.sum(psfim.getArray())\n",
    "    psfw, psfh = psfim.getDimensions()\n",
    "    psfSum = np.sum(psfim.getArray())\n",
    "\n",
    "    if display:\n",
    "        #ds9.mtv(image, frame=1, title=\"Original image\")\n",
    "        #ds9.mtv(image.getVariance(), frame=2, title=\"Original variance\")\n",
    "        psf_arr = psf.computeImage().convertF().getArray()\n",
    "        plt.imshow(np.rot90(psf_arr), cmap='gray', extent=(0,psfSize-1,0,psfSize-1), interpolation='none')\n",
    "        plt.plot(psfw//2, psfw//2, 'bo')\n",
    "        plt.title(\"PSF\")\n",
    "        plt.show()\n",
    "\n",
    "    # Create the dipole separated by pixels instead of the old fracOffset of Psf FWHM\n",
    "    # Assume rotAngle is in degrees\n",
    "    rotAngRad = rotAngle / 180. * np.pi\n",
    "    array  = image.getImage().getArray()\n",
    "    xp, yp = xc + separation/2. * np.cos(rotAngRad), yc + separation/2. * np.sin(rotAngRad)\n",
    "    imPos = np.ndarray( (w,h), buffer=np.array([ generator(i-xp,j-yp) for i in xrange(w) for j in xrange(h) ]) )\n",
    "    array[:] += imPos/np.sum(imPos)*flux\n",
    "    psfSum = np.sum(imPos/np.sum(imPos)*flux) # get more accurate input \"flux\"\n",
    "\n",
    "    xn, yn = xc - separation/2. * np.cos(rotAngRad), yc - separation/2. * np.sin(rotAngRad)\n",
    "    imNeg = np.ndarray( (w,h), buffer=np.array([ generator(i-xn,j-yn) for i in xrange(w) for j in xrange(h) ]) )\n",
    "    array[:] -= imNeg/np.sum(imNeg)*flux\n",
    "    \n",
    "    if verbose:\n",
    "        print 'INPUT CENTROID: ', xc, yc\n",
    "        print 'INPUT ANGLE: ', rotAngle, rotAngRad\n",
    "        print 'INPUT POSITIVE CENTROID:', xp, yp\n",
    "        print 'INPUT NEGATIVE CENTROID:', xn, yn\n",
    "    dipoleCenters = {'pos': (xp, yp), 'neg': (xn, yn)}\n",
    "\n",
    "    # Create an exposure, detect positive and negative peaks separately\n",
    "    # Need to create a psf object anyway, so that's why we did it above, same parameters as the function.\n",
    "    \n",
    "    exp = afwImage.makeExposure(image)\n",
    "    exp.setPsf(psf)\n",
    "\n",
    "    if display:\n",
    "        #ds9.mtv(image, frame=3, title=\"With dipole\")\n",
    "        img_arr, mask_arr, var_arr = exp.getMaskedImage().getArrays()\n",
    "        plt.title(\"Original image with dipole\")\n",
    "        plt.imshow(np.rot90(img_arr), vmin=img_arr.min(), vmax=img_arr.max(), cmap='gray', extent=(0,w-1,0,h-1), interpolation='none')\n",
    "        plt.plot(xp, yp, 'bx')\n",
    "        plt.plot(xn, yn, 'bx')\n",
    "        ##plt.show()\n",
    "        \n",
    "    return psf, psfSum, exp, dipoleCenters\n",
    "    \n",
    "def detectDipoleSources(exposure, verbose=False, display=False):\n",
    "    # Detect positive and negative sources in the image. This should be moved to a separate function.\n",
    "    # See meas_algorithms/python/lsst/meas/algorithms/detection.py (SourceDetectionConfig) for config params\n",
    "    config = measAlg.SourceDetectionConfig()\n",
    "    config.thresholdPolarity = \"both\"\n",
    "    config.reEstimateBackground = True\n",
    "    # config.thresholdValue = 5.0   ## how do we set the detection threshold? Default is 5 sigma, set via config.thresholdValue\n",
    "    schema = afwTable.SourceTable.makeMinimalSchema()  \n",
    "    task = measAlg.SourceDetectionTask(schema, config=config)\n",
    "    table = afwTable.SourceTable.make(schema)\n",
    "    results = task.makeSourceCatalog(table, exposure)\n",
    "#     if display:\n",
    "#         ds9.mtv(image, frame=4, title=\"Detection plane\")\n",
    "        \n",
    "    # Merge them together\n",
    "    assert(len(results.sources) == 2)\n",
    "    fpSet = results.fpSets.positive\n",
    "    fpSet.merge(results.fpSets.negative, 1, 1, False) ## note used to be tGrow=0, rGrow=0, but sometimes sources were not merged.\n",
    "    sources = afwTable.SourceCatalog(table)\n",
    "    fpSet.makeSources(sources)\n",
    "    assert(len(sources) == 1)\n",
    "    s = sources[0]\n",
    "    assert(len(s.getFootprint().getPeaks()) == 2)\n",
    "\n",
    "    if verbose:\n",
    "        for pk in s.getFootprint().getPeaks():\n",
    "            print 'FOOTPRINT CENTER:', pk.getIy(), pk.getIx()\n",
    "\n",
    "    if display:\n",
    "        img_arr, mask_arr, var_arr = exposure.getMaskedImage().getArrays()\n",
    "        plt.title(\"Original image with dipole\")\n",
    "        plt.imshow(np.rot90(img_arr), vmin=img_arr.min(), vmax=img_arr.max(), cmap='gray', extent=(0,w-1,0,h-1), interpolation='none')\n",
    "        plt.plot(xp, yp, 'bx')\n",
    "        plt.plot(xn, yn, 'bx')\n",
    "\n",
    "        ## first overlay the fp centers on the input image and show it.\n",
    "        for pk in s.getFootprint().getPeaks():\n",
    "            plt.plot(pk.getIy(), pk.getIx(), 'rx')\n",
    "        plt.show()\n",
    "\n",
    "        img_arr, mask_arr, var_arr = exposure.getMaskedImage().getArrays()\n",
    "        plt.title(\"Detection plane\")\n",
    "        plt.imshow(np.rot90(mask_arr), vmin=-100, vmax=100, cmap='gray', extent=(0,w-1,0,h-1), interpolation='none')\n",
    "        for pk in s.getFootprint().getPeaks():\n",
    "            plt.plot(pk.getIy(), pk.getIx(), 'rx')\n",
    "        plt.show()\n",
    "        \n",
    "    return s"
   ]
  },
  {
   "cell_type": "code",
   "execution_count": 9,
   "metadata": {
    "collapsed": false
   },
   "outputs": [
    {
     "data": {
      "image/png": "[encoded data removed]",
      "text/plain": [
       "<matplotlib.figure.Figure at 0x113762dd0>"
      ]
     },
     "metadata": {},
     "output_type": "display_data"
    },
    {
     "name": "stdout",
     "output_type": "stream",
     "text": [
      "INPUT CENTROID:  25 25\n",
      "INPUT ANGLE:  0.0 0.0\n",
      "INPUT POSITIVE CENTROID: 26.2 25.0\n",
      "INPUT NEGATIVE CENTROID: 23.8 25.0\n",
      "3000.0 {'neg': (23.800000000000001, 25.0), 'pos': (26.199999999999999, 25.0)}\n",
      "CENTROID:  (25.0, 25.0)\n"
     ]
    },
    {
     "data": {
      "image/png": "[encoded data removed]",
      "text/plain": [
       "<matplotlib.figure.Figure at 0x113940cd0>"
      ]
     },
     "metadata": {},
     "output_type": "display_data"
    }
   ],
   "source": [
    "#w, h = 51, 51 # size of image\n",
    "#xc, yc = 25, 25 # location of center of dipole\n",
    "psf, psfSum, exposure, dipoleCenters = createDipole(51, 51, 25, 25, separation=2.4, rotAngle=0., verbose=True, display=True)\n",
    "print psfSum, dipoleCenters\n",
    "s = detectDipoleSources(exposure)\n",
    "dipoleCentroid = (np.mean([dipoleCenters['neg'][0], dipoleCenters['pos'][0]]), np.mean([dipoleCenters['neg'][1], dipoleCenters['pos'][1]]))\n",
    "print 'CENTROID: ', dipoleCentroid"
   ]
  },
  {
   "cell_type": "code",
   "execution_count": 7,
   "metadata": {
    "collapsed": false
   },
   "outputs": [],
   "source": [
    "## I think this is the meat of the code that runs the measurement. How do I get the complete set of (fitted) parameters out? \n",
    "## THat is the question!\n",
    "## OK, figured it out, see below...\n",
    "def measureDipole(s, exp):\n",
    "    msConfig = ipDiffim.DipoleMeasurementConfig()\n",
    "    schema = afwTable.SourceTable.makeMinimalSchema()\n",
    "    schema.addField(\"centroid_x\", type=float)\n",
    "    schema.addField(\"centroid_y\", type=float)\n",
    "    schema.addField(\"centroid_flag\", type='Flag')\n",
    "    task = ipDiffim.DipoleMeasurementTask(schema, config=msConfig)\n",
    "    measCat = afwTable.SourceCatalog(schema)\n",
    "    measCat.defineCentroid(\"centroid\")\n",
    "    source = measCat.addNew()\n",
    "    source.set(\"centroid_x\", dipoleCentroid[0])\n",
    "    source.set(\"centroid_y\", dipoleCentroid[1])\n",
    "    source.setFootprint(s.getFootprint())\n",
    "\n",
    "    #print 'DIPOLE: ', source.get(\"classification_dipole\") ## from ipDiffim.DipoleMeasurementTask._ClassificationFlag\n",
    "    # Then run the default SFM task.  Results not checked\n",
    "    task.run(measCat, exp)\n",
    "    return measCat  ##[0] "
   ]
  },
  {
   "cell_type": "markdown",
   "metadata": {},
   "source": [
    "OK, I see that measureDipole is slow because of the psf fitting - in `DipoleAlgorithms.cc`. It seems to take nearly 1s for some fits (especially for closely-separated dipoles).\n",
    "\n",
    "UPDATE - after compiling with O3, the dipole fitting is ~60ms now!\n",
    "\n",
    "Why is it slow? Possible reasons:\n",
    "\n",
    "1. `PsfDipoleFlux::chi2()` computes the PSF *image* (pos. and neg.) to compute the model, rather than using something like `afwMath.DoubleGaussianFunction2D()` as I do above. Or if that is not possible (may need to use a pixelated input PSF) then speed up the computation of the dipole model image (right now it uses multiple vectorized function calls).\n",
    "2. It spends a lot of time floating around near the minimum and perhaps can be cut off more quickly (note this could be caused by (1.)\n",
    "3. Perhaps its starting parameters (derived from the naive coordinates) could be made more accurate. At least it looks like the starting flux values are being set way too low (looks like +/- 22.0, should be ~3000 -- how is that being set?)\n",
    "4. it computes chi2 over the entire subimage (confirm this?) rather than the inner 2,3,4, or 5 sigma of the PSF (or even better within the source's footprint(s)\n",
    "\n",
    "Need to check out -- maybe because dipole fit is so slow, it's not enabled in the main pipelines, thus it uses the naive method by default which is inaccurate.\n",
    "\n",
    "Note: It seems that the dipole fit is a lot faster for dipoles of greater separation than for those that are closer (it seems the optimization [minuit]) takes longer to converge).\n",
    "\n",
    "But for now, let's just test the algorithm and worry about timing later."
   ]
  },
  {
   "cell_type": "code",
   "execution_count": 8,
   "metadata": {
    "collapsed": false
   },
   "outputs": [
    {
     "name": "stdout",
     "output_type": "stream",
     "text": [
      "10 loops, best of 3: 61.3 ms per loop\n",
      "DIPOLE:  1.0\n",
      "[8: (25,22)  (25.000,22.000), 7: (25,28)  (25.000,28.000)]\n",
      "(25, 25)\n",
      "24.9941616058 27.8339939117 24.9986019135 22.1729125977\n",
      "25.0059319087 26.2444893767 25.0025292022 23.7721522531\n",
      "2931.3594375 -2918.02167102\n"
     ]
    }
   ],
   "source": [
    "#print 'DIPOLE: ' + s.get(dipoleFlag)\n",
    "%timeit measureDipole(s, exposure)\n",
    "sources = measureDipole(s, exposure)\n",
    "print 'DIPOLE: ', sources[0].get(\"classification_dipole\") ## from ipDiffim.DipoleMeasurementTask._ClassificationFlag\n",
    "source = sources[0]\n",
    "fp     = source.getFootprint()\n",
    "peaks  = fp.getPeaks()\n",
    "speaks = [(p.getPeakValue(), p) for p in peaks]\n",
    "speaks.sort()\n",
    "dpeaks = [speaks[0][1], speaks[-1][1]]\n",
    "print dpeaks\n",
    "##print source.schema\n",
    "print source.getCentroid() ## This just returns the values set in the \"source.set(\"centroid_x\", xc), ...\" lines... ??\n",
    "print source.get(\"ip_diffim_NaiveDipoleCentroid_pos_x\"), source.get(\"ip_diffim_NaiveDipoleCentroid_pos_y\"), \\\n",
    "    source.get(\"ip_diffim_NaiveDipoleCentroid_neg_x\"), source.get(\"ip_diffim_NaiveDipoleCentroid_neg_y\")\n",
    "print source.get(\"ip_diffim_PsfDipoleFlux_pos_centroid_x\"), source.get(\"ip_diffim_PsfDipoleFlux_pos_centroid_y\"), \\\n",
    "    source.get(\"ip_diffim_PsfDipoleFlux_neg_centroid_x\"), source.get(\"ip_diffim_PsfDipoleFlux_neg_centroid_y\")\n",
    "print source.get(\"ip_diffim_PsfDipoleFlux_pos_flux\"), source.get(\"ip_diffim_PsfDipoleFlux_neg_flux\")"
   ]
  },
  {
   "cell_type": "code",
   "execution_count": 10,
   "metadata": {
    "collapsed": false
   },
   "outputs": [
    {
     "name": "stdout",
     "output_type": "stream",
     "text": [
      "68.0379457376 (25.004, 25.008) 0.00137631 rad\n"
     ]
    }
   ],
   "source": [
    "## provides (S/N, position, orientation) of measured dipoles\n",
    "dpAnalysis = ipDiffim.DipoleAnalysis()\n",
    "sn, centroid, orientation = dpAnalysis(source)\n",
    "print sn, centroid, orientation"
   ]
  },
  {
   "cell_type": "code",
   "execution_count": 11,
   "metadata": {
    "collapsed": false
   },
   "outputs": [
    {
     "name": "stdout",
     "output_type": "stream",
     "text": [
      "(25, 25)\n",
      "24.9941616058 27.8339939117 24.9986019135 22.1729125977\n",
      "25.0059319087 26.2444893767 25.0025292022 23.7721522531\n",
      "2931.3594375 -2918.02167102\n"
     ]
    }
   ],
   "source": [
    "## deblend a source as a dipole, and return a new source with deblended footprints.\n",
    "dpDeblender = ipDiffim.DipoleDeblender()\n",
    "deblendedSource = dpDeblender(source, exposure)\n",
    "print deblendedSource.getCentroid()\n",
    "print deblendedSource.get(\"ip_diffim_NaiveDipoleCentroid_pos_x\"), deblendedSource.get(\"ip_diffim_NaiveDipoleCentroid_pos_y\"), \\\n",
    "    deblendedSource.get(\"ip_diffim_NaiveDipoleCentroid_neg_x\"), deblendedSource.get(\"ip_diffim_NaiveDipoleCentroid_neg_y\")\n",
    "print deblendedSource.get(\"ip_diffim_PsfDipoleFlux_pos_centroid_x\"), deblendedSource.get(\"ip_diffim_PsfDipoleFlux_pos_centroid_y\"), \\\n",
    "    deblendedSource.get(\"ip_diffim_PsfDipoleFlux_neg_centroid_x\"), deblendedSource.get(\"ip_diffim_PsfDipoleFlux_neg_centroid_y\")\n",
    "print deblendedSource.get(\"ip_diffim_PsfDipoleFlux_pos_flux\"), deblendedSource.get(\"ip_diffim_PsfDipoleFlux_neg_flux\")"
   ]
  },
  {
   "cell_type": "code",
   "execution_count": 13,
   "metadata": {
    "collapsed": true
   },
   "outputs": [],
   "source": [
    "from collections import namedtuple\n",
    "resultsOutput = namedtuple('resultsOutput', \n",
    "        'inputCentroidX inputCentroidY inputSeparation inputRotation inputFlux inputPosCentroidX inputPosCentroidY inputNegCentroidX inputNegCentroidY psfFitPosCentroidX psfFitPosCentroidY psfFitNegCentroidX psfFitNegCentroidY psfFitPosFlux psfFitNegFlux psfFitCentroidX psfFitCentroidY psfFitOrientation psfFitSignaltoNoise')\n",
    "\n",
    "def makeDipoleAndTestDipoleFit(w=100, h=100, xc=50., yc=50., separation=2.4, rotAngle=0.0, flux=3000.0, psfWidth=2.0, verbose=False):\n",
    "    s = None\n",
    "    nTries = 0\n",
    "    while s is None and nTries < 100:\n",
    "        try:\n",
    "            nTries +=1\n",
    "            psf, psfSum, exposure, dipoleCenters = createDipole(w, h, xc, yc, separation=separation, rotAngle=rotAngle, \n",
    "                                                                flux=flux, psfWidth=psfWidth, verbose=verbose, display=False)\n",
    "            s = detectDipoleSources(exposure)\n",
    "        except:\n",
    "            pass\n",
    "        \n",
    "    if nTries >= 100:   ## probably too-low s/n to detect 2 sources.\n",
    "        out = resultsOutput(xc, yc, separation, rotAngle, flux, np.nan, np.nan, np.nan, np.nan,\n",
    "                            np.nan, np.nan, np.nan, np.nan, np.nan, np.nan, np.nan, np.nan, np.nan, np.inf)\n",
    "        return out\n",
    "    \n",
    "    if verbose: print psfSum, dipoleCenters\n",
    "    dipoleCentroid = (np.mean([dipoleCenters['pos'][0], dipoleCenters['neg'][0]]), np.mean([dipoleCenters['pos'][1], dipoleCenters['neg'][1]]))\n",
    "    if verbose: print 'CENTROID: ', dipoleCentroid\n",
    "    \n",
    "    sources = measureDipole(s, exposure)\n",
    "    if verbose: print 'DIPOLE: ', sources[0].get(\"classification_dipole\") ## from ipDiffim.DipoleMeasurementTask._ClassificationFlag\n",
    "    source = sources[0]\n",
    "    fp     = source.getFootprint()\n",
    "    peaks  = fp.getPeaks()\n",
    "    speaks = [(p.getPeakValue(), p) for p in peaks]\n",
    "    speaks.sort()\n",
    "    dpeaks = [speaks[0][1], speaks[-1][1]]\n",
    "    if verbose: \n",
    "        print dpeaks\n",
    "        ##print source.schema\n",
    "        print source.getCentroid() ## This just returns the values set in the \"source.set(\"centroid_x\", xc), ...\" lines... ??\n",
    "        print source.get(\"ip_diffim_NaiveDipoleCentroid_pos_x\"), source.get(\"ip_diffim_NaiveDipoleCentroid_pos_y\"), \\\n",
    "            source.get(\"ip_diffim_NaiveDipoleCentroid_neg_x\"), source.get(\"ip_diffim_NaiveDipoleCentroid_neg_y\")\n",
    "        print source.get(\"ip_diffim_PsfDipoleFlux_pos_centroid_x\"), source.get(\"ip_diffim_PsfDipoleFlux_pos_centroid_y\"), \\\n",
    "            source.get(\"ip_diffim_PsfDipoleFlux_neg_centroid_x\"), source.get(\"ip_diffim_PsfDipoleFlux_neg_centroid_y\")\n",
    "        print source.get(\"ip_diffim_PsfDipoleFlux_pos_flux\"), source.get(\"ip_diffim_PsfDipoleFlux_neg_flux\")  \n",
    "    \n",
    "    ## provides (S/N, position, orientation) of measured dipoles\n",
    "    dpAnalysis = ipDiffim.DipoleAnalysis()\n",
    "    sn, centroid, orientation = dpAnalysis(source)\n",
    "    if verbose: print sn, centroid, orientation\n",
    "        \n",
    "    out = resultsOutput(xc, yc, separation, rotAngle, flux,\n",
    "        dipoleCenters['pos'][0], dipoleCenters['pos'][1], dipoleCenters['neg'][0], dipoleCenters['neg'][1], \n",
    "        source.get(\"ip_diffim_PsfDipoleFlux_pos_centroid_x\"), source.get(\"ip_diffim_PsfDipoleFlux_pos_centroid_y\"),\n",
    "        source.get(\"ip_diffim_PsfDipoleFlux_neg_centroid_x\"), source.get(\"ip_diffim_PsfDipoleFlux_neg_centroid_y\"),\n",
    "        source.get(\"ip_diffim_PsfDipoleFlux_pos_flux\"), source.get(\"ip_diffim_PsfDipoleFlux_neg_flux\"),\n",
    "        centroid.getX(), centroid.getY(), orientation, sn)\n",
    "    \n",
    "#     return (source.get(\"ip_diffim_PsfDipoleFlux_pos_centroid_x\"), source.get(\"ip_diffim_PsfDipoleFlux_pos_centroid_y\"), \n",
    "#             source.get(\"ip_diffim_PsfDipoleFlux_neg_centroid_x\"), source.get(\"ip_diffim_PsfDipoleFlux_neg_centroid_y\"), \n",
    "#             sn, centroid, orientation)\n",
    "    return out"
   ]
  },
  {
   "cell_type": "code",
   "execution_count": 14,
   "metadata": {
    "collapsed": false
   },
   "outputs": [
    {
     "name": "stdout",
     "output_type": "stream",
     "text": [
      "INPUT CENTROID:  25.0 25.0\n",
      "INPUT ANGLE:  0.0 0.0\n",
      "INPUT POSITIVE CENTROID: 26.2 25.0\n",
      "INPUT NEGATIVE CENTROID: 23.8 25.0\n",
      "3000.0 {'neg': (23.800000000000001, 25.0), 'pos': (26.199999999999999, 25.0)}\n",
      "CENTROID:  (25.0, 25.0)\n",
      "DIPOLE:  1.0\n",
      "[28: (25,22)  (25.000,22.000), 27: (25,28)  (25.000,28.000)]\n",
      "(25, 25)\n",
      "24.9909534454 27.8258686066 25.0074501038 22.1870193481\n",
      "24.9876466715 26.2376660436 24.9894588436 23.7442120435\n",
      "2904.19054157 -2923.50581816\n",
      "66.7684066382 (24.989, 24.991) -0.000726772 rad\n"
     ]
    },
    {
     "data": {
      "text/plain": [
       "resultsOutput(inputCentroidX=25.0, inputCentroidY=25.0, inputSeparation=2.4, inputRotation=0.0, inputFlux=3000.0, inputPosCentroidX=26.199999999999999, inputPosCentroidY=25.0, inputNegCentroidX=23.800000000000001, inputNegCentroidY=25.0, psfFitPosCentroidX=24.987646671484775, psfFitPosCentroidY=26.23766604358249, psfFitNegCentroidX=24.98945884356584, psfFitNegCentroidY=23.744212043457278, psfFitPosFlux=2904.1905415654433, psfFitNegFlux=-2923.505818157003, psfFitCentroidX=24.988552757525305, psfFitCentroidY=24.990939043519884, psfFitOrientation=-0.000726772 rad, psfFitSignaltoNoise=66.768406638151092)"
      ]
     },
     "execution_count": 14,
     "metadata": {},
     "output_type": "execute_result"
    }
   ],
   "source": [
    "makeDipoleAndTestDipoleFit(w=51, h=51, xc=25., yc=25., psfWidth=2.0, separation=2.4, rotAngle=0.0, flux=3000.0, verbose=True)"
   ]
  },
  {
   "cell_type": "code",
   "execution_count": 15,
   "metadata": {
    "collapsed": false
   },
   "outputs": [
    {
     "data": {
      "text/plain": [
       "resultsOutput(inputCentroidX=25.0, inputCentroidY=25.0, inputSeparation=0.25, inputRotation=90.0, inputFlux=500.0, inputPosCentroidX=nan, inputPosCentroidY=nan, inputNegCentroidX=nan, inputNegCentroidY=nan, psfFitPosCentroidX=nan, psfFitPosCentroidY=nan, psfFitNegCentroidX=nan, psfFitNegCentroidY=nan, psfFitPosFlux=nan, psfFitNegFlux=nan, psfFitCentroidX=nan, psfFitCentroidY=nan, psfFitOrientation=nan, psfFitSignaltoNoise=inf)"
      ]
     },
     "execution_count": 15,
     "metadata": {},
     "output_type": "execute_result"
    }
   ],
   "source": [
    "makeDipoleAndTestDipoleFit(w=51, h=51, xc=25., yc=25., psfWidth=2.0, separation=0.25, rotAngle=90.0, flux=500.0)"
   ]
  },
  {
   "cell_type": "markdown",
   "metadata": {},
   "source": [
    "Note the output seems to have switched X and Y -- is this on purpose or my misunderstanding?\n",
    "\n",
    "But for now we will just compare inputX with outputY and vice versa."
   ]
  },
  {
   "cell_type": "markdown",
   "metadata": {},
   "source": [
    "Test: do 10 repetitions at slowing increasing separations. This will probably fail due to exceptions being raised. Note these are all horizontally-aligned dipoles.\n",
    "\n",
    "### Horizontally-aligned dipoles with increasing separation"
   ]
  },
  {
   "cell_type": "code",
   "execution_count": 16,
   "metadata": {
    "collapsed": false
   },
   "outputs": [],
   "source": [
    "results = [makeDipoleAndTestDipoleFit(w=51, h=51, xc=25., yc=25., psfWidth=2.0, separation=sep, rotAngle=0.0, flux=3000.0)\n",
    "          for i in xrange(10) for sep in np.arange(0.2,5.0,0.2)]"
   ]
  },
  {
   "cell_type": "code",
   "execution_count": 17,
   "metadata": {
    "collapsed": false
   },
   "outputs": [],
   "source": [
    "df = pd.DataFrame([res._asdict() for res in results])"
   ]
  },
  {
   "cell_type": "code",
   "execution_count": 18,
   "metadata": {
    "collapsed": false
   },
   "outputs": [
    {
     "data": {
      "text/plain": [
       "<matplotlib.axes._subplots.AxesSubplot at 0x11325a4d0>"
      ]
     },
     "execution_count": 18,
     "metadata": {},
     "output_type": "execute_result"
    },
    {
     "name": "stderr",
     "output_type": "stream",
     "text": [
      "/Users/dreiss/miniconda/lib/python2.7/site-packages/matplotlib/collections.py:590: FutureWarning: elementwise comparison failed; returning scalar instead, but in the future will perform elementwise comparison\n",
      "  if self._edgecolors == str('face'):\n"
     ]
    },
    {
     "data": {
      "image/png": "[encoded data removed]",
      "text/plain": [
       "<matplotlib.figure.Figure at 0x1137dc750>"
      ]
     },
     "metadata": {},
     "output_type": "display_data"
    }
   ],
   "source": [
    "tmp_df = df.groupby('inputSeparation').mean()\n",
    "tmp_df['inputSeparation'] = tmp_df.index.values\n",
    "tmp_df2 = df.groupby('inputSeparation').std() * 1.\n",
    "ax = tmp_df.plot(x='inputSeparation', y='psfFitPosCentroidY', kind='scatter', yerr=tmp_df2['psfFitPosCentroidY'], color='blue', label='pos')\n",
    "tmp_df.plot(x='inputSeparation', y='psfFitNegCentroidY', kind='scatter', yerr=tmp_df2['psfFitNegCentroidY'], color='red', label='neg', ax=ax)"
   ]
  },
  {
   "cell_type": "code",
   "execution_count": 19,
   "metadata": {
    "collapsed": true
   },
   "outputs": [],
   "source": [
    "df['diffCentroidPos'] = df.psfFitPosCentroidY - df.inputPosCentroidX\n",
    "df['diffCentroidNeg'] = df.psfFitNegCentroidY - df.inputNegCentroidX"
   ]
  },
  {
   "cell_type": "code",
   "execution_count": 20,
   "metadata": {
    "collapsed": false
   },
   "outputs": [
    {
     "data": {
      "text/plain": [
       "<matplotlib.axes._subplots.AxesSubplot at 0x11390a3d0>"
      ]
     },
     "execution_count": 20,
     "metadata": {},
     "output_type": "execute_result"
    },
    {
     "data": {
      "image/png": "[encoded data removed]",
      "text/plain": [
       "<matplotlib.figure.Figure at 0x11330dad0>"
      ]
     },
     "metadata": {},
     "output_type": "display_data"
    }
   ],
   "source": [
    "tmp_df = df.groupby('inputSeparation').mean()\n",
    "tmp_df['inputSeparation'] = tmp_df.index.values\n",
    "tmp_df2 = df.groupby('inputSeparation').std() * 1.\n",
    "ax = tmp_df.plot(x='inputSeparation', y='diffCentroidPos', kind='scatter', yerr=tmp_df2['diffCentroidPos'], color='blue', label='pos')\n",
    "tmp_df.plot(x='inputSeparation', y='diffCentroidNeg', kind='scatter', yerr=tmp_df2['diffCentroidNeg'], color='red', label='neg', ax=ax)"
   ]
  },
  {
   "cell_type": "code",
   "execution_count": 21,
   "metadata": {
    "collapsed": false
   },
   "outputs": [
    {
     "data": {
      "text/plain": [
       "<matplotlib.axes._subplots.AxesSubplot at 0x113c609d0>"
      ]
     },
     "execution_count": 21,
     "metadata": {},
     "output_type": "execute_result"
    },
    {
     "data": {
      "image/png": "[encoded data removed]",
      "text/plain": [
       "<matplotlib.figure.Figure at 0x11331f6d0>"
      ]
     },
     "metadata": {},
     "output_type": "display_data"
    }
   ],
   "source": [
    "tmp_df = df.groupby('inputSeparation').mean()\n",
    "tmp_df['inputSeparation'] = tmp_df.index.values\n",
    "tmp_df2 = df.groupby('inputSeparation').std() * 1.\n",
    "ax = tmp_df.plot(x='inputSeparation', y='psfFitPosFlux', kind='scatter', yerr=tmp_df2['psfFitPosFlux'], color='blue', label='pos')\n",
    "tmp_df.plot(x='inputSeparation', y='psfFitNegFlux', kind='scatter', yerr=tmp_df2['psfFitNegFlux'], color='red', label='neg', ax=ax)"
   ]
  },
  {
   "cell_type": "markdown",
   "metadata": {},
   "source": [
    "Hmm, it looks like it sometime switches which is the pos- and neg- lobes. Let's take a closer look..."
   ]
  },
  {
   "cell_type": "code",
   "execution_count": 22,
   "metadata": {
    "collapsed": false
   },
   "outputs": [
    {
     "data": {
      "text/plain": [
       "inputCentroidX                    25\n",
       "inputCentroidY                    25\n",
       "inputFlux                       3000\n",
       "inputNegCentroidX               24.9\n",
       "inputNegCentroidY                 25\n",
       "inputPosCentroidX               25.1\n",
       "inputPosCentroidY                 25\n",
       "inputRotation                      0\n",
       "inputSeparation                  0.2\n",
       "psfFitCentroidX              24.9088\n",
       "psfFitCentroidY              24.9742\n",
       "psfFitNegCentroidX           24.8895\n",
       "psfFitNegCentroidY           24.4013\n",
       "psfFitNegFlux               -536.599\n",
       "psfFitOrientation      0.0336419 rad\n",
       "psfFitPosCentroidX            24.928\n",
       "psfFitPosCentroidY            25.547\n",
       "psfFitPosFlux                545.974\n",
       "psfFitSignaltoNoise          1.82627\n",
       "diffCentroidPos             0.447005\n",
       "diffCentroidNeg             -0.49869\n",
       "Name: 72, dtype: object"
      ]
     },
     "execution_count": 22,
     "metadata": {},
     "output_type": "execute_result"
    }
   ],
   "source": [
    "df[df.psfFitPosFlux < 0.]\n",
    "df.ix[np.argmax(df.psfFitNegFlux)]"
   ]
  },
  {
   "cell_type": "markdown",
   "metadata": {},
   "source": [
    "OK, see notebook #3a. to see what might be going on (answer - it's just that at close separations for big FWHM, it's hard.)"
   ]
  },
  {
   "cell_type": "markdown",
   "metadata": {},
   "source": [
    "Try it again, this time setting different orientations as well. Next time we'll also test it as a function of source flux.\n",
    "\n",
    "### Different orientations"
   ]
  },
  {
   "cell_type": "code",
   "execution_count": 23,
   "metadata": {
    "collapsed": false
   },
   "outputs": [],
   "source": [
    "from joblib import Parallel, delayed  \n",
    "import multiprocessing\n",
    "\n",
    "## Cool, get argument names for the function, and turn it into a named tuple...\n",
    "varNames = makeDipoleAndTestDipoleFit.__code__.co_varnames[:makeDipoleAndTestDipoleFit.__code__.co_argcount]\n",
    "varTuple = namedtuple(\"varTuple\", varNames)\n",
    "\n",
    "orientations = np.arange(0.0, 360.0, 36.0)\n",
    "separations = np.arange(0.2, 5.0, 0.2)\n",
    "\n",
    "inputs = [varTuple(w=51, h=51, xc=25., yc=25., psfWidth=2.0, separation=sep, rotAngle=rot, \n",
    "                         flux=3000.0, verbose=False) for rot in orientations for sep in separations]\n",
    "\n",
    "def processInput(i):\n",
    "    #print i.separation, i.rotAngle\n",
    "    output = makeDipoleAndTestDipoleFit(w=i.w, h=i.h, xc=i.xc, yc=i.yc, psfWidth=i.psfWidth, separation=i.separation, \n",
    "                               rotAngle=i.rotAngle, flux=i.flux, verbose=i.verbose)\n",
    "    return output\n",
    "\n",
    "\n",
    "num_cores = multiprocessing.cpu_count() / 2\n",
    "##print num_cores\n",
    "\n",
    "# results2 = [makeDipoleAndTestDipoleFit(w=51, h=51, xc=25., yc=25., psfWidth=2.0, separation=sep, rotAngle=rot[i], \n",
    "#                                        flux=3000.0) for rot in orientations for sep in separations]\n",
    "results2 = Parallel(n_jobs=num_cores)(delayed(processInput)(i) for i in inputs)\n",
    "# results2 = [processInput(i) for i in inputs]"
   ]
  },
  {
   "cell_type": "code",
   "execution_count": 24,
   "metadata": {
    "collapsed": false
   },
   "outputs": [
    {
     "name": "stdout",
     "output_type": "stream",
     "text": [
      "(240, 19)\n"
     ]
    },
    {
     "data": {
      "text/html": [
       "<span style=\"font-size:50%; line-height:120%\"><div>\n",
       "<table border=\"1\" class=\"dataframe\">\n",
       "  <thead>\n",
       "    <tr style=\"text-align: right;\">\n",
       "      <th></th>\n",
       "      <th>inputCentroidX</th>\n",
       "      <th>inputCentroidY</th>\n",
       "      <th>inputFlux</th>\n",
       "      <th>inputNegCentroidX</th>\n",
       "      <th>inputNegCentroidY</th>\n",
       "      <th>inputPosCentroidX</th>\n",
       "      <th>inputPosCentroidY</th>\n",
       "      <th>inputRotation</th>\n",
       "      <th>inputSeparation</th>\n",
       "      <th>psfFitCentroidX</th>\n",
       "      <th>...</th>\n",
       "      <th>psfFitNegCentroidX</th>\n",
       "      <th>psfFitNegCentroidY</th>\n",
       "      <th>psfFitNegFlux</th>\n",
       "      <th>psfFitOrientation</th>\n",
       "      <th>psfFitPosCentroidX</th>\n",
       "      <th>psfFitPosCentroidY</th>\n",
       "      <th>psfFitPosFlux</th>\n",
       "      <th>psfFitSignaltoNoise</th>\n",
       "      <th>rmsCentroidPos</th>\n",
       "      <th>rmsCentroidNeg</th>\n",
       "    </tr>\n",
       "  </thead>\n",
       "  <tbody>\n",
       "    <tr>\n",
       "      <th>0</th>\n",
       "      <td>25</td>\n",
       "      <td>25</td>\n",
       "      <td>3000</td>\n",
       "      <td>24.9</td>\n",
       "      <td>25</td>\n",
       "      <td>25.1</td>\n",
       "      <td>25</td>\n",
       "      <td>0</td>\n",
       "      <td>0.2</td>\n",
       "      <td>24.978445</td>\n",
       "      <td>...</td>\n",
       "      <td>24.978813</td>\n",
       "      <td>24.992170</td>\n",
       "      <td>-7163.655573</td>\n",
       "      <td>-0.00847987 rad</td>\n",
       "      <td>24.978076</td>\n",
       "      <td>25.079050</td>\n",
       "      <td>7179.420557</td>\n",
       "      <td>79.920247</td>\n",
       "      <td>0.030324</td>\n",
       "      <td>0.094574</td>\n",
       "    </tr>\n",
       "    <tr>\n",
       "      <th>1</th>\n",
       "      <td>25</td>\n",
       "      <td>25</td>\n",
       "      <td>3000</td>\n",
       "      <td>24.8</td>\n",
       "      <td>25</td>\n",
       "      <td>25.2</td>\n",
       "      <td>25</td>\n",
       "      <td>0</td>\n",
       "      <td>0.4</td>\n",
       "      <td>24.992569</td>\n",
       "      <td>...</td>\n",
       "      <td>24.993215</td>\n",
       "      <td>24.703870</td>\n",
       "      <td>-1941.855438</td>\n",
       "      <td>-0.0020592 rad</td>\n",
       "      <td>24.991923</td>\n",
       "      <td>25.331257</td>\n",
       "      <td>1957.294633</td>\n",
       "      <td>2.206707</td>\n",
       "      <td>0.131505</td>\n",
       "      <td>0.096369</td>\n",
       "    </tr>\n",
       "    <tr>\n",
       "      <th>2</th>\n",
       "      <td>25</td>\n",
       "      <td>25</td>\n",
       "      <td>3000</td>\n",
       "      <td>24.7</td>\n",
       "      <td>25</td>\n",
       "      <td>25.3</td>\n",
       "      <td>25</td>\n",
       "      <td>0</td>\n",
       "      <td>0.6</td>\n",
       "      <td>24.995624</td>\n",
       "      <td>...</td>\n",
       "      <td>24.996285</td>\n",
       "      <td>24.615826</td>\n",
       "      <td>-2300.648573</td>\n",
       "      <td>-0.00167406 rad</td>\n",
       "      <td>24.994962</td>\n",
       "      <td>25.405672</td>\n",
       "      <td>2315.993220</td>\n",
       "      <td>3.888010</td>\n",
       "      <td>0.105792</td>\n",
       "      <td>0.084256</td>\n",
       "    </tr>\n",
       "    <tr>\n",
       "      <th>3</th>\n",
       "      <td>25</td>\n",
       "      <td>25</td>\n",
       "      <td>3000</td>\n",
       "      <td>24.6</td>\n",
       "      <td>25</td>\n",
       "      <td>25.4</td>\n",
       "      <td>25</td>\n",
       "      <td>0</td>\n",
       "      <td>0.8</td>\n",
       "      <td>24.996874</td>\n",
       "      <td>...</td>\n",
       "      <td>24.997465</td>\n",
       "      <td>24.568433</td>\n",
       "      <td>-2742.068843</td>\n",
       "      <td>-0.00134424 rad</td>\n",
       "      <td>24.996283</td>\n",
       "      <td>25.447708</td>\n",
       "      <td>2757.536631</td>\n",
       "      <td>5.443084</td>\n",
       "      <td>0.047853</td>\n",
       "      <td>0.031669</td>\n",
       "    </tr>\n",
       "    <tr>\n",
       "      <th>4</th>\n",
       "      <td>25</td>\n",
       "      <td>25</td>\n",
       "      <td>3000</td>\n",
       "      <td>24.5</td>\n",
       "      <td>25</td>\n",
       "      <td>25.5</td>\n",
       "      <td>25</td>\n",
       "      <td>0</td>\n",
       "      <td>1.0</td>\n",
       "      <td>25.012824</td>\n",
       "      <td>...</td>\n",
       "      <td>25.011628</td>\n",
       "      <td>24.624151</td>\n",
       "      <td>-3742.502999</td>\n",
       "      <td>0.00303974 rad</td>\n",
       "      <td>25.014021</td>\n",
       "      <td>25.411228</td>\n",
       "      <td>3751.778067</td>\n",
       "      <td>6.575712</td>\n",
       "      <td>0.089873</td>\n",
       "      <td>0.124694</td>\n",
       "    </tr>\n",
       "  </tbody>\n",
       "</table>\n",
       "<p>5 rows × 21 columns</p>\n",
       "</div></span>"
      ],
      "text/plain": [
       "<__main__.sizeme instance at 0x1138525a8>"
      ]
     },
     "execution_count": 24,
     "metadata": {},
     "output_type": "execute_result"
    }
   ],
   "source": [
    "df = pd.DataFrame([res._asdict() for res in results2])\n",
    "print df.shape\n",
    "df['rmsCentroidPos'] = np.sqrt((df.inputPosCentroidX - df.psfFitPosCentroidY)**2. + \\\n",
    "                               (df.inputPosCentroidY - df.psfFitPosCentroidX)**2.)\n",
    "\n",
    "df['rmsCentroidNeg'] = np.sqrt((df.inputNegCentroidX - df.psfFitNegCentroidY)**2. + \\\n",
    "                               (df.inputNegCentroidY - df.psfFitNegCentroidX)**2.)\n",
    "\n",
    "#df['rmsCentroidPos2'] = np.sqrt((df.inputPosCentroidX - df.psfFitPosCentroidX)**2. + \\\n",
    "#                               (df.inputPosCentroidY - df.psfFitPosCentroidY)**2.)\n",
    "#df['rmsCentroidNeg2'] = np.sqrt((df.inputNegCentroidX - df.psfFitNegCentroidX)**2. + \\\n",
    "#                               (df.inputNegCentroidY - df.psfFitNegCentroidY)**2.)\n",
    "sizeme(df.head())"
   ]
  },
  {
   "cell_type": "code",
   "execution_count": 25,
   "metadata": {
    "collapsed": false
   },
   "outputs": [
    {
     "data": {
      "text/plain": [
       "<matplotlib.axes._subplots.AxesSubplot at 0x113236c50>"
      ]
     },
     "execution_count": 25,
     "metadata": {},
     "output_type": "execute_result"
    },
    {
     "data": {
      "image/png": "[encoded data removed]",
      "text/plain": [
       "<matplotlib.figure.Figure at 0x1132c5d10>"
      ]
     },
     "metadata": {},
     "output_type": "display_data"
    }
   ],
   "source": [
    "tmp_df = df.groupby('inputSeparation').median()\n",
    "tmp_df['inputSeparation'] = tmp_df.index.values\n",
    "tmp_df2 = df.groupby('inputSeparation').mad() * 1.\n",
    "ax = tmp_df.plot(x='inputSeparation', y='rmsCentroidPos', kind='scatter', yerr=tmp_df2['rmsCentroidPos'], color='blue', label='pos')\n",
    "tmp_df.plot(x='inputSeparation', y='rmsCentroidNeg', kind='scatter', yerr=tmp_df2['rmsCentroidNeg'], color='red', label='neg', ax=ax)"
   ]
  },
  {
   "cell_type": "code",
   "execution_count": 26,
   "metadata": {
    "collapsed": false
   },
   "outputs": [
    {
     "data": {
      "text/plain": [
       "<matplotlib.axes._subplots.AxesSubplot at 0x113b60c50>"
      ]
     },
     "execution_count": 26,
     "metadata": {},
     "output_type": "execute_result"
    },
    {
     "data": {
      "image/png": "[encoded data removed]",
      "text/plain": [
       "<matplotlib.figure.Figure at 0x11325a6d0>"
      ]
     },
     "metadata": {},
     "output_type": "display_data"
    }
   ],
   "source": [
    "tmp_df = df.groupby('inputSeparation').median()\n",
    "tmp_df['inputSeparation'] = tmp_df.index.values\n",
    "tmp_df2 = df.groupby('inputSeparation').mad() * 1.\n",
    "ax = tmp_df.plot(x='inputSeparation', y='psfFitPosFlux', kind='scatter', yerr=tmp_df2['psfFitPosFlux'], color='blue', label='pos')\n",
    "tmp_df.plot(x='inputSeparation', y='psfFitNegFlux', kind='scatter', yerr=tmp_df2['psfFitNegFlux'], color='red', label='neg', ax=ax)"
   ]
  },
  {
   "cell_type": "markdown",
   "metadata": {
    "collapsed": true
   },
   "source": [
    "## Different dipole fluxes (signal-to-noise)"
   ]
  },
  {
   "cell_type": "code",
   "execution_count": 27,
   "metadata": {
    "collapsed": false
   },
   "outputs": [],
   "source": [
    "from joblib import Parallel, delayed  \n",
    "import multiprocessing\n",
    "\n",
    "## Cool, get argument names for the function, and turn it into a named tuple...\n",
    "varNames = makeDipoleAndTestDipoleFit.__code__.co_varnames[:makeDipoleAndTestDipoleFit.__code__.co_argcount]\n",
    "varTuple = namedtuple(\"varTuple\", varNames)\n",
    "\n",
    "orientations = np.arange(0.0, 360.0, 36.0)\n",
    "separations = np.arange(0.2, 5.0, 0.2)\n",
    "fluxes = np.arange(250., 6000., 250.)\n",
    "\n",
    "inputs = [varTuple(w=51, h=51, xc=25., yc=25., psfWidth=2.0, separation=sep, rotAngle=rot, \n",
    "                         flux=flux, verbose=False) for flux in fluxes for rot in orientations for sep in separations]\n",
    "\n",
    "\n",
    "def processInput(i):\n",
    "    #print i.flux ##i.separation, i.rotAngle\n",
    "    output = makeDipoleAndTestDipoleFit(w=i.w, h=i.h, xc=i.xc, yc=i.yc, psfWidth=i.psfWidth, separation=i.separation, \n",
    "                               rotAngle=i.rotAngle, flux=i.flux, verbose=i.verbose)\n",
    "    return output\n",
    "\n",
    "\n",
    "num_cores = multiprocessing.cpu_count() / 2\n",
    "##print num_cores\n",
    "\n",
    "# results3 = [makeDipoleAndTestDipoleFit(w=51, h=51, xc=25., yc=25., psfWidth=2.0, separation=sep, rotAngle=rot[i], \n",
    "#                                        flux=3000.0) for rot in orientations for sep in separations]\n",
    "results3 = Parallel(n_jobs=num_cores)(delayed(processInput)(i) for i in inputs)\n",
    "# results3 = [processInput(i) for i in inputs]"
   ]
  },
  {
   "cell_type": "code",
   "execution_count": 28,
   "metadata": {
    "collapsed": false
   },
   "outputs": [
    {
     "name": "stdout",
     "output_type": "stream",
     "text": [
      "(5520, 19)\n"
     ]
    },
    {
     "data": {
      "text/html": [
       "<span style=\"font-size:50%; line-height:120%\"><div>\n",
       "<table border=\"1\" class=\"dataframe\">\n",
       "  <thead>\n",
       "    <tr style=\"text-align: right;\">\n",
       "      <th></th>\n",
       "      <th>inputCentroidX</th>\n",
       "      <th>inputCentroidY</th>\n",
       "      <th>inputFlux</th>\n",
       "      <th>inputNegCentroidX</th>\n",
       "      <th>inputNegCentroidY</th>\n",
       "      <th>inputPosCentroidX</th>\n",
       "      <th>inputPosCentroidY</th>\n",
       "      <th>inputRotation</th>\n",
       "      <th>inputSeparation</th>\n",
       "      <th>psfFitCentroidX</th>\n",
       "      <th>...</th>\n",
       "      <th>psfFitNegCentroidX</th>\n",
       "      <th>psfFitNegCentroidY</th>\n",
       "      <th>psfFitNegFlux</th>\n",
       "      <th>psfFitOrientation</th>\n",
       "      <th>psfFitPosCentroidX</th>\n",
       "      <th>psfFitPosCentroidY</th>\n",
       "      <th>psfFitPosFlux</th>\n",
       "      <th>psfFitSignaltoNoise</th>\n",
       "      <th>rmsCentroidPos</th>\n",
       "      <th>rmsCentroidNeg</th>\n",
       "    </tr>\n",
       "  </thead>\n",
       "  <tbody>\n",
       "    <tr>\n",
       "      <th>0</th>\n",
       "      <td>25</td>\n",
       "      <td>25</td>\n",
       "      <td>250</td>\n",
       "      <td>NaN</td>\n",
       "      <td>NaN</td>\n",
       "      <td>NaN</td>\n",
       "      <td>NaN</td>\n",
       "      <td>0</td>\n",
       "      <td>0.2</td>\n",
       "      <td>NaN</td>\n",
       "      <td>...</td>\n",
       "      <td>NaN</td>\n",
       "      <td>NaN</td>\n",
       "      <td>NaN</td>\n",
       "      <td>NaN</td>\n",
       "      <td>NaN</td>\n",
       "      <td>NaN</td>\n",
       "      <td>NaN</td>\n",
       "      <td>inf</td>\n",
       "      <td>NaN</td>\n",
       "      <td>NaN</td>\n",
       "    </tr>\n",
       "    <tr>\n",
       "      <th>1</th>\n",
       "      <td>25</td>\n",
       "      <td>25</td>\n",
       "      <td>250</td>\n",
       "      <td>NaN</td>\n",
       "      <td>NaN</td>\n",
       "      <td>NaN</td>\n",
       "      <td>NaN</td>\n",
       "      <td>0</td>\n",
       "      <td>0.4</td>\n",
       "      <td>NaN</td>\n",
       "      <td>...</td>\n",
       "      <td>NaN</td>\n",
       "      <td>NaN</td>\n",
       "      <td>NaN</td>\n",
       "      <td>NaN</td>\n",
       "      <td>NaN</td>\n",
       "      <td>NaN</td>\n",
       "      <td>NaN</td>\n",
       "      <td>inf</td>\n",
       "      <td>NaN</td>\n",
       "      <td>NaN</td>\n",
       "    </tr>\n",
       "    <tr>\n",
       "      <th>2</th>\n",
       "      <td>25</td>\n",
       "      <td>25</td>\n",
       "      <td>250</td>\n",
       "      <td>NaN</td>\n",
       "      <td>NaN</td>\n",
       "      <td>NaN</td>\n",
       "      <td>NaN</td>\n",
       "      <td>0</td>\n",
       "      <td>0.6</td>\n",
       "      <td>NaN</td>\n",
       "      <td>...</td>\n",
       "      <td>NaN</td>\n",
       "      <td>NaN</td>\n",
       "      <td>NaN</td>\n",
       "      <td>NaN</td>\n",
       "      <td>NaN</td>\n",
       "      <td>NaN</td>\n",
       "      <td>NaN</td>\n",
       "      <td>inf</td>\n",
       "      <td>NaN</td>\n",
       "      <td>NaN</td>\n",
       "    </tr>\n",
       "    <tr>\n",
       "      <th>3</th>\n",
       "      <td>25</td>\n",
       "      <td>25</td>\n",
       "      <td>250</td>\n",
       "      <td>NaN</td>\n",
       "      <td>NaN</td>\n",
       "      <td>NaN</td>\n",
       "      <td>NaN</td>\n",
       "      <td>0</td>\n",
       "      <td>0.8</td>\n",
       "      <td>NaN</td>\n",
       "      <td>...</td>\n",
       "      <td>NaN</td>\n",
       "      <td>NaN</td>\n",
       "      <td>NaN</td>\n",
       "      <td>NaN</td>\n",
       "      <td>NaN</td>\n",
       "      <td>NaN</td>\n",
       "      <td>NaN</td>\n",
       "      <td>inf</td>\n",
       "      <td>NaN</td>\n",
       "      <td>NaN</td>\n",
       "    </tr>\n",
       "    <tr>\n",
       "      <th>4</th>\n",
       "      <td>25</td>\n",
       "      <td>25</td>\n",
       "      <td>250</td>\n",
       "      <td>24.5</td>\n",
       "      <td>25</td>\n",
       "      <td>25.5</td>\n",
       "      <td>25</td>\n",
       "      <td>0</td>\n",
       "      <td>1.0</td>\n",
       "      <td>25.159932</td>\n",
       "      <td>...</td>\n",
       "      <td>25.162604</td>\n",
       "      <td>24.853521</td>\n",
       "      <td>-4077.208267</td>\n",
       "      <td>-0.0781278 rad</td>\n",
       "      <td>25.15726</td>\n",
       "      <td>24.921772</td>\n",
       "      <td>4085.719674</td>\n",
       "      <td>48.510546</td>\n",
       "      <td>0.599232</td>\n",
       "      <td>0.389123</td>\n",
       "    </tr>\n",
       "  </tbody>\n",
       "</table>\n",
       "<p>5 rows × 21 columns</p>\n",
       "</div></span>"
      ],
      "text/plain": [
       "<__main__.sizeme instance at 0x115ddefc8>"
      ]
     },
     "execution_count": 28,
     "metadata": {},
     "output_type": "execute_result"
    }
   ],
   "source": [
    "df = pd.DataFrame([res._asdict() for res in results3])\n",
    "print df.shape\n",
    "df['rmsCentroidPos'] = np.sqrt((df.inputPosCentroidX - df.psfFitPosCentroidY)**2. + \\\n",
    "                               (df.inputPosCentroidY - df.psfFitPosCentroidX)**2.)\n",
    "\n",
    "df['rmsCentroidNeg'] = np.sqrt((df.inputNegCentroidX - df.psfFitNegCentroidY)**2. + \\\n",
    "                               (df.inputNegCentroidY - df.psfFitNegCentroidX)**2.)\n",
    "\n",
    "#df['rmsCentroidPos2'] = np.sqrt((df.inputPosCentroidX - df.psfFitPosCentroidX)**2. + \\\n",
    "#                               (df.inputPosCentroidY - df.psfFitPosCentroidY)**2.)\n",
    "#df['rmsCentroidNeg2'] = np.sqrt((df.inputNegCentroidX - df.psfFitNegCentroidX)**2. + \\\n",
    "#                               (df.inputNegCentroidY - df.psfFitNegCentroidY)**2.)\n",
    "sizeme(df.head())"
   ]
  },
  {
   "cell_type": "code",
   "execution_count": 29,
   "metadata": {
    "collapsed": false
   },
   "outputs": [
    {
     "data": {
      "text/plain": [
       "<matplotlib.axes._subplots.AxesSubplot at 0x1139ae390>"
      ]
     },
     "execution_count": 29,
     "metadata": {},
     "output_type": "execute_result"
    },
    {
     "data": {
      "image/png": "[encoded data removed]",
      "text/plain": [
       "<matplotlib.figure.Figure at 0x11363ee10>"
      ]
     },
     "metadata": {},
     "output_type": "display_data"
    }
   ],
   "source": [
    "tmp_df = df.groupby('inputSeparation').median()\n",
    "tmp_df['inputSeparation'] = tmp_df.index.values\n",
    "tmp_df2 = df.groupby('inputSeparation').mad() * 1.\n",
    "ax = tmp_df.plot(x='inputSeparation', y='rmsCentroidPos', kind='scatter', yerr=tmp_df2['rmsCentroidPos'], color='blue', label='pos')\n",
    "tmp_df.plot(x='inputSeparation', y='rmsCentroidNeg', kind='scatter', yerr=tmp_df2['rmsCentroidNeg'], color='red', label='neg', ax=ax)"
   ]
  },
  {
   "cell_type": "code",
   "execution_count": 30,
   "metadata": {
    "collapsed": false
   },
   "outputs": [
    {
     "data": {
      "text/plain": [
       "<matplotlib.axes._subplots.AxesSubplot at 0x1144b7410>"
      ]
     },
     "execution_count": 30,
     "metadata": {},
     "output_type": "execute_result"
    },
    {
     "data": {
      "image/png": "[encoded data removed]",
      "text/plain": [
       "<matplotlib.figure.Figure at 0x1146b0c50>"
      ]
     },
     "metadata": {},
     "output_type": "display_data"
    }
   ],
   "source": [
    "tmp_df = df.groupby('inputSeparation').median()\n",
    "tmp_df['inputSeparation'] = tmp_df.index.values\n",
    "tmp_df2 = df.groupby('inputSeparation').mad() * 1.\n",
    "ax = tmp_df.plot(x='inputSeparation', y='psfFitPosFlux', kind='scatter', yerr=tmp_df2['psfFitPosFlux'], color='blue', label='pos')\n",
    "tmp_df.plot(x='inputSeparation', y='psfFitNegFlux', kind='scatter', yerr=tmp_df2['psfFitNegFlux'], color='red', label='neg', ax=ax)"
   ]
  },
  {
   "cell_type": "code",
   "execution_count": 31,
   "metadata": {
    "collapsed": false,
    "scrolled": true
   },
   "outputs": [
    {
     "data": {
      "text/plain": [
       "<matplotlib.axes._subplots.AxesSubplot at 0x114683a50>"
      ]
     },
     "execution_count": 31,
     "metadata": {},
     "output_type": "execute_result"
    },
    {
     "data": {
      "image/png": "[encoded data removed]",
      "text/plain": [
       "<matplotlib.figure.Figure at 0x113940050>"
      ]
     },
     "metadata": {},
     "output_type": "display_data"
    }
   ],
   "source": [
    "tmp_df = df.groupby('inputFlux').median()\n",
    "tmp_df['inputFlux'] = tmp_df.index.values\n",
    "tmp_df2 = df.groupby('inputFlux').mad() * 1.\n",
    "ax = tmp_df.plot(x='inputFlux', y='psfFitPosFlux', kind='scatter', yerr=tmp_df2['psfFitPosFlux'], color='blue', label='pos')\n",
    "tmp_df.plot(x='inputFlux', y='psfFitNegFlux', kind='scatter', yerr=tmp_df2['psfFitNegFlux'], color='red', label='neg', ax=ax)"
   ]
  },
  {
   "cell_type": "code",
   "execution_count": 33,
   "metadata": {
    "collapsed": false
   },
   "outputs": [
    {
     "data": {
      "text/html": [
       "<span style=\"font-size:50%; line-height:120%\"><div>\n",
       "<table border=\"1\" class=\"dataframe\">\n",
       "  <thead>\n",
       "    <tr style=\"text-align: right;\">\n",
       "      <th></th>\n",
       "      <th>inputCentroidX</th>\n",
       "      <th>inputCentroidY</th>\n",
       "      <th>inputFlux</th>\n",
       "      <th>inputNegCentroidX</th>\n",
       "      <th>inputNegCentroidY</th>\n",
       "      <th>inputPosCentroidX</th>\n",
       "      <th>inputPosCentroidY</th>\n",
       "      <th>inputRotation</th>\n",
       "      <th>inputSeparation</th>\n",
       "      <th>psfFitCentroidX</th>\n",
       "      <th>...</th>\n",
       "      <th>psfFitNegCentroidX</th>\n",
       "      <th>psfFitNegCentroidY</th>\n",
       "      <th>psfFitNegFlux</th>\n",
       "      <th>psfFitOrientation</th>\n",
       "      <th>psfFitPosCentroidX</th>\n",
       "      <th>psfFitPosCentroidY</th>\n",
       "      <th>psfFitPosFlux</th>\n",
       "      <th>psfFitSignaltoNoise</th>\n",
       "      <th>rmsCentroidPos</th>\n",
       "      <th>rmsCentroidNeg</th>\n",
       "    </tr>\n",
       "  </thead>\n",
       "  <tbody>\n",
       "    <tr>\n",
       "      <th>0</th>\n",
       "      <td>25</td>\n",
       "      <td>25</td>\n",
       "      <td>250</td>\n",
       "      <td>NaN</td>\n",
       "      <td>NaN</td>\n",
       "      <td>NaN</td>\n",
       "      <td>NaN</td>\n",
       "      <td>0</td>\n",
       "      <td>0.2</td>\n",
       "      <td>NaN</td>\n",
       "      <td>...</td>\n",
       "      <td>NaN</td>\n",
       "      <td>NaN</td>\n",
       "      <td>NaN</td>\n",
       "      <td>NaN</td>\n",
       "      <td>NaN</td>\n",
       "      <td>NaN</td>\n",
       "      <td>NaN</td>\n",
       "      <td>inf</td>\n",
       "      <td>NaN</td>\n",
       "      <td>NaN</td>\n",
       "    </tr>\n",
       "    <tr>\n",
       "      <th>1</th>\n",
       "      <td>25</td>\n",
       "      <td>25</td>\n",
       "      <td>250</td>\n",
       "      <td>NaN</td>\n",
       "      <td>NaN</td>\n",
       "      <td>NaN</td>\n",
       "      <td>NaN</td>\n",
       "      <td>0</td>\n",
       "      <td>0.4</td>\n",
       "      <td>NaN</td>\n",
       "      <td>...</td>\n",
       "      <td>NaN</td>\n",
       "      <td>NaN</td>\n",
       "      <td>NaN</td>\n",
       "      <td>NaN</td>\n",
       "      <td>NaN</td>\n",
       "      <td>NaN</td>\n",
       "      <td>NaN</td>\n",
       "      <td>inf</td>\n",
       "      <td>NaN</td>\n",
       "      <td>NaN</td>\n",
       "    </tr>\n",
       "    <tr>\n",
       "      <th>2</th>\n",
       "      <td>25</td>\n",
       "      <td>25</td>\n",
       "      <td>250</td>\n",
       "      <td>NaN</td>\n",
       "      <td>NaN</td>\n",
       "      <td>NaN</td>\n",
       "      <td>NaN</td>\n",
       "      <td>0</td>\n",
       "      <td>0.6</td>\n",
       "      <td>NaN</td>\n",
       "      <td>...</td>\n",
       "      <td>NaN</td>\n",
       "      <td>NaN</td>\n",
       "      <td>NaN</td>\n",
       "      <td>NaN</td>\n",
       "      <td>NaN</td>\n",
       "      <td>NaN</td>\n",
       "      <td>NaN</td>\n",
       "      <td>inf</td>\n",
       "      <td>NaN</td>\n",
       "      <td>NaN</td>\n",
       "    </tr>\n",
       "    <tr>\n",
       "      <th>3</th>\n",
       "      <td>25</td>\n",
       "      <td>25</td>\n",
       "      <td>250</td>\n",
       "      <td>NaN</td>\n",
       "      <td>NaN</td>\n",
       "      <td>NaN</td>\n",
       "      <td>NaN</td>\n",
       "      <td>0</td>\n",
       "      <td>0.8</td>\n",
       "      <td>NaN</td>\n",
       "      <td>...</td>\n",
       "      <td>NaN</td>\n",
       "      <td>NaN</td>\n",
       "      <td>NaN</td>\n",
       "      <td>NaN</td>\n",
       "      <td>NaN</td>\n",
       "      <td>NaN</td>\n",
       "      <td>NaN</td>\n",
       "      <td>inf</td>\n",
       "      <td>NaN</td>\n",
       "      <td>NaN</td>\n",
       "    </tr>\n",
       "    <tr>\n",
       "      <th>4</th>\n",
       "      <td>25</td>\n",
       "      <td>25</td>\n",
       "      <td>250</td>\n",
       "      <td>24.5</td>\n",
       "      <td>25</td>\n",
       "      <td>25.5</td>\n",
       "      <td>25</td>\n",
       "      <td>0</td>\n",
       "      <td>1.0</td>\n",
       "      <td>25.159932</td>\n",
       "      <td>...</td>\n",
       "      <td>25.162604</td>\n",
       "      <td>24.853521</td>\n",
       "      <td>-4077.208267</td>\n",
       "      <td>-0.0781278 rad</td>\n",
       "      <td>25.15726</td>\n",
       "      <td>24.921772</td>\n",
       "      <td>4085.719674</td>\n",
       "      <td>48.510546</td>\n",
       "      <td>0.599232</td>\n",
       "      <td>0.389123</td>\n",
       "    </tr>\n",
       "  </tbody>\n",
       "</table>\n",
       "<p>5 rows × 21 columns</p>\n",
       "</div></span>"
      ],
      "text/plain": [
       "<__main__.sizeme instance at 0x11500c050>"
      ]
     },
     "execution_count": 33,
     "metadata": {},
     "output_type": "execute_result"
    }
   ],
   "source": [
    "tmp_df = df.groupby('inputFlux')\n",
    "sizeme(tmp_df.get_group(250.).head())"
   ]
  },
  {
   "cell_type": "code",
   "execution_count": null,
   "metadata": {
    "collapsed": true
   },
   "outputs": [],
   "source": []
  }
 ],
 "metadata": {
  "kernelspec": {
   "display_name": "Python 2",
   "language": "python",
   "name": "python2"
  },
  "language_info": {
   "codemirror_mode": {
    "name": "ipython",
    "version": 2
   },
   "file_extension": ".py",
   "mimetype": "text/x-python",
   "name": "python",
   "nbconvert_exporter": "python",
   "pygments_lexer": "ipython2",
   "version": "2.7.11"
  }
 },
 "nbformat": 4,
 "nbformat_minor": 0
}
