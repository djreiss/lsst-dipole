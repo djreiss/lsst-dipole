{
 "cells": [
  {
   "cell_type": "markdown",
   "metadata": {},
   "source": [
    "This is a test notebook to experiment with `iminuit`. First, see how it works with a linear regression problem. \n",
    "Then fit a simple dipole, and finally perform the dipole with integration of pos-neg image data \n",
    "(where those images have a steep gradient). "
   ]
  },
  {
   "cell_type": "code",
   "execution_count": 9,
   "metadata": {
    "collapsed": false
   },
   "outputs": [
    {
     "data": {
      "text/html": [
       "<hr>"
      ]
     },
     "metadata": {},
     "output_type": "display_data"
    },
    {
     "data": {
      "text/html": [
       "\n",
       "        <table>\n",
       "            <tr>\n",
       "                <td title=\"Minimum value of function\">FCN = 1.62389076464e-22</td>\n",
       "                <td title=\"Total number of call to FCN so far\">TOTAL NCALL = 36</td>\n",
       "                <td title=\"Number of call in last migrad\">NCALLS = 36</td>\n",
       "            </tr>\n",
       "            <tr>\n",
       "                <td title=\"Estimated distance to minimum\">EDM = 1.62388025554e-22</td>\n",
       "                <td title=\"Maximum EDM definition of convergence\">GOAL EDM = 1e-05</td>\n",
       "                <td title=\"Error def. Amount of increase in FCN to be defined as 1 standard deviation\">\n",
       "                UP = 1.0</td>\n",
       "            </tr>\n",
       "        </table>\n",
       "        \n",
       "        <table>\n",
       "            <tr>\n",
       "                <td align=\"center\" title=\"Validity of the migrad call\">Valid</td>\n",
       "                <td align=\"center\" title=\"Validity of parameters\">Valid Param</td>\n",
       "                <td align=\"center\" title=\"Is Covariance matrix accurate?\">Accurate Covar</td>\n",
       "                <td align=\"center\" title=\"Positive definiteness of covariance matrix\">PosDef</td>\n",
       "                <td align=\"center\" title=\"Was covariance matrix made posdef by adding diagonal element\">Made PosDef</td>\n",
       "            </tr>\n",
       "            <tr>\n",
       "                <td align=\"center\" style=\"background-color:#92CCA6\">True</td>\n",
       "                <td align=\"center\" style=\"background-color:#92CCA6\">True</td>\n",
       "                <td align=\"center\" style=\"background-color:#92CCA6\">True</td>\n",
       "                <td align=\"center\" style=\"background-color:#92CCA6\">True</td>\n",
       "                <td align=\"center\" style=\"background-color:#92CCA6\">False</td>\n",
       "            </tr>\n",
       "            <tr>\n",
       "                <td align=\"center\" title=\"Was last hesse call fail?\">Hesse Fail</td>\n",
       "                <td align=\"center\" title=\"Validity of covariance\">HasCov</td>\n",
       "                <td align=\"center\" title=\"Is EDM above goal EDM?\">Above EDM</td>\n",
       "                <td align=\"center\"></td>\n",
       "                <td align=\"center\" title=\"Did last migrad call reach max call limit?\">Reach calllim</td>\n",
       "            </tr>\n",
       "            <tr>\n",
       "                <td align=\"center\" style=\"background-color:#92CCA6\">False</td>\n",
       "                <td align=\"center\" style=\"background-color:#92CCA6\">True</td>\n",
       "                <td align=\"center\" style=\"background-color:#92CCA6\">False</td>\n",
       "                <td align=\"center\"></td>\n",
       "                <td align=\"center\" style=\"background-color:#92CCA6\">False</td>\n",
       "            </tr>\n",
       "        </table>\n",
       "        "
      ]
     },
     "metadata": {},
     "output_type": "display_data"
    },
    {
     "data": {
      "text/html": [
       "\n",
       "        <table>\n",
       "            <tr>\n",
       "                <td><a href=\"#\" onclick=\"$('#WOQVGwhcTS').toggle()\">+</a></td>\n",
       "                <td title=\"Variable name\">Name</td>\n",
       "                <td title=\"Value of parameter\">Value</td>\n",
       "                <td title=\"Parabolic error\">Parab Error</td>\n",
       "                <td title=\"Minos lower error\">Minos Error-</td>\n",
       "                <td title=\"Minos upper error\">Minos Error+</td>\n",
       "                <td title=\"Lower limit of the parameter\">Limit-</td>\n",
       "                <td title=\"Upper limit of the parameter\">Limit+</td>\n",
       "                <td title=\"Is the parameter fixed in the fit\">FIXED</td>\n",
       "            </tr>\n",
       "        \n",
       "            <tr>\n",
       "                <td>1</td>\n",
       "                <td>x</td>\n",
       "                <td>2.000000e+00</td>\n",
       "                <td>1.000000e+00</td>\n",
       "                <td>0.000000e+00</td>\n",
       "                <td>0.000000e+00</td>\n",
       "                <td></td>\n",
       "                <td></td>\n",
       "                <td></td>\n",
       "            </tr>\n",
       "            \n",
       "            <tr>\n",
       "                <td>2</td>\n",
       "                <td>y</td>\n",
       "                <td>3.000000e+00</td>\n",
       "                <td>1.000000e+00</td>\n",
       "                <td>0.000000e+00</td>\n",
       "                <td>0.000000e+00</td>\n",
       "                <td></td>\n",
       "                <td></td>\n",
       "                <td></td>\n",
       "            </tr>\n",
       "            \n",
       "            <tr>\n",
       "                <td>3</td>\n",
       "                <td>z</td>\n",
       "                <td>4.000000e+00</td>\n",
       "                <td>1.000000e+00</td>\n",
       "                <td>0.000000e+00</td>\n",
       "                <td>0.000000e+00</td>\n",
       "                <td></td>\n",
       "                <td></td>\n",
       "                <td></td>\n",
       "            </tr>\n",
       "            \n",
       "            </table>\n",
       "        \n",
       "            <pre id=\"WOQVGwhcTS\" style=\"display:none;\">\n",
       "            <textarea rows=\"12\" cols=\"50\" onclick=\"this.select()\" readonly>\\begin{tabular}{|c|r|r|r|r|r|r|r|c|}\n",
       "\\hline\n",
       " & Name & Value & Para Error & Error+ & Error- & Limit+ & Limit- & FIXED\\\\\n",
       "\\hline\n",
       "1 & x & 2.000e+00 & 1.000e+00 &  &  &  &  & \\\\\n",
       "\\hline\n",
       "2 & y & 3.000e+00 & 1.000e+00 &  &  &  &  & \\\\\n",
       "\\hline\n",
       "3 & z & 4.000e+00 & 1.000e+00 &  &  &  &  & \\\\\n",
       "\\hline\n",
       "\\end{tabular}</textarea>\n",
       "            </pre>\n",
       "            "
      ]
     },
     "metadata": {},
     "output_type": "display_data"
    },
    {
     "data": {
      "text/html": [
       "<hr>"
      ]
     },
     "metadata": {},
     "output_type": "display_data"
    },
    {
     "name": "stdout",
     "output_type": "stream",
     "text": [
      "{'y': 3.000000000007099, 'x': 2.0000000000047327, 'z': 4.000000000009465}\n",
      "{'y': 1.0000000000002762, 'x': 1.0000000000000409, 'z': 0.9999999999998322}\n"
     ]
    }
   ],
   "source": [
    "from iminuit import Minuit\n",
    "def f(x, y, z):\n",
    "    return (x - 2) ** 2 + (y - 3) ** 2 + (z - 4) ** 2\n",
    "m = Minuit(f)\n",
    "m.migrad()\n",
    "print(m.values)  # {'x': 2,'y': 3,'z': 4}\n",
    "print(m.errors)  # {'x': 1,'y': 1,'z': 1}"
   ]
  },
  {
   "cell_type": "code",
   "execution_count": 10,
   "metadata": {
    "collapsed": false
   },
   "outputs": [
    {
     "name": "stdout",
     "output_type": "stream",
     "text": [
      "Populating the interactive namespace from numpy and matplotlib\n"
     ]
    },
    {
     "name": "stderr",
     "output_type": "stream",
     "text": [
      "WARNING: pylab import has clobbered these variables: ['f']\n",
      "`%matplotlib` prevents importing * from pylab and numpy\n"
     ]
    }
   ],
   "source": [
    "%pylab inline\n",
    "\n",
    "import numpy as np\n",
    "np.random.seed(666)\n",
    "\n",
    "import matplotlib\n",
    "matplotlib.style.use('ggplot')\n",
    "import matplotlib.pyplot as plt"
   ]
  },
  {
   "cell_type": "code",
   "execution_count": 6,
   "metadata": {
    "collapsed": false
   },
   "outputs": [
    {
     "name": "stdout",
     "output_type": "stream",
     "text": [
      "10 loops, best of 3: 89.5 ms per loop\n"
     ]
    }
   ],
   "source": [
    "import warnings\n",
    "warnings.filterwarnings('ignore')\n",
    "\n",
    "import numpy as np\n",
    "from iminuit import Minuit\n",
    "from probfit import UnbinnedLH, gaussian\n",
    "data = np.random.randn(10000)\n",
    "def fitFunc(data):\n",
    "    unbinned_likelihood = UnbinnedLH(gaussian, data)\n",
    "    minuit = Minuit(unbinned_likelihood, mean=1.1, sigma=3.1, print_level=0)\n",
    "    minuit.migrad()\n",
    "    return minuit\n",
    "%timeit fitFunc(data)\n",
    "#minuit = fitFunc(data)\n",
    "#_ = unbinned_likelihood.draw(minuit);"
   ]
  },
  {
   "cell_type": "markdown",
   "metadata": {},
   "source": [
    "The following is from http://nbviewer.jupyter.org/github/iminuit/probfit/blob/master/tutorial/tutorial.ipynb"
   ]
  },
  {
   "cell_type": "code",
   "execution_count": 16,
   "metadata": {
    "collapsed": false
   },
   "outputs": [],
   "source": [
    "# We assume you have executed this cell in all the following examples\n",
    "import numpy as np\n",
    "import matplotlib.pyplot as plt\n",
    "import iminuit\n",
    "import probfit\n",
    "\n",
    "matplotlib.rcParams['figure.figsize'] = (12.0, 6.0)"
   ]
  },
  {
   "cell_type": "code",
   "execution_count": 17,
   "metadata": {
    "collapsed": false
   },
   "outputs": [
    {
     "data": {
      "image/png": "[encoded data removed]",
      "text/plain": [
       "<matplotlib.figure.Figure at 0x109f602d0>"
      ]
     },
     "metadata": {},
     "output_type": "display_data"
    }
   ],
   "source": [
    "# Let's make a straight line with gaussian(mu=0, sigma=1) noise\n",
    "np.random.seed(0)\n",
    "x = np.linspace(0, 10, 20) \n",
    "y = 3 * x + 15 + np.random.randn(len(x))\n",
    "err = np.ones(len(x))\n",
    "plt.errorbar(x, y, err, fmt='.');"
   ]
  },
  {
   "cell_type": "code",
   "execution_count": 99,
   "metadata": {
    "collapsed": true
   },
   "outputs": [],
   "source": [
    "# Let's define our line.\n",
    "# First argument has to be the independent variable,\n",
    "# arguments after that are shape parameters.\n",
    "def line(x, m, c): # define it to be parabolic or whatever you like\n",
    "    return m * x + c"
   ]
  },
  {
   "cell_type": "code",
   "execution_count": 100,
   "metadata": {
    "collapsed": false
   },
   "outputs": [
    {
     "data": {
      "text/plain": [
       "['x', 'm', 'c']"
      ]
     },
     "execution_count": 100,
     "metadata": {},
     "output_type": "execute_result"
    }
   ],
   "source": [
    "iminuit.describe(line)"
   ]
  },
  {
   "cell_type": "code",
   "execution_count": 112,
   "metadata": {
    "collapsed": false
   },
   "outputs": [],
   "source": [
    "# Define a chi^2 cost function\n",
    "# Note this is a problem because it does not vectorize the call to `line`.\n",
    "chi2obj = probfit.Chi2Regression(line, x, y, err)"
   ]
  },
  {
   "cell_type": "code",
   "execution_count": 113,
   "metadata": {
    "collapsed": false
   },
   "outputs": [
    {
     "data": {
      "text/plain": [
       "['m', 'c']"
      ]
     },
     "execution_count": 113,
     "metadata": {},
     "output_type": "execute_result"
    }
   ],
   "source": [
    "# Chi2Regression is just a callable object; nothing special about it\n",
    "iminuit.describe(chi2obj)"
   ]
  },
  {
   "cell_type": "code",
   "execution_count": 114,
   "metadata": {
    "collapsed": false
   },
   "outputs": [
    {
     "name": "stdout",
     "output_type": "stream",
     "text": [
      "1000 loops, best of 3: 267 µs per loop\n"
     ]
    },
    {
     "data": {
      "text/html": [
       "<hr>"
      ]
     },
     "metadata": {},
     "output_type": "display_data"
    },
    {
     "data": {
      "text/html": [
       "\n",
       "        <table>\n",
       "            <tr>\n",
       "                <td title=\"Minimum value of function\">FCN = 12.0738531135</td>\n",
       "                <td title=\"Total number of call to FCN so far\">TOTAL NCALL = 36</td>\n",
       "                <td title=\"Number of call in last migrad\">NCALLS = 36</td>\n",
       "            </tr>\n",
       "            <tr>\n",
       "                <td title=\"Estimated distance to minimum\">EDM = 1.10886029888e-21</td>\n",
       "                <td title=\"Maximum EDM definition of convergence\">GOAL EDM = 1e-05</td>\n",
       "                <td title=\"Error def. Amount of increase in FCN to be defined as 1 standard deviation\">\n",
       "                UP = 1.0</td>\n",
       "            </tr>\n",
       "        </table>\n",
       "        \n",
       "        <table>\n",
       "            <tr>\n",
       "                <td align=\"center\" title=\"Validity of the migrad call\">Valid</td>\n",
       "                <td align=\"center\" title=\"Validity of parameters\">Valid Param</td>\n",
       "                <td align=\"center\" title=\"Is Covariance matrix accurate?\">Accurate Covar</td>\n",
       "                <td align=\"center\" title=\"Positive definiteness of covariance matrix\">PosDef</td>\n",
       "                <td align=\"center\" title=\"Was covariance matrix made posdef by adding diagonal element\">Made PosDef</td>\n",
       "            </tr>\n",
       "            <tr>\n",
       "                <td align=\"center\" style=\"background-color:#92CCA6\">True</td>\n",
       "                <td align=\"center\" style=\"background-color:#92CCA6\">True</td>\n",
       "                <td align=\"center\" style=\"background-color:#92CCA6\">True</td>\n",
       "                <td align=\"center\" style=\"background-color:#92CCA6\">True</td>\n",
       "                <td align=\"center\" style=\"background-color:#92CCA6\">False</td>\n",
       "            </tr>\n",
       "            <tr>\n",
       "                <td align=\"center\" title=\"Was last hesse call fail?\">Hesse Fail</td>\n",
       "                <td align=\"center\" title=\"Validity of covariance\">HasCov</td>\n",
       "                <td align=\"center\" title=\"Is EDM above goal EDM?\">Above EDM</td>\n",
       "                <td align=\"center\"></td>\n",
       "                <td align=\"center\" title=\"Did last migrad call reach max call limit?\">Reach calllim</td>\n",
       "            </tr>\n",
       "            <tr>\n",
       "                <td align=\"center\" style=\"background-color:#92CCA6\">False</td>\n",
       "                <td align=\"center\" style=\"background-color:#92CCA6\">True</td>\n",
       "                <td align=\"center\" style=\"background-color:#92CCA6\">False</td>\n",
       "                <td align=\"center\"></td>\n",
       "                <td align=\"center\" style=\"background-color:#92CCA6\">False</td>\n",
       "            </tr>\n",
       "        </table>\n",
       "        "
      ]
     },
     "metadata": {},
     "output_type": "display_data"
    },
    {
     "data": {
      "text/html": [
       "\n",
       "        <table>\n",
       "            <tr>\n",
       "                <td><a href=\"#\" onclick=\"$('#BPdWZzVuZd').toggle()\">+</a></td>\n",
       "                <td title=\"Variable name\">Name</td>\n",
       "                <td title=\"Value of parameter\">Value</td>\n",
       "                <td title=\"Parabolic error\">Parab Error</td>\n",
       "                <td title=\"Minos lower error\">Minos Error-</td>\n",
       "                <td title=\"Minos upper error\">Minos Error+</td>\n",
       "                <td title=\"Lower limit of the parameter\">Limit-</td>\n",
       "                <td title=\"Upper limit of the parameter\">Limit+</td>\n",
       "                <td title=\"Is the parameter fixed in the fit\">FIXED</td>\n",
       "            </tr>\n",
       "        \n",
       "            <tr>\n",
       "                <td>1</td>\n",
       "                <td>m</td>\n",
       "                <td>2.886277e+00</td>\n",
       "                <td>7.367884e-02</td>\n",
       "                <td>0.000000e+00</td>\n",
       "                <td>0.000000e+00</td>\n",
       "                <td></td>\n",
       "                <td></td>\n",
       "                <td></td>\n",
       "            </tr>\n",
       "            \n",
       "            <tr>\n",
       "                <td>2</td>\n",
       "                <td>c</td>\n",
       "                <td>1.613795e+01</td>\n",
       "                <td>4.309458e-01</td>\n",
       "                <td>0.000000e+00</td>\n",
       "                <td>0.000000e+00</td>\n",
       "                <td></td>\n",
       "                <td></td>\n",
       "                <td></td>\n",
       "            </tr>\n",
       "            \n",
       "            </table>\n",
       "        \n",
       "            <pre id=\"BPdWZzVuZd\" style=\"display:none;\">\n",
       "            <textarea rows=\"10\" cols=\"50\" onclick=\"this.select()\" readonly>\\begin{tabular}{|c|r|r|r|r|r|r|r|c|}\n",
       "\\hline\n",
       " & Name & Value & Para Error & Error+ & Error- & Limit+ & Limit- & FIXED\\\\\n",
       "\\hline\n",
       "1 & m & 2.886e+00 & 7.368e-02 &  &  &  &  & \\\\\n",
       "\\hline\n",
       "2 & c & 1.614e+01 & 4.309e-01 &  &  &  &  & \\\\\n",
       "\\hline\n",
       "\\end{tabular}</textarea>\n",
       "            </pre>\n",
       "            "
      ]
     },
     "metadata": {},
     "output_type": "display_data"
    },
    {
     "data": {
      "text/html": [
       "<hr>"
      ]
     },
     "metadata": {},
     "output_type": "display_data"
    }
   ],
   "source": [
    "# minimize it\n",
    "# yes, it gives you a heads up that you didn't give it initial value\n",
    "# we can ignore it for now\n",
    "def fitIt(print_level=0):\n",
    "    chi2obj = probfit.Chi2Regression(line, x, y, err)\n",
    "    minuit = iminuit.Minuit(chi2obj, print_level=print_level) # see iminuit tutorial on how to give initial value/range/error\n",
    "    out = minuit.migrad()  # MIGRAD is a very stable robust minimization method\n",
    "    return out, minuit\n",
    "%timeit fitIt()\n",
    "out, minuit = fitIt(print_level=1)"
   ]
  },
  {
   "cell_type": "code",
   "execution_count": 229,
   "metadata": {
    "collapsed": false
   },
   "outputs": [
    {
     "name": "stdout",
     "output_type": "stream",
     "text": [
      "['m', 'c']\n",
      "1000 loops, best of 3: 445 µs per loop\n"
     ]
    },
    {
     "data": {
      "text/html": [
       "<hr>"
      ]
     },
     "metadata": {},
     "output_type": "display_data"
    },
    {
     "data": {
      "text/html": [
       "\n",
       "        <table>\n",
       "            <tr>\n",
       "                <td title=\"Minimum value of function\">FCN = 12.0738531135</td>\n",
       "                <td title=\"Total number of call to FCN so far\">TOTAL NCALL = 36</td>\n",
       "                <td title=\"Number of call in last migrad\">NCALLS = 36</td>\n",
       "            </tr>\n",
       "            <tr>\n",
       "                <td title=\"Estimated distance to minimum\">EDM = 6.7673726981e-22</td>\n",
       "                <td title=\"Maximum EDM definition of convergence\">GOAL EDM = 1e-05</td>\n",
       "                <td title=\"Error def. Amount of increase in FCN to be defined as 1 standard deviation\">\n",
       "                UP = 1.0</td>\n",
       "            </tr>\n",
       "        </table>\n",
       "        \n",
       "        <table>\n",
       "            <tr>\n",
       "                <td align=\"center\" title=\"Validity of the migrad call\">Valid</td>\n",
       "                <td align=\"center\" title=\"Validity of parameters\">Valid Param</td>\n",
       "                <td align=\"center\" title=\"Is Covariance matrix accurate?\">Accurate Covar</td>\n",
       "                <td align=\"center\" title=\"Positive definiteness of covariance matrix\">PosDef</td>\n",
       "                <td align=\"center\" title=\"Was covariance matrix made posdef by adding diagonal element\">Made PosDef</td>\n",
       "            </tr>\n",
       "            <tr>\n",
       "                <td align=\"center\" style=\"background-color:#92CCA6\">True</td>\n",
       "                <td align=\"center\" style=\"background-color:#92CCA6\">True</td>\n",
       "                <td align=\"center\" style=\"background-color:#92CCA6\">True</td>\n",
       "                <td align=\"center\" style=\"background-color:#92CCA6\">True</td>\n",
       "                <td align=\"center\" style=\"background-color:#92CCA6\">False</td>\n",
       "            </tr>\n",
       "            <tr>\n",
       "                <td align=\"center\" title=\"Was last hesse call fail?\">Hesse Fail</td>\n",
       "                <td align=\"center\" title=\"Validity of covariance\">HasCov</td>\n",
       "                <td align=\"center\" title=\"Is EDM above goal EDM?\">Above EDM</td>\n",
       "                <td align=\"center\"></td>\n",
       "                <td align=\"center\" title=\"Did last migrad call reach max call limit?\">Reach calllim</td>\n",
       "            </tr>\n",
       "            <tr>\n",
       "                <td align=\"center\" style=\"background-color:#92CCA6\">False</td>\n",
       "                <td align=\"center\" style=\"background-color:#92CCA6\">True</td>\n",
       "                <td align=\"center\" style=\"background-color:#92CCA6\">False</td>\n",
       "                <td align=\"center\"></td>\n",
       "                <td align=\"center\" style=\"background-color:#92CCA6\">False</td>\n",
       "            </tr>\n",
       "        </table>\n",
       "        "
      ]
     },
     "metadata": {},
     "output_type": "display_data"
    },
    {
     "data": {
      "text/html": [
       "\n",
       "        <table>\n",
       "            <tr>\n",
       "                <td><a href=\"#\" onclick=\"$('#OKkRDMWKLR').toggle()\">+</a></td>\n",
       "                <td title=\"Variable name\">Name</td>\n",
       "                <td title=\"Value of parameter\">Value</td>\n",
       "                <td title=\"Parabolic error\">Parab Error</td>\n",
       "                <td title=\"Minos lower error\">Minos Error-</td>\n",
       "                <td title=\"Minos upper error\">Minos Error+</td>\n",
       "                <td title=\"Lower limit of the parameter\">Limit-</td>\n",
       "                <td title=\"Upper limit of the parameter\">Limit+</td>\n",
       "                <td title=\"Is the parameter fixed in the fit\">FIXED</td>\n",
       "            </tr>\n",
       "        \n",
       "            <tr>\n",
       "                <td>1</td>\n",
       "                <td>m</td>\n",
       "                <td>2.886277e+00</td>\n",
       "                <td>7.367884e-02</td>\n",
       "                <td>0.000000e+00</td>\n",
       "                <td>0.000000e+00</td>\n",
       "                <td></td>\n",
       "                <td></td>\n",
       "                <td></td>\n",
       "            </tr>\n",
       "            \n",
       "            <tr>\n",
       "                <td>2</td>\n",
       "                <td>c</td>\n",
       "                <td>1.613795e+01</td>\n",
       "                <td>4.309458e-01</td>\n",
       "                <td>0.000000e+00</td>\n",
       "                <td>0.000000e+00</td>\n",
       "                <td></td>\n",
       "                <td></td>\n",
       "                <td></td>\n",
       "            </tr>\n",
       "            \n",
       "            </table>\n",
       "        \n",
       "            <pre id=\"OKkRDMWKLR\" style=\"display:none;\">\n",
       "            <textarea rows=\"10\" cols=\"50\" onclick=\"this.select()\" readonly>\\begin{tabular}{|c|r|r|r|r|r|r|r|c|}\n",
       "\\hline\n",
       " & Name & Value & Para Error & Error+ & Error- & Limit+ & Limit- & FIXED\\\\\n",
       "\\hline\n",
       "1 & m & 2.886e+00 & 7.368e-02 &  &  &  &  & \\\\\n",
       "\\hline\n",
       "2 & c & 1.614e+01 & 4.309e-01 &  &  &  &  & \\\\\n",
       "\\hline\n",
       "\\end{tabular}</textarea>\n",
       "            </pre>\n",
       "            "
      ]
     },
     "metadata": {},
     "output_type": "display_data"
    },
    {
     "data": {
      "text/html": [
       "<hr>"
      ]
     },
     "metadata": {},
     "output_type": "display_data"
    }
   ],
   "source": [
    "# Try it by defining our own vectorized chi2 function. This should be faster.\n",
    "from iminuit.util import make_func_code\n",
    "class Chi2Functor:\n",
    "    def __init__(self, f, x, y, err=1.):\n",
    "        self.f = f\n",
    "        self.x = x\n",
    "        self.y = y\n",
    "        self.err = err**2.\n",
    "        f_sig = iminuit.describe(f)\n",
    "        # this is how you fake function signature dynamically\n",
    "        self.func_code = iminuit.util.make_func_code(f_sig[1:]) # docking off independent variable\n",
    "        self.func_defaults = None # this keeps np.vectorize happy\n",
    "    def __call__(self, *arg):\n",
    "        # notice that it accept variable length positional arguments\n",
    "        #chi2 = sum((y - self.f(x, *arg))**2 for x,y in zip(self.x, self.y))\n",
    "        f_val = self.f(self.x, *arg)\n",
    "        #f_val -= self.y\n",
    "        #f_val **= 2.\n",
    "        #f_val /= self.err\n",
    "        #chi2 = np.sum(f_val)\n",
    "        chi2 = np.sum(((self.y - f_val)**2.)/self.err)\n",
    "        return chi2\n",
    "\n",
    "def line(x, m, c): # define it to be parabolic or whatever you like\n",
    "    return x * m + c\n",
    "\n",
    "chi2obj = Chi2Functor(line, x, y, 1.)\n",
    "print iminuit.describe(chi2obj)\n",
    "    \n",
    "def fitIt(print_level=0):\n",
    "    chi2obj = Chi2Functor(line, x, y, 1.)\n",
    "    minuit = iminuit.Minuit(chi2obj, print_level=print_level) \n",
    "    out = minuit.migrad()  # MIGRAD is a very stable robust minimization method\n",
    "    return out, minuit\n",
    "%timeit fitIt()\n",
    "out, minuit = fitIt(print_level=1)"
   ]
  },
  {
   "cell_type": "code",
   "execution_count": 168,
   "metadata": {
    "collapsed": false
   },
   "outputs": [
    {
     "name": "stdout",
     "output_type": "stream",
     "text": [
      "{'c': 16.13794752053587, 'm': 2.886277414482587}\n",
      "{'c': 0.4309458040626655, 'm': 0.07367883980858407}\n"
     ]
    }
   ],
   "source": [
    "# The output above is a pretty-printed summary of the fit results from\n",
    "# minuit.print_fmin()\n",
    "# which was automatically called by iminuit.Minuit.migrad() after running MIGRAD.\n",
    "\n",
    "# Let's see our results as Python dictionaries ...\n",
    "print(minuit.values)\n",
    "print(minuit.errors)"
   ]
  },
  {
   "cell_type": "code",
   "execution_count": 70,
   "metadata": {
    "collapsed": false
   },
   "outputs": [
    {
     "ename": "AttributeError",
     "evalue": "type object 'chi2' has no attribute 'draw'",
     "output_type": "error",
     "traceback": [
      "\u001b[0;31m---------------------------------------------------------------------------\u001b[0m",
      "\u001b[0;31mAttributeError\u001b[0m                            Traceback (most recent call last)",
      "\u001b[0;32m<ipython-input-70-bbea738d5af8>\u001b[0m in \u001b[0;36m<module>\u001b[0;34m()\u001b[0m\n\u001b[1;32m      1\u001b[0m \u001b[0;31m# Let's visualize our line\u001b[0m\u001b[0;34m\u001b[0m\u001b[0;34m\u001b[0m\u001b[0m\n\u001b[0;32m----> 2\u001b[0;31m \u001b[0m_\u001b[0m \u001b[0;34m=\u001b[0m \u001b[0mchi2\u001b[0m\u001b[0;34m.\u001b[0m\u001b[0mdraw\u001b[0m\u001b[0;34m(\u001b[0m\u001b[0mminuit\u001b[0m\u001b[0;34m)\u001b[0m\u001b[0;34m;\u001b[0m\u001b[0;34m\u001b[0m\u001b[0m\n\u001b[0m\u001b[1;32m      3\u001b[0m \u001b[0;31m# looks good;\u001b[0m\u001b[0;34m\u001b[0m\u001b[0;34m\u001b[0m\u001b[0m\n",
      "\u001b[0;31mAttributeError\u001b[0m: type object 'chi2' has no attribute 'draw'"
     ]
    }
   ],
   "source": [
    "# Let's visualize our line\n",
    "_ = chi2.draw(minuit);\n",
    "# looks good;"
   ]
  },
  {
   "cell_type": "code",
   "execution_count": 169,
   "metadata": {
    "collapsed": false
   },
   "outputs": [
    {
     "name": "stdout",
     "output_type": "stream",
     "text": [
      "error matrix:\n",
      "((0.005428571435538993, -0.027142857196837174), (-0.027142857196837174, 0.1857142860392173))\n",
      "correlation matrix:\n",
      "((1.0, -0.8548504146687476), (-0.8548504146687476, 1.0))\n"
     ]
    },
    {
     "data": {
      "text/html": [
       "\n",
       "            <table>\n",
       "                <tr>\n",
       "                    <td><a onclick=\"$('#ioKOcXFCOz').toggle()\" href=\"#\">+</a></td>\n",
       "        \n",
       "            <td>\n",
       "            <div style=\"width:20px;position:relative; width: -moz-fit-content;\">\n",
       "            <div style=\"display:inline-block;-webkit-writing-mode:vertical-rl;-moz-writing-mode: vertical-rl;writing-mode: vertical-rl;\">\n",
       "            m\n",
       "            </div>\n",
       "            </div>\n",
       "            </td>\n",
       "            \n",
       "            <td>\n",
       "            <div style=\"width:20px;position:relative; width: -moz-fit-content;\">\n",
       "            <div style=\"display:inline-block;-webkit-writing-mode:vertical-rl;-moz-writing-mode: vertical-rl;writing-mode: vertical-rl;\">\n",
       "            c\n",
       "            </div>\n",
       "            </div>\n",
       "            </td>\n",
       "            \n",
       "                </tr>\n",
       "                \n",
       "            <tr>\n",
       "                <td>m</td>\n",
       "            \n",
       "                <td style=\"background-color:rgb(255,117,117)\">\n",
       "                1.00\n",
       "                </td>\n",
       "                \n",
       "                <td style=\"background-color:rgb(242,137,127)\">\n",
       "                -0.85\n",
       "                </td>\n",
       "                \n",
       "            </tr>\n",
       "            \n",
       "            <tr>\n",
       "                <td>c</td>\n",
       "            \n",
       "                <td style=\"background-color:rgb(242,137,127)\">\n",
       "                -0.85\n",
       "                </td>\n",
       "                \n",
       "                <td style=\"background-color:rgb(255,117,117)\">\n",
       "                1.00\n",
       "                </td>\n",
       "                \n",
       "            </tr>\n",
       "            </table>\n",
       "\n",
       "            <pre id=\"ioKOcXFCOz\" style=\"display:none;\">\n",
       "            <textarea rows=\"13\" cols=\"50\" onclick=\"this.select()\" readonly>%\\usepackage[table]{xcolor} % include this for color\n",
       "%\\usepackage{rotating} % include this for rotate header\n",
       "%\\documentclass[xcolor=table]{beamer} % for beamer\n",
       "\\begin{tabular}{|c|c|c|}\n",
       "\\hline\n",
       "\\rotatebox{90}{} & \\rotatebox{90}{m} & \\rotatebox{90}{c}\\\\\n",
       "\\hline\n",
       "m & \\cellcolor[RGB]{255,117,117} 1.00 & \\cellcolor[RGB]{242,137,127} -0.85\\\\\n",
       "\\hline\n",
       "c & \\cellcolor[RGB]{242,137,127} -0.85 & \\cellcolor[RGB]{255,117,117} 1.00\\\\\n",
       "\\hline\n",
       "\\end{tabular}</textarea>\n",
       "            </pre>\n",
       "            "
      ]
     },
     "metadata": {},
     "output_type": "display_data"
    }
   ],
   "source": [
    "# Sometimes we want the error matrix (a.k.a. covariance matrix)\n",
    "print('error matrix:')\n",
    "print(minuit.matrix())\n",
    "# or the correlation matrix\n",
    "print('correlation matrix:')\n",
    "print(minuit.matrix(correlation=True))\n",
    "# or a pretty html representation\n",
    "# Note that `print_matrix()` shows the correlation matrix, not the error matrix\n",
    "minuit.print_matrix()"
   ]
  },
  {
   "cell_type": "markdown",
   "metadata": {},
   "source": [
    "Now we try to fit our dipole..."
   ]
  },
  {
   "cell_type": "code",
   "execution_count": 220,
   "metadata": {
    "collapsed": false
   },
   "outputs": [],
   "source": [
    "import lmfit\n",
    "from scipy.stats import norm\n",
    "\n",
    "def gen_dipole2(x, amp1=1., sep1=1.):\n",
    "    ypos = amp1 * norm.pdf(x,  sep1/2., 1)\n",
    "    yneg = amp1 * norm.pdf(x, -sep1/2., 1)                  \n",
    "    y = ypos - yneg\n",
    "    return np.append(y, [ypos, yneg])\n",
    "\n",
    "def gen_dipole(x, amp1=1., sep1=1.):\n",
    "    #y = amp1 * (norm.pdf(x, -sep1/2., 1) - norm.pdf(x, sep1/2., 1))\n",
    "    try:\n",
    "        leng = len(x)\n",
    "    except:\n",
    "        leng = 1\n",
    "    y = gen_dipole2(x, amp1, sep1)[:leng]\n",
    "    return y\n",
    "\n",
    "def fitDipole(ydata, xdata, amp1Start=3., sep1Start=2., fitFunc=gen_dipole, err=1., verbose=False):\n",
    "    gmod = lmfit.Model(fitFunc, verbose=verbose)\n",
    "    result = gmod.fit(ydata, x=xdata, amp1=amp1Start, sep1=sep1Start, weights=1./err, verbose=verbose)\n",
    "\n",
    "    if verbose: \n",
    "        print(result.fit_report(show_correl=False))\n",
    "        ci = lmfit.conf_interval(result, result)\n",
    "        lmfit.printfuncs.report_ci(ci)\n",
    "\n",
    "    return result"
   ]
  },
  {
   "cell_type": "code",
   "execution_count": 221,
   "metadata": {
    "collapsed": false
   },
   "outputs": [
    {
     "name": "stdout",
     "output_type": "stream",
     "text": [
      " - Adding parameter \"sep1\"\n",
      " - Adding parameter \"amp1\"\n",
      "[[Model]]\n",
      "    Model(gen_dipole)\n",
      "[[Fit Statistics]]\n",
      "    # function evals   = 51\n",
      "    # data points      = 40\n",
      "    # variables        = 2\n",
      "    chi-square         = 34.051\n",
      "    reduced chi-square = 0.896\n",
      "[[Variables]]\n",
      "    sep1:   0.41837581 +/- 0.887848 (212.21%) (init= 1.5)\n",
      "    amp1:   2.40968047 +/- 5.002536 (207.60%) (init= 1.5)\n",
      "\n",
      "         99.70%    95.00%    67.40%    _BEST_    67.40%    95.00%    99.70%\n",
      " sep1:  -0.41838  -0.41838  -0.41838   0.41838  +0.54521  +0.88911  +1.18936\n",
      " amp1:  -1.70679  -1.57342  -1.31708   2.40968      +inf      +inf      +inf\n"
     ]
    },
    {
     "data": {
      "image/png": "[encoded data removed]",
      "text/plain": [
       "<matplotlib.figure.Figure at 0x1104d16d0>"
      ]
     },
     "metadata": {},
     "output_type": "display_data"
    }
   ],
   "source": [
    "xdata = np.arange(-5, 5, 0.25)\n",
    "ydataOrig = gen_dipole2(xdata, amp1=1.3, sep1=0.8)\n",
    "ydataOrigNoisy = ydataOrig + np.random.normal(scale=0.03, size=ydataOrig.shape) ## save it for fitting below...\n",
    "ydata = ydataOrigNoisy[:len(xdata)] \n",
    "\n",
    "result = fitDipole(ydata, xdata, err=0.03, amp1Start=1.5, sep1Start=1.5, fitFunc=gen_dipole, verbose=True)\n",
    "plt.plot(xdata, ydata, 'bo')\n",
    "plt.plot(xdata, ydataOrig[:len(xdata)], linewidth=3, linestyle='dotted')\n",
    "plt.plot(xdata, result.best_fit, linewidth=3, linestyle='dashed')\n",
    "plt.show()"
   ]
  },
  {
   "cell_type": "code",
   "execution_count": 222,
   "metadata": {
    "collapsed": false
   },
   "outputs": [
    {
     "data": {
      "text/plain": [
       "['x', 'amp1', 'sep1']"
      ]
     },
     "execution_count": 222,
     "metadata": {},
     "output_type": "execute_result"
    }
   ],
   "source": [
    "## Try it with iminuit\n",
    "iminuit.describe(gen_dipole)"
   ]
  },
  {
   "cell_type": "code",
   "execution_count": 223,
   "metadata": {
    "collapsed": false
   },
   "outputs": [
    {
     "data": {
      "text/plain": [
       "['amp1', 'sep1']"
      ]
     },
     "execution_count": 223,
     "metadata": {},
     "output_type": "execute_result"
    }
   ],
   "source": [
    "#err = np.ones(len(xdata)) * 0.03\n",
    "#chi2 = probfit.Chi2Regression(gen_dipole, xdata, ydata, err)\n",
    "chi2 = Chi2Functor(gen_dipole, xdata, ydata, err=0.03)\n",
    "iminuit.describe(chi2)"
   ]
  },
  {
   "cell_type": "code",
   "execution_count": 224,
   "metadata": {
    "collapsed": false
   },
   "outputs": [
    {
     "data": {
      "text/html": [
       "<hr>"
      ]
     },
     "metadata": {},
     "output_type": "display_data"
    },
    {
     "data": {
      "text/html": [
       "\n",
       "        <table>\n",
       "            <tr>\n",
       "                <td title=\"Minimum value of function\">FCN = 34.0507125669</td>\n",
       "                <td title=\"Total number of call to FCN so far\">TOTAL NCALL = 189</td>\n",
       "                <td title=\"Number of call in last migrad\">NCALLS = 189</td>\n",
       "            </tr>\n",
       "            <tr>\n",
       "                <td title=\"Estimated distance to minimum\">EDM = 4.27706129603e-08</td>\n",
       "                <td title=\"Maximum EDM definition of convergence\">GOAL EDM = 1e-05</td>\n",
       "                <td title=\"Error def. Amount of increase in FCN to be defined as 1 standard deviation\">\n",
       "                UP = 1.0</td>\n",
       "            </tr>\n",
       "        </table>\n",
       "        \n",
       "        <table>\n",
       "            <tr>\n",
       "                <td align=\"center\" title=\"Validity of the migrad call\">Valid</td>\n",
       "                <td align=\"center\" title=\"Validity of parameters\">Valid Param</td>\n",
       "                <td align=\"center\" title=\"Is Covariance matrix accurate?\">Accurate Covar</td>\n",
       "                <td align=\"center\" title=\"Positive definiteness of covariance matrix\">PosDef</td>\n",
       "                <td align=\"center\" title=\"Was covariance matrix made posdef by adding diagonal element\">Made PosDef</td>\n",
       "            </tr>\n",
       "            <tr>\n",
       "                <td align=\"center\" style=\"background-color:#92CCA6\">True</td>\n",
       "                <td align=\"center\" style=\"background-color:#92CCA6\">True</td>\n",
       "                <td align=\"center\" style=\"background-color:#92CCA6\">True</td>\n",
       "                <td align=\"center\" style=\"background-color:#92CCA6\">True</td>\n",
       "                <td align=\"center\" style=\"background-color:#92CCA6\">False</td>\n",
       "            </tr>\n",
       "            <tr>\n",
       "                <td align=\"center\" title=\"Was last hesse call fail?\">Hesse Fail</td>\n",
       "                <td align=\"center\" title=\"Validity of covariance\">HasCov</td>\n",
       "                <td align=\"center\" title=\"Is EDM above goal EDM?\">Above EDM</td>\n",
       "                <td align=\"center\"></td>\n",
       "                <td align=\"center\" title=\"Did last migrad call reach max call limit?\">Reach calllim</td>\n",
       "            </tr>\n",
       "            <tr>\n",
       "                <td align=\"center\" style=\"background-color:#92CCA6\">False</td>\n",
       "                <td align=\"center\" style=\"background-color:#92CCA6\">True</td>\n",
       "                <td align=\"center\" style=\"background-color:#92CCA6\">False</td>\n",
       "                <td align=\"center\"></td>\n",
       "                <td align=\"center\" style=\"background-color:#92CCA6\">False</td>\n",
       "            </tr>\n",
       "        </table>\n",
       "        "
      ]
     },
     "metadata": {},
     "output_type": "display_data"
    },
    {
     "data": {
      "text/html": [
       "\n",
       "        <table>\n",
       "            <tr>\n",
       "                <td><a href=\"#\" onclick=\"$('#qLVevUTEBx').toggle()\">+</a></td>\n",
       "                <td title=\"Variable name\">Name</td>\n",
       "                <td title=\"Value of parameter\">Value</td>\n",
       "                <td title=\"Parabolic error\">Parab Error</td>\n",
       "                <td title=\"Minos lower error\">Minos Error-</td>\n",
       "                <td title=\"Minos upper error\">Minos Error+</td>\n",
       "                <td title=\"Lower limit of the parameter\">Limit-</td>\n",
       "                <td title=\"Upper limit of the parameter\">Limit+</td>\n",
       "                <td title=\"Is the parameter fixed in the fit\">FIXED</td>\n",
       "            </tr>\n",
       "        \n",
       "            <tr>\n",
       "                <td>1</td>\n",
       "                <td>amp1</td>\n",
       "                <td>2.405820e+00</td>\n",
       "                <td>1.521730e+00</td>\n",
       "                <td>0.000000e+00</td>\n",
       "                <td>0.000000e+00</td>\n",
       "                <td>0.01</td>\n",
       "                <td>100.0</td>\n",
       "                <td></td>\n",
       "            </tr>\n",
       "            \n",
       "            <tr>\n",
       "                <td>2</td>\n",
       "                <td>sep1</td>\n",
       "                <td>4.190614e-01</td>\n",
       "                <td>2.713747e-01</td>\n",
       "                <td>0.000000e+00</td>\n",
       "                <td>0.000000e+00</td>\n",
       "                <td></td>\n",
       "                <td></td>\n",
       "                <td></td>\n",
       "            </tr>\n",
       "            \n",
       "            </table>\n",
       "        \n",
       "            <pre id=\"qLVevUTEBx\" style=\"display:none;\">\n",
       "            <textarea rows=\"10\" cols=\"50\" onclick=\"this.select()\" readonly>\\begin{tabular}{|c|r|r|r|r|r|r|r|c|}\n",
       "\\hline\n",
       " & Name & Value & Para Error & Error+ & Error- & Limit+ & Limit- & FIXED\\\\\n",
       "\\hline\n",
       "1 & amp1 & 2.406e+00 & 1.522e+00 &  &  & 1.000e-02 & 1.000e+02 & \\\\\n",
       "\\hline\n",
       "2 & sep1 & 4.191e-01 & 2.714e-01 &  &  &  &  & \\\\\n",
       "\\hline\n",
       "\\end{tabular}</textarea>\n",
       "            </pre>\n",
       "            "
      ]
     },
     "metadata": {},
     "output_type": "display_data"
    },
    {
     "data": {
      "text/html": [
       "<hr>"
      ]
     },
     "metadata": {},
     "output_type": "display_data"
    }
   ],
   "source": [
    "# minimize it\n",
    "# yes, it gives you a heads up that you didn't give it initial value\n",
    "# we can ignore it for now\n",
    "# see iminuit tutorial on how to give initial value/range/error\n",
    "minuit = iminuit.Minuit(chi2, amp1=1.5, sep1=1.5, limit_amp1=(0.01,100.) )\n",
    "_ = minuit.migrad(); # MIGRAD is a very stable robust minimization method\n",
    "# you can look at your terminal to see what it is doing;"
   ]
  },
  {
   "cell_type": "code",
   "execution_count": 225,
   "metadata": {
    "collapsed": false
   },
   "outputs": [
    {
     "name": "stdout",
     "output_type": "stream",
     "text": [
      "{'sep1': 0.41906141354726, 'amp1': 2.4058203938382117}\n",
      "{'sep1': 0.27137465774484726, 'amp1': 1.521730429216667}\n"
     ]
    }
   ],
   "source": [
    "# The output above is a pretty-printed summary of the fit results from\n",
    "# minuit.print_fmin()\n",
    "# which was automatically called by iminuit.Minuit.migrad() after running MIGRAD.\n",
    "\n",
    "# Let's see our results as Python dictionaries ...\n",
    "print(minuit.values)\n",
    "print(minuit.errors)"
   ]
  },
  {
   "cell_type": "code",
   "execution_count": 226,
   "metadata": {
    "collapsed": false
   },
   "outputs": [
    {
     "ename": "AttributeError",
     "evalue": "Chi2Functor instance has no attribute 'draw'",
     "output_type": "error",
     "traceback": [
      "\u001b[0;31m---------------------------------------------------------------------------\u001b[0m",
      "\u001b[0;31mAttributeError\u001b[0m                            Traceback (most recent call last)",
      "\u001b[0;32m<ipython-input-226-bbea738d5af8>\u001b[0m in \u001b[0;36m<module>\u001b[0;34m()\u001b[0m\n\u001b[1;32m      1\u001b[0m \u001b[0;31m# Let's visualize our line\u001b[0m\u001b[0;34m\u001b[0m\u001b[0;34m\u001b[0m\u001b[0m\n\u001b[0;32m----> 2\u001b[0;31m \u001b[0m_\u001b[0m \u001b[0;34m=\u001b[0m \u001b[0mchi2\u001b[0m\u001b[0;34m.\u001b[0m\u001b[0mdraw\u001b[0m\u001b[0;34m(\u001b[0m\u001b[0mminuit\u001b[0m\u001b[0;34m)\u001b[0m\u001b[0;34m;\u001b[0m\u001b[0;34m\u001b[0m\u001b[0m\n\u001b[0m\u001b[1;32m      3\u001b[0m \u001b[0;31m# looks good;\u001b[0m\u001b[0;34m\u001b[0m\u001b[0;34m\u001b[0m\u001b[0m\n",
      "\u001b[0;31mAttributeError\u001b[0m: Chi2Functor instance has no attribute 'draw'"
     ]
    }
   ],
   "source": [
    "# Let's visualize our line\n",
    "_ = chi2.draw(minuit);\n",
    "# looks good;"
   ]
  },
  {
   "cell_type": "markdown",
   "metadata": {},
   "source": [
    "iMinuit with custom vectorization is about 2.2x slower!"
   ]
  },
  {
   "cell_type": "code",
   "execution_count": 228,
   "metadata": {
    "collapsed": false
   },
   "outputs": [
    {
     "name": "stdout",
     "output_type": "stream",
     "text": [
      "10 loops, best of 3: 40 ms per loop\n",
      "1 loop, best of 3: 1.28 s per loop\n",
      "100 loops, best of 3: 11.3 ms per loop\n",
      "100 loops, best of 3: 11.2 ms per loop\n",
      "0.282946196452\n"
     ]
    }
   ],
   "source": [
    "import warnings\n",
    "warnings.filterwarnings('ignore')\n",
    "\n",
    "err2 = np.repeat(0.03,len(xdata))\n",
    "\n",
    "def func_time_iminuit(opt=1):\n",
    "    chi2 = None\n",
    "    if opt == 0:\n",
    "        chi2 = probfit.Chi2Regression(gen_dipole, xdata, ydata, err2)\n",
    "    elif opt == 1:\n",
    "        chi2 = Chi2Functor(gen_dipole, xdata, ydata, err=0.03)\n",
    "    minuit = iminuit.Minuit(chi2, amp1=1.5, sep1=1.5, pedantic=False, print_level=0)\n",
    "    _ = minuit.migrad()\n",
    "    return None\n",
    "val1 = %timeit -o func_time_iminuit(1)\n",
    "val1a = %timeit -o func_time_iminuit(0)\n",
    "val2 = %timeit -o fitDipole(ydata, xdata, err=0.03, amp1Start=1.5, sep1Start=1.5, fitFunc=gen_dipole, verbose=False)\n",
    "\n",
    "gmod = lmfit.Model(gen_dipole, verbose=False)\n",
    "%timeit gmod.fit(ydata, x=xdata, amp1=1.5, sep1=1.5, verbose=False)\n",
    "\n",
    "print val2.best/val1.best"
   ]
  },
  {
   "cell_type": "code",
   "execution_count": 133,
   "metadata": {
    "collapsed": false
   },
   "outputs": [
    {
     "data": {
      "image/png": "[encoded data removed]",
      "text/plain": [
       "<matplotlib.figure.Figure at 0x10fe9a890>"
      ]
     },
     "metadata": {},
     "output_type": "display_data"
    }
   ],
   "source": [
    "# Looking at a likelihood profile is a good method\n",
    "# to check that the reported errors make sense\n",
    "_ = minuit.draw_mnprofile('sep1');"
   ]
  },
  {
   "cell_type": "code",
   "execution_count": 134,
   "metadata": {
    "collapsed": false
   },
   "outputs": [],
   "source": [
    "# Plot a 2d contour error\n",
    "# You can notice that it takes some time to draw\n",
    "# This is because our PDF is defined in Python\n",
    "# We will show how to speed this up later\n",
    "# This is currently uninformative. How to improve?\n",
    "if False:\n",
    "    _ = minuit.draw_mncontour('amp1', 'sep1');"
   ]
  },
  {
   "cell_type": "markdown",
   "metadata": {},
   "source": [
    "Add template and obs. image to constrain fit..."
   ]
  },
  {
   "cell_type": "code",
   "execution_count": 231,
   "metadata": {
    "collapsed": false
   },
   "outputs": [
    {
     "name": "stdout",
     "output_type": "stream",
     "text": [
      " - Adding parameter \"sep1\"\n",
      " - Adding parameter \"amp1\"\n",
      "[[Model]]\n",
      "    Model(gen_dipole2)\n",
      "[[Fit Statistics]]\n",
      "    # function evals   = 15\n",
      "    # data points      = 120\n",
      "    # variables        = 2\n",
      "    chi-square         = 0.088\n",
      "    reduced chi-square = 0.001\n",
      "[[Variables]]\n",
      "    sep1:   0.79239981 +/- 0.025266 (3.19%) (init= 1.5)\n",
      "    amp1:   1.31542636 +/- 0.017658 (1.34%) (init= 1.5)\n",
      "\n",
      "         99.70%    95.00%    67.40%    _BEST_    67.40%    95.00%    99.70%\n",
      " sep1:  -0.07526  -0.04942  -0.02474   0.79240  +0.02498  +0.05040  +0.07760\n",
      " amp1:  -0.05345  -0.03496  -0.01742   1.31543  +0.01743  +0.03500  +0.05353\n"
     ]
    },
    {
     "data": {
      "image/png": "[encoded data removed]",
      "text/plain": [
       "<matplotlib.figure.Figure at 0x10fe9ae90>"
      ]
     },
     "metadata": {},
     "output_type": "display_data"
    }
   ],
   "source": [
    "## Use same input data as above for direct comparison\n",
    "ydata = ydataOrigNoisy\n",
    "result = fitDipole(ydata, xdata, amp1Start=1.5, sep1Start=1.5, fitFunc=gen_dipole2, verbose=True)\n",
    "plt.plot(xdata, ydata[:len(xdata)], 'bo')\n",
    "plt.plot(xdata, ydataOrig[:len(xdata)], linewidth=3, linestyle='dotted')\n",
    "plt.plot(xdata, result.best_fit[:len(xdata)], linewidth=3, linestyle='dashed')\n",
    "plt.show()"
   ]
  },
  {
   "cell_type": "code",
   "execution_count": 232,
   "metadata": {
    "collapsed": false
   },
   "outputs": [
    {
     "name": "stdout",
     "output_type": "stream",
     "text": [
      "['x', 'amp1', 'sep1']\n",
      "['amp1', 'sep1']\n"
     ]
    },
    {
     "data": {
      "text/html": [
       "<hr>"
      ]
     },
     "metadata": {},
     "output_type": "display_data"
    },
    {
     "data": {
      "text/html": [
       "\n",
       "        <table>\n",
       "            <tr>\n",
       "                <td title=\"Minimum value of function\">FCN = 97.4818415781</td>\n",
       "                <td title=\"Total number of call to FCN so far\">TOTAL NCALL = 39</td>\n",
       "                <td title=\"Number of call in last migrad\">NCALLS = 39</td>\n",
       "            </tr>\n",
       "            <tr>\n",
       "                <td title=\"Estimated distance to minimum\">EDM = 6.6868036934e-07</td>\n",
       "                <td title=\"Maximum EDM definition of convergence\">GOAL EDM = 1e-05</td>\n",
       "                <td title=\"Error def. Amount of increase in FCN to be defined as 1 standard deviation\">\n",
       "                UP = 1.0</td>\n",
       "            </tr>\n",
       "        </table>\n",
       "        \n",
       "        <table>\n",
       "            <tr>\n",
       "                <td align=\"center\" title=\"Validity of the migrad call\">Valid</td>\n",
       "                <td align=\"center\" title=\"Validity of parameters\">Valid Param</td>\n",
       "                <td align=\"center\" title=\"Is Covariance matrix accurate?\">Accurate Covar</td>\n",
       "                <td align=\"center\" title=\"Positive definiteness of covariance matrix\">PosDef</td>\n",
       "                <td align=\"center\" title=\"Was covariance matrix made posdef by adding diagonal element\">Made PosDef</td>\n",
       "            </tr>\n",
       "            <tr>\n",
       "                <td align=\"center\" style=\"background-color:#92CCA6\">True</td>\n",
       "                <td align=\"center\" style=\"background-color:#92CCA6\">True</td>\n",
       "                <td align=\"center\" style=\"background-color:#92CCA6\">True</td>\n",
       "                <td align=\"center\" style=\"background-color:#92CCA6\">True</td>\n",
       "                <td align=\"center\" style=\"background-color:#92CCA6\">False</td>\n",
       "            </tr>\n",
       "            <tr>\n",
       "                <td align=\"center\" title=\"Was last hesse call fail?\">Hesse Fail</td>\n",
       "                <td align=\"center\" title=\"Validity of covariance\">HasCov</td>\n",
       "                <td align=\"center\" title=\"Is EDM above goal EDM?\">Above EDM</td>\n",
       "                <td align=\"center\"></td>\n",
       "                <td align=\"center\" title=\"Did last migrad call reach max call limit?\">Reach calllim</td>\n",
       "            </tr>\n",
       "            <tr>\n",
       "                <td align=\"center\" style=\"background-color:#92CCA6\">False</td>\n",
       "                <td align=\"center\" style=\"background-color:#92CCA6\">True</td>\n",
       "                <td align=\"center\" style=\"background-color:#92CCA6\">False</td>\n",
       "                <td align=\"center\"></td>\n",
       "                <td align=\"center\" style=\"background-color:#92CCA6\">False</td>\n",
       "            </tr>\n",
       "        </table>\n",
       "        "
      ]
     },
     "metadata": {},
     "output_type": "display_data"
    },
    {
     "data": {
      "text/html": [
       "\n",
       "        <table>\n",
       "            <tr>\n",
       "                <td><a href=\"#\" onclick=\"$('#cOasvJVZeY').toggle()\">+</a></td>\n",
       "                <td title=\"Variable name\">Name</td>\n",
       "                <td title=\"Value of parameter\">Value</td>\n",
       "                <td title=\"Parabolic error\">Parab Error</td>\n",
       "                <td title=\"Minos lower error\">Minos Error-</td>\n",
       "                <td title=\"Minos upper error\">Minos Error+</td>\n",
       "                <td title=\"Lower limit of the parameter\">Limit-</td>\n",
       "                <td title=\"Upper limit of the parameter\">Limit+</td>\n",
       "                <td title=\"Is the parameter fixed in the fit\">FIXED</td>\n",
       "            </tr>\n",
       "        \n",
       "            <tr>\n",
       "                <td>1</td>\n",
       "                <td>amp1</td>\n",
       "                <td>1.315435e+00</td>\n",
       "                <td>1.942430e-02</td>\n",
       "                <td>0.000000e+00</td>\n",
       "                <td>0.000000e+00</td>\n",
       "                <td>0.01</td>\n",
       "                <td>100.0</td>\n",
       "                <td></td>\n",
       "            </tr>\n",
       "            \n",
       "            <tr>\n",
       "                <td>2</td>\n",
       "                <td>sep1</td>\n",
       "                <td>7.923780e-01</td>\n",
       "                <td>2.772554e-02</td>\n",
       "                <td>0.000000e+00</td>\n",
       "                <td>0.000000e+00</td>\n",
       "                <td></td>\n",
       "                <td></td>\n",
       "                <td></td>\n",
       "            </tr>\n",
       "            \n",
       "            </table>\n",
       "        \n",
       "            <pre id=\"cOasvJVZeY\" style=\"display:none;\">\n",
       "            <textarea rows=\"10\" cols=\"50\" onclick=\"this.select()\" readonly>\\begin{tabular}{|c|r|r|r|r|r|r|r|c|}\n",
       "\\hline\n",
       " & Name & Value & Para Error & Error+ & Error- & Limit+ & Limit- & FIXED\\\\\n",
       "\\hline\n",
       "1 & amp1 & 1.315e+00 & 1.942e-02 &  &  & 1.000e-02 & 1.000e+02 & \\\\\n",
       "\\hline\n",
       "2 & sep1 & 7.924e-01 & 2.773e-02 &  &  &  &  & \\\\\n",
       "\\hline\n",
       "\\end{tabular}</textarea>\n",
       "            </pre>\n",
       "            "
      ]
     },
     "metadata": {},
     "output_type": "display_data"
    },
    {
     "data": {
      "text/html": [
       "<hr>"
      ]
     },
     "metadata": {},
     "output_type": "display_data"
    }
   ],
   "source": [
    "## Try it with iminuit/probfit.\n",
    "## probfit requires x (and hence y) to be a 1-d array, so we will have to play around with it\n",
    "##   to get it to work.\n",
    "## Here we encode xdata = [x, x+100, x+200] for the diffim, pos, and neg images respectively\n",
    "def gen_dipole3(x, amp1=1., sep1=1.):\n",
    "    xx = x\n",
    "    if x >= 190:\n",
    "        xx -= 200\n",
    "    elif x >= 90:\n",
    "        xx -= 100\n",
    "    ypos = amp1 * norm.pdf(xx,  sep1/2., 1)\n",
    "    yneg = amp1 * norm.pdf(xx, -sep1/2., 1)                  \n",
    "    yout = ypos - yneg\n",
    "    if x >= 190:\n",
    "        yout = yneg\n",
    "    elif x >= 90:\n",
    "        yout = ypos\n",
    "    return yout\n",
    "\n",
    "print iminuit.describe(gen_dipole3)\n",
    "xdata2 = np.append(xdata, [xdata+100, xdata+200])\n",
    "ydata2 = ydataOrigNoisy.copy()\n",
    "\n",
    "chi2 = probfit.Chi2Regression(gen_dipole3, xdata2, ydata2, np.repeat(0.03, len(xdata2)))\n",
    "print iminuit.describe(chi2)\n",
    "\n",
    "minuit = iminuit.Minuit(chi2, amp1=1.5, sep1=1.5, limit_amp1=(0.01,100.) )\n",
    "_ = minuit.migrad();"
   ]
  },
  {
   "cell_type": "code",
   "execution_count": 233,
   "metadata": {
    "collapsed": false
   },
   "outputs": [
    {
     "name": "stdout",
     "output_type": "stream",
     "text": [
      "['amp1', 'sep1']\n"
     ]
    },
    {
     "data": {
      "text/html": [
       "<hr>"
      ]
     },
     "metadata": {},
     "output_type": "display_data"
    },
    {
     "data": {
      "text/html": [
       "\n",
       "        <table>\n",
       "            <tr>\n",
       "                <td title=\"Minimum value of function\">FCN = 97.4818415781</td>\n",
       "                <td title=\"Total number of call to FCN so far\">TOTAL NCALL = 39</td>\n",
       "                <td title=\"Number of call in last migrad\">NCALLS = 39</td>\n",
       "            </tr>\n",
       "            <tr>\n",
       "                <td title=\"Estimated distance to minimum\">EDM = 6.68680390213e-07</td>\n",
       "                <td title=\"Maximum EDM definition of convergence\">GOAL EDM = 1e-05</td>\n",
       "                <td title=\"Error def. Amount of increase in FCN to be defined as 1 standard deviation\">\n",
       "                UP = 1.0</td>\n",
       "            </tr>\n",
       "        </table>\n",
       "        \n",
       "        <table>\n",
       "            <tr>\n",
       "                <td align=\"center\" title=\"Validity of the migrad call\">Valid</td>\n",
       "                <td align=\"center\" title=\"Validity of parameters\">Valid Param</td>\n",
       "                <td align=\"center\" title=\"Is Covariance matrix accurate?\">Accurate Covar</td>\n",
       "                <td align=\"center\" title=\"Positive definiteness of covariance matrix\">PosDef</td>\n",
       "                <td align=\"center\" title=\"Was covariance matrix made posdef by adding diagonal element\">Made PosDef</td>\n",
       "            </tr>\n",
       "            <tr>\n",
       "                <td align=\"center\" style=\"background-color:#92CCA6\">True</td>\n",
       "                <td align=\"center\" style=\"background-color:#92CCA6\">True</td>\n",
       "                <td align=\"center\" style=\"background-color:#92CCA6\">True</td>\n",
       "                <td align=\"center\" style=\"background-color:#92CCA6\">True</td>\n",
       "                <td align=\"center\" style=\"background-color:#92CCA6\">False</td>\n",
       "            </tr>\n",
       "            <tr>\n",
       "                <td align=\"center\" title=\"Was last hesse call fail?\">Hesse Fail</td>\n",
       "                <td align=\"center\" title=\"Validity of covariance\">HasCov</td>\n",
       "                <td align=\"center\" title=\"Is EDM above goal EDM?\">Above EDM</td>\n",
       "                <td align=\"center\"></td>\n",
       "                <td align=\"center\" title=\"Did last migrad call reach max call limit?\">Reach calllim</td>\n",
       "            </tr>\n",
       "            <tr>\n",
       "                <td align=\"center\" style=\"background-color:#92CCA6\">False</td>\n",
       "                <td align=\"center\" style=\"background-color:#92CCA6\">True</td>\n",
       "                <td align=\"center\" style=\"background-color:#92CCA6\">False</td>\n",
       "                <td align=\"center\"></td>\n",
       "                <td align=\"center\" style=\"background-color:#92CCA6\">False</td>\n",
       "            </tr>\n",
       "        </table>\n",
       "        "
      ]
     },
     "metadata": {},
     "output_type": "display_data"
    },
    {
     "data": {
      "text/html": [
       "\n",
       "        <table>\n",
       "            <tr>\n",
       "                <td><a href=\"#\" onclick=\"$('#OwWjPtlFEa').toggle()\">+</a></td>\n",
       "                <td title=\"Variable name\">Name</td>\n",
       "                <td title=\"Value of parameter\">Value</td>\n",
       "                <td title=\"Parabolic error\">Parab Error</td>\n",
       "                <td title=\"Minos lower error\">Minos Error-</td>\n",
       "                <td title=\"Minos upper error\">Minos Error+</td>\n",
       "                <td title=\"Lower limit of the parameter\">Limit-</td>\n",
       "                <td title=\"Upper limit of the parameter\">Limit+</td>\n",
       "                <td title=\"Is the parameter fixed in the fit\">FIXED</td>\n",
       "            </tr>\n",
       "        \n",
       "            <tr>\n",
       "                <td>1</td>\n",
       "                <td>amp1</td>\n",
       "                <td>1.315435e+00</td>\n",
       "                <td>1.942429e-02</td>\n",
       "                <td>0.000000e+00</td>\n",
       "                <td>0.000000e+00</td>\n",
       "                <td>0.01</td>\n",
       "                <td>100.0</td>\n",
       "                <td></td>\n",
       "            </tr>\n",
       "            \n",
       "            <tr>\n",
       "                <td>2</td>\n",
       "                <td>sep1</td>\n",
       "                <td>7.923780e-01</td>\n",
       "                <td>2.772554e-02</td>\n",
       "                <td>0.000000e+00</td>\n",
       "                <td>0.000000e+00</td>\n",
       "                <td></td>\n",
       "                <td></td>\n",
       "                <td></td>\n",
       "            </tr>\n",
       "            \n",
       "            </table>\n",
       "        \n",
       "            <pre id=\"OwWjPtlFEa\" style=\"display:none;\">\n",
       "            <textarea rows=\"10\" cols=\"50\" onclick=\"this.select()\" readonly>\\begin{tabular}{|c|r|r|r|r|r|r|r|c|}\n",
       "\\hline\n",
       " & Name & Value & Para Error & Error+ & Error- & Limit+ & Limit- & FIXED\\\\\n",
       "\\hline\n",
       "1 & amp1 & 1.315e+00 & 1.942e-02 &  &  & 1.000e-02 & 1.000e+02 & \\\\\n",
       "\\hline\n",
       "2 & sep1 & 7.924e-01 & 2.773e-02 &  &  &  &  & \\\\\n",
       "\\hline\n",
       "\\end{tabular}</textarea>\n",
       "            </pre>\n",
       "            "
      ]
     },
     "metadata": {},
     "output_type": "display_data"
    },
    {
     "data": {
      "text/html": [
       "<hr>"
      ]
     },
     "metadata": {},
     "output_type": "display_data"
    }
   ],
   "source": [
    "## But note that my new Chi2Functor does not require x or y to be 1-d so...\n",
    "# Try it by defining our own vectorized chi2 function. This should be faster.\n",
    "chi2 = Chi2Functor(gen_dipole2, xdata, ydata, err=0.03)\n",
    "print iminuit.describe(chi2)\n",
    "\n",
    "minuit = iminuit.Minuit(chi2, amp1=1.5, sep1=1.5, limit_amp1=(0.01,100.) )\n",
    "_ = minuit.migrad();"
   ]
  },
  {
   "cell_type": "code",
   "execution_count": 234,
   "metadata": {
    "collapsed": false
   },
   "outputs": [
    {
     "name": "stdout",
     "output_type": "stream",
     "text": [
      "{'sep1': 0.7923780400072157, 'amp1': 1.3154345092288853}\n",
      "{'sep1': 0.027725538883315196, 'amp1': 0.019424294973754308}\n"
     ]
    },
    {
     "data": {
      "image/png": "[encoded data removed]",
      "text/plain": [
       "<matplotlib.figure.Figure at 0x109f288d0>"
      ]
     },
     "metadata": {},
     "output_type": "display_data"
    }
   ],
   "source": [
    "print(minuit.values)\n",
    "print(minuit.errors)\n",
    "\n",
    "#_ = chi2.draw(minuit);\n",
    "# Looking at a likelihood profile is a good method\n",
    "# to check that the reported errors make sense\n",
    "_ = minuit.draw_mnprofile('sep1');"
   ]
  },
  {
   "cell_type": "markdown",
   "metadata": {},
   "source": [
    "OK, for this it's a bit closer - only 1.15x slower"
   ]
  },
  {
   "cell_type": "code",
   "execution_count": 246,
   "metadata": {
    "collapsed": false
   },
   "outputs": [
    {
     "name": "stdout",
     "output_type": "stream",
     "text": [
      "100 loops, best of 3: 4.93 ms per loop\n",
      "100 loops, best of 3: 5.82 ms per loop\n",
      "1 loop, best of 3: 1.3 s per loop\n",
      "100 loops, best of 3: 5.09 ms per loop\n",
      "0.847388568007\n"
     ]
    }
   ],
   "source": [
    "val1 = %timeit -o fitDipole(ydata, xdata, err=0.03, amp1Start=1.5, sep1Start=1.5, \\\n",
    "                            fitFunc=gen_dipole2, verbose=False)\n",
    "\n",
    "def func_time_iminuit():\n",
    "    chi2 = Chi2Functor(gen_dipole2, xdata, ydata, err=0.03)\n",
    "    minuit = iminuit.Minuit(chi2, amp1=1.5, sep1=1.5, pedantic=False, print_level=0)\n",
    "    _ = minuit.migrad()\n",
    "    return None\n",
    "val2 = %timeit -o func_time_iminuit()\n",
    "\n",
    "err2 = np.repeat(0.03, len(xdata2))\n",
    "\n",
    "def func_time_iminuit():\n",
    "    chi2 = probfit.Chi2Regression(gen_dipole3, xdata, ydata, err2)\n",
    "    minuit = iminuit.Minuit(chi2, amp1=1.5, sep1=1.5, pedantic=False, print_level=0)\n",
    "    _ = minuit.migrad()\n",
    "    return None\n",
    "val2a = %timeit -o func_time_iminuit()\n",
    "\n",
    "gmod = lmfit.Model(gen_dipole2, verbose=False)\n",
    "%timeit gmod.fit(ydata, x=xdata, weights=1/0.03, amp1=1.5, sep1=1.5, verbose=False)\n",
    "\n",
    "print val1.best/val2.best"
   ]
  },
  {
   "cell_type": "markdown",
   "metadata": {},
   "source": [
    "### A nicer way:\n",
    "\n",
    "Let's try doing this with `probfit.costfunc.SimultaneousFit`.\n",
    "\n",
    "Note this is SLOW because it does not vectorize the function calls."
   ]
  },
  {
   "cell_type": "code",
   "execution_count": 247,
   "metadata": {
    "collapsed": false
   },
   "outputs": [
    {
     "name": "stdout",
     "output_type": "stream",
     "text": [
      "['x', 'amp1', 'sep1']\n",
      "['amp1', 'sep1']\n"
     ]
    },
    {
     "data": {
      "text/html": [
       "<hr>"
      ]
     },
     "metadata": {},
     "output_type": "display_data"
    },
    {
     "data": {
      "text/html": [
       "\n",
       "        <table>\n",
       "            <tr>\n",
       "                <td title=\"Minimum value of function\">FCN = 97.4818415781</td>\n",
       "                <td title=\"Total number of call to FCN so far\">TOTAL NCALL = 39</td>\n",
       "                <td title=\"Number of call in last migrad\">NCALLS = 39</td>\n",
       "            </tr>\n",
       "            <tr>\n",
       "                <td title=\"Estimated distance to minimum\">EDM = 6.68680397871e-07</td>\n",
       "                <td title=\"Maximum EDM definition of convergence\">GOAL EDM = 1e-05</td>\n",
       "                <td title=\"Error def. Amount of increase in FCN to be defined as 1 standard deviation\">\n",
       "                UP = 1.0</td>\n",
       "            </tr>\n",
       "        </table>\n",
       "        \n",
       "        <table>\n",
       "            <tr>\n",
       "                <td align=\"center\" title=\"Validity of the migrad call\">Valid</td>\n",
       "                <td align=\"center\" title=\"Validity of parameters\">Valid Param</td>\n",
       "                <td align=\"center\" title=\"Is Covariance matrix accurate?\">Accurate Covar</td>\n",
       "                <td align=\"center\" title=\"Positive definiteness of covariance matrix\">PosDef</td>\n",
       "                <td align=\"center\" title=\"Was covariance matrix made posdef by adding diagonal element\">Made PosDef</td>\n",
       "            </tr>\n",
       "            <tr>\n",
       "                <td align=\"center\" style=\"background-color:#92CCA6\">True</td>\n",
       "                <td align=\"center\" style=\"background-color:#92CCA6\">True</td>\n",
       "                <td align=\"center\" style=\"background-color:#92CCA6\">True</td>\n",
       "                <td align=\"center\" style=\"background-color:#92CCA6\">True</td>\n",
       "                <td align=\"center\" style=\"background-color:#92CCA6\">False</td>\n",
       "            </tr>\n",
       "            <tr>\n",
       "                <td align=\"center\" title=\"Was last hesse call fail?\">Hesse Fail</td>\n",
       "                <td align=\"center\" title=\"Validity of covariance\">HasCov</td>\n",
       "                <td align=\"center\" title=\"Is EDM above goal EDM?\">Above EDM</td>\n",
       "                <td align=\"center\"></td>\n",
       "                <td align=\"center\" title=\"Did last migrad call reach max call limit?\">Reach calllim</td>\n",
       "            </tr>\n",
       "            <tr>\n",
       "                <td align=\"center\" style=\"background-color:#92CCA6\">False</td>\n",
       "                <td align=\"center\" style=\"background-color:#92CCA6\">True</td>\n",
       "                <td align=\"center\" style=\"background-color:#92CCA6\">False</td>\n",
       "                <td align=\"center\"></td>\n",
       "                <td align=\"center\" style=\"background-color:#92CCA6\">False</td>\n",
       "            </tr>\n",
       "        </table>\n",
       "        "
      ]
     },
     "metadata": {},
     "output_type": "display_data"
    },
    {
     "data": {
      "text/html": [
       "\n",
       "        <table>\n",
       "            <tr>\n",
       "                <td><a href=\"#\" onclick=\"$('#SKgWJYTmOf').toggle()\">+</a></td>\n",
       "                <td title=\"Variable name\">Name</td>\n",
       "                <td title=\"Value of parameter\">Value</td>\n",
       "                <td title=\"Parabolic error\">Parab Error</td>\n",
       "                <td title=\"Minos lower error\">Minos Error-</td>\n",
       "                <td title=\"Minos upper error\">Minos Error+</td>\n",
       "                <td title=\"Lower limit of the parameter\">Limit-</td>\n",
       "                <td title=\"Upper limit of the parameter\">Limit+</td>\n",
       "                <td title=\"Is the parameter fixed in the fit\">FIXED</td>\n",
       "            </tr>\n",
       "        \n",
       "            <tr>\n",
       "                <td>1</td>\n",
       "                <td>amp1</td>\n",
       "                <td>1.315435e+00</td>\n",
       "                <td>1.942429e-02</td>\n",
       "                <td>0.000000e+00</td>\n",
       "                <td>0.000000e+00</td>\n",
       "                <td>0.01</td>\n",
       "                <td>100.0</td>\n",
       "                <td></td>\n",
       "            </tr>\n",
       "            \n",
       "            <tr>\n",
       "                <td>2</td>\n",
       "                <td>sep1</td>\n",
       "                <td>7.923780e-01</td>\n",
       "                <td>2.772554e-02</td>\n",
       "                <td>0.000000e+00</td>\n",
       "                <td>0.000000e+00</td>\n",
       "                <td></td>\n",
       "                <td></td>\n",
       "                <td></td>\n",
       "            </tr>\n",
       "            \n",
       "            </table>\n",
       "        \n",
       "            <pre id=\"SKgWJYTmOf\" style=\"display:none;\">\n",
       "            <textarea rows=\"10\" cols=\"50\" onclick=\"this.select()\" readonly>\\begin{tabular}{|c|r|r|r|r|r|r|r|c|}\n",
       "\\hline\n",
       " & Name & Value & Para Error & Error+ & Error- & Limit+ & Limit- & FIXED\\\\\n",
       "\\hline\n",
       "1 & amp1 & 1.315e+00 & 1.942e-02 &  &  & 1.000e-02 & 1.000e+02 & \\\\\n",
       "\\hline\n",
       "2 & sep1 & 7.924e-01 & 2.773e-02 &  &  &  &  & \\\\\n",
       "\\hline\n",
       "\\end{tabular}</textarea>\n",
       "            </pre>\n",
       "            "
      ]
     },
     "metadata": {},
     "output_type": "display_data"
    },
    {
     "data": {
      "text/html": [
       "<hr>"
      ]
     },
     "metadata": {},
     "output_type": "display_data"
    }
   ],
   "source": [
    "def gen_posImage(x, amp1=1., sep1=1.):\n",
    "    ypos = amp1 * norm.pdf(x,  sep1/2., 1)\n",
    "    return ypos\n",
    "\n",
    "def gen_negImage(x, amp1=1., sep1=1.):\n",
    "    yneg = amp1 * norm.pdf(x, -sep1/2., 1)\n",
    "    return yneg\n",
    "\n",
    "def gen_dipole3(x, amp1=1., sep1=1.):\n",
    "    ypos = gen_posImage(x, amp1, sep1)\n",
    "    yneg = gen_negImage(x, amp1, sep1)\n",
    "    yout = ypos - yneg\n",
    "    return yout\n",
    "\n",
    "print iminuit.describe(gen_dipole3)\n",
    "xdata2 = xdata.copy()\n",
    "ydata2 = ydataOrigNoisy.copy()\n",
    "err = np.ones_like(xdata2) * 0.03\n",
    "\n",
    "poschi2 = probfit.Chi2Regression(gen_posImage, xdata2, ydata2[40:80],    err)\n",
    "negchi2 = probfit.Chi2Regression(gen_negImage, xdata2, ydata2[80:120],  err)\n",
    "difchi2 = probfit.Chi2Regression(gen_dipole3,  xdata2, ydata2[:40], err)\n",
    "\n",
    "simchi2 = probfit.SimultaneousFit(difchi2, poschi2, negchi2)\n",
    "print probfit.describe(simchi2)\n",
    "\n",
    "minuit = iminuit.Minuit(simchi2, amp1=1.5, sep1=1.5, limit_amp1=(0.01,100.) )\n",
    "_ = minuit.migrad();"
   ]
  },
  {
   "cell_type": "code",
   "execution_count": 248,
   "metadata": {
    "collapsed": false
   },
   "outputs": [
    {
     "data": {
      "image/png": "[encoded data removed]",
      "text/plain": [
       "<matplotlib.figure.Figure at 0x1105111d0>"
      ]
     },
     "metadata": {},
     "output_type": "display_data"
    }
   ],
   "source": [
    "_ = simchi2.draw(minuit);"
   ]
  },
  {
   "cell_type": "code",
   "execution_count": 249,
   "metadata": {
    "collapsed": false
   },
   "outputs": [
    {
     "name": "stdout",
     "output_type": "stream",
     "text": [
      "100 loops, best of 3: 5.38 ms per loop\n",
      "100 loops, best of 3: 5.82 ms per loop\n",
      "100 loops, best of 3: 4.87 ms per loop\n",
      "0.924001411175\n"
     ]
    }
   ],
   "source": [
    "val1 = %timeit -o fitDipole(ydata, xdata, amp1Start=1.5, sep1Start=1.5, fitFunc=gen_dipole2, verbose=False)\n",
    "def func_time_iminuit():\n",
    "    minuit = iminuit.Minuit(chi2, amp1=1.5, sep1=1.5,\n",
    "                           pedantic=False, print_level=0)\n",
    "    _ = minuit.migrad()\n",
    "    return None\n",
    "val2 = %timeit -o func_time_iminuit()\n",
    "\n",
    "gmod = lmfit.Model(gen_dipole2, verbose=False)\n",
    "%timeit gmod.fit(ydata, x=xdata, amp1=1.5, sep1=1.5, verbose=False)\n",
    "\n",
    "print val1.best/val2.best"
   ]
  },
  {
   "cell_type": "code",
   "execution_count": 31,
   "metadata": {
    "collapsed": false
   },
   "outputs": [
    {
     "data": {
      "image/png": "[encoded data removed]",
      "text/plain": [
       "<matplotlib.figure.Figure at 0x114251ed0>"
      ]
     },
     "metadata": {},
     "output_type": "display_data"
    }
   ],
   "source": [
    "x, y, gridvalue, contour = minuit.draw_mncontour('amp1', 'sep1');"
   ]
  },
  {
   "cell_type": "markdown",
   "metadata": {},
   "source": [
    "## Try the linear background gradient stuff..."
   ]
  },
  {
   "cell_type": "code",
   "execution_count": 273,
   "metadata": {
    "collapsed": true
   },
   "outputs": [],
   "source": [
    "def gen_dipole4(x, amp1=1., sep1=1., bg1=0.5, bgslope1=0.02):\n",
    "    ypos = bg1 + bgslope1*x + amp1 * norm.pdf(x,  sep1/2., 1)\n",
    "    yneg = bg1 + bgslope1*x + amp1 * norm.pdf(x, -sep1/2., 1)                  \n",
    "    y = ypos - yneg\n",
    "    return np.append(y, [ypos, yneg])\n",
    "\n",
    "def fitDipole4(ydata, xdata, err=1., amp1Start=3., sep1Start=2., bgslope1start=0., fitFunc=gen_dipole4,\n",
    "               verbose=False):\n",
    "    #bg1start = np.median(ydata[len(xdata):])\n",
    "    gmod = lmfit.Model(fitFunc, verbose=verbose)\n",
    "    result = gmod.fit(ydata, x=xdata, amp1=amp1Start, sep1=sep1Start, bg1=0., bgslope1=bgslope1start,\n",
    "                      weights=1./err, verbose=verbose)\n",
    "\n",
    "    if verbose: \n",
    "        print(result.fit_report(show_correl=False))\n",
    "        ci = lmfit.conf_interval(result, result)\n",
    "        lmfit.printfuncs.report_ci(ci)\n",
    "\n",
    "    return result"
   ]
  },
  {
   "cell_type": "code",
   "execution_count": 274,
   "metadata": {
    "collapsed": false
   },
   "outputs": [
    {
     "name": "stdout",
     "output_type": "stream",
     "text": [
      " - Adding parameter \"bg1\"\n",
      " - Adding parameter \"bgslope1\"\n",
      " - Adding parameter \"amp1\"\n",
      " - Adding parameter \"sep1\"\n",
      "[[Model]]\n",
      "    Model(gen_dipole4)\n",
      "[[Fit Statistics]]\n",
      "    # function evals   = 23\n",
      "    # data points      = 120\n",
      "    # variables        = 4\n",
      "    chi-square         = 104.751\n",
      "    reduced chi-square = 0.903\n",
      "[[Variables]]\n",
      "    bg1:        0.21683909 +/- 0.013063 (6.02%) (init= 0)\n",
      "    bgslope1:   0.23729126 +/- 0.003683 (1.55%) (init= 0)\n",
      "    amp1:       1.26682320 +/- 0.075730 (5.98%) (init= 1.5)\n",
      "    sep1:       0.76771987 +/- 0.092560 (12.06%) (init= 1.5)\n",
      "\n",
      "             99.70%    95.00%    67.40%    _BEST_    67.40%    95.00%    99.70%\n",
      " bg1     :  -0.03965  -0.02590  -0.01290   0.21684  +0.01289  +0.02587  +0.03958\n",
      " bgslope1:  -0.01117  -0.00730  -0.00363   0.23729  +0.00363  +0.00730  +0.01117\n",
      " amp1    :  -0.22856  -0.14963  -0.07466   1.26682  +0.07490  +0.15060  +0.23084\n",
      " sep1    :  -0.26781  -0.17792  -0.09027   0.76772  +0.09437  +0.19453  +0.30700\n"
     ]
    },
    {
     "data": {
      "image/png": "[encoded data removed]",
      "text/plain": [
       "<matplotlib.figure.Figure at 0x10cd90e10>"
      ]
     },
     "metadata": {},
     "output_type": "display_data"
    }
   ],
   "source": [
    "noise = 0.1\n",
    "ydata = ydataOrig + np.random.normal(scale=noise, size=ydataOrig.shape) ## make it super noisy\n",
    "ydata[len(xdata):2*len(xdata)] += 0.2 + 0.234*xdata\n",
    "ydata[2*len(xdata):]           += 0.2 + 0.234*xdata\n",
    "result = fitDipole4(ydata, xdata, amp1Start=1.5, sep1Start=1.5, fitFunc=gen_dipole4, err=noise, verbose=True)\n",
    "plt.plot(xdata, ydata[:len(xdata)], 'bo')\n",
    "plt.plot(xdata, ydataOrig[:len(xdata)], linewidth=3, linestyle='dotted')\n",
    "plt.plot(xdata, result.best_fit[:len(xdata)], linewidth=3, linestyle='dashed')\n",
    "plt.plot(xdata, ydata[len(xdata):2*len(xdata)], 'go')\n",
    "plt.plot(xdata, result.best_fit[len(xdata):2*len(xdata)], linewidth=3, linestyle='dashed')\n",
    "plt.plot(xdata, ydata[2*len(xdata):], 'ro')\n",
    "plt.plot(xdata, result.best_fit[2*len(xdata):], linewidth=3, linestyle='dashed')\n",
    "plt.show()"
   ]
  },
  {
   "cell_type": "code",
   "execution_count": 257,
   "metadata": {
    "collapsed": false
   },
   "outputs": [
    {
     "name": "stdout",
     "output_type": "stream",
     "text": [
      "['bg1', 'bgslope1', 'amp1', 'sep1']\n"
     ]
    },
    {
     "data": {
      "text/html": [
       "<hr>"
      ]
     },
     "metadata": {},
     "output_type": "display_data"
    },
    {
     "data": {
      "text/html": [
       "\n",
       "        <table>\n",
       "            <tr>\n",
       "                <td title=\"Minimum value of function\">FCN = 90.0142521252</td>\n",
       "                <td title=\"Total number of call to FCN so far\">TOTAL NCALL = 119</td>\n",
       "                <td title=\"Number of call in last migrad\">NCALLS = 119</td>\n",
       "            </tr>\n",
       "            <tr>\n",
       "                <td title=\"Estimated distance to minimum\">EDM = 4.15476647915e-08</td>\n",
       "                <td title=\"Maximum EDM definition of convergence\">GOAL EDM = 1e-05</td>\n",
       "                <td title=\"Error def. Amount of increase in FCN to be defined as 1 standard deviation\">\n",
       "                UP = 1.0</td>\n",
       "            </tr>\n",
       "        </table>\n",
       "        \n",
       "        <table>\n",
       "            <tr>\n",
       "                <td align=\"center\" title=\"Validity of the migrad call\">Valid</td>\n",
       "                <td align=\"center\" title=\"Validity of parameters\">Valid Param</td>\n",
       "                <td align=\"center\" title=\"Is Covariance matrix accurate?\">Accurate Covar</td>\n",
       "                <td align=\"center\" title=\"Positive definiteness of covariance matrix\">PosDef</td>\n",
       "                <td align=\"center\" title=\"Was covariance matrix made posdef by adding diagonal element\">Made PosDef</td>\n",
       "            </tr>\n",
       "            <tr>\n",
       "                <td align=\"center\" style=\"background-color:#92CCA6\">True</td>\n",
       "                <td align=\"center\" style=\"background-color:#92CCA6\">True</td>\n",
       "                <td align=\"center\" style=\"background-color:#92CCA6\">True</td>\n",
       "                <td align=\"center\" style=\"background-color:#92CCA6\">True</td>\n",
       "                <td align=\"center\" style=\"background-color:#92CCA6\">False</td>\n",
       "            </tr>\n",
       "            <tr>\n",
       "                <td align=\"center\" title=\"Was last hesse call fail?\">Hesse Fail</td>\n",
       "                <td align=\"center\" title=\"Validity of covariance\">HasCov</td>\n",
       "                <td align=\"center\" title=\"Is EDM above goal EDM?\">Above EDM</td>\n",
       "                <td align=\"center\"></td>\n",
       "                <td align=\"center\" title=\"Did last migrad call reach max call limit?\">Reach calllim</td>\n",
       "            </tr>\n",
       "            <tr>\n",
       "                <td align=\"center\" style=\"background-color:#92CCA6\">False</td>\n",
       "                <td align=\"center\" style=\"background-color:#92CCA6\">True</td>\n",
       "                <td align=\"center\" style=\"background-color:#92CCA6\">False</td>\n",
       "                <td align=\"center\"></td>\n",
       "                <td align=\"center\" style=\"background-color:#92CCA6\">False</td>\n",
       "            </tr>\n",
       "        </table>\n",
       "        "
      ]
     },
     "metadata": {},
     "output_type": "display_data"
    },
    {
     "data": {
      "text/html": [
       "\n",
       "        <table>\n",
       "            <tr>\n",
       "                <td><a href=\"#\" onclick=\"$('#UHhwDoQwss').toggle()\">+</a></td>\n",
       "                <td title=\"Variable name\">Name</td>\n",
       "                <td title=\"Value of parameter\">Value</td>\n",
       "                <td title=\"Parabolic error\">Parab Error</td>\n",
       "                <td title=\"Minos lower error\">Minos Error-</td>\n",
       "                <td title=\"Minos upper error\">Minos Error+</td>\n",
       "                <td title=\"Lower limit of the parameter\">Limit-</td>\n",
       "                <td title=\"Upper limit of the parameter\">Limit+</td>\n",
       "                <td title=\"Is the parameter fixed in the fit\">FIXED</td>\n",
       "            </tr>\n",
       "        \n",
       "            <tr>\n",
       "                <td>1</td>\n",
       "                <td>bg1</td>\n",
       "                <td>1.943279e-01</td>\n",
       "                <td>1.372928e-02</td>\n",
       "                <td>0.000000e+00</td>\n",
       "                <td>0.000000e+00</td>\n",
       "                <td></td>\n",
       "                <td></td>\n",
       "                <td></td>\n",
       "            </tr>\n",
       "            \n",
       "            <tr>\n",
       "                <td>2</td>\n",
       "                <td>bgslope1</td>\n",
       "                <td>2.360839e-01</td>\n",
       "                <td>3.876026e-03</td>\n",
       "                <td>0.000000e+00</td>\n",
       "                <td>0.000000e+00</td>\n",
       "                <td></td>\n",
       "                <td></td>\n",
       "                <td></td>\n",
       "            </tr>\n",
       "            \n",
       "            <tr>\n",
       "                <td>3</td>\n",
       "                <td>amp1</td>\n",
       "                <td>1.355334e+00</td>\n",
       "                <td>7.938142e-02</td>\n",
       "                <td>0.000000e+00</td>\n",
       "                <td>0.000000e+00</td>\n",
       "                <td>0.01</td>\n",
       "                <td>100.0</td>\n",
       "                <td></td>\n",
       "            </tr>\n",
       "            \n",
       "            <tr>\n",
       "                <td>4</td>\n",
       "                <td>sep1</td>\n",
       "                <td>7.832377e-01</td>\n",
       "                <td>8.947254e-02</td>\n",
       "                <td>0.000000e+00</td>\n",
       "                <td>0.000000e+00</td>\n",
       "                <td></td>\n",
       "                <td></td>\n",
       "                <td></td>\n",
       "            </tr>\n",
       "            \n",
       "            </table>\n",
       "        \n",
       "            <pre id=\"UHhwDoQwss\" style=\"display:none;\">\n",
       "            <textarea rows=\"14\" cols=\"50\" onclick=\"this.select()\" readonly>\\begin{tabular}{|c|r|r|r|r|r|r|r|c|}\n",
       "\\hline\n",
       " & Name & Value & Para Error & Error+ & Error- & Limit+ & Limit- & FIXED\\\\\n",
       "\\hline\n",
       "1 & bg1 & 1.943e-01 & 1.373e-02 &  &  &  &  & \\\\\n",
       "\\hline\n",
       "2 & bgslope1 & 2.361e-01 & 3.876e-03 &  &  &  &  & \\\\\n",
       "\\hline\n",
       "3 & amp1 & 1.355e+00 & 7.938e-02 &  &  & 1.000e-02 & 1.000e+02 & \\\\\n",
       "\\hline\n",
       "4 & sep1 & 7.832e-01 & 8.947e-02 &  &  &  &  & \\\\\n",
       "\\hline\n",
       "\\end{tabular}</textarea>\n",
       "            </pre>\n",
       "            "
      ]
     },
     "metadata": {},
     "output_type": "display_data"
    },
    {
     "data": {
      "text/html": [
       "<hr>"
      ]
     },
     "metadata": {},
     "output_type": "display_data"
    }
   ],
   "source": [
    "def gen_slope(x, bg1=0.5, bgslope1=0.02):\n",
    "    bg = bg1 + bgslope1*x\n",
    "    return bg\n",
    "\n",
    "def gen_posImage(x, amp1=1., sep1=1.): #, bg1=0.5, bgslope1=0.02):\n",
    "    ypos = amp1 * norm.pdf(x,  sep1/2., 1) #+ gen_slope(x, bg1, bgslope1)\n",
    "    return ypos\n",
    "\n",
    "def gen_negImage(x, amp1=1., sep1=1.): #, bg1=0.5, bgslope1=0.02):\n",
    "    yneg = amp1 * norm.pdf(x, -sep1/2., 1) #+ gen_slope(x, bg1, bgslope1)\n",
    "    return yneg\n",
    "\n",
    "xdata2 = xdata.copy()\n",
    "ydata2 = ydata.copy()\n",
    "err = np.ones_like(xdata2) * noise\n",
    "\n",
    "factors = [lambda x: 1.0, lambda x: -1.0]   ## factors to make dipole: +1*posImage, and -1*negImage\n",
    "\n",
    "difchi2 = probfit.Chi2Regression(probfit.AddPdf(gen_posImage, gen_negImage, factors=factors), \n",
    "                                 xdata2, ydata2[:40], err)\n",
    "poschi2 = probfit.Chi2Regression(probfit.AddPdf(gen_slope, gen_posImage), xdata2, ydata2[40:80], err)\n",
    "negchi2 = probfit.Chi2Regression(probfit.AddPdf(gen_slope, gen_negImage), xdata2, ydata2[80:120], err)\n",
    "simchi2 = probfit.SimultaneousFit(poschi2, negchi2, difchi2) ## apparently it matters which one comes first!\n",
    "print probfit.describe(simchi2)\n",
    "    \n",
    "bg1start = np.median(ydata[40:])\n",
    "\n",
    "minuit = iminuit.Minuit(simchi2, amp1=1.5, sep1=1.5, bg1=bg1start, limit_amp1=(0.01,100.) )\n",
    "_ = minuit.migrad();"
   ]
  },
  {
   "cell_type": "code",
   "execution_count": 258,
   "metadata": {
    "collapsed": false
   },
   "outputs": [
    {
     "data": {
      "image/png": "[encoded data removed]",
      "text/plain": [
       "<matplotlib.figure.Figure at 0x11065d7d0>"
      ]
     },
     "metadata": {},
     "output_type": "display_data"
    }
   ],
   "source": [
    "_ = simchi2.draw(minuit, parts=True);"
   ]
  },
  {
   "cell_type": "code",
   "execution_count": 288,
   "metadata": {
    "collapsed": false
   },
   "outputs": [
    {
     "data": {
      "text/html": [
       "<hr>"
      ]
     },
     "metadata": {},
     "output_type": "display_data"
    },
    {
     "data": {
      "text/html": [
       "\n",
       "        <table>\n",
       "            <tr>\n",
       "                <td title=\"Minimum value of function\">FCN = 104.750522423</td>\n",
       "                <td title=\"Total number of call to FCN so far\">TOTAL NCALL = 104</td>\n",
       "                <td title=\"Number of call in last migrad\">NCALLS = 104</td>\n",
       "            </tr>\n",
       "            <tr>\n",
       "                <td title=\"Estimated distance to minimum\">EDM = 1.30397102062e-06</td>\n",
       "                <td title=\"Maximum EDM definition of convergence\">GOAL EDM = 1e-05</td>\n",
       "                <td title=\"Error def. Amount of increase in FCN to be defined as 1 standard deviation\">\n",
       "                UP = 1.0</td>\n",
       "            </tr>\n",
       "        </table>\n",
       "        \n",
       "        <table>\n",
       "            <tr>\n",
       "                <td align=\"center\" title=\"Validity of the migrad call\">Valid</td>\n",
       "                <td align=\"center\" title=\"Validity of parameters\">Valid Param</td>\n",
       "                <td align=\"center\" title=\"Is Covariance matrix accurate?\">Accurate Covar</td>\n",
       "                <td align=\"center\" title=\"Positive definiteness of covariance matrix\">PosDef</td>\n",
       "                <td align=\"center\" title=\"Was covariance matrix made posdef by adding diagonal element\">Made PosDef</td>\n",
       "            </tr>\n",
       "            <tr>\n",
       "                <td align=\"center\" style=\"background-color:#92CCA6\">True</td>\n",
       "                <td align=\"center\" style=\"background-color:#92CCA6\">True</td>\n",
       "                <td align=\"center\" style=\"background-color:#92CCA6\">True</td>\n",
       "                <td align=\"center\" style=\"background-color:#92CCA6\">True</td>\n",
       "                <td align=\"center\" style=\"background-color:#92CCA6\">False</td>\n",
       "            </tr>\n",
       "            <tr>\n",
       "                <td align=\"center\" title=\"Was last hesse call fail?\">Hesse Fail</td>\n",
       "                <td align=\"center\" title=\"Validity of covariance\">HasCov</td>\n",
       "                <td align=\"center\" title=\"Is EDM above goal EDM?\">Above EDM</td>\n",
       "                <td align=\"center\"></td>\n",
       "                <td align=\"center\" title=\"Did last migrad call reach max call limit?\">Reach calllim</td>\n",
       "            </tr>\n",
       "            <tr>\n",
       "                <td align=\"center\" style=\"background-color:#92CCA6\">False</td>\n",
       "                <td align=\"center\" style=\"background-color:#92CCA6\">True</td>\n",
       "                <td align=\"center\" style=\"background-color:#92CCA6\">False</td>\n",
       "                <td align=\"center\"></td>\n",
       "                <td align=\"center\" style=\"background-color:#92CCA6\">False</td>\n",
       "            </tr>\n",
       "        </table>\n",
       "        "
      ]
     },
     "metadata": {},
     "output_type": "display_data"
    },
    {
     "data": {
      "text/html": [
       "\n",
       "        <table>\n",
       "            <tr>\n",
       "                <td><a href=\"#\" onclick=\"$('#eUkSoedITM').toggle()\">+</a></td>\n",
       "                <td title=\"Variable name\">Name</td>\n",
       "                <td title=\"Value of parameter\">Value</td>\n",
       "                <td title=\"Parabolic error\">Parab Error</td>\n",
       "                <td title=\"Minos lower error\">Minos Error-</td>\n",
       "                <td title=\"Minos upper error\">Minos Error+</td>\n",
       "                <td title=\"Lower limit of the parameter\">Limit-</td>\n",
       "                <td title=\"Upper limit of the parameter\">Limit+</td>\n",
       "                <td title=\"Is the parameter fixed in the fit\">FIXED</td>\n",
       "            </tr>\n",
       "        \n",
       "            <tr>\n",
       "                <td>1</td>\n",
       "                <td>amp1</td>\n",
       "                <td>1.266900e+00</td>\n",
       "                <td>7.978369e-02</td>\n",
       "                <td>0.000000e+00</td>\n",
       "                <td>0.000000e+00</td>\n",
       "                <td></td>\n",
       "                <td></td>\n",
       "                <td></td>\n",
       "            </tr>\n",
       "            \n",
       "            <tr>\n",
       "                <td>2</td>\n",
       "                <td>sep1</td>\n",
       "                <td>7.676609e-01</td>\n",
       "                <td>9.834190e-02</td>\n",
       "                <td>0.000000e+00</td>\n",
       "                <td>0.000000e+00</td>\n",
       "                <td></td>\n",
       "                <td></td>\n",
       "                <td></td>\n",
       "            </tr>\n",
       "            \n",
       "            <tr>\n",
       "                <td>3</td>\n",
       "                <td>bg1</td>\n",
       "                <td>2.168281e-01</td>\n",
       "                <td>1.375238e-02</td>\n",
       "                <td>0.000000e+00</td>\n",
       "                <td>0.000000e+00</td>\n",
       "                <td></td>\n",
       "                <td></td>\n",
       "                <td></td>\n",
       "            </tr>\n",
       "            \n",
       "            <tr>\n",
       "                <td>4</td>\n",
       "                <td>bgslope1</td>\n",
       "                <td>2.372927e-01</td>\n",
       "                <td>3.876045e-03</td>\n",
       "                <td>0.000000e+00</td>\n",
       "                <td>0.000000e+00</td>\n",
       "                <td></td>\n",
       "                <td></td>\n",
       "                <td></td>\n",
       "            </tr>\n",
       "            \n",
       "            </table>\n",
       "        \n",
       "            <pre id=\"eUkSoedITM\" style=\"display:none;\">\n",
       "            <textarea rows=\"14\" cols=\"50\" onclick=\"this.select()\" readonly>\\begin{tabular}{|c|r|r|r|r|r|r|r|c|}\n",
       "\\hline\n",
       " & Name & Value & Para Error & Error+ & Error- & Limit+ & Limit- & FIXED\\\\\n",
       "\\hline\n",
       "1 & amp1 & 1.267e+00 & 7.978e-02 &  &  &  &  & \\\\\n",
       "\\hline\n",
       "2 & sep1 & 7.677e-01 & 9.834e-02 &  &  &  &  & \\\\\n",
       "\\hline\n",
       "3 & bg1 & 2.168e-01 & 1.375e-02 &  &  &  &  & \\\\\n",
       "\\hline\n",
       "4 & bgslope1 & 2.373e-01 & 3.876e-03 &  &  &  &  & \\\\\n",
       "\\hline\n",
       "\\end{tabular}</textarea>\n",
       "            </pre>\n",
       "            "
      ]
     },
     "metadata": {},
     "output_type": "display_data"
    },
    {
     "data": {
      "text/html": [
       "<hr>"
      ]
     },
     "metadata": {},
     "output_type": "display_data"
    }
   ],
   "source": [
    "chi2 = Chi2Functor(gen_dipole4, xdata, ydata, err=noise)\n",
    "minuit = iminuit.Minuit(chi2, amp1=1.5, sep1=1.5, pedantic=False, print_level=1)\n",
    "_ = minuit.migrad()"
   ]
  },
  {
   "cell_type": "markdown",
   "metadata": {},
   "source": [
    "OK, now we're about 2x slower with iminuit. But note `iminuit` has 103 fcn calls, vs. 23 for `lmfit`."
   ]
  },
  {
   "cell_type": "code",
   "execution_count": 289,
   "metadata": {
    "collapsed": false
   },
   "outputs": [
    {
     "name": "stdout",
     "output_type": "stream",
     "text": [
      "100 loops, best of 3: 7.04 ms per loop\n",
      "100 loops, best of 3: 17.7 ms per loop\n",
      "1 loop, best of 3: 1.16 s per loop\n",
      "100 loops, best of 3: 6.9 ms per loop\n",
      "0.397218933478\n"
     ]
    }
   ],
   "source": [
    "val1 = %timeit -o result = fitDipole4(ydata, xdata, err=noise, amp1Start=1.5, sep1Start=1.5, \\\n",
    "                                      fitFunc=gen_dipole4, verbose=False)\n",
    "\n",
    "def func_time_iminuit():\n",
    "    chi2 = Chi2Functor(gen_dipole4, xdata, ydata, err=noise)\n",
    "    minuit = iminuit.Minuit(chi2, amp1=1.5, sep1=1.5, pedantic=False, print_level=0)\n",
    "    _ = minuit.migrad()\n",
    "    return None\n",
    "val2 = %timeit -o func_time_iminuit()\n",
    "\n",
    "def func_time_iminuit():\n",
    "    minuit = iminuit.Minuit(simchi2, amp1=1.5, sep1=1.5, limit_amp1=(0.01,100.),\n",
    "                           pedantic=False, print_level=0)\n",
    "    _ = minuit.migrad()\n",
    "    return None\n",
    "val2a = %timeit -o func_time_iminuit()\n",
    "\n",
    "gmod = lmfit.Model(gen_dipole4, verbose=False)\n",
    "val3 = %timeit -o gmod.fit(ydata, x=xdata, amp1=1.5, sep1=1.5, bgslope1=0., verbose=False)\n",
    "\n",
    "print val1.best/val2.best"
   ]
  },
  {
   "cell_type": "code",
   "execution_count": 278,
   "metadata": {
    "collapsed": false
   },
   "outputs": [
    {
     "data": {
      "image/png": "[encoded data removed]",
      "text/plain": [
       "<matplotlib.figure.Figure at 0x10fe16810>"
      ]
     },
     "metadata": {},
     "output_type": "display_data"
    }
   ],
   "source": [
    "x, y, gridvalue, contour = minuit.draw_mncontour('amp1', 'sep1');"
   ]
  },
  {
   "cell_type": "markdown",
   "metadata": {},
   "source": [
    "### To do it on a 2-d grid, we need to encode the 2-d pixel coords into a vector.\n",
    "\n",
    "See: http://programmers.stackexchange.com/questions/212808/treating-a-1d-data-structure-as-2d-grid"
   ]
  }
 ],
 "metadata": {
  "kernelspec": {
   "display_name": "Python 2",
   "language": "python",
   "name": "python2"
  },
  "language_info": {
   "codemirror_mode": {
    "name": "ipython",
    "version": 2
   },
   "file_extension": ".py",
   "mimetype": "text/x-python",
   "name": "python",
   "nbconvert_exporter": "python",
   "pygments_lexer": "ipython2",
   "version": "2.7.11"
  }
 },
 "nbformat": 4,
 "nbformat_minor": 0
}
