{
 "cells": [
  {
   "cell_type": "code",
   "execution_count": 1,
   "metadata": {
    "collapsed": false
   },
   "outputs": [
    {
     "name": "stderr",
     "output_type": "stream",
     "text": [
      "/Users/dreiss/lsstsw/miniconda/lib/python2.7/site-packages/matplotlib/font_manager.py:273: UserWarning: Matplotlib is building the font cache using fc-list. This may take a moment.\n",
      "  warnings.warn('Matplotlib is building the font cache using fc-list. This may take a moment.')\n"
     ]
    }
   ],
   "source": [
    "import sys\n",
    "from collections import namedtuple\n",
    "\n",
    "import numpy as np\n",
    "\n",
    "%matplotlib inline\n",
    "#%matplotlib notebook\n",
    "import matplotlib.pyplot as plt\n",
    "\n",
    "import matplotlib\n",
    "matplotlib.style.use('ggplot')\n",
    "\n",
    "import seaborn as sns\n",
    "sns.set(style=\"whitegrid\", palette=\"pastel\", color_codes=True)\n",
    "\n",
    "import lmfit\n",
    "\n",
    "from joblib import Parallel, delayed  \n",
    "import multiprocessing\n",
    "\n",
    "np.random.seed(666)\n",
    "\n",
    "import pandas as pd\n",
    "class sizeme():\n",
    "    \"\"\" Class to change html fontsize of object's representation\"\"\"\n",
    "    def __init__(self,ob, size=50, height=120):\n",
    "        self.ob = ob\n",
    "        self.size = size\n",
    "        self.height = height\n",
    "    def _repr_html_(self):\n",
    "        repl_tuple = (self.size, self.height, self.ob._repr_html_())\n",
    "        return u'<span style=\"font-size:{0}%; line-height:{1}%\">{2}</span>'.format(*repl_tuple)\n",
    "\n",
    "def display2dArray(arr, title='Data', showBars=True):\n",
    "    img = plt.imshow(arr, origin='lower', interpolation='none', cmap='gray' )\n",
    "    plt.title(title)\n",
    "    if showBars: plt.colorbar(img, cmap='gray')\n",
    "\n",
    "def displayMaskedImage(maskedImage, showMasks=True, showVariance=False, showBars=True, width=8, height=2.5):\n",
    "    plt.figure(figsize=(width, height))\n",
    "    plt.subplot(1, 3, 1)\n",
    "    ma = maskedImage.getArrays()\n",
    "    display2dArray(ma[0], title='Data', showBars=showBars)\n",
    "    if showMasks:\n",
    "        plt.subplot(1, 3, 2)\n",
    "        display2dArray(ma[1], title='Masks', showBars=showBars)\n",
    "    if showVariance:\n",
    "        plt.subplot(1, 3, 3)\n",
    "        display2dArray(ma[2], title='Variance', showBars=showBars)\n",
    "        \n",
    "def displayExposure(exposure, showMasks=True, showVariance=False, showPsf=False, showBars=True, width=8, height=2.5):\n",
    "#    plt.figure(figsize=(width, height))\n",
    "#    plt.subplot(1, 3, 1)\n",
    "#    ma = exposure.getMaskedImage().getArrays()\n",
    "#    display2dArray(ma[0], title='Data', showBars=showBars)\n",
    "#    if showMasks:\n",
    "#        plt.subplot(1, 3, 2)\n",
    "#        display2dArray(ma[1], title='Masks', showBars=showBars)\n",
    "#    if showVariance and not showPsf:\n",
    "#        plt.subplot(1, 3, 3)\n",
    "#        display2dArray(ma[2], title='Variance', showBars=showBars)\n",
    "    displayMaskedImage(exposure.getMaskedImage(), showMasks, showVariance=not showPsf, showBars=showBars, \n",
    "                       width=width, height=height)\n",
    "    if showPsf:\n",
    "        plt.subplot(1, 3, 3)\n",
    "        display2dArray(exposure.getPsf().computeImage().getArray(), title='PSF', showBars=showBars)"
   ]
  },
  {
   "cell_type": "code",
   "execution_count": 2,
   "metadata": {
    "collapsed": true
   },
   "outputs": [],
   "source": [
    "## LSST imports:\n",
    "import lsst.utils.tests as tests\n",
    "import lsst.daf.base as dafBase\n",
    "#import lsst.afw.display.ds9 as ds9\n",
    "import lsst.afw.image as afwImage\n",
    "import lsst.afw.geom as afwGeom\n",
    "import lsst.afw.table as afwTable\n",
    "import lsst.afw.math as afwMath\n",
    "import lsst.meas.algorithms as measAlg\n",
    "import lsst.ip.diffim as ipDiffim\n",
    "import lsst.meas.modelfit as measMF"
   ]
  },
  {
   "cell_type": "code",
   "execution_count": 3,
   "metadata": {
    "collapsed": false
   },
   "outputs": [
    {
     "name": "stdout",
     "output_type": "stream",
     "text": [
      "100.0\n",
      "2.0\n",
      "1800.75\n"
     ]
    },
    {
     "data": {
      "image/png": "[encoded data removed]",
      "text/plain": [
       "<matplotlib.figure.Figure at 0x11aae9990>"
      ]
     },
     "metadata": {},
     "output_type": "display_data"
    }
   ],
   "source": [
    "from lsst.meas.base.tests import TestDataset\n",
    "#from meas_base_tests import TestDataset   ## my slightly modified version\n",
    "import lsst.afw.geom as afwGeom\n",
    "\n",
    "def makeStarImage_lsst(w=51, h=51, xc=15.3, yc=18.6, flux=2500, psfSigma=2., noise=1.0, schema=None):\n",
    "    bbox = afwGeom.Box2I(afwGeom.Point2I(0,0), afwGeom.Point2I(w-1, h-1))\n",
    "    dataset = TestDataset(bbox, psfSigma=psfSigma, threshold=1.)\n",
    "    dataset.addSource(flux=flux, centroid=afwGeom.Point2D(xc, yc))\n",
    "    if schema is None:\n",
    "        schema = TestDataset.makeMinimalSchema()\n",
    "    exposure, catalog = dataset.realize(noise=noise, schema=schema)\n",
    "    return exposure, catalog\n",
    "\n",
    "exposure, catalog = makeStarImage_lsst(flux=2500, noise=10.)\n",
    "displayExposure(exposure, showPsf=True)\n",
    "print exposure.getMaskedImage().getArrays()[2].mean()\n",
    "print exposure.getPsf().computeShape().getDeterminantRadius()\n",
    "print exposure.getMaskedImage().getArrays()[0].sum()"
   ]
  },
  {
   "cell_type": "markdown",
   "metadata": {},
   "source": [
    "Code taken from Jim Bosch's \"measurement\" bootcamp talk...\n",
    "\n",
    "https://github.com/lsst-dm/Oct15_bootcamp/blob/measurement/measurement/new-plugin-1.ipynb"
   ]
  },
  {
   "cell_type": "code",
   "execution_count": 4,
   "metadata": {
    "collapsed": true
   },
   "outputs": [],
   "source": [
    "import lsst.meas.base\n",
    "import lsst.pex.config\n",
    "import lsst.afw.table\n",
    "import lsst.meas.algorithms\n",
    "import lsst.meas.deblender"
   ]
  },
  {
   "cell_type": "code",
   "execution_count": 5,
   "metadata": {
    "collapsed": false
   },
   "outputs": [],
   "source": [
    "class BoxFluxConfig(lsst.meas.base.SingleFramePluginConfig):\n",
    "    \n",
    "    width = lsst.pex.config.Field(\n",
    "        dtype=int, default=30,\n",
    "        doc=\"approximate width of rectangular aperture\"\n",
    "    )\n",
    "\n",
    "    height = lsst.pex.config.Field(\n",
    "        dtype=int, default=30,\n",
    "        doc=\"approximate height of rectangular aperture\"\n",
    "    )\n",
    "    \n",
    "class BoxFluxTransform(lsst.meas.base.FluxTransform):\n",
    "\n",
    "    def __init__(self, config, name, mapper):\n",
    "        lsst.meas.base.FluxTransform.__init__(self, name, mapper)\n",
    "        mapper.addMapping(mapper.getInputSchema().find(name + \"_flag_edge\").key)\n",
    "\n",
    "try:    ## deregister() doesn't exist, so let's do this...\n",
    "    del lsst.meas.base.SingleFramePlugin.registry._dict[\"ext_BoxFlux\"]\n",
    "except:\n",
    "    pass\n",
    "\n",
    "@lsst.meas.base.register(\"ext_BoxFlux\")\n",
    "class BoxFluxPlugin(lsst.meas.base.SingleFramePlugin):\n",
    "\n",
    "    ConfigClass = BoxFluxConfig\n",
    "    \n",
    "    FAILURE_EDGE = 1\n",
    "\n",
    "    @classmethod\n",
    "    def getExecutionOrder(cls):\n",
    "        return cls.FLUX_ORDER\n",
    "\n",
    "    @classmethod\n",
    "    def getTransformClass(cls):\n",
    "        return BoxFluxTransform\n",
    "    \n",
    "    def __init__(self, config, name, schema, metadata):\n",
    "        lsst.meas.base.SingleFramePlugin.__init__(self, config, name, schema, metadata)\n",
    "\n",
    "        # Get a FunctorKey that can quickly look up the \"blessed\" centroid value.\n",
    "        self.centroidKey = lsst.afw.table.Point2DKey(schema[\"slot_Centroid\"])\n",
    "\n",
    "        # Add some fields for our outputs, and save their Keys.\n",
    "        doc = \"flux in a {0.width} x {0.height} rectangle\".format(self.config)\n",
    "        self.fluxKey = schema.addField(\n",
    "            schema.join(name, \"flux\"), type=float, units=\"dn\", doc=doc\n",
    "        )\n",
    "        self.fluxSigmaKey = schema.addField(\n",
    "            schema.join(name, \"fluxSigma\"), type=float, units=\"dn\",\n",
    "            doc=\"1-sigma uncertainty for BoxFlux\"\n",
    "        )\n",
    "        self.flagKey = schema.addField(\n",
    "            schema.join(name, \"flag\"), type=\"Flag\",\n",
    "            doc=\"general failure flag for BoxFlux\"\n",
    "        )\n",
    "        self.edgeFlagKey = schema.addField(\n",
    "            schema.join(name, \"flag\", \"edge\"), type=\"Flag\",\n",
    "            doc=\"flag set when rectangle used by BoxFlux doesn't fit in the image\"\n",
    "        )\n",
    "    \n",
    "    def measure(self, measRecord, exposure):\n",
    "\n",
    "        centroid = measRecord.get(self.centroidKey)\n",
    "    \n",
    "        # Create a single-pixel box\n",
    "        point = lsst.afw.geom.Point2I(centroid)\n",
    "        box = lsst.afw.geom.Box2I(point, point)\n",
    "\n",
    "        # Grow the box in the desired size\n",
    "        box.grow(lsst.afw.geom.Extent2I(self.config.width // 2, self.config.height // 2))\n",
    "\n",
    "        # Horrible syntax to create a subimage.  Can't use [] because it doesn't pay\n",
    "        # attention to xy0 :-(\n",
    "        try: \n",
    "            subMaskedImage = exposure.getMaskedImage().Factory(\n",
    "                exposure.getMaskedImage(),\n",
    "                box,\n",
    "                lsst.afw.image.PARENT\n",
    "            )\n",
    "        except lsst.pex.exceptions.LengthError as err:\n",
    "            raise lsst.meas.base.MeasurementError(str(err), self.FAILURE_EDGE)\n",
    "\n",
    "        # compute the flux by extracting and summing NumPy arrays.\n",
    "        flux = subMaskedImage.getImage().getArray().sum()\n",
    "        fluxSigma = subMaskedImage.getVariance().getArray().sum()**0.5\n",
    "\n",
    "        measRecord[self.fluxKey] = flux\n",
    "        measRecord[self.fluxSigmaKey] = fluxSigma\n",
    "        \n",
    "    def fail(self, measRecord, error=None):\n",
    "        measRecord.set(self.flagKey, True)\n",
    "        if error is not None:\n",
    "            assert error.getFlagBit() == self.FAILURE_EDGE\n",
    "            measRecord.set(self.edgeFlagKey, True)"
   ]
  },
  {
   "cell_type": "code",
   "execution_count": 6,
   "metadata": {
    "collapsed": true
   },
   "outputs": [],
   "source": [
    "# We have to initialize all tasks before using any of them:\n",
    "# multiple tasks will write to the same Schema, and we can't create an output \n",
    "# catalog until we've finished defining that Schema.\n",
    "\n",
    "# Start with a minimal schema - only the fields all SourceCatalogs need\n",
    "schema = lsst.afw.table.SourceTable.makeMinimalSchema()\n",
    "\n",
    "# Customize the detection task a bit (optional)\n",
    "detectConfig = lsst.meas.algorithms.SourceDetectionConfig() \n",
    "detectConfig.returnOriginalFootprints = False # should be the default \n",
    "detectConfig.thresholdValue = 10 # only 10-sigma detections\n",
    "\n",
    "# Create the detection task. We pass the schema so the task can declare a few flag fields\n",
    "detectTask = lsst.meas.algorithms.SourceDetectionTask(config=detectConfig, schema=schema)\n",
    "\n",
    "# Create a task for deblending (optional, but almost always a good idea). \n",
    "# Again, the task defines a few flag fields it will later fill. \n",
    "deblendTask = lsst.meas.deblender.SourceDeblendTask(schema=schema)"
   ]
  },
  {
   "cell_type": "code",
   "execution_count": 7,
   "metadata": {
    "collapsed": false
   },
   "outputs": [],
   "source": [
    "measureConfig = lsst.meas.base.SingleFrameMeasurementConfig()\n",
    "\n",
    "# Modify the set of active plugins ('.names' behaves like a Python set)\n",
    "#measureConfig.plugins.names.remove(\"base_GaussianCentroid\")\n",
    "\n",
    "# Enable some plugins - import the Python module first to make them available\n",
    "measureConfig.plugins.names |= [\"modelfit_ShapeletPsfApprox\", \"modelfit_CModel\"]\n",
    "\n",
    "# Change which plugin's output we \"bless\" as the \"Model Flux\"\n",
    "measureConfig.slots.modelFlux = \"modelfit_CModel\"\n",
    "\n",
    "# Modify the internal configuration of one of the plugins\n",
    "measureConfig.plugins[\"base_ClassificationExtendedness\"].fluxRatio = 0.985\n",
    "\n",
    "# Disable aperture correction, which requires having an ApCorrMap attached to\n",
    "# the Exposure (it'll warn if it's not present and we don't explicitly disable it). \n",
    "measureConfig.doApplyApCorr = \"no\""
   ]
  },
  {
   "cell_type": "code",
   "execution_count": 8,
   "metadata": {
    "collapsed": false
   },
   "outputs": [],
   "source": [
    "#measureConfig = lsst.meas.base.SingleFrameMeasurementConfig()\n",
    "measureConfig.plugins.names.add(\"ext_BoxFlux\")\n",
    "\n",
    "# Actually create the Task. This initializes all the plugins and that defines the # rest of the schema\n",
    "measureTask = lsst.meas.base.SingleFrameMeasurementTask(config=measureConfig, schema=schema)"
   ]
  },
  {
   "cell_type": "code",
   "execution_count": 9,
   "metadata": {
    "collapsed": false
   },
   "outputs": [],
   "source": [
    "#exposure = lsst.afw.image.ExposureF(\"coadd.fits\") \n",
    "table = lsst.afw.table.SourceTable.make(schema)\n",
    "detectResult = detectTask.run(table, exposure)\n",
    "catalog = detectResult.sources\n",
    "deblendTask.run(exposure, catalog, psf=exposure.getPsf())\n",
    "measureTask.run(catalog, exposure)"
   ]
  },
  {
   "cell_type": "code",
   "execution_count": 10,
   "metadata": {
    "collapsed": true
   },
   "outputs": [],
   "source": [
    "from lsst.pipe.tasks.transformMeasurement import TransformTask"
   ]
  },
  {
   "cell_type": "code",
   "execution_count": 11,
   "metadata": {
    "collapsed": true
   },
   "outputs": [],
   "source": [
    "transformTask = TransformTask(measureConfig, catalog.schema, \"src\")\n",
    "transformedCatalog = transformTask.run(catalog, exposure.getWcs(), exposure.getCalib())"
   ]
  },
  {
   "cell_type": "code",
   "execution_count": 12,
   "metadata": {
    "collapsed": false
   },
   "outputs": [
    {
     "name": "stdout",
     "output_type": "stream",
     "text": [
      "{'ext_BoxFlux_flux': 2951.189453125, 'ext_BoxFlux_fluxSigma': 310.0, 'ext_BoxFlux_flag': False, 'ext_BoxFlux_flag_edge': False} {'ext_BoxFlux_magErr': 0.11404832824901127, 'ext_BoxFlux_flag': False, 'ext_BoxFlux_flag_edge': False, 'ext_BoxFlux_mag': 21.325007274618656}\n"
     ]
    }
   ],
   "source": [
    "for r1, r2 in zip(catalog, transformedCatalog):\n",
    "    print r1.extract(\"ext_BoxFlux*\"), r2.extract(\"ext_BoxFlux*\")"
   ]
  },
  {
   "cell_type": "code",
   "execution_count": 13,
   "metadata": {
    "collapsed": false,
    "scrolled": true
   },
   "outputs": [
    {
     "name": "stdout",
     "output_type": "stream",
     "text": [
      "{'base_GaussianCentroid_flag_badInitialCentroid_noSecondDerivative': False, 'base_GaussianCentroid_flag_noPeak': False, 'base_GaussianCentroid_flag_badInitialCentroid': False, 'base_GaussianCentroid_flag_badInitialCentroid_almostNoSecondDerivative': False, 'base_GaussianCentroid_y': 18.564834789822445, 'base_GaussianCentroid_x': 15.257391729665947, 'base_GaussianCentroid_flag': False, 'base_GaussianCentroid_flag_badInitialCentroid_edge': False, 'base_GaussianCentroid_flag_badInitialCentroid_notAtMaximum': False} {'base_GaussianCentroid_flag': False, 'base_GaussianCentroid_dec': 0.785392 rad, 'base_GaussianCentroid_ra': 0.785385 rad, 'base_GaussianCentroid_flag_noPeak': False}\n"
     ]
    }
   ],
   "source": [
    "for r1, r2 in zip(catalog, transformedCatalog):\n",
    "    print r1.extract(\"base_GaussianCentroid*\"), r2.extract(\"base_GaussianCentroid*\")\n",
    "    break"
   ]
  },
  {
   "cell_type": "code",
   "execution_count": null,
   "metadata": {
    "collapsed": true
   },
   "outputs": [],
   "source": []
  }
 ],
 "metadata": {
  "kernelspec": {
   "display_name": "Python 2",
   "language": "python",
   "name": "python2"
  },
  "language_info": {
   "codemirror_mode": {
    "name": "ipython",
    "version": 2
   },
   "file_extension": ".py",
   "mimetype": "text/x-python",
   "name": "python",
   "nbconvert_exporter": "python",
   "pygments_lexer": "ipython2",
   "version": "2.7.11"
  }
 },
 "nbformat": 4,
 "nbformat_minor": 0
}
