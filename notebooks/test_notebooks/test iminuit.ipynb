{
 "cells": [
  {
   "cell_type": "code",
   "execution_count": 80,
   "metadata": {
    "collapsed": false
   },
   "outputs": [
    {
     "data": {
      "text/html": [
       "<hr>"
      ]
     },
     "metadata": {},
     "output_type": "display_data"
    },
    {
     "data": {
      "text/html": [
       "\n",
       "        <table>\n",
       "            <tr>\n",
       "                <td title=\"Minimum value of function\">FCN = 1.62389076464e-22</td>\n",
       "                <td title=\"Total number of call to FCN so far\">TOTAL NCALL = 36</td>\n",
       "                <td title=\"Number of call in last migrad\">NCALLS = 36</td>\n",
       "            </tr>\n",
       "            <tr>\n",
       "                <td title=\"Estimated distance to minimum\">EDM = 1.62388025554e-22</td>\n",
       "                <td title=\"Maximum EDM definition of convergence\">GOAL EDM = 1e-05</td>\n",
       "                <td title=\"Error def. Amount of increase in FCN to be defined as 1 standard deviation\">\n",
       "                UP = 1.0</td>\n",
       "            </tr>\n",
       "        </table>\n",
       "        \n",
       "        <table>\n",
       "            <tr>\n",
       "                <td align=\"center\" title=\"Validity of the migrad call\">Valid</td>\n",
       "                <td align=\"center\" title=\"Validity of parameters\">Valid Param</td>\n",
       "                <td align=\"center\" title=\"Is Covariance matrix accurate?\">Accurate Covar</td>\n",
       "                <td align=\"center\" title=\"Positive definiteness of covariance matrix\">PosDef</td>\n",
       "                <td align=\"center\" title=\"Was covariance matrix made posdef by adding diagonal element\">Made PosDef</td>\n",
       "            </tr>\n",
       "            <tr>\n",
       "                <td align=\"center\" style=\"background-color:#92CCA6\">True</td>\n",
       "                <td align=\"center\" style=\"background-color:#92CCA6\">True</td>\n",
       "                <td align=\"center\" style=\"background-color:#92CCA6\">True</td>\n",
       "                <td align=\"center\" style=\"background-color:#92CCA6\">True</td>\n",
       "                <td align=\"center\" style=\"background-color:#92CCA6\">False</td>\n",
       "            </tr>\n",
       "            <tr>\n",
       "                <td align=\"center\" title=\"Was last hesse call fail?\">Hesse Fail</td>\n",
       "                <td align=\"center\" title=\"Validity of covariance\">HasCov</td>\n",
       "                <td align=\"center\" title=\"Is EDM above goal EDM?\">Above EDM</td>\n",
       "                <td align=\"center\"></td>\n",
       "                <td align=\"center\" title=\"Did last migrad call reach max call limit?\">Reach calllim</td>\n",
       "            </tr>\n",
       "            <tr>\n",
       "                <td align=\"center\" style=\"background-color:#92CCA6\">False</td>\n",
       "                <td align=\"center\" style=\"background-color:#92CCA6\">True</td>\n",
       "                <td align=\"center\" style=\"background-color:#92CCA6\">False</td>\n",
       "                <td align=\"center\"></td>\n",
       "                <td align=\"center\" style=\"background-color:#92CCA6\">False</td>\n",
       "            </tr>\n",
       "        </table>\n",
       "        "
      ]
     },
     "metadata": {},
     "output_type": "display_data"
    },
    {
     "data": {
      "text/html": [
       "\n",
       "        <table>\n",
       "            <tr>\n",
       "                <td><a href=\"#\" onclick=\"$('#zseTDsHrlt').toggle()\">+</a></td>\n",
       "                <td title=\"Variable name\">Name</td>\n",
       "                <td title=\"Value of parameter\">Value</td>\n",
       "                <td title=\"Parabolic error\">Parab Error</td>\n",
       "                <td title=\"Minos lower error\">Minos Error-</td>\n",
       "                <td title=\"Minos upper error\">Minos Error+</td>\n",
       "                <td title=\"Lower limit of the parameter\">Limit-</td>\n",
       "                <td title=\"Upper limit of the parameter\">Limit+</td>\n",
       "                <td title=\"Is the parameter fixed in the fit\">FIXED</td>\n",
       "            </tr>\n",
       "        \n",
       "            <tr>\n",
       "                <td>1</td>\n",
       "                <td>x</td>\n",
       "                <td>2.000000e+00</td>\n",
       "                <td>1.000000e+00</td>\n",
       "                <td>0.000000e+00</td>\n",
       "                <td>0.000000e+00</td>\n",
       "                <td></td>\n",
       "                <td></td>\n",
       "                <td></td>\n",
       "            </tr>\n",
       "            \n",
       "            <tr>\n",
       "                <td>2</td>\n",
       "                <td>y</td>\n",
       "                <td>3.000000e+00</td>\n",
       "                <td>1.000000e+00</td>\n",
       "                <td>0.000000e+00</td>\n",
       "                <td>0.000000e+00</td>\n",
       "                <td></td>\n",
       "                <td></td>\n",
       "                <td></td>\n",
       "            </tr>\n",
       "            \n",
       "            <tr>\n",
       "                <td>3</td>\n",
       "                <td>z</td>\n",
       "                <td>4.000000e+00</td>\n",
       "                <td>1.000000e+00</td>\n",
       "                <td>0.000000e+00</td>\n",
       "                <td>0.000000e+00</td>\n",
       "                <td></td>\n",
       "                <td></td>\n",
       "                <td></td>\n",
       "            </tr>\n",
       "            \n",
       "            </table>\n",
       "        \n",
       "            <pre id=\"zseTDsHrlt\" style=\"display:none;\">\n",
       "            <textarea rows=\"12\" cols=\"50\" onclick=\"this.select()\" readonly>\\begin{tabular}{|c|r|r|r|r|r|r|r|c|}\n",
       "\\hline\n",
       " & Name & Value & Para Error & Error+ & Error- & Limit+ & Limit- & FIXED\\\\\n",
       "\\hline\n",
       "1 & x & 2.000e+00 & 1.000e+00 &  &  &  &  & \\\\\n",
       "\\hline\n",
       "2 & y & 3.000e+00 & 1.000e+00 &  &  &  &  & \\\\\n",
       "\\hline\n",
       "3 & z & 4.000e+00 & 1.000e+00 &  &  &  &  & \\\\\n",
       "\\hline\n",
       "\\end{tabular}</textarea>\n",
       "            </pre>\n",
       "            "
      ]
     },
     "metadata": {},
     "output_type": "display_data"
    },
    {
     "data": {
      "text/html": [
       "<hr>"
      ]
     },
     "metadata": {},
     "output_type": "display_data"
    },
    {
     "name": "stdout",
     "output_type": "stream",
     "text": [
      "{'y': 3.000000000007099, 'x': 2.0000000000047327, 'z': 4.000000000009465}\n",
      "{'y': 1.0000000000002762, 'x': 1.0000000000000409, 'z': 0.9999999999998322}\n"
     ]
    }
   ],
   "source": [
    "from iminuit import Minuit\n",
    "def f(x, y, z):\n",
    "    return (x - 2) ** 2 + (y - 3) ** 2 + (z - 4) ** 2\n",
    "m = Minuit(f)\n",
    "m.migrad()\n",
    "print(m.values)  # {'x': 2,'y': 3,'z': 4}\n",
    "print(m.errors)  # {'x': 1,'y': 1,'z': 1}"
   ]
  },
  {
   "cell_type": "code",
   "execution_count": 81,
   "metadata": {
    "collapsed": false
   },
   "outputs": [
    {
     "name": "stdout",
     "output_type": "stream",
     "text": [
      "Populating the interactive namespace from numpy and matplotlib\n"
     ]
    },
    {
     "name": "stderr",
     "output_type": "stream",
     "text": [
      "WARNING: pylab import has clobbered these variables: ['norm', 'f']\n",
      "`%matplotlib` prevents importing * from pylab and numpy\n"
     ]
    }
   ],
   "source": [
    "%pylab inline\n",
    "\n",
    "import numpy as np\n",
    "\n",
    "import matplotlib\n",
    "matplotlib.style.use('ggplot')\n",
    "import matplotlib.pyplot as plt"
   ]
  },
  {
   "cell_type": "code",
   "execution_count": 82,
   "metadata": {
    "collapsed": false
   },
   "outputs": [
    {
     "data": {
      "text/html": [
       "<hr>"
      ]
     },
     "metadata": {},
     "output_type": "display_data"
    },
    {
     "data": {
      "text/html": [
       "\n",
       "        <table>\n",
       "            <tr>\n",
       "                <td title=\"Minimum value of function\">FCN = 14057.15295</td>\n",
       "                <td title=\"Total number of call to FCN so far\">TOTAL NCALL = 81</td>\n",
       "                <td title=\"Number of call in last migrad\">NCALLS = 81</td>\n",
       "            </tr>\n",
       "            <tr>\n",
       "                <td title=\"Estimated distance to minimum\">EDM = 4.88684316839e-07</td>\n",
       "                <td title=\"Maximum EDM definition of convergence\">GOAL EDM = 5e-06</td>\n",
       "                <td title=\"Error def. Amount of increase in FCN to be defined as 1 standard deviation\">\n",
       "                UP = 0.5</td>\n",
       "            </tr>\n",
       "        </table>\n",
       "        \n",
       "        <table>\n",
       "            <tr>\n",
       "                <td align=\"center\" title=\"Validity of the migrad call\">Valid</td>\n",
       "                <td align=\"center\" title=\"Validity of parameters\">Valid Param</td>\n",
       "                <td align=\"center\" title=\"Is Covariance matrix accurate?\">Accurate Covar</td>\n",
       "                <td align=\"center\" title=\"Positive definiteness of covariance matrix\">PosDef</td>\n",
       "                <td align=\"center\" title=\"Was covariance matrix made posdef by adding diagonal element\">Made PosDef</td>\n",
       "            </tr>\n",
       "            <tr>\n",
       "                <td align=\"center\" style=\"background-color:#92CCA6\">True</td>\n",
       "                <td align=\"center\" style=\"background-color:#92CCA6\">True</td>\n",
       "                <td align=\"center\" style=\"background-color:#92CCA6\">True</td>\n",
       "                <td align=\"center\" style=\"background-color:#92CCA6\">True</td>\n",
       "                <td align=\"center\" style=\"background-color:#92CCA6\">False</td>\n",
       "            </tr>\n",
       "            <tr>\n",
       "                <td align=\"center\" title=\"Was last hesse call fail?\">Hesse Fail</td>\n",
       "                <td align=\"center\" title=\"Validity of covariance\">HasCov</td>\n",
       "                <td align=\"center\" title=\"Is EDM above goal EDM?\">Above EDM</td>\n",
       "                <td align=\"center\"></td>\n",
       "                <td align=\"center\" title=\"Did last migrad call reach max call limit?\">Reach calllim</td>\n",
       "            </tr>\n",
       "            <tr>\n",
       "                <td align=\"center\" style=\"background-color:#92CCA6\">False</td>\n",
       "                <td align=\"center\" style=\"background-color:#92CCA6\">True</td>\n",
       "                <td align=\"center\" style=\"background-color:#92CCA6\">False</td>\n",
       "                <td align=\"center\"></td>\n",
       "                <td align=\"center\" style=\"background-color:#92CCA6\">False</td>\n",
       "            </tr>\n",
       "        </table>\n",
       "        "
      ]
     },
     "metadata": {},
     "output_type": "display_data"
    },
    {
     "data": {
      "text/html": [
       "\n",
       "        <table>\n",
       "            <tr>\n",
       "                <td><a href=\"#\" onclick=\"$('#rSYknUNrhC').toggle()\">+</a></td>\n",
       "                <td title=\"Variable name\">Name</td>\n",
       "                <td title=\"Value of parameter\">Value</td>\n",
       "                <td title=\"Parabolic error\">Parab Error</td>\n",
       "                <td title=\"Minos lower error\">Minos Error-</td>\n",
       "                <td title=\"Minos upper error\">Minos Error+</td>\n",
       "                <td title=\"Lower limit of the parameter\">Limit-</td>\n",
       "                <td title=\"Upper limit of the parameter\">Limit+</td>\n",
       "                <td title=\"Is the parameter fixed in the fit\">FIXED</td>\n",
       "            </tr>\n",
       "        \n",
       "            <tr>\n",
       "                <td>1</td>\n",
       "                <td>mean</td>\n",
       "                <td>-1.810189e-02</td>\n",
       "                <td>9.868631e-03</td>\n",
       "                <td>0.000000e+00</td>\n",
       "                <td>0.000000e+00</td>\n",
       "                <td></td>\n",
       "                <td></td>\n",
       "                <td></td>\n",
       "            </tr>\n",
       "            \n",
       "            <tr>\n",
       "                <td>2</td>\n",
       "                <td>sigma</td>\n",
       "                <td>9.868629e-01</td>\n",
       "                <td>6.978164e-03</td>\n",
       "                <td>0.000000e+00</td>\n",
       "                <td>0.000000e+00</td>\n",
       "                <td></td>\n",
       "                <td></td>\n",
       "                <td></td>\n",
       "            </tr>\n",
       "            \n",
       "            </table>\n",
       "        \n",
       "            <pre id=\"rSYknUNrhC\" style=\"display:none;\">\n",
       "            <textarea rows=\"10\" cols=\"50\" onclick=\"this.select()\" readonly>\\begin{tabular}{|c|r|r|r|r|r|r|r|c|}\n",
       "\\hline\n",
       " & Name & Value & Para Error & Error+ & Error- & Limit+ & Limit- & FIXED\\\\\n",
       "\\hline\n",
       "1 & mean & -1.810e-02 & 9.869e-03 &  &  &  &  & \\\\\n",
       "\\hline\n",
       "2 & $\\sigma$ & 9.869e-01 & 6.978e-03 &  &  &  &  & \\\\\n",
       "\\hline\n",
       "\\end{tabular}</textarea>\n",
       "            </pre>\n",
       "            "
      ]
     },
     "metadata": {},
     "output_type": "display_data"
    },
    {
     "data": {
      "text/html": [
       "<hr>"
      ]
     },
     "metadata": {},
     "output_type": "display_data"
    },
    {
     "data": {
      "image/png": "[encoded data removed]",
      "text/plain": [
       "<matplotlib.figure.Figure at 0x112bfaf90>"
      ]
     },
     "metadata": {},
     "output_type": "display_data"
    }
   ],
   "source": [
    "import numpy as np\n",
    "from iminuit import Minuit\n",
    "from probfit import UnbinnedLH, gaussian\n",
    "data = np.random.randn(10000)\n",
    "unbinned_likelihood = UnbinnedLH(gaussian, data)\n",
    "minuit = Minuit(unbinned_likelihood, mean=1.1, sigma=3.1)\n",
    "minuit.migrad()\n",
    "_ = unbinned_likelihood.draw(minuit);"
   ]
  },
  {
   "cell_type": "markdown",
   "metadata": {},
   "source": [
    "The following is from http://nbviewer.jupyter.org/github/iminuit/probfit/blob/master/tutorial/tutorial.ipynb"
   ]
  },
  {
   "cell_type": "code",
   "execution_count": 83,
   "metadata": {
    "collapsed": false
   },
   "outputs": [],
   "source": [
    "# We assume you have executed this cell in all the following examples\n",
    "import numpy as np\n",
    "import matplotlib.pyplot as plt\n",
    "import iminuit\n",
    "import probfit\n",
    "\n",
    "matplotlib.rcParams['figure.figsize'] = (12.0, 6.0)"
   ]
  },
  {
   "cell_type": "code",
   "execution_count": 84,
   "metadata": {
    "collapsed": false
   },
   "outputs": [
    {
     "data": {
      "image/png": "[encoded data removed]",
      "text/plain": [
       "<matplotlib.figure.Figure at 0x112c9b550>"
      ]
     },
     "metadata": {},
     "output_type": "display_data"
    }
   ],
   "source": [
    "# Let's make a straight line with gaussian(mu=0, sigma=1) noise\n",
    "np.random.seed(0)\n",
    "x = np.linspace(0, 10, 20) \n",
    "y = 3 * x + 15 + np.random.randn(len(x))\n",
    "err = np.ones(len(x))\n",
    "plt.errorbar(x, y, err, fmt='.');"
   ]
  },
  {
   "cell_type": "code",
   "execution_count": 85,
   "metadata": {
    "collapsed": true
   },
   "outputs": [],
   "source": [
    "# Let's define our line.\n",
    "# First argument has to be the independent variable,\n",
    "# arguments after that are shape parameters.\n",
    "def line(x, m, c): # define it to be parabolic or whatever you like\n",
    "    return m * x + c"
   ]
  },
  {
   "cell_type": "code",
   "execution_count": 86,
   "metadata": {
    "collapsed": false
   },
   "outputs": [
    {
     "data": {
      "text/plain": [
       "['x', 'm', 'c']"
      ]
     },
     "execution_count": 86,
     "metadata": {},
     "output_type": "execute_result"
    }
   ],
   "source": [
    "iminuit.describe(line)"
   ]
  },
  {
   "cell_type": "code",
   "execution_count": 87,
   "metadata": {
    "collapsed": true
   },
   "outputs": [],
   "source": [
    "# Define a chi^2 cost function\n",
    "chi2 = probfit.Chi2Regression(line, x, y, err)"
   ]
  },
  {
   "cell_type": "code",
   "execution_count": 88,
   "metadata": {
    "collapsed": false
   },
   "outputs": [
    {
     "data": {
      "text/plain": [
       "['m', 'c']"
      ]
     },
     "execution_count": 88,
     "metadata": {},
     "output_type": "execute_result"
    }
   ],
   "source": [
    "# Chi2Regression is just a callable object; nothing special about it\n",
    "iminuit.describe(chi2)"
   ]
  },
  {
   "cell_type": "code",
   "execution_count": 89,
   "metadata": {
    "collapsed": false
   },
   "outputs": [
    {
     "data": {
      "text/html": [
       "<hr>"
      ]
     },
     "metadata": {},
     "output_type": "display_data"
    },
    {
     "data": {
      "text/html": [
       "\n",
       "        <table>\n",
       "            <tr>\n",
       "                <td title=\"Minimum value of function\">FCN = 12.0738531135</td>\n",
       "                <td title=\"Total number of call to FCN so far\">TOTAL NCALL = 36</td>\n",
       "                <td title=\"Number of call in last migrad\">NCALLS = 36</td>\n",
       "            </tr>\n",
       "            <tr>\n",
       "                <td title=\"Estimated distance to minimum\">EDM = 1.10886029888e-21</td>\n",
       "                <td title=\"Maximum EDM definition of convergence\">GOAL EDM = 1e-05</td>\n",
       "                <td title=\"Error def. Amount of increase in FCN to be defined as 1 standard deviation\">\n",
       "                UP = 1.0</td>\n",
       "            </tr>\n",
       "        </table>\n",
       "        \n",
       "        <table>\n",
       "            <tr>\n",
       "                <td align=\"center\" title=\"Validity of the migrad call\">Valid</td>\n",
       "                <td align=\"center\" title=\"Validity of parameters\">Valid Param</td>\n",
       "                <td align=\"center\" title=\"Is Covariance matrix accurate?\">Accurate Covar</td>\n",
       "                <td align=\"center\" title=\"Positive definiteness of covariance matrix\">PosDef</td>\n",
       "                <td align=\"center\" title=\"Was covariance matrix made posdef by adding diagonal element\">Made PosDef</td>\n",
       "            </tr>\n",
       "            <tr>\n",
       "                <td align=\"center\" style=\"background-color:#92CCA6\">True</td>\n",
       "                <td align=\"center\" style=\"background-color:#92CCA6\">True</td>\n",
       "                <td align=\"center\" style=\"background-color:#92CCA6\">True</td>\n",
       "                <td align=\"center\" style=\"background-color:#92CCA6\">True</td>\n",
       "                <td align=\"center\" style=\"background-color:#92CCA6\">False</td>\n",
       "            </tr>\n",
       "            <tr>\n",
       "                <td align=\"center\" title=\"Was last hesse call fail?\">Hesse Fail</td>\n",
       "                <td align=\"center\" title=\"Validity of covariance\">HasCov</td>\n",
       "                <td align=\"center\" title=\"Is EDM above goal EDM?\">Above EDM</td>\n",
       "                <td align=\"center\"></td>\n",
       "                <td align=\"center\" title=\"Did last migrad call reach max call limit?\">Reach calllim</td>\n",
       "            </tr>\n",
       "            <tr>\n",
       "                <td align=\"center\" style=\"background-color:#92CCA6\">False</td>\n",
       "                <td align=\"center\" style=\"background-color:#92CCA6\">True</td>\n",
       "                <td align=\"center\" style=\"background-color:#92CCA6\">False</td>\n",
       "                <td align=\"center\"></td>\n",
       "                <td align=\"center\" style=\"background-color:#92CCA6\">False</td>\n",
       "            </tr>\n",
       "        </table>\n",
       "        "
      ]
     },
     "metadata": {},
     "output_type": "display_data"
    },
    {
     "data": {
      "text/html": [
       "\n",
       "        <table>\n",
       "            <tr>\n",
       "                <td><a href=\"#\" onclick=\"$('#LzQOsGvBLC').toggle()\">+</a></td>\n",
       "                <td title=\"Variable name\">Name</td>\n",
       "                <td title=\"Value of parameter\">Value</td>\n",
       "                <td title=\"Parabolic error\">Parab Error</td>\n",
       "                <td title=\"Minos lower error\">Minos Error-</td>\n",
       "                <td title=\"Minos upper error\">Minos Error+</td>\n",
       "                <td title=\"Lower limit of the parameter\">Limit-</td>\n",
       "                <td title=\"Upper limit of the parameter\">Limit+</td>\n",
       "                <td title=\"Is the parameter fixed in the fit\">FIXED</td>\n",
       "            </tr>\n",
       "        \n",
       "            <tr>\n",
       "                <td>1</td>\n",
       "                <td>m</td>\n",
       "                <td>2.886277e+00</td>\n",
       "                <td>7.367884e-02</td>\n",
       "                <td>0.000000e+00</td>\n",
       "                <td>0.000000e+00</td>\n",
       "                <td></td>\n",
       "                <td></td>\n",
       "                <td></td>\n",
       "            </tr>\n",
       "            \n",
       "            <tr>\n",
       "                <td>2</td>\n",
       "                <td>c</td>\n",
       "                <td>1.613795e+01</td>\n",
       "                <td>4.309458e-01</td>\n",
       "                <td>0.000000e+00</td>\n",
       "                <td>0.000000e+00</td>\n",
       "                <td></td>\n",
       "                <td></td>\n",
       "                <td></td>\n",
       "            </tr>\n",
       "            \n",
       "            </table>\n",
       "        \n",
       "            <pre id=\"LzQOsGvBLC\" style=\"display:none;\">\n",
       "            <textarea rows=\"10\" cols=\"50\" onclick=\"this.select()\" readonly>\\begin{tabular}{|c|r|r|r|r|r|r|r|c|}\n",
       "\\hline\n",
       " & Name & Value & Para Error & Error+ & Error- & Limit+ & Limit- & FIXED\\\\\n",
       "\\hline\n",
       "1 & m & 2.886e+00 & 7.368e-02 &  &  &  &  & \\\\\n",
       "\\hline\n",
       "2 & c & 1.614e+01 & 4.309e-01 &  &  &  &  & \\\\\n",
       "\\hline\n",
       "\\end{tabular}</textarea>\n",
       "            </pre>\n",
       "            "
      ]
     },
     "metadata": {},
     "output_type": "display_data"
    },
    {
     "data": {
      "text/html": [
       "<hr>"
      ]
     },
     "metadata": {},
     "output_type": "display_data"
    }
   ],
   "source": [
    "# minimize it\n",
    "# yes, it gives you a heads up that you didn't give it initial value\n",
    "# we can ignore it for now\n",
    "minuit = iminuit.Minuit(chi2) # see iminuit tutorial on how to give initial value/range/error\n",
    "_ = minuit.migrad(); # MIGRAD is a very stable robust minimization method\n",
    "# you can look at your terminal to see what it is doing;"
   ]
  },
  {
   "cell_type": "code",
   "execution_count": 90,
   "metadata": {
    "collapsed": false
   },
   "outputs": [
    {
     "name": "stdout",
     "output_type": "stream",
     "text": [
      "{'c': 16.137947520534624, 'm': 2.8862774144823855}\n",
      "{'c': 0.4309458211385722, 'm': 0.07367884284273937}\n"
     ]
    }
   ],
   "source": [
    "# The output above is a pretty-printed summary of the fit results from\n",
    "# minuit.print_fmin()\n",
    "# which was automatically called by iminuit.Minuit.migrad() after running MIGRAD.\n",
    "\n",
    "# Let's see our results as Python dictionaries ...\n",
    "print(minuit.values)\n",
    "print(minuit.errors)"
   ]
  },
  {
   "cell_type": "code",
   "execution_count": 91,
   "metadata": {
    "collapsed": false
   },
   "outputs": [
    {
     "data": {
      "image/png": "[encoded data removed]",
      "text/plain": [
       "<matplotlib.figure.Figure at 0x112efc150>"
      ]
     },
     "metadata": {},
     "output_type": "display_data"
    }
   ],
   "source": [
    "# Let's visualize our line\n",
    "_ = chi2.draw(minuit);\n",
    "# looks good;"
   ]
  },
  {
   "cell_type": "code",
   "execution_count": 92,
   "metadata": {
    "collapsed": false
   },
   "outputs": [
    {
     "name": "stdout",
     "output_type": "stream",
     "text": [
      "error matrix:\n",
      "((0.005428571882645087, -0.027142859751431703), (-0.027142859751431703, 0.18571430075679826))\n",
      "correlation matrix:\n",
      "((1.0, -0.8548504260481388), (-0.8548504260481388, 1.0))\n"
     ]
    },
    {
     "data": {
      "text/html": [
       "\n",
       "            <table>\n",
       "                <tr>\n",
       "                    <td><a onclick=\"$('#qiYbwAoyVN').toggle()\" href=\"#\">+</a></td>\n",
       "        \n",
       "            <td>\n",
       "            <div style=\"width:20px;position:relative; width: -moz-fit-content;\">\n",
       "            <div style=\"display:inline-block;-webkit-writing-mode:vertical-rl;-moz-writing-mode: vertical-rl;writing-mode: vertical-rl;\">\n",
       "            m\n",
       "            </div>\n",
       "            </div>\n",
       "            </td>\n",
       "            \n",
       "            <td>\n",
       "            <div style=\"width:20px;position:relative; width: -moz-fit-content;\">\n",
       "            <div style=\"display:inline-block;-webkit-writing-mode:vertical-rl;-moz-writing-mode: vertical-rl;writing-mode: vertical-rl;\">\n",
       "            c\n",
       "            </div>\n",
       "            </div>\n",
       "            </td>\n",
       "            \n",
       "                </tr>\n",
       "                \n",
       "            <tr>\n",
       "                <td>m</td>\n",
       "            \n",
       "                <td style=\"background-color:rgb(255,117,117)\">\n",
       "                1.00\n",
       "                </td>\n",
       "                \n",
       "                <td style=\"background-color:rgb(242,137,127)\">\n",
       "                -0.85\n",
       "                </td>\n",
       "                \n",
       "            </tr>\n",
       "            \n",
       "            <tr>\n",
       "                <td>c</td>\n",
       "            \n",
       "                <td style=\"background-color:rgb(242,137,127)\">\n",
       "                -0.85\n",
       "                </td>\n",
       "                \n",
       "                <td style=\"background-color:rgb(255,117,117)\">\n",
       "                1.00\n",
       "                </td>\n",
       "                \n",
       "            </tr>\n",
       "            </table>\n",
       "\n",
       "            <pre id=\"qiYbwAoyVN\" style=\"display:none;\">\n",
       "            <textarea rows=\"13\" cols=\"50\" onclick=\"this.select()\" readonly>%\\usepackage[table]{xcolor} % include this for color\n",
       "%\\usepackage{rotating} % include this for rotate header\n",
       "%\\documentclass[xcolor=table]{beamer} % for beamer\n",
       "\\begin{tabular}{|c|c|c|}\n",
       "\\hline\n",
       "\\rotatebox{90}{} & \\rotatebox{90}{m} & \\rotatebox{90}{c}\\\\\n",
       "\\hline\n",
       "m & \\cellcolor[RGB]{255,117,117} 1.00 & \\cellcolor[RGB]{242,137,127} -0.85\\\\\n",
       "\\hline\n",
       "c & \\cellcolor[RGB]{242,137,127} -0.85 & \\cellcolor[RGB]{255,117,117} 1.00\\\\\n",
       "\\hline\n",
       "\\end{tabular}</textarea>\n",
       "            </pre>\n",
       "            "
      ]
     },
     "metadata": {},
     "output_type": "display_data"
    }
   ],
   "source": [
    "# Sometimes we want the error matrix (a.k.a. covariance matrix)\n",
    "print('error matrix:')\n",
    "print(minuit.matrix())\n",
    "# or the correlation matrix\n",
    "print('correlation matrix:')\n",
    "print(minuit.matrix(correlation=True))\n",
    "# or a pretty html representation\n",
    "# Note that `print_matrix()` shows the correlation matrix, not the error matrix\n",
    "minuit.print_matrix()"
   ]
  },
  {
   "cell_type": "markdown",
   "metadata": {},
   "source": [
    "Now we try to fit our dipole..."
   ]
  },
  {
   "cell_type": "code",
   "execution_count": 93,
   "metadata": {
    "collapsed": false
   },
   "outputs": [],
   "source": [
    "import lmfit\n",
    "from scipy.stats import norm\n",
    "\n",
    "def gen_dipole2(x, amp1=1., sep1=1.):\n",
    "    ypos = amp1 * norm.pdf(x,  sep1/2., 1)\n",
    "    yneg = amp1 * norm.pdf(x, -sep1/2., 1)                  \n",
    "    y = ypos - yneg\n",
    "    return np.append(y, [ypos, yneg])\n",
    "\n",
    "def gen_dipole(x, amp1=1., sep1=1.):\n",
    "    #y = amp1 * (norm.pdf(x, -sep1/2., 1) - norm.pdf(x, sep1/2., 1))\n",
    "    try:\n",
    "        leng = len(x)\n",
    "    except:\n",
    "        leng = 1\n",
    "    y = gen_dipole2(x, amp1, sep1)[:leng]\n",
    "    return y\n",
    "\n",
    "def fitDipole(ydata, xdata, amp1Start=3., sep1Start=2., fitFunc=gen_dipole, verbose=False):\n",
    "    gmod = lmfit.Model(fitFunc, verbose=verbose)\n",
    "    result = gmod.fit(ydata, x=xdata, amp1=amp1Start, sep1=sep1Start, verbose=verbose)\n",
    "\n",
    "    if verbose: \n",
    "        print(result.fit_report(show_correl=False))\n",
    "        ci = lmfit.conf_interval(result, result)\n",
    "        lmfit.printfuncs.report_ci(ci)\n",
    "\n",
    "    return result"
   ]
  },
  {
   "cell_type": "code",
   "execution_count": 94,
   "metadata": {
    "collapsed": false
   },
   "outputs": [
    {
     "name": "stdout",
     "output_type": "stream",
     "text": [
      " - Adding parameter \"sep1\"\n",
      " - Adding parameter \"amp1\"\n",
      "[[Model]]\n",
      "    Model(gen_dipole)\n",
      "[[Fit Statistics]]\n",
      "    # function evals   = 18\n",
      "    # data points      = 40\n",
      "    # variables        = 2\n",
      "    chi-square         = 0.041\n",
      "    reduced chi-square = 0.001\n",
      "[[Variables]]\n",
      "    sep1:   0.79968891 +/- 0.558867 (69.89%) (init= 1.5)\n",
      "    amp1:   1.25114000 +/- 0.806661 (64.47%) (init= 1.5)\n",
      "\n",
      "         99.70%    95.00%    67.40%    _BEST_    67.40%    95.00%    99.70%\n",
      " sep1:      -inf      -inf      -inf   0.79969  +0.42387  +0.74583  +1.04216\n",
      " amp1:  -0.64404  -0.54775  -0.39504   1.25114      +inf      +inf      +inf\n"
     ]
    },
    {
     "data": {
      "image/png": "[encoded data removed]",
      "text/plain": [
       "<matplotlib.figure.Figure at 0x11416f610>"
      ]
     },
     "metadata": {},
     "output_type": "display_data"
    }
   ],
   "source": [
    "xdata = np.arange(-5, 5, 0.25)\n",
    "ydataOrig = gen_dipole2(xdata, amp1=1.3, sep1=0.8)\n",
    "ydataOrigNoisy = ydataOrig + np.random.normal(scale=0.03, size=ydataOrig.shape) ## save it for fitting below...\n",
    "ydata = ydataOrigNoisy[:len(xdata)] \n",
    "\n",
    "result = fitDipole(ydata, xdata, amp1Start=1.5, sep1Start=1.5, fitFunc=gen_dipole, verbose=True)\n",
    "plt.plot(xdata, ydata, 'bo')\n",
    "plt.plot(xdata, ydataOrig[:len(xdata)], linewidth=3, linestyle='dotted')\n",
    "plt.plot(xdata, result.best_fit, linewidth=3, linestyle='dashed')\n",
    "plt.show()"
   ]
  },
  {
   "cell_type": "code",
   "execution_count": 95,
   "metadata": {
    "collapsed": false
   },
   "outputs": [
    {
     "data": {
      "text/plain": [
       "['x', 'amp1', 'sep1']"
      ]
     },
     "execution_count": 95,
     "metadata": {},
     "output_type": "execute_result"
    }
   ],
   "source": [
    "## Try it with iminuit\n",
    "iminuit.describe(gen_dipole)"
   ]
  },
  {
   "cell_type": "code",
   "execution_count": 96,
   "metadata": {
    "collapsed": false
   },
   "outputs": [
    {
     "data": {
      "text/plain": [
       "['amp1', 'sep1']"
      ]
     },
     "execution_count": 96,
     "metadata": {},
     "output_type": "execute_result"
    }
   ],
   "source": [
    "err = np.ones(len(xdata)) * 0.03\n",
    "chi2 = probfit.Chi2Regression(gen_dipole, xdata, ydata, err)\n",
    "iminuit.describe(chi2)"
   ]
  },
  {
   "cell_type": "code",
   "execution_count": 97,
   "metadata": {
    "collapsed": false
   },
   "outputs": [
    {
     "data": {
      "text/html": [
       "<hr>"
      ]
     },
     "metadata": {},
     "output_type": "display_data"
    },
    {
     "data": {
      "text/html": [
       "\n",
       "        <table>\n",
       "            <tr>\n",
       "                <td title=\"Minimum value of function\">FCN = 45.9080001073</td>\n",
       "                <td title=\"Total number of call to FCN so far\">TOTAL NCALL = 43</td>\n",
       "                <td title=\"Number of call in last migrad\">NCALLS = 43</td>\n",
       "            </tr>\n",
       "            <tr>\n",
       "                <td title=\"Estimated distance to minimum\">EDM = 4.13577657506e-06</td>\n",
       "                <td title=\"Maximum EDM definition of convergence\">GOAL EDM = 1e-05</td>\n",
       "                <td title=\"Error def. Amount of increase in FCN to be defined as 1 standard deviation\">\n",
       "                UP = 1.0</td>\n",
       "            </tr>\n",
       "        </table>\n",
       "        \n",
       "        <table>\n",
       "            <tr>\n",
       "                <td align=\"center\" title=\"Validity of the migrad call\">Valid</td>\n",
       "                <td align=\"center\" title=\"Validity of parameters\">Valid Param</td>\n",
       "                <td align=\"center\" title=\"Is Covariance matrix accurate?\">Accurate Covar</td>\n",
       "                <td align=\"center\" title=\"Positive definiteness of covariance matrix\">PosDef</td>\n",
       "                <td align=\"center\" title=\"Was covariance matrix made posdef by adding diagonal element\">Made PosDef</td>\n",
       "            </tr>\n",
       "            <tr>\n",
       "                <td align=\"center\" style=\"background-color:#92CCA6\">True</td>\n",
       "                <td align=\"center\" style=\"background-color:#92CCA6\">True</td>\n",
       "                <td align=\"center\" style=\"background-color:#92CCA6\">True</td>\n",
       "                <td align=\"center\" style=\"background-color:#92CCA6\">True</td>\n",
       "                <td align=\"center\" style=\"background-color:#92CCA6\">False</td>\n",
       "            </tr>\n",
       "            <tr>\n",
       "                <td align=\"center\" title=\"Was last hesse call fail?\">Hesse Fail</td>\n",
       "                <td align=\"center\" title=\"Validity of covariance\">HasCov</td>\n",
       "                <td align=\"center\" title=\"Is EDM above goal EDM?\">Above EDM</td>\n",
       "                <td align=\"center\"></td>\n",
       "                <td align=\"center\" title=\"Did last migrad call reach max call limit?\">Reach calllim</td>\n",
       "            </tr>\n",
       "            <tr>\n",
       "                <td align=\"center\" style=\"background-color:#92CCA6\">False</td>\n",
       "                <td align=\"center\" style=\"background-color:#92CCA6\">True</td>\n",
       "                <td align=\"center\" style=\"background-color:#92CCA6\">False</td>\n",
       "                <td align=\"center\"></td>\n",
       "                <td align=\"center\" style=\"background-color:#92CCA6\">False</td>\n",
       "            </tr>\n",
       "        </table>\n",
       "        "
      ]
     },
     "metadata": {},
     "output_type": "display_data"
    },
    {
     "data": {
      "text/html": [
       "\n",
       "        <table>\n",
       "            <tr>\n",
       "                <td><a href=\"#\" onclick=\"$('#VEIUpebhhD').toggle()\">+</a></td>\n",
       "                <td title=\"Variable name\">Name</td>\n",
       "                <td title=\"Value of parameter\">Value</td>\n",
       "                <td title=\"Parabolic error\">Parab Error</td>\n",
       "                <td title=\"Minos lower error\">Minos Error-</td>\n",
       "                <td title=\"Minos upper error\">Minos Error+</td>\n",
       "                <td title=\"Lower limit of the parameter\">Limit-</td>\n",
       "                <td title=\"Upper limit of the parameter\">Limit+</td>\n",
       "                <td title=\"Is the parameter fixed in the fit\">FIXED</td>\n",
       "            </tr>\n",
       "        \n",
       "            <tr>\n",
       "                <td>1</td>\n",
       "                <td>amp1</td>\n",
       "                <td>1.249694e+00</td>\n",
       "                <td>7.452022e-01</td>\n",
       "                <td>0.000000e+00</td>\n",
       "                <td>0.000000e+00</td>\n",
       "                <td>0.01</td>\n",
       "                <td>100.0</td>\n",
       "                <td></td>\n",
       "            </tr>\n",
       "            \n",
       "            <tr>\n",
       "                <td>2</td>\n",
       "                <td>sep1</td>\n",
       "                <td>8.006859e-01</td>\n",
       "                <td>5.168287e-01</td>\n",
       "                <td>0.000000e+00</td>\n",
       "                <td>0.000000e+00</td>\n",
       "                <td></td>\n",
       "                <td></td>\n",
       "                <td></td>\n",
       "            </tr>\n",
       "            \n",
       "            </table>\n",
       "        \n",
       "            <pre id=\"VEIUpebhhD\" style=\"display:none;\">\n",
       "            <textarea rows=\"10\" cols=\"50\" onclick=\"this.select()\" readonly>\\begin{tabular}{|c|r|r|r|r|r|r|r|c|}\n",
       "\\hline\n",
       " & Name & Value & Para Error & Error+ & Error- & Limit+ & Limit- & FIXED\\\\\n",
       "\\hline\n",
       "1 & amp1 & 1.250e+00 & 7.452e-01 &  &  & 1.000e-02 & 1.000e+02 & \\\\\n",
       "\\hline\n",
       "2 & sep1 & 8.007e-01 & 5.168e-01 &  &  &  &  & \\\\\n",
       "\\hline\n",
       "\\end{tabular}</textarea>\n",
       "            </pre>\n",
       "            "
      ]
     },
     "metadata": {},
     "output_type": "display_data"
    },
    {
     "data": {
      "text/html": [
       "<hr>"
      ]
     },
     "metadata": {},
     "output_type": "display_data"
    }
   ],
   "source": [
    "# minimize it\n",
    "# yes, it gives you a heads up that you didn't give it initial value\n",
    "# we can ignore it for now\n",
    "# see iminuit tutorial on how to give initial value/range/error\n",
    "minuit = iminuit.Minuit(chi2, amp1=1.5, sep1=1.5, limit_amp1=(0.01,100.) )\n",
    "_ = minuit.migrad(); # MIGRAD is a very stable robust minimization method\n",
    "# you can look at your terminal to see what it is doing;"
   ]
  },
  {
   "cell_type": "code",
   "execution_count": 98,
   "metadata": {
    "collapsed": false
   },
   "outputs": [
    {
     "name": "stdout",
     "output_type": "stream",
     "text": [
      "{'sep1': 0.8006858603357746, 'amp1': 1.2496941238765162}\n",
      "{'sep1': 0.5168287259283878, 'amp1': 0.745202199458373}\n"
     ]
    }
   ],
   "source": [
    "# The output above is a pretty-printed summary of the fit results from\n",
    "# minuit.print_fmin()\n",
    "# which was automatically called by iminuit.Minuit.migrad() after running MIGRAD.\n",
    "\n",
    "# Let's see our results as Python dictionaries ...\n",
    "print(minuit.values)\n",
    "print(minuit.errors)"
   ]
  },
  {
   "cell_type": "code",
   "execution_count": 99,
   "metadata": {
    "collapsed": false
   },
   "outputs": [
    {
     "data": {
      "image/png": "[encoded data removed]",
      "text/plain": [
       "<matplotlib.figure.Figure at 0x11411da50>"
      ]
     },
     "metadata": {},
     "output_type": "display_data"
    }
   ],
   "source": [
    "# Let's visualize our line\n",
    "_ = chi2.draw(minuit);\n",
    "# looks good;"
   ]
  },
  {
   "cell_type": "markdown",
   "metadata": {},
   "source": [
    "iMinuit is about 250x faster!"
   ]
  },
  {
   "cell_type": "code",
   "execution_count": 100,
   "metadata": {
    "collapsed": false
   },
   "outputs": [
    {
     "name": "stdout",
     "output_type": "stream",
     "text": [
      "10000 loops, best of 3: 21.9 µs per loop\n",
      "The slowest run took 5.45 times longer than the fastest. This could mean that an intermediate result is being cached \n",
      "10000 loops, best of 3: 21.5 µs per loop\n",
      "100 loops, best of 3: 5.59 ms per loop\n",
      "100 loops, best of 3: 5.46 ms per loop\n",
      "276.859504132\n"
     ]
    }
   ],
   "source": [
    "import warnings\n",
    "warnings.filterwarnings('ignore')\n",
    "\n",
    "%timeit iminuit.Minuit(chi2, amp1=1.5, sep1=1.5 ) \n",
    "%timeit iminuit.Minuit(chi2) \n",
    "%timeit fitDipole(ydata, xdata, amp1Start=1.5, sep1Start=1.5, fitFunc=gen_dipole, verbose=False)\n",
    "\n",
    "gmod = lmfit.Model(gen_dipole, verbose=False)\n",
    "%timeit gmod.fit(ydata, x=xdata, amp1=1.5, sep1=1.5, verbose=False)\n",
    "\n",
    "print 6700 / 24.2"
   ]
  },
  {
   "cell_type": "code",
   "execution_count": 101,
   "metadata": {
    "collapsed": false
   },
   "outputs": [
    {
     "data": {
      "image/png": "[encoded data removed]",
      "text/plain": [
       "<matplotlib.figure.Figure at 0x112f15e50>"
      ]
     },
     "metadata": {},
     "output_type": "display_data"
    }
   ],
   "source": [
    "# Looking at a likelihood profile is a good method\n",
    "# to check that the reported errors make sense\n",
    "_ = minuit.draw_mnprofile('sep1');"
   ]
  },
  {
   "cell_type": "code",
   "execution_count": 102,
   "metadata": {
    "collapsed": false
   },
   "outputs": [],
   "source": [
    "# Plot a 2d contour error\n",
    "# You can notice that it takes some time to draw\n",
    "# This is because our PDF is defined in Python\n",
    "# We will show how to speed this up later\n",
    "# This is currently uninformative. How to improve?\n",
    "if False:\n",
    "    _ = minuit.draw_mncontour('amp1', 'sep1');"
   ]
  },
  {
   "cell_type": "markdown",
   "metadata": {},
   "source": [
    "Add template and obs. image to constrain fit..."
   ]
  },
  {
   "cell_type": "code",
   "execution_count": 103,
   "metadata": {
    "collapsed": false
   },
   "outputs": [
    {
     "name": "stdout",
     "output_type": "stream",
     "text": [
      " - Adding parameter \"sep1\"\n",
      " - Adding parameter \"amp1\"\n",
      "[[Model]]\n",
      "    Model(gen_dipole2)\n",
      "[[Fit Statistics]]\n",
      "    # function evals   = 15\n",
      "    # data points      = 120\n",
      "    # variables        = 2\n",
      "    chi-square         = 0.111\n",
      "    reduced chi-square = 0.001\n",
      "[[Variables]]\n",
      "    sep1:   0.80927653 +/- 0.028564 (3.53%) (init= 1.5)\n",
      "    amp1:   1.31403646 +/- 0.019833 (1.51%) (init= 1.5)\n",
      "\n",
      "         99.70%    95.00%    67.40%    _BEST_    67.40%    95.00%    99.70%\n",
      " sep1:  -0.08580  -0.05638  -0.02824   0.80928  +0.02857  +0.05768  +0.08891\n",
      " amp1:  -0.06008  -0.03930  -0.01957   1.31404  +0.01958  +0.03935  +0.06019\n"
     ]
    },
    {
     "data": {
      "image/png": "[encoded data removed]",
      "text/plain": [
       "<matplotlib.figure.Figure at 0x112eb4690>"
      ]
     },
     "metadata": {},
     "output_type": "display_data"
    }
   ],
   "source": [
    "## Use same input data as above for direct comparison\n",
    "ydata = ydataOrigNoisy\n",
    "result = fitDipole(ydata, xdata, amp1Start=1.5, sep1Start=1.5, fitFunc=gen_dipole2, verbose=True)\n",
    "plt.plot(xdata, ydata[:len(xdata)], 'bo')\n",
    "plt.plot(xdata, ydataOrig[:len(xdata)], linewidth=3, linestyle='dotted')\n",
    "plt.plot(xdata, result.best_fit[:len(xdata)], linewidth=3, linestyle='dashed')\n",
    "plt.show()"
   ]
  },
  {
   "cell_type": "code",
   "execution_count": 115,
   "metadata": {
    "collapsed": false
   },
   "outputs": [
    {
     "name": "stdout",
     "output_type": "stream",
     "text": [
      "['x', 'amp1', 'sep1']\n",
      "['amp1', 'sep1']\n"
     ]
    },
    {
     "data": {
      "text/html": [
       "<hr>"
      ]
     },
     "metadata": {},
     "output_type": "display_data"
    },
    {
     "data": {
      "text/html": [
       "\n",
       "        <table>\n",
       "            <tr>\n",
       "                <td title=\"Minimum value of function\">FCN = 123.282895333</td>\n",
       "                <td title=\"Total number of call to FCN so far\">TOTAL NCALL = 39</td>\n",
       "                <td title=\"Number of call in last migrad\">NCALLS = 39</td>\n",
       "            </tr>\n",
       "            <tr>\n",
       "                <td title=\"Estimated distance to minimum\">EDM = 2.19641068826e-07</td>\n",
       "                <td title=\"Maximum EDM definition of convergence\">GOAL EDM = 1e-05</td>\n",
       "                <td title=\"Error def. Amount of increase in FCN to be defined as 1 standard deviation\">\n",
       "                UP = 1.0</td>\n",
       "            </tr>\n",
       "        </table>\n",
       "        \n",
       "        <table>\n",
       "            <tr>\n",
       "                <td align=\"center\" title=\"Validity of the migrad call\">Valid</td>\n",
       "                <td align=\"center\" title=\"Validity of parameters\">Valid Param</td>\n",
       "                <td align=\"center\" title=\"Is Covariance matrix accurate?\">Accurate Covar</td>\n",
       "                <td align=\"center\" title=\"Positive definiteness of covariance matrix\">PosDef</td>\n",
       "                <td align=\"center\" title=\"Was covariance matrix made posdef by adding diagonal element\">Made PosDef</td>\n",
       "            </tr>\n",
       "            <tr>\n",
       "                <td align=\"center\" style=\"background-color:#92CCA6\">True</td>\n",
       "                <td align=\"center\" style=\"background-color:#92CCA6\">True</td>\n",
       "                <td align=\"center\" style=\"background-color:#92CCA6\">True</td>\n",
       "                <td align=\"center\" style=\"background-color:#92CCA6\">True</td>\n",
       "                <td align=\"center\" style=\"background-color:#92CCA6\">False</td>\n",
       "            </tr>\n",
       "            <tr>\n",
       "                <td align=\"center\" title=\"Was last hesse call fail?\">Hesse Fail</td>\n",
       "                <td align=\"center\" title=\"Validity of covariance\">HasCov</td>\n",
       "                <td align=\"center\" title=\"Is EDM above goal EDM?\">Above EDM</td>\n",
       "                <td align=\"center\"></td>\n",
       "                <td align=\"center\" title=\"Did last migrad call reach max call limit?\">Reach calllim</td>\n",
       "            </tr>\n",
       "            <tr>\n",
       "                <td align=\"center\" style=\"background-color:#92CCA6\">False</td>\n",
       "                <td align=\"center\" style=\"background-color:#92CCA6\">True</td>\n",
       "                <td align=\"center\" style=\"background-color:#92CCA6\">False</td>\n",
       "                <td align=\"center\"></td>\n",
       "                <td align=\"center\" style=\"background-color:#92CCA6\">False</td>\n",
       "            </tr>\n",
       "        </table>\n",
       "        "
      ]
     },
     "metadata": {},
     "output_type": "display_data"
    },
    {
     "data": {
      "text/html": [
       "\n",
       "        <table>\n",
       "            <tr>\n",
       "                <td><a href=\"#\" onclick=\"$('#rayMQoOLCC').toggle()\">+</a></td>\n",
       "                <td title=\"Variable name\">Name</td>\n",
       "                <td title=\"Value of parameter\">Value</td>\n",
       "                <td title=\"Parabolic error\">Parab Error</td>\n",
       "                <td title=\"Minos lower error\">Minos Error-</td>\n",
       "                <td title=\"Minos upper error\">Minos Error+</td>\n",
       "                <td title=\"Lower limit of the parameter\">Limit-</td>\n",
       "                <td title=\"Upper limit of the parameter\">Limit+</td>\n",
       "                <td title=\"Is the parameter fixed in the fit\">FIXED</td>\n",
       "            </tr>\n",
       "        \n",
       "            <tr>\n",
       "                <td>1</td>\n",
       "                <td>amp1</td>\n",
       "                <td>1.314045e+00</td>\n",
       "                <td>1.941657e-02</td>\n",
       "                <td>0.000000e+00</td>\n",
       "                <td>0.000000e+00</td>\n",
       "                <td>0.01</td>\n",
       "                <td>100.0</td>\n",
       "                <td></td>\n",
       "            </tr>\n",
       "            \n",
       "            <tr>\n",
       "                <td>2</td>\n",
       "                <td>sep1</td>\n",
       "                <td>8.092734e-01</td>\n",
       "                <td>2.817002e-02</td>\n",
       "                <td>0.000000e+00</td>\n",
       "                <td>0.000000e+00</td>\n",
       "                <td></td>\n",
       "                <td></td>\n",
       "                <td></td>\n",
       "            </tr>\n",
       "            \n",
       "            </table>\n",
       "        \n",
       "            <pre id=\"rayMQoOLCC\" style=\"display:none;\">\n",
       "            <textarea rows=\"10\" cols=\"50\" onclick=\"this.select()\" readonly>\\begin{tabular}{|c|r|r|r|r|r|r|r|c|}\n",
       "\\hline\n",
       " & Name & Value & Para Error & Error+ & Error- & Limit+ & Limit- & FIXED\\\\\n",
       "\\hline\n",
       "1 & amp1 & 1.314e+00 & 1.942e-02 &  &  & 1.000e-02 & 1.000e+02 & \\\\\n",
       "\\hline\n",
       "2 & sep1 & 8.093e-01 & 2.817e-02 &  &  &  &  & \\\\\n",
       "\\hline\n",
       "\\end{tabular}</textarea>\n",
       "            </pre>\n",
       "            "
      ]
     },
     "metadata": {},
     "output_type": "display_data"
    },
    {
     "data": {
      "text/html": [
       "<hr>"
      ]
     },
     "metadata": {},
     "output_type": "display_data"
    }
   ],
   "source": [
    "## Try it with iminuit/probfit.\n",
    "## probfit requires x (and hence y) to be a 1-d array, so we will have to play around with it\n",
    "##   to get it to work.\n",
    "## Here we encode xdata = [x, x+100, x+200] for the diffim, pos, and neg images respectively\n",
    "def gen_dipole3(x, amp1=1., sep1=1.):\n",
    "    xx = x\n",
    "    if x >= 190:\n",
    "        xx -= 200\n",
    "    elif x >= 90:\n",
    "        xx -= 100\n",
    "    ypos = amp1 * norm.pdf(xx,  sep1/2., 1)\n",
    "    yneg = amp1 * norm.pdf(xx, -sep1/2., 1)                  \n",
    "    yout = ypos - yneg\n",
    "    if x >= 190:\n",
    "        yout = yneg\n",
    "    elif x >= 90:\n",
    "        yout = ypos\n",
    "    return yout\n",
    "\n",
    "print iminuit.describe(gen_dipole3)\n",
    "xdata2 = np.append(xdata, [xdata+100, xdata+200])\n",
    "ydata2 = ydataOrigNoisy.copy()\n",
    "\n",
    "err = np.ones_like(xdata2) * 0.03\n",
    "chi2 = probfit.Chi2Regression(gen_dipole3, xdata2, ydata2, err)\n",
    "print iminuit.describe(chi2)\n",
    "\n",
    "minuit = iminuit.Minuit(chi2, amp1=1.5, sep1=1.5, limit_amp1=(0.01,100.) )\n",
    "_ = minuit.migrad();"
   ]
  },
  {
   "cell_type": "code",
   "execution_count": 118,
   "metadata": {
    "collapsed": false
   },
   "outputs": [
    {
     "name": "stdout",
     "output_type": "stream",
     "text": [
      "{'sep1': 0.8092733711055475, 'amp1': 1.3140454111267705}\n",
      "{'sep1': 0.02817002260467186, 'amp1': 0.01941656606340969}\n"
     ]
    },
    {
     "data": {
      "image/png": "[encoded data removed]",
      "text/plain": [
       "<matplotlib.figure.Figure at 0x112be8510>"
      ]
     },
     "metadata": {},
     "output_type": "display_data"
    }
   ],
   "source": [
    "print(minuit.values)\n",
    "print(minuit.errors)\n",
    "\n",
    "#_ = chi2.draw(minuit);\n",
    "# Looking at a likelihood profile is a good method\n",
    "# to check that the reported errors make sense\n",
    "_ = minuit.draw_mnprofile('sep1');"
   ]
  },
  {
   "cell_type": "code",
   "execution_count": 127,
   "metadata": {
    "collapsed": false
   },
   "outputs": [
    {
     "name": "stdout",
     "output_type": "stream",
     "text": [
      "100 loops, best of 3: 4.95 ms per loop\n",
      "10000 loops, best of 3: 20.6 µs per loop\n",
      "100 loops, best of 3: 4.97 ms per loop\n",
      "238.095238095\n"
     ]
    }
   ],
   "source": [
    "%timeit fitDipole(ydata, xdata, amp1Start=1.5, sep1Start=1.5, fitFunc=gen_dipole2, verbose=False)\n",
    "%timeit iminuit.Minuit(chi2, amp1=1.5, sep1=1.5)\n",
    "\n",
    "gmod = lmfit.Model(gen_dipole2, verbose=False)\n",
    "%timeit gmod.fit(ydata, x=xdata, amp1=1.5, sep1=1.5, verbose=False)\n",
    "\n",
    "print 5000/21."
   ]
  },
  {
   "cell_type": "markdown",
   "metadata": {},
   "source": [
    "### A nicer way:\n",
    "\n",
    "Let's try doing this with `probfit.costfunc.SimultaneousFit`."
   ]
  },
  {
   "cell_type": "code",
   "execution_count": 146,
   "metadata": {
    "collapsed": false
   },
   "outputs": [
    {
     "name": "stdout",
     "output_type": "stream",
     "text": [
      "['x', 'amp1', 'sep1']\n",
      "['amp1', 'sep1']\n"
     ]
    },
    {
     "data": {
      "text/html": [
       "<hr>"
      ]
     },
     "metadata": {},
     "output_type": "display_data"
    },
    {
     "data": {
      "text/html": [
       "\n",
       "        <table>\n",
       "            <tr>\n",
       "                <td title=\"Minimum value of function\">FCN = 123.282895333</td>\n",
       "                <td title=\"Total number of call to FCN so far\">TOTAL NCALL = 39</td>\n",
       "                <td title=\"Number of call in last migrad\">NCALLS = 39</td>\n",
       "            </tr>\n",
       "            <tr>\n",
       "                <td title=\"Estimated distance to minimum\">EDM = 2.19641105457e-07</td>\n",
       "                <td title=\"Maximum EDM definition of convergence\">GOAL EDM = 1e-05</td>\n",
       "                <td title=\"Error def. Amount of increase in FCN to be defined as 1 standard deviation\">\n",
       "                UP = 1.0</td>\n",
       "            </tr>\n",
       "        </table>\n",
       "        \n",
       "        <table>\n",
       "            <tr>\n",
       "                <td align=\"center\" title=\"Validity of the migrad call\">Valid</td>\n",
       "                <td align=\"center\" title=\"Validity of parameters\">Valid Param</td>\n",
       "                <td align=\"center\" title=\"Is Covariance matrix accurate?\">Accurate Covar</td>\n",
       "                <td align=\"center\" title=\"Positive definiteness of covariance matrix\">PosDef</td>\n",
       "                <td align=\"center\" title=\"Was covariance matrix made posdef by adding diagonal element\">Made PosDef</td>\n",
       "            </tr>\n",
       "            <tr>\n",
       "                <td align=\"center\" style=\"background-color:#92CCA6\">True</td>\n",
       "                <td align=\"center\" style=\"background-color:#92CCA6\">True</td>\n",
       "                <td align=\"center\" style=\"background-color:#92CCA6\">True</td>\n",
       "                <td align=\"center\" style=\"background-color:#92CCA6\">True</td>\n",
       "                <td align=\"center\" style=\"background-color:#92CCA6\">False</td>\n",
       "            </tr>\n",
       "            <tr>\n",
       "                <td align=\"center\" title=\"Was last hesse call fail?\">Hesse Fail</td>\n",
       "                <td align=\"center\" title=\"Validity of covariance\">HasCov</td>\n",
       "                <td align=\"center\" title=\"Is EDM above goal EDM?\">Above EDM</td>\n",
       "                <td align=\"center\"></td>\n",
       "                <td align=\"center\" title=\"Did last migrad call reach max call limit?\">Reach calllim</td>\n",
       "            </tr>\n",
       "            <tr>\n",
       "                <td align=\"center\" style=\"background-color:#92CCA6\">False</td>\n",
       "                <td align=\"center\" style=\"background-color:#92CCA6\">True</td>\n",
       "                <td align=\"center\" style=\"background-color:#92CCA6\">False</td>\n",
       "                <td align=\"center\"></td>\n",
       "                <td align=\"center\" style=\"background-color:#92CCA6\">False</td>\n",
       "            </tr>\n",
       "        </table>\n",
       "        "
      ]
     },
     "metadata": {},
     "output_type": "display_data"
    },
    {
     "data": {
      "text/html": [
       "\n",
       "        <table>\n",
       "            <tr>\n",
       "                <td><a href=\"#\" onclick=\"$('#WjNLrKVpPv').toggle()\">+</a></td>\n",
       "                <td title=\"Variable name\">Name</td>\n",
       "                <td title=\"Value of parameter\">Value</td>\n",
       "                <td title=\"Parabolic error\">Parab Error</td>\n",
       "                <td title=\"Minos lower error\">Minos Error-</td>\n",
       "                <td title=\"Minos upper error\">Minos Error+</td>\n",
       "                <td title=\"Lower limit of the parameter\">Limit-</td>\n",
       "                <td title=\"Upper limit of the parameter\">Limit+</td>\n",
       "                <td title=\"Is the parameter fixed in the fit\">FIXED</td>\n",
       "            </tr>\n",
       "        \n",
       "            <tr>\n",
       "                <td>1</td>\n",
       "                <td>amp1</td>\n",
       "                <td>1.314045e+00</td>\n",
       "                <td>1.941657e-02</td>\n",
       "                <td>0.000000e+00</td>\n",
       "                <td>0.000000e+00</td>\n",
       "                <td>0.01</td>\n",
       "                <td>100.0</td>\n",
       "                <td></td>\n",
       "            </tr>\n",
       "            \n",
       "            <tr>\n",
       "                <td>2</td>\n",
       "                <td>sep1</td>\n",
       "                <td>8.092734e-01</td>\n",
       "                <td>2.817002e-02</td>\n",
       "                <td>0.000000e+00</td>\n",
       "                <td>0.000000e+00</td>\n",
       "                <td></td>\n",
       "                <td></td>\n",
       "                <td></td>\n",
       "            </tr>\n",
       "            \n",
       "            </table>\n",
       "        \n",
       "            <pre id=\"WjNLrKVpPv\" style=\"display:none;\">\n",
       "            <textarea rows=\"10\" cols=\"50\" onclick=\"this.select()\" readonly>\\begin{tabular}{|c|r|r|r|r|r|r|r|c|}\n",
       "\\hline\n",
       " & Name & Value & Para Error & Error+ & Error- & Limit+ & Limit- & FIXED\\\\\n",
       "\\hline\n",
       "1 & amp1 & 1.314e+00 & 1.942e-02 &  &  & 1.000e-02 & 1.000e+02 & \\\\\n",
       "\\hline\n",
       "2 & sep1 & 8.093e-01 & 2.817e-02 &  &  &  &  & \\\\\n",
       "\\hline\n",
       "\\end{tabular}</textarea>\n",
       "            </pre>\n",
       "            "
      ]
     },
     "metadata": {},
     "output_type": "display_data"
    },
    {
     "data": {
      "text/html": [
       "<hr>"
      ]
     },
     "metadata": {},
     "output_type": "display_data"
    }
   ],
   "source": [
    "def gen_posImage(x, amp1=1., sep1=1.):\n",
    "    ypos = amp1 * norm.pdf(x,  sep1/2., 1)\n",
    "    return ypos\n",
    "\n",
    "def gen_negImage(x, amp1=1., sep1=1.):\n",
    "    yneg = amp1 * norm.pdf(x, -sep1/2., 1)\n",
    "    return yneg\n",
    "\n",
    "def gen_dipole3(x, amp1=1., sep1=1.):\n",
    "    ypos = gen_posImage(x, amp1, sep1)\n",
    "    yneg = gen_negImage(x, amp1, sep1)\n",
    "    yout = ypos - yneg\n",
    "    return yout\n",
    "\n",
    "print iminuit.describe(gen_dipole3)\n",
    "xdata2 = xdata.copy()\n",
    "ydata2 = ydataOrigNoisy.copy()\n",
    "err = np.ones_like(xdata2) * 0.03\n",
    "\n",
    "poschi2 = probfit.Chi2Regression(gen_posImage, xdata2, ydata2[40:80],    err)\n",
    "negchi2 = probfit.Chi2Regression(gen_negImage, xdata2, ydata2[80:120],  err)\n",
    "difchi2 = probfit.Chi2Regression(gen_dipole3,  xdata2, ydata2[:40], err)\n",
    "\n",
    "simchi2 = probfit.SimultaneousFit(difchi2, poschi2, negchi2)\n",
    "print probfit.describe(simchi2)\n",
    "\n",
    "minuit = iminuit.Minuit(simchi2, amp1=1.5, sep1=1.5, limit_amp1=(0.01,100.) )\n",
    "_ = minuit.migrad();"
   ]
  },
  {
   "cell_type": "code",
   "execution_count": 147,
   "metadata": {
    "collapsed": false
   },
   "outputs": [
    {
     "data": {
      "image/png": "[encoded data removed]",
      "text/plain": [
       "<matplotlib.figure.Figure at 0x114669d50>"
      ]
     },
     "metadata": {},
     "output_type": "display_data"
    }
   ],
   "source": [
    "# Let's visualize our line\n",
    "_ = simchi2.draw(minuit);\n",
    "# looks good;"
   ]
  },
  {
   "cell_type": "code",
   "execution_count": 148,
   "metadata": {
    "collapsed": false
   },
   "outputs": [
    {
     "name": "stdout",
     "output_type": "stream",
     "text": [
      "100 loops, best of 3: 5.03 ms per loop\n",
      "10000 loops, best of 3: 21.8 µs per loop\n",
      "100 loops, best of 3: 4.97 ms per loop\n",
      "238.095238095\n"
     ]
    }
   ],
   "source": [
    "%timeit fitDipole(ydata, xdata, amp1Start=1.5, sep1Start=1.5, fitFunc=gen_dipole2, verbose=False)\n",
    "%timeit iminuit.Minuit(simchi2, amp1=1.5, sep1=1.5)\n",
    "\n",
    "gmod = lmfit.Model(gen_dipole2, verbose=False)\n",
    "%timeit gmod.fit(ydata, x=xdata, amp1=1.5, sep1=1.5, verbose=False)\n",
    "\n",
    "print 5000/21."
   ]
  },
  {
   "cell_type": "code",
   "execution_count": null,
   "metadata": {
    "collapsed": true
   },
   "outputs": [],
   "source": []
  }
 ],
 "metadata": {
  "kernelspec": {
   "display_name": "Python 2",
   "language": "python",
   "name": "python2"
  },
  "language_info": {
   "codemirror_mode": {
    "name": "ipython",
    "version": 2
   },
   "file_extension": ".py",
   "mimetype": "text/x-python",
   "name": "python",
   "nbconvert_exporter": "python",
   "pygments_lexer": "ipython2",
   "version": "2.7.11"
  }
 },
 "nbformat": 4,
 "nbformat_minor": 0
}
