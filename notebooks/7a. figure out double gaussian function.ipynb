{
 "cells": [
  {
   "cell_type": "code",
   "execution_count": 1,
   "metadata": {
    "collapsed": true
   },
   "outputs": [],
   "source": [
    "import sys\n",
    "from collections import namedtuple\n",
    "\n",
    "import numpy as np\n",
    "\n",
    "%matplotlib inline\n",
    "#%matplotlib notebook\n",
    "import matplotlib.pyplot as plt\n",
    "\n",
    "import matplotlib\n",
    "matplotlib.style.use('ggplot')\n",
    "\n",
    "from joblib import Parallel, delayed  \n",
    "import multiprocessing\n",
    "\n",
    "np.random.seed(666)\n",
    "\n",
    "import pandas as pd\n",
    "class sizeme():\n",
    "    \"\"\" Class to change html fontsize of object's representation\"\"\"\n",
    "    def __init__(self,ob, size=50, height=120):\n",
    "        self.ob = ob\n",
    "        self.size = size\n",
    "        self.height = height\n",
    "    def _repr_html_(self):\n",
    "        repl_tuple = (self.size, self.height, self.ob._repr_html_())\n",
    "        return u'<span style=\"font-size:{0}%; line-height:{1}%\">{2}</span>'.format(*repl_tuple)"
   ]
  },
  {
   "cell_type": "code",
   "execution_count": 2,
   "metadata": {
    "collapsed": true
   },
   "outputs": [],
   "source": [
    "## LSST imports:\n",
    "import lsst.utils.tests as tests\n",
    "import lsst.daf.base as dafBase\n",
    "#import lsst.afw.display.ds9 as ds9\n",
    "import lsst.afw.image as afwImage\n",
    "import lsst.afw.geom as afwGeom\n",
    "import lsst.afw.table as afwTable\n",
    "import lsst.afw.math as afwMath\n",
    "import lsst.meas.algorithms as measAlg\n",
    "import lsst.ip.diffim as ipDiffim"
   ]
  },
  {
   "cell_type": "code",
   "execution_count": 37,
   "metadata": {
    "collapsed": false
   },
   "outputs": [],
   "source": [
    "def dipoleFunc(x, flux, xcenPos, ycenPos, xcenNeg, ycenNeg, psfWidth, fluxNeg=None, sigma2=None, ampl2=0.1, afw=False):\n",
    "    \"\"\"\n",
    "    Dipole based on 2-d (potentially [TBD] ellipsoidal) double-gaussian: \n",
    "    dipoleFunc(x, flux, xcenPos, ycenPos, xcenNeg, ycenNeg) #, sig1, sig2)\n",
    "    \"\"\"\n",
    "    if fluxNeg is None:\n",
    "        fluxNeg = flux\n",
    "        \n",
    "    if sigma2 is None:\n",
    "        sigma2 = psfWidth * 1.75\n",
    "        \n",
    "    if afw:\n",
    "        ## Wow - this is about 3x slower than the below (pure python)...\n",
    "        generator = afwMath.DoubleGaussianFunction2D(psfWidth, sigma2, ampl2)\n",
    "        zout = np.array([generator(x[0][i] - xcenPos, x[1][i] - ycenPos) for i in xrange(len(x[0]))])\n",
    "        zout *= flux\n",
    "        if fluxNeg != 0. and sigma2 != 0.0:\n",
    "            zout2 = np.array([generator(x[0][i] - xcenNeg, x[1][i] - ycenNeg) for i in xrange(len(x[0]))])\n",
    "            zout2 *= fluxNeg\n",
    "            zout -= zout2\n",
    "\n",
    "    else: ## don't have stack installed, use a custom double gaussian2d generator. This is faster!\n",
    "        def singleGaussian2d(x, y, xc, yc, sigma_x=1., sigma_y=1., theta=0., offset=0.):\n",
    "            cos_theta2, sin_theta2 = np.cos(theta)**2., np.sin(theta)**2.\n",
    "            sigma_x2, sigma_y2 = sigma_x**2., sigma_y**2.\n",
    "            a = cos_theta2/(2.*sigma_x2) + sin_theta2/(2.*sigma_y2)\n",
    "            b = -(np.sin(2.*theta))/(4.*sigma_x2) + (np.sin(2.*theta))/(4.*sigma_y2)\n",
    "            c = sin_theta2/(2.*sigma_x2) + cos_theta2/(2.*sigma_y2)\n",
    "            xxc, yyc = x-xc, y-yc\n",
    "            out = np.exp( - (a*(xxc**2.) + 2.*b*xxc*yyc + c*(yyc**2.)))\n",
    "            if offset != 0.:\n",
    "                out += offset\n",
    "            return out\n",
    "\n",
    "#      * double Guassian (sum of two Gaussians)\n",
    "#      *\n",
    "#      * Intended for use as a PSF model: the main Gaussian represents the core\n",
    "#      * and the second Gaussian represents the wings.\n",
    "#      *\n",
    "#      * f(x,y) = A (e^(-r^2 / 2 sigma1^2) + ampl2 e^(-r^2 / 2 sigma2^2))\n",
    "#      * where:\n",
    "#      * * A = 1 / (2 pi (sigma1^2 + ampl2 sigma2^2))\n",
    "#      * * r^2 = x^2 + y^2\n",
    "#      * coefficients c[0] = sigma1, c[1] = sigma2, c[2] = ampl2\n",
    "#       def doubleGaussian2d(x, y, xc, yc, sigma1=1., sigma2=1., ampl2=0.1):\n",
    "        sigma1 = psfWidth\n",
    "        multFac = 1.0 / (2. * np.pi)\n",
    "        sigma1sq = sigma1**2.\n",
    "        sigma2sq = sigma2**2.\n",
    "        b = ampl2\n",
    "#           out = (multFac / (sigma1Sq + (b * sigma2Sq))) *\n",
    "#              (np.exp(-radSq / (2.0 * sigma1Sq)) + \n",
    "#              (b * np.exp(-radSq / (2.0 * sigma2Sq)))));\n",
    "\n",
    "        #print xcenPos, xcenNeg, ycenPos, ycenNeg\n",
    "        tmp1 = singleGaussian2d(x[0], x[1], xcenPos, ycenPos, sigma1, sigma1)\n",
    "        tmp2 = singleGaussian2d(x[0], x[1], xcenPos, ycenPos, sigma2, sigma2)\n",
    "        ampl1 = multFac / (sigma1sq + b * sigma2sq)\n",
    "        zout = ampl1 * (tmp1 + tmp2 * ampl2)\n",
    "        zout *= flux\n",
    "        if fluxNeg != 0. and sigma2 != 0.0:\n",
    "            tmp1 = singleGaussian2d(x[0], x[1], xcenNeg, ycenNeg, sigma1, sigma1)\n",
    "            tmp2 = singleGaussian2d(x[0], x[1], xcenNeg, ycenNeg, sigma2, sigma2)\n",
    "            zout2 = ampl1 * (tmp1 + tmp2 * ampl2)\n",
    "            zout2 *= flux\n",
    "            zout -= zout2\n",
    "\n",
    "    return zout"
   ]
  },
  {
   "cell_type": "code",
   "execution_count": 38,
   "metadata": {
    "collapsed": false
   },
   "outputs": [],
   "source": [
    "w, h = 51, 51\n",
    "xc, yc = 25, 25\n",
    "rotAngle = 0.\n",
    "separation = 2.4\n",
    "sep = 0. #separation / 2.\n",
    "psfWidth = 2.\n",
    "flux = 1.\n",
    "\n",
    "rotAngRad = rotAngle / 180. * np.pi\n",
    "\n",
    "y, x = np.mgrid[:w, :h]\n",
    "x = x.ravel()\n",
    "y = y.ravel()\n",
    "in_x = [x, y]\n",
    "\n",
    "z1 = dipoleFunc(in_x, flux, xc+sep*np.cos(rotAngRad), yc+sep*np.sin(rotAngRad), \n",
    "                   xc-sep*np.cos(rotAngRad), yc-sep*np.sin(rotAngRad), psfWidth, fluxNeg=0., afw=False)\n",
    "z2 = dipoleFunc(in_x, flux, xc+sep*np.cos(rotAngRad), yc+sep*np.sin(rotAngRad), \n",
    "                   xc-sep*np.cos(rotAngRad), yc-sep*np.sin(rotAngRad), psfWidth, fluxNeg=0., afw=True)"
   ]
  },
  {
   "cell_type": "code",
   "execution_count": 39,
   "metadata": {
    "collapsed": false
   },
   "outputs": [
    {
     "name": "stdout",
     "output_type": "stream",
     "text": [
      "0.0335063038088 2.11763987987e-25 1.0\n",
      "0.0335063038088 2.11763987987e-25 1.0\n",
      "0.0 -2.16840434497e-19 -1.29600892509e-17\n"
     ]
    },
    {
     "data": {
      "text/plain": [
       "<matplotlib.text.Text at 0x116bc1110>"
      ]
     },
     "execution_count": 39,
     "metadata": {},
     "output_type": "execute_result"
    },
    {
     "data": {
      "image/png": "[encoded data removed]",
      "text/plain": [
       "<matplotlib.figure.Figure at 0x1167aa6d0>"
      ]
     },
     "metadata": {},
     "output_type": "display_data"
    }
   ],
   "source": [
    "print z1.max(), z1.min(), z1.sum()\n",
    "print z2.max(), z2.min(), z2.sum()\n",
    "print (z2-z1).max(), (z2-z1).min(), (z2-z1).sum()\n",
    "\n",
    "plt.figure(figsize=(8, 2.5))\n",
    "plt.subplot(1, 3, 1)\n",
    "plt.imshow(z1.reshape(w, h), origin='lower', interpolation='none', cmap='gray')#, vmin=-zptp, vmax=zptp)\n",
    "plt.title(\"z1\")\n",
    "plt.subplot(1, 3, 2)\n",
    "plt.imshow(z2.reshape(w, h), origin='lower', cmap='gray', interpolation='none')\n",
    "plt.title(\"z2\")\n",
    "plt.subplot(1, 3, 3)\n",
    "plt.imshow((z2-z1).reshape(w, h), origin='lower', cmap='gray', interpolation='none')\n",
    "plt.title(\"z2 - z1\")"
   ]
  },
  {
   "cell_type": "code",
   "execution_count": null,
   "metadata": {
    "collapsed": true
   },
   "outputs": [],
   "source": []
  }
 ],
 "metadata": {
  "kernelspec": {
   "display_name": "Python 2",
   "language": "python",
   "name": "python2"
  },
  "language_info": {
   "codemirror_mode": {
    "name": "ipython",
    "version": 2
   },
   "file_extension": ".py",
   "mimetype": "text/x-python",
   "name": "python",
   "nbconvert_exporter": "python",
   "pygments_lexer": "ipython2",
   "version": "2.7.11"
  }
 },
 "nbformat": 4,
 "nbformat_minor": 0
}
