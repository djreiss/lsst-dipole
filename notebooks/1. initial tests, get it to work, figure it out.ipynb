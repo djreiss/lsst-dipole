{
 "cells": [
  {
   "cell_type": "markdown",
   "metadata": {},
   "source": [
    "somewhere else, do:\n",
    "```\n",
    "git clone https://github.com/lsst/ip_diffim.git\n",
    "cd ip_diffim\n",
    "source ~/lsstsw/setup.csh\n",
    "setup -t b1813 ip_diffim\n",
    "setup -k -r .\n",
    "scons\n",
    "```\n",
    "now edit and run the code in here."
   ]
  },
  {
   "cell_type": "code",
   "execution_count": 1,
   "metadata": {
    "collapsed": true
   },
   "outputs": [],
   "source": [
    "%matplotlib inline\n",
    "import matplotlib.pyplot as plt"
   ]
  },
  {
   "cell_type": "code",
   "execution_count": 2,
   "metadata": {
    "collapsed": true
   },
   "outputs": [],
   "source": [
    "import numpy as np\n",
    "\n",
    "import lsst.utils.tests as tests\n",
    "import lsst.daf.base as dafBase\n",
    "import lsst.afw.display.ds9 as ds9\n",
    "import lsst.afw.image as afwImage\n",
    "import lsst.afw.geom as afwGeom\n",
    "import lsst.afw.table as afwTable\n",
    "import lsst.afw.math as afwMath\n",
    "import lsst.meas.algorithms as measAlg\n",
    "import lsst.ip.diffim as ipDiffim\n",
    "\n",
    "display = False\n",
    "np.random.seed(666)"
   ]
  },
  {
   "cell_type": "code",
   "execution_count": 3,
   "metadata": {
    "collapsed": false
   },
   "outputs": [],
   "source": [
    "## Code directly from lsstsw/build/ip_diffim/tests/dipole.py\n",
    "\n",
    "#-=-=-=-=-=-=-=-=-=-=-=-=-=-=-=-=-=-=-=-=-=-=-=-=-=-=-=-=-=-=-=-=-=-=-=-=-=-=-=-\n",
    "# def makePluginAndCat(alg, name, control, metadata=False, centroid=None):\n",
    "#     schema = afwTable.SourceTable.makeMinimalSchema()\n",
    "#     if centroid:\n",
    "#         schema.addField(centroid + \"_x\", type=float)\n",
    "#         schema.addField(centroid + \"_y\", type=float)\n",
    "#         schema.addField(centroid + \"_flag\", type='Flag')\n",
    "#         schema.getAliasMap().set(\"slot_Centroid\", centroid)\n",
    "#     if metadata:\n",
    "#         plugin = alg(control, name, schema, dafBase.PropertySet())\n",
    "#     else:\n",
    "#         plugin = alg(control, name, schema)\n",
    "#     cat = afwTable.SourceCatalog(schema)\n",
    "#     return plugin, cat\n",
    "\n",
    "def createDipole(w, h, xc, yc, scaling = 100.0, fracOffset = 1.2, psfSize=17, psfWidth=2.0):\n",
    "    # Make random noise image: set image plane to normal distribution\n",
    "    image = afwImage.MaskedImageF(w,h)\n",
    "    image.set(0)\n",
    "    array = image.getImage().getArray()\n",
    "    array[:,:] = np.random.randn(w,h)\n",
    "    # Set variance to 1.0\n",
    "    var   = image.getVariance()\n",
    "    var.set(1.0)\n",
    "        \n",
    "    # Create Psf for dipole creation and measurement\n",
    "    #psfSize = 17\n",
    "    psfSize = int(psfWidth * 20.) + 1\n",
    "    psf = measAlg.DoubleGaussianPsf(psfSize, psfSize, psfWidth, psfWidth*1.75, 0.1) ## 2.0, 3.5, 0.1)\n",
    "    sigma2fwhm = 2. * np.sqrt(2. * np.log(2.))\n",
    "    psfFwhmPix = sigma2fwhm * psf.computeShape().getDeterminantRadius()\n",
    "    print psfWidth * 2. * np.sqrt(2. * np.log(2.)), psfFwhmPix\n",
    "    psfim = psf.computeImage().convertF()\n",
    "    psfim *= scaling / psf.computePeak()\n",
    "    psfw, psfh = psfim.getDimensions()\n",
    "    psfSum = np.sum(psfim.getArray())\n",
    "\n",
    "    if display:\n",
    "        #ds9.mtv(image, frame=1, title=\"Original image\")\n",
    "        #ds9.mtv(image.getVariance(), frame=2, title=\"Original variance\")\n",
    "        psf_arr = psf.computeImage().convertF().getArray()\n",
    "        #print psf_arr.shape\n",
    "        #print psfw//2, psfw//2\n",
    "        plt.imshow(np.rot90(psf_arr), cmap='gray', extent=(0,16,0,16), interpolation='none')\n",
    "        plt.plot(psfw//2, psfw//2, 'bo')\n",
    "        plt.title(\"PSF\")\n",
    "        plt.show()\n",
    "    \n",
    "    # Create the dipole, offset by fracOffset of the Psf FWHM (pixels)\n",
    "    offset = fracOffset * psfFwhmPix // 2\n",
    "    print xc - offset, yc - offset\n",
    "    print xc + offset, yc + offset\n",
    "    \n",
    "    array  = image.getImage().getArray()\n",
    "    xp, yp = xc - psfw//2 + offset, yc - psfh//2 + offset\n",
    "    array[yp:yp+psfh, xp:xp+psfw] += psfim.getArray()\n",
    "\n",
    "    xn, yn = xc - psfw//2 - offset, yc - psfh//2 - offset\n",
    "    array[yn:yn+psfh, xn:xn+psfw] -= psfim.getArray()\n",
    "\n",
    "    # Create an exposure, detect positive and negative peaks separately\n",
    "    exp = afwImage.makeExposure(image)\n",
    "    exp.setPsf(psf)\n",
    "\n",
    "    if display:\n",
    "        #ds9.mtv(image, frame=3, title=\"With dipole\")\n",
    "        img_arr, mask_arr, var_arr = exp.getMaskedImage().getArrays()\n",
    "        plt.title(\"Original image with dipole\")\n",
    "        plt.imshow(np.rot90(img_arr), vmin=-scaling, vmax=scaling, cmap='gray', extent=(0,99,0,99), interpolation='none')\n",
    "        plt.plot(xc-offset, yc-offset, 'bx')\n",
    "        plt.plot(xc+offset, yc+offset, 'bx')\n",
    "        ##plt.show()\n",
    "    \n",
    "    config = measAlg.SourceDetectionConfig()\n",
    "    config.thresholdPolarity = \"both\"\n",
    "    config.reEstimateBackground = False\n",
    "    schema = afwTable.SourceTable.makeMinimalSchema()\n",
    "    task = measAlg.SourceDetectionTask(schema, config=config)\n",
    "    table = afwTable.SourceTable.make(schema)\n",
    "    results = task.makeSourceCatalog(table, exp)\n",
    "#     if display:\n",
    "#         ds9.mtv(image, frame=4, title=\"Detection plane\")\n",
    "        \n",
    "    # Merge them together\n",
    "    assert(len(results.sources) == 2)\n",
    "    fpSet = results.fpSets.positive\n",
    "    fpSet.merge(results.fpSets.negative, 0, 0, False)\n",
    "    sources = afwTable.SourceCatalog(table)\n",
    "    fpSet.makeSources(sources)\n",
    "    assert(len(sources) == 1)\n",
    "    s = sources[0]\n",
    "    assert(len(s.getFootprint().getPeaks()) == 2)\n",
    "    if display:\n",
    "        ## first overlay the fp centers on the input image and show it.\n",
    "        for pk in s.getFootprint().getPeaks():\n",
    "            print pk.getIy(), pk.getIx()\n",
    "            plt.plot(pk.getIy(), pk.getIx(), 'rx')\n",
    "        plt.show()\n",
    "        \n",
    "        img_arr, mask_arr, var_arr = exp.getMaskedImage().getArrays()\n",
    "        plt.title(\"Detection plane\")\n",
    "        plt.imshow(np.rot90(mask_arr), vmin=-100, vmax=100, cmap='gray', extent=(0,99,0,99), interpolation='none')\n",
    "        for pk in s.getFootprint().getPeaks():\n",
    "            plt.plot(pk.getIy(), pk.getIx(), 'rx')\n",
    "        plt.show()\n",
    "\n",
    "    return psf, psfSum, exp, s"
   ]
  },
  {
   "cell_type": "code",
   "execution_count": 4,
   "metadata": {
    "collapsed": false
   },
   "outputs": [
    {
     "name": "stdout",
     "output_type": "stream",
     "text": [
      "4.70964009006 5.0551512828\n"
     ]
    },
    {
     "data": {
      "image/png": "[encoded data removed]",
      "text/plain": [
       "<matplotlib.figure.Figure at 0x1085d7410>"
      ]
     },
     "metadata": {},
     "output_type": "display_data"
    },
    {
     "name": "stdout",
     "output_type": "stream",
     "text": [
      "49.0 49.0\n",
      "51.0 51.0\n",
      "52 52\n",
      "48 48\n"
     ]
    },
    {
     "name": "stderr",
     "output_type": "stream",
     "text": [
      "/Users/dreiss/miniconda/lib/python2.7/site-packages/ipykernel/__main__.py:58: DeprecationWarning: using a non-integer number instead of an integer will result in an error in the future\n",
      "/Users/dreiss/miniconda/lib/python2.7/site-packages/ipykernel/__main__.py:61: DeprecationWarning: using a non-integer number instead of an integer will result in an error in the future\n"
     ]
    },
    {
     "data": {
      "image/png": "[encoded data removed]",
      "text/plain": [
       "<matplotlib.figure.Figure at 0x11847b490>"
      ]
     },
     "metadata": {},
     "output_type": "display_data"
    },
    {
     "data": {
      "image/png": "[encoded data removed]",
      "text/plain": [
       "<matplotlib.figure.Figure at 0x1186dba50>"
      ]
     },
     "metadata": {},
     "output_type": "display_data"
    }
   ],
   "source": [
    "w, h = 100, 100 # size of image\n",
    "xc, yc = 50, 50 # location of center of dipole\n",
    "fracOffset = 0.7\n",
    "display = True\n",
    "psf, psfSum, exposure, s = createDipole(w, h, xc, yc, fracOffset=fracOffset)"
   ]
  },
  {
   "cell_type": "code",
   "execution_count": 5,
   "metadata": {
    "collapsed": true
   },
   "outputs": [],
   "source": [
    "## I think this is the meat of the code that runs the measurement. How do I get the complete set of (fitted) parameters out? \n",
    "## THat is the question!\n",
    "## OK, figured it out, see below...\n",
    "def measureDipole(s, exp):\n",
    "    msConfig = ipDiffim.DipoleMeasurementConfig()\n",
    "    schema = afwTable.SourceTable.makeMinimalSchema()\n",
    "    schema.addField(\"centroid_x\", type=float)\n",
    "    schema.addField(\"centroid_y\", type=float)\n",
    "    schema.addField(\"centroid_flag\", type='Flag')\n",
    "    task = ipDiffim.DipoleMeasurementTask(schema, config=msConfig)\n",
    "    measCat = afwTable.SourceCatalog(schema)\n",
    "    measCat.defineCentroid(\"centroid\")\n",
    "    source = measCat.addNew()\n",
    "    source.set(\"centroid_x\", xc)\n",
    "    source.set(\"centroid_y\", yc)\n",
    "    source.setFootprint(s.getFootprint())\n",
    "\n",
    "    print 'DIPOLE: ', source.get(\"classification_dipole\") ## from ipDiffim.DipoleMeasurementTask._ClassificationFlag\n",
    "    # Then run the default SFM task.  Results not checked\n",
    "    task.run(measCat, exp)\n",
    "    return measCat  ##[0] "
   ]
  },
  {
   "cell_type": "code",
   "execution_count": 6,
   "metadata": {
    "collapsed": false
   },
   "outputs": [
    {
     "name": "stdout",
     "output_type": "stream",
     "text": [
      "DIPOLE:  nan\n",
      "DIPOLE:  1.0\n",
      "[2: (48,48)  (48.000,48.000), 1: (52,52)  (52.000,52.000)]\n",
      "(50, 50)\n",
      "52.0150390625 52.0232177734 48.1874710083 48.1839958191\n",
      "51.0193278824 51.0203238534 48.9781867049 48.9873981588\n"
     ]
    }
   ],
   "source": [
    "#print 'DIPOLE: ' + s.get(dipoleFlag)\n",
    "sources = measureDipole(s, exposure) ## OK, this just returns the input coords but should set a dipole flag if it fits to a dipole\n",
    "print 'DIPOLE: ', sources[0].get(\"classification_dipole\") ## from ipDiffim.DipoleMeasurementTask._ClassificationFlag\n",
    "source = sources[0]\n",
    "fp     = source.getFootprint()\n",
    "peaks  = fp.getPeaks()\n",
    "speaks = [(p.getPeakValue(), p) for p in peaks]\n",
    "speaks.sort()\n",
    "dpeaks = [speaks[0][1], speaks[-1][1]]\n",
    "print dpeaks\n",
    "##print source.schema\n",
    "print source.getCentroid() ## This just returns the values set in the \"source.set(\"centroid_x\", xc), ...\" lines... ??\n",
    "print source.get(\"ip_diffim_NaiveDipoleCentroid_pos_x\"), source.get(\"ip_diffim_NaiveDipoleCentroid_pos_y\"), \\\n",
    "    source.get(\"ip_diffim_NaiveDipoleCentroid_neg_x\"), source.get(\"ip_diffim_NaiveDipoleCentroid_neg_y\")\n",
    "print source.get(\"ip_diffim_PsfDipoleFlux_pos_centroid_x\"), source.get(\"ip_diffim_PsfDipoleFlux_pos_centroid_y\"), \\\n",
    "    source.get(\"ip_diffim_PsfDipoleFlux_neg_centroid_x\"), source.get(\"ip_diffim_PsfDipoleFlux_neg_centroid_y\")"
   ]
  },
  {
   "cell_type": "code",
   "execution_count": 7,
   "metadata": {
    "collapsed": false
   },
   "outputs": [
    {
     "name": "stdout",
     "output_type": "stream",
     "text": [
      "105.942879318 (49.999, 50.004) 0.787415 rad\n"
     ]
    }
   ],
   "source": [
    "## provides (S/N, position, orientation) of measured dipoles\n",
    "dpAnalysis = ipDiffim.DipoleAnalysis()\n",
    "sn, centroid, orientation = dpAnalysis(source)\n",
    "print sn, centroid, orientation"
   ]
  },
  {
   "cell_type": "code",
   "execution_count": 8,
   "metadata": {
    "collapsed": false
   },
   "outputs": [
    {
     "name": "stdout",
     "output_type": "stream",
     "text": [
      "(50, 50)\n",
      "52.0150390625 52.0232177734 48.1874710083 48.1839958191\n",
      "51.0193278824 51.0203238534 48.9781867049 48.9873981588\n"
     ]
    }
   ],
   "source": [
    "## deblend a source as a dipole, and return a new source with deblended footprints.\n",
    "dpDeblender = ipDiffim.DipoleDeblender()\n",
    "deblendedSource = dpDeblender(source, exposure)\n",
    "print deblendedSource.getCentroid()\n",
    "print deblendedSource.get(\"ip_diffim_NaiveDipoleCentroid_pos_x\"), deblendedSource.get(\"ip_diffim_NaiveDipoleCentroid_pos_y\"), \\\n",
    "    deblendedSource.get(\"ip_diffim_NaiveDipoleCentroid_neg_x\"), deblendedSource.get(\"ip_diffim_NaiveDipoleCentroid_neg_y\")\n",
    "print deblendedSource.get(\"ip_diffim_PsfDipoleFlux_pos_centroid_x\"), deblendedSource.get(\"ip_diffim_PsfDipoleFlux_pos_centroid_y\"), \\\n",
    "    deblendedSource.get(\"ip_diffim_PsfDipoleFlux_neg_centroid_x\"), deblendedSource.get(\"ip_diffim_PsfDipoleFlux_neg_centroid_y\")"
   ]
  },
  {
   "cell_type": "code",
   "execution_count": 9,
   "metadata": {
    "collapsed": false
   },
   "outputs": [],
   "source": [
    "# Recreate the simultaneous joint Psf fit in python\n",
    "## This just fits for the flux of the dipole lobes, given a pair of input centroids.\n",
    "def _makeModel(exposure, psf, fp, negCenter, posCenter):\n",
    "    negPsf = psf.computeImage(negCenter).convertF()\n",
    "    posPsf = psf.computeImage(posCenter).convertF()\n",
    "    negPeak = psf.computePeak(negCenter)\n",
    "    posPeak = psf.computePeak(posCenter)\n",
    "    negPsf /= negPeak\n",
    "    posPsf /= posPeak\n",
    "\n",
    "    model    = afwImage.ImageF(fp.getBBox())\n",
    "    negModel = afwImage.ImageF(fp.getBBox())\n",
    "    posModel = afwImage.ImageF(fp.getBBox())\n",
    "\n",
    "    # The center of the Psf should be at negCenter, posCenter\n",
    "    negPsfBBox = negPsf.getBBox()\n",
    "    posPsfBBox = posPsf.getBBox()\n",
    "    modelBBox  = model.getBBox()\n",
    "\n",
    "    # Portion of the negative Psf that overlaps the montage\n",
    "    negOverlapBBox = afwGeom.Box2I(negPsfBBox)\n",
    "    negOverlapBBox.clip(modelBBox)\n",
    "    #self.assertFalse(negOverlapBBox.isEmpty())\n",
    "\n",
    "    # Portion of the positivePsf that overlaps the montage\n",
    "    posOverlapBBox = afwGeom.Box2I(posPsfBBox)\n",
    "    posOverlapBBox.clip(modelBBox)\n",
    "    #self.assertFalse(posOverlapBBox.isEmpty())\n",
    "\n",
    "    negPsfSubim    = type(negPsf)(negPsf, negOverlapBBox)\n",
    "    modelSubim     = type(model)(model, negOverlapBBox)\n",
    "    negModelSubim  = type(negModel)(negModel, negOverlapBBox)\n",
    "    modelSubim    += negPsfSubim  # just for debugging\n",
    "    negModelSubim += negPsfSubim  # for fitting\n",
    "\n",
    "    posPsfSubim    = type(posPsf)(posPsf, posOverlapBBox)\n",
    "    modelSubim     = type(model)(model, posOverlapBBox)\n",
    "    posModelSubim  = type(posModel)(posModel, posOverlapBBox)\n",
    "    modelSubim    += posPsfSubim\n",
    "    posModelSubim += posPsfSubim\n",
    "\n",
    "    data = afwImage.ImageF(exposure.getMaskedImage().getImage(), fp.getBBox())\n",
    "    var = afwImage.ImageF(exposure.getMaskedImage().getVariance(), fp.getBBox())\n",
    "    matrixNorm = 1. / np.sqrt(np.median(var.getArray()))\n",
    "\n",
    "    if display:\n",
    "    #    ds9.mtv(model, frame=5, title=\"Unfitted model\")\n",
    "    #    ds9.mtv(data, frame=6, title=\"Data\")\n",
    "        fig = plt.figure()\n",
    "        a = fig.add_subplot(1,2,1)\n",
    "        plt.imshow(np.rot90(model.getArray()), cmap='gray', extent=(0,99,0,99), interpolation='none')\n",
    "        plt.title('Unfitted model (footprint?)')\n",
    "        #plt.show()\n",
    "        a = fig.add_subplot(1,2,2)\n",
    "        plt.imshow(np.rot90(data.getArray()), cmap='gray', extent=(0,99,0,99), interpolation='none')\n",
    "        plt.title('Data')\n",
    "        plt.show()\n",
    "\n",
    "    posPsfSum = np.sum(posPsf.getArray())\n",
    "    negPsfSum = np.sum(negPsf.getArray())\n",
    "\n",
    "    M = np.array((np.ravel(negModel.getArray()), np.ravel(posModel.getArray()))).T.astype(np.float64)\n",
    "    B = np.array((np.ravel(data.getArray()))).astype(np.float64)\n",
    "    M *= matrixNorm\n",
    "    B *= matrixNorm\n",
    "\n",
    "    # Numpy solution\n",
    "    fneg0, fpos0 = np.linalg.lstsq(M, B)[0]\n",
    "\n",
    "    # Afw solution\n",
    "    lsq = afwMath.LeastSquares.fromDesignMatrix(M, B, afwMath.LeastSquares.DIRECT_SVD)\n",
    "    fneg, fpos = lsq.getSolution()\n",
    "\n",
    "    # Should be exaxtly the same as each other\n",
    "    #self.assertAlmostEqual(1e-2*fneg0,  1e-2*fneg)\n",
    "    #self.assertAlmostEqual(1e-2*fpos0,  1e-2*fpos)\n",
    "\n",
    "    # Recreate model\n",
    "    fitted  = afwImage.ImageF(fp.getBBox())\n",
    "    negFit  = type(negPsf)(negPsf, negOverlapBBox, afwImage.PARENT, True)\n",
    "    negFit *= float(fneg)\n",
    "    posFit  = type(posPsf)(posPsf, posOverlapBBox, afwImage.PARENT, True)\n",
    "    posFit *= float(fpos)\n",
    "\n",
    "    fitSubim  = type(fitted)(fitted, negOverlapBBox)\n",
    "    fitSubim += negFit\n",
    "    fitSubim  = type(fitted)(fitted, posOverlapBBox)\n",
    "    fitSubim += posFit\n",
    "    \n",
    "    if display:\n",
    "    #    ds9.mtv(fitted, frame=7, title=\"Fitted model\")\n",
    "        plt.imshow(np.rot90(fitted.getArray()), cmap='gray', extent=(0,99,0,99), interpolation='none')\n",
    "        plt.title('Fitted model')\n",
    "        plt.show()\n",
    "\n",
    "    fitted   -= data\n",
    "\n",
    "    if display:\n",
    "    #    ds9.mtv(fitted, frame=8, title=\"Residuals\")\n",
    "        plt.imshow(np.rot90(fitted.getArray()), cmap='gray', extent=(0,99,0,99), interpolation='none')\n",
    "        plt.title('Residuals')\n",
    "        plt.show()\n",
    "\n",
    "    fitted   *= fitted\n",
    "    fitted   /= var\n",
    "\n",
    "    if display:\n",
    "    #    ds9.mtv(fitted, frame=9, title=\"Chi2\")\n",
    "        plt.imshow(np.rot90(fitted.getArray()), cmap='gray', extent=(0,99,0,99), interpolation='none')\n",
    "        plt.title('Chi2')\n",
    "        plt.show()\n",
    "\n",
    "    return fneg, negPsfSum, fpos, posPsfSum, fitted"
   ]
  },
  {
   "cell_type": "code",
   "execution_count": 10,
   "metadata": {
    "collapsed": false
   },
   "outputs": [
    {
     "name": "stdout",
     "output_type": "stream",
     "text": [
      "(52, 52) (48, 48)\n"
     ]
    },
    {
     "data": {
      "image/png": "[encoded data removed]",
      "text/plain": [
       "<matplotlib.figure.Figure at 0x1186bca50>"
      ]
     },
     "metadata": {},
     "output_type": "display_data"
    },
    {
     "data": {
      "image/png": "[encoded data removed]",
      "text/plain": [
       "<matplotlib.figure.Figure at 0x118b9e310>"
      ]
     },
     "metadata": {},
     "output_type": "display_data"
    },
    {
     "data": {
      "image/png": "[encoded data removed]",
      "text/plain": [
       "<matplotlib.figure.Figure at 0x118c54450>"
      ]
     },
     "metadata": {},
     "output_type": "display_data"
    },
    {
     "data": {
      "image/png": "[encoded data removed]",
      "text/plain": [
       "<matplotlib.figure.Figure at 0x118cfb090>"
      ]
     },
     "metadata": {},
     "output_type": "display_data"
    },
    {
     "name": "stdout",
     "output_type": "stream",
     "text": [
      "0.634971010708 0.633360909935\n"
     ]
    }
   ],
   "source": [
    "negCenter = afwGeom.Point2D(dpeaks[0].getFx(), dpeaks[0].getFy())\n",
    "posCenter = afwGeom.Point2D(dpeaks[1].getFx(), dpeaks[1].getFy())\n",
    "print posCenter, negCenter\n",
    "\n",
    "display = True\n",
    "fneg, negPsfSum, fpos, posPsfSum, residIm = _makeModel(exposure, psf, fp, negCenter, posCenter)\n",
    "\n",
    "# Should be close to the same as the inputs; as fracOffset\n",
    "# gets smaller this will be worse.\n",
    "print -1e-2*fneg,  1e-2*fpos\n",
    "\n",
    "## Looks like ACB's test code uses the integral value for the naive dipole fitted peak centroid...?"
   ]
  },
  {
   "cell_type": "code",
   "execution_count": 11,
   "metadata": {
    "collapsed": false
   },
   "outputs": [
    {
     "name": "stdout",
     "output_type": "stream",
     "text": [
      "(51.019, 51.02) (48.978, 48.987)\n"
     ]
    },
    {
     "data": {
      "image/png": "[encoded data removed]",
      "text/plain": [
       "<matplotlib.figure.Figure at 0x118baa810>"
      ]
     },
     "metadata": {},
     "output_type": "display_data"
    },
    {
     "data": {
      "image/png": "[encoded data removed]",
      "text/plain": [
       "<matplotlib.figure.Figure at 0x11900de50>"
      ]
     },
     "metadata": {},
     "output_type": "display_data"
    },
    {
     "data": {
      "image/png": "[encoded data removed]",
      "text/plain": [
       "<matplotlib.figure.Figure at 0x11909d3d0>"
      ]
     },
     "metadata": {},
     "output_type": "display_data"
    },
    {
     "data": {
      "image/png": "[encoded data removed]",
      "text/plain": [
       "<matplotlib.figure.Figure at 0x11923f750>"
      ]
     },
     "metadata": {},
     "output_type": "display_data"
    },
    {
     "name": "stdout",
     "output_type": "stream",
     "text": [
      "0.987660096814 0.985779020501\n"
     ]
    }
   ],
   "source": [
    "negCenter = afwGeom.Point2D(source.get(\"ip_diffim_PsfDipoleFlux_neg_centroid_x\"), source.get(\"ip_diffim_PsfDipoleFlux_neg_centroid_y\"))\n",
    "posCenter = afwGeom.Point2D(source.get(\"ip_diffim_PsfDipoleFlux_pos_centroid_x\"), source.get(\"ip_diffim_PsfDipoleFlux_pos_centroid_y\"))\n",
    "print posCenter, negCenter\n",
    "\n",
    "display = True\n",
    "fneg, negPsfSum, fpos, posPsfSum, residIm = _makeModel(exposure, psf, fp, negCenter, posCenter)\n",
    "\n",
    "# Should be close to the same as the inputs\n",
    "print -1e-2*fneg,  1e-2*fpos"
   ]
  },
  {
   "cell_type": "code",
   "execution_count": null,
   "metadata": {
    "collapsed": true
   },
   "outputs": [],
   "source": []
  }
 ],
 "metadata": {
  "kernelspec": {
   "display_name": "Python 2",
   "language": "python",
   "name": "python2"
  },
  "language_info": {
   "codemirror_mode": {
    "name": "ipython",
    "version": 2
   },
   "file_extension": ".py",
   "mimetype": "text/x-python",
   "name": "python",
   "nbconvert_exporter": "python",
   "pygments_lexer": "ipython2",
   "version": "2.7.10"
  }
 },
 "nbformat": 4,
 "nbformat_minor": 0
}
